{
 "cells": [
  {
   "cell_type": "code",
   "execution_count": 1,
   "metadata": {},
   "outputs": [
    {
     "name": "stdout",
     "output_type": "stream",
     "text": [
      "Python 3.11.8 | packaged by conda-forge | (main, Feb 16 2024, 20:53:32) [GCC 12.3.0]\n",
      "Pandas 2.2.3\n",
      "Scikit-Learn 1.4.2\n",
      "2.4.1+cu121\n",
      "CUDA is available! PyTorch can use GPU!\n",
      "Number of GPUs available: 1\n",
      "GPU Name: NVIDIA GeForce RTX 4090\n",
      "True\n"
     ]
    }
   ],
   "source": [
    "import sys, os\n",
    "\n",
    "import torch\n",
    "import sklearn as sk\n",
    "import numba.cuda\n",
    "import pandas as pd\n",
    "# import tensorflow as tf\n",
    "\n",
    "\n",
    "# Check if CUDA is available\n",
    "# os.environ['NUMBA_CUDA_USE_NVIDIA_BINDING'] = '1'\n",
    "\n",
    "print(f\"Python {sys.version}\")\n",
    "print(f\"Pandas {pd.__version__}\")\n",
    "print(f\"Scikit-Learn {sk.__version__}\")\n",
    "print(torch.__version__)\n",
    "\n",
    "if torch.cuda.is_available():\n",
    "    print(\"CUDA is available! PyTorch can use GPU!\")\n",
    "    print(\"Number of GPUs available:\", torch.cuda.device_count())\n",
    "    print(\"GPU Name:\", torch.cuda.get_device_name(0))\n",
    "else:\n",
    "    print(\"CUDA is not available. PyTorch is using CPU.\")\n",
    "\n",
    "# print(f\"Tensor Flow Version: {tf.__version__}\")\n",
    "# gpu = len(tf.config.list_physical_devices('GPU'))>0\n",
    "# print(\"Tensor Flow can use GPU\" if gpu else \"Tensor Flow can't use GPU\")\n",
    "print(numba.cuda.is_available())"
   ]
  },
  {
   "cell_type": "code",
   "execution_count": 2,
   "metadata": {},
   "outputs": [
    {
     "name": "stdout",
     "output_type": "stream",
     "text": [
      "0.29.0\n",
      "2.1.2\n"
     ]
    }
   ],
   "source": [
    "import lifelines\n",
    "import xgboost\n",
    "print(lifelines.__version__)\n",
    "print(xgboost.__version__\n",
    "      )"
   ]
  }
 ],
 "metadata": {
  "kernelspec": {
   "display_name": "ai_dev",
   "language": "python",
   "name": "python3"
  },
  "language_info": {
   "codemirror_mode": {
    "name": "ipython",
    "version": 3
   },
   "file_extension": ".py",
   "mimetype": "text/x-python",
   "name": "python",
   "nbconvert_exporter": "python",
   "pygments_lexer": "ipython3",
   "version": "3.11.8"
  }
 },
 "nbformat": 4,
 "nbformat_minor": 2
}
