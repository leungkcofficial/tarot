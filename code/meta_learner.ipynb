{
 "cells": [
  {
   "cell_type": "markdown",
   "metadata": {},
   "source": [
    "### 1. Import libraries"
   ]
  },
  {
   "cell_type": "code",
   "execution_count": 186,
   "metadata": {},
   "outputs": [
    {
     "data": {
      "text/plain": [
       "80"
      ]
     },
     "execution_count": 186,
     "metadata": {},
     "output_type": "execute_result"
    }
   ],
   "source": [
    "import gc\n",
    "import json\n",
    "import os\n",
    "import math\n",
    "import multiprocessing\n",
    "import numpy as np\n",
    "import pandas as pd\n",
    "import torch\n",
    "import importlib\n",
    "import logging\n",
    "from pathlib import Path\n",
    "from sklearn.model_selection import GroupKFold, GroupShuffleSplit\n",
    "\n",
    "# Pycox and PyTorch tuples for survival analysis\n",
    "import torchtuples as tt\n",
    "import pycox\n",
    "from pycox.preprocessing.label_transforms import LabTransDiscreteTime\n",
    "from pycox.models import CoxPH, DeepHit\n",
    "from pycox.evaluation import EvalSurv\n",
    "\n",
    "# Ray for hyperparameter tuning and distributed processing\n",
    "import ray\n",
    "from ray import tune\n",
    "from ray.tune import CLIReporter\n",
    "from ray.tune.search.bayesopt import BayesOptSearch\n",
    "from ray.tune.search.optuna import OptunaSearch\n",
    "from ray.tune.search import ConcurrencyLimiter\n",
    "from ray.tune.schedulers import ASHAScheduler, PopulationBasedTraining\n",
    "from ray.air import session\n",
    "import ray.cloudpickle as pickle\n",
    "\n",
    "# Custom modules for data handling, balancing, training, evaluation, and model architectures\n",
    "import dataloader2\n",
    "import databalancer2\n",
    "import datatrainer2\n",
    "import modeleval\n",
    "import netweaver2\n",
    "\n",
    "# Reload custom modules to ensure latest changes are available\n",
    "importlib.reload(dataloader2)\n",
    "importlib.reload(databalancer2)\n",
    "importlib.reload(datatrainer2)\n",
    "importlib.reload(modeleval)\n",
    "importlib.reload(netweaver2)\n",
    "\n",
    "# Import specific functions from custom modules to keep code clean and readable\n",
    "from netweaver2 import (\n",
    "    lstm_net_init, DHANNWrapper, LSTMWrapper, generalized_ann_net_init\n",
    ")\n",
    "from dataloader2 import (\n",
    "    load_and_transform_data, preprocess_data #stack_sequences, dh_dataset_loader\n",
    ")\n",
    "from databalancer2 import (\n",
    "    define_medoid_general, df_event_focus, rebalance_data, underbalance_data_general, medoid_cluster, \n",
    "    dh_rebalance_data\n",
    ")\n",
    "from datatrainer2 import (\n",
    "    recursive_clustering, prepare_training_data, \n",
    "    prepare_validation_data, lstm_training\n",
    ")\n",
    "from modeleval import (\n",
    "    dh_test_model, nam_dagostino_chi2, get_baseline_hazard_at_timepoints, combined_test_model\n",
    ")\n",
    "\n",
    "import psutil\n",
    "torch.cuda.empty_cache()\n",
    "gc.collect()"
   ]
  },
  {
   "cell_type": "markdown",
   "metadata": {},
   "source": [
    "### 2. Define constants, load datasets"
   ]
  },
  {
   "cell_type": "code",
   "execution_count": 187,
   "metadata": {},
   "outputs": [
    {
     "name": "stderr",
     "output_type": "stream",
     "text": [
      "2024-11-21 07:14:59,126 - INFO - Transforming training data...\n",
      "2024-11-21 07:15:11,857 - INFO - Transforming test data...\n"
     ]
    }
   ],
   "source": [
    "# Define Constants and Load Datasets\n",
    "RANDOM_SEED = 12345\n",
    "N_SPLIT = 2\n",
    "FEATURE_COLS = ['gender', 'dm', 'ht', 'sprint', 'a1c', 'po4', 'UACR_mg_g', 'Cr', 'age', 'alb', 'ca', 'hb', 'hco3']\n",
    "DURATION_COL = 'date_from_sub_60'\n",
    "EVENT_COL = 'endpoint'\n",
    "CLUSTER_COL = 'key'\n",
    "TIME_GRID = np.array([i * 365 for i in range(6)])\n",
    "\n",
    "# Define Feature Groups\n",
    "CAT_FEATURES = ['gender', 'dm', 'ht', 'sprint']\n",
    "LOG_FEATURES = ['a1c', 'po4', 'UACR_mg_g', 'Cr']\n",
    "STANDARD_FEATURES = ['age', 'alb', 'ca', 'hb', 'hco3']\n",
    "PASSTHROUGH_FEATURES = ['key', 'date_from_sub_60', 'endpoint']\n",
    "\n",
    "# Load and Transform Data\n",
    "BASE_FILENAME = '/mnt/d/pydatascience/g3_regress/data/X/X_20240628'\n",
    "X_train_transformed, X_test_transformed = load_and_transform_data(\n",
    "    BASE_FILENAME, CAT_FEATURES, LOG_FEATURES, STANDARD_FEATURES, PASSTHROUGH_FEATURES\n",
    ")"
   ]
  },
  {
   "cell_type": "markdown",
   "metadata": {},
   "source": [
    "### 3. Train and save models\n",
    "- model naming: {deepsurv/deephit}\\_{nn}\\_{resample method}_{outcome}\n",
    "- for deepsurv model, only the result in time_grid will be retrieved so the result of deepsurv and deephit models are compatible"
   ]
  },
  {
   "cell_type": "code",
   "execution_count": 188,
   "metadata": {},
   "outputs": [],
   "source": [
    "def create_neural_network(config, num_risk = len(X_train_transformed[EVENT_COL].unique()) - 1, num_time_bins=len(TIME_GRID)):\n",
    "    \"\"\"\n",
    "    Function to create a neural network based on the given configuration.\n",
    "\n",
    "    Args:\n",
    "        config (dict): Configuration dictionary containing model type, network type, and hyperparameters.\n",
    "\n",
    "    Returns:\n",
    "        torch.nn.Module: Created neural network model.\n",
    "    \"\"\"\n",
    "    gc.collect()\n",
    "    torch.cuda.empty_cache()\n",
    "    if config['model'] == 'deepsurv':\n",
    "        num_risk = None\n",
    "        num_time_bins=None\n",
    "    elif config['model'] == 'deephit':\n",
    "        num_risk = num_risk\n",
    "        num_time_bins = num_time_bins\n",
    "    # Create the Neural Network\n",
    "    if config['net'] == 'ann':\n",
    "        net = generalized_ann_net_init(\n",
    "            input_size=len(config['features']),\n",
    "            num_nodes=config[\"num_nodes\"],\n",
    "            batch_norm=config[\"batch_norm\"],\n",
    "            dropout=config[\"dropout\"],\n",
    "            output_size=1, # Default output size for DeepSurv\n",
    "            num_risks = num_risk,\n",
    "            num_time_bins = num_time_bins\n",
    "        )\n",
    "    elif config['net'] == 'lstm':\n",
    "        net = lstm_net_init(\n",
    "            input_size=len(config['features']),\n",
    "            num_nodes=config[\"num_nodes\"],\n",
    "            batch_norm=config[\"batch_norm\"],\n",
    "            dropout=config[\"dropout\"],\n",
    "            num_risks = num_risk,\n",
    "            num_time_bins = num_time_bins\n",
    "        )\n",
    "    else:\n",
    "        raise ValueError(\"Unknown network type: {}\".format(config['net']))\n",
    "\n",
    "    optimizer = tt.optim.AdamWR(decoupled_weight_decay=1e-6, cycle_eta_multiplier=0.8)\n",
    "    if config['model'] == 'deepsurv':\n",
    "        model = CoxPH(net, optimizer)\n",
    "    elif config['model'] == 'deephit':\n",
    "        model = DeepHit(net, optimizer)\n",
    "    model.optimizer.set_lr(config[\"lr\"])\n",
    "    \n",
    "    return model\n",
    "\n",
    "def train_neural_network(model, config, X_train, X_val, duration_col, event_col, cluster_col, callbacks, time_grid=None):\n",
    "    \"\"\"\n",
    "    Function to train a given neural network using the provided datasets.\n",
    "\n",
    "    Args:\n",
    "        net (torch.nn.Module): Neural network to be trained.\n",
    "        config (dict): Configuration dictionary containing model hyperparameters.\n",
    "        X_train (pd.DataFrame): Training dataset with features.\n",
    "        X_val (pd.DataFrame): Validation dataset with features.\n",
    "        duration_col (str): Column representing event durations.\n",
    "        event_col (str): Column representing event occurrences.\n",
    "        cluster_col (str): Column for grouping during cross-validation.\n",
    "        callbacks (list): List of callbacks for training.\n",
    "        time_grid (np.array, optional): Time grid for evaluation if required. Defaults to None.\n",
    "\n",
    "    Returns:\n",
    "        model: Trained PyCox model.\n",
    "        logs: Training logs.\n",
    "    \"\"\"\n",
    "    gc.collect()\n",
    "    torch.cuda.empty_cache()\n",
    "    # Train the model\n",
    "    if config['model'] == 'deepsurv':\n",
    "        print('Initiate training of deepsurv neural network')\n",
    "        X_val = df_event_focus(X_val, event_col, config['endpoint'])\n",
    "        X_val_processed, y_val = preprocess_data(X_val, config['features'], duration_col, event_col)\n",
    "        val_data = (X_val_processed, y_val)\n",
    "        if config['net'] == 'ann':\n",
    "            print('model structure: ANN')\n",
    "            if config['balance_method'] == 'clustering':\n",
    "                print('data balancing method: clustering')\n",
    "                model, logs = recursive_clustering(model, X_train, duration_col, event_col, config, val_data, callbacks, max_repeats=30)\n",
    "            elif config['balance_method'] == 'enn':\n",
    "                print('data balancing method: smoteenn')\n",
    "                X_train = rebalance_data(X_train, event_col, config['endpoint'], CAT_FEATURES, config, RANDOM_SEED, method='ENN')\n",
    "                X_train, y_train = preprocess_data(X_train, config['features'], duration_col, event_col)\n",
    "                logs = model.fit(X_train, y_train, config['batch_size'], int(config['max_epochs']), callbacks, verbose=True, val_data=val_data, num_workers=10)\n",
    "            elif config['balance_method'] == 'tomek':\n",
    "                print('data balancing method: smotetomek')\n",
    "                X_train = rebalance_data(X_train, event_col, config['endpoint'], CAT_FEATURES, config, RANDOM_SEED, method='Tomek')\n",
    "                X_train, y_train = preprocess_data(X_train, config['features'], duration_col, event_col)\n",
    "                logs = model.fit(X_train, y_train, config['batch_size'], int(config['max_epochs']), callbacks, verbose=True, val_data=val_data, num_workers=10)\n",
    "        elif config['net'] == 'lstm':\n",
    "            print('model structure: LSTM')\n",
    "            if config['balance_method'] == 'clustering':\n",
    "                print('data balancing method: clustering')\n",
    "                model, logs = lstm_training(model, X_train, X_val, duration_col, event_col, cluster_col, config, callbacks, time_grid)\n",
    "            elif config['balance_method'] == 'NearMiss':\n",
    "                print('data balancing method: NearMiss')\n",
    "                model, logs = lstm_training(model, X_train, X_val, duration_col, event_col, cluster_col, config, callbacks, time_grid)\n",
    "    elif config['model'] == 'deephit':\n",
    "        print('Initiate training of deephit neural network')\n",
    "        X_val_processed, y_val = preprocess_data(X_val, config['features'], duration_col, event_col, TIME_GRID, discretize=True)\n",
    "        val_data = (X_val_processed, y_val)\n",
    "        if config['net'] == 'ann':\n",
    "            print('model structure: ANN')\n",
    "            if config['balance_method'] == 'clustering':\n",
    "                print('data balancing method: clustering')\n",
    "                model, logs = recursive_clustering(model, X_train, duration_col, event_col, config, val_data, callbacks, max_repeats=30, time_grid=TIME_GRID)\n",
    "            elif config['balance_method'] == 'NearMiss':\n",
    "                print('data balancing method: NearMiss')\n",
    "                X_train = underbalance_data_general(X_train, EVENT_COL, CLUSTER_COL, config, version=config['version'])\n",
    "                X_train, y_train = preprocess_data(X_train, config['features'], duration_col, event_col, TIME_GRID, discretize=True)\n",
    "                logs = model.fit(X_train, y_train, config['batch_size'], int(config['max_epochs']), callbacks, verbose=True, val_data=val_data)\n",
    "        elif config['net'] == 'lstm':\n",
    "            print('model structure: LSTM')\n",
    "            if config['balance_method'] == 'clustering':\n",
    "                print('data balancing method: clustering')\n",
    "                model, logs = lstm_training(model, X_train, X_val, duration_col, event_col, cluster_col, config, callbacks, time_grid)\n",
    "            elif config['balance_method'] == 'NearMiss':\n",
    "                print('data balancing method: NearMiss')\n",
    "                model, logs = lstm_training(model, X_train, X_val, duration_col, event_col, cluster_col, config, callbacks, time_grid)        \n",
    "\n",
    "    # Free memory after training\n",
    "    gc.collect()\n",
    "    torch.cuda.empty_cache()\n",
    "\n",
    "    return model, logs\n",
    "\n",
    "def save_model(params, model, model_path, baseline_hazard_path):\n",
    "    \"\"\"\n",
    "    Save model weights and baseline hazard data.\n",
    "\n",
    "    Parameters:\n",
    "    - model: The trained model to save.\n",
    "    - model_path: Path to save the model weights (.pt file).\n",
    "    - baseline_hazard_path: Path to save the baseline hazards (.pkl file).\n",
    "    \"\"\"\n",
    "    # Compute baseline hazards and save\n",
    "    if params['model'] == 'deepsurv':\n",
    "        baseline_hazard = model.compute_baseline_hazards()\n",
    "        baseline_hazard.to_pickle(baseline_hazard_path)\n",
    "    \n",
    "    # Save model weights\n",
    "    model.save_model_weights(model_path)\n",
    "    print(f\"Model and baseline hazards saved to {model_path} and {baseline_hazard_path}.\")\n",
    "\n",
    "def training_wrapper(df, config, spliter, model_path, hazard_path, feature_col=FEATURE_COLS, duration_col=DURATION_COL, event_col=EVENT_COL, cluster_col=CLUSTER_COL, time_grid=TIME_GRID):\n",
    "    \"\"\"\n",
    "    Train and save a survival analysis model with grouped cross-validation splits.\n",
    "\n",
    "    This function performs training on grouped cross-validation splits of the input DataFrame and saves each trained model\n",
    "    along with its baseline hazards. Memory management is handled to ensure efficient GPU usage.\n",
    "\n",
    "    Parameters:\n",
    "    - df (pd.DataFrame): DataFrame containing training data.\n",
    "    - config (dict): Configuration dictionary for initializing the neural network.\n",
    "    - spliter (object): Splitter object (e.g., GroupShuffleSplit or StratifiedKFold) used for creating train-validation splits.\n",
    "    - model_path (str): File path to save the trained model weights (.pt file).\n",
    "    - hazard_path (str): File path to save the baseline hazards (.pkl file).\n",
    "    - feature_col (list): List of feature column names in `df` used for model training.\n",
    "    - duration_col (str): Name of the column representing duration/time-to-event.\n",
    "    - event_col (str): Name of the column representing the event indicator (0 = censored, 1 = event).\n",
    "    - cluster_col (str): Name of the column used for grouping (clusters for cross-validation).\n",
    "    - time_grid (list): List or array defining the time grid for training.\n",
    "\n",
    "    Returns:\n",
    "    - None: Saves the model weights and baseline hazard data for each cross-validation split.\n",
    "    \"\"\"\n",
    "    for train_idx, val_idx in spliter.split(X=df[feature_col], y=df[event_col], groups=df[cluster_col]):\n",
    "        # Clear GPU memory for each split\n",
    "        gc.collect()\n",
    "        torch.cuda.empty_cache()\n",
    "        \n",
    "        # Define early stopping callback\n",
    "        callbacks = [tt.cb.EarlyStopping()]\n",
    "        \n",
    "        # Create training and validation sets\n",
    "        train_df = df.iloc[train_idx]\n",
    "        val_df = df.iloc[val_idx]\n",
    "        \n",
    "        # Initialize and train the model\n",
    "        model = create_neural_network(config)\n",
    "        model, logs = train_neural_network(\n",
    "            model, config,\n",
    "            X_train=train_df, X_val=val_df,\n",
    "            duration_col=duration_col, event_col=event_col,\n",
    "            cluster_col=cluster_col, callbacks=callbacks, time_grid=time_grid\n",
    "        )\n",
    "        \n",
    "        # Save the trained model and its baseline hazards\n",
    "        save_model(config, model, model_path, hazard_path)\n",
    "        \n",
    "        # Free memory for the next iteration\n",
    "        del model, logs\n",
    "        gc.collect()\n",
    "        torch.cuda.empty_cache()\n",
    "\n",
    "    print(\"Training and saving completed for all cross-validation splits.\")\n",
    "\n",
    "    print(\"All models have been trained and saved successfully.\")"
   ]
  },
  {
   "cell_type": "markdown",
   "metadata": {},
   "source": [
    "#### 3.1 deepsurv_ann_clustering_1\n",
    "- features: ['gender', 'dm', 'ht', 'sprint', 'a1c', 'po4', 'UACR_mg_g', 'Cr', 'age', 'alb', 'ca', 'hb', 'hco3']\n",
    "- sampling strategy: 0.05\n",
    "- 2 hidden layers with 8 and 4 nodes\n",
    "- no batch normalization in each hidden layer\n",
    "- dropout ratio in each layer: 0.1144793446270997\n",
    "- learning rate: 0.1\n",
    "- max epochs: 9\n",
    "- batch size: 512"
   ]
  },
  {
   "cell_type": "code",
   "execution_count": 189,
   "metadata": {},
   "outputs": [],
   "source": [
    "gc.collect()\n",
    "torch.cuda.empty_cache()\n",
    "\n",
    "deepsurv_ann_clustering_1_config = {\n",
    "    'model': 'deepsurv',\n",
    "    'net': 'ann',\n",
    "    'balance_method': 'clustering',\n",
    "    'features': ['gender', 'dm', 'ht', 'sprint', 'a1c', 'po4', 'UACR_mg_g', 'Cr', 'age', 'alb', 'ca', 'hb', 'hco3'],\n",
    "    'endpoint': 1,\n",
    "    'num_nodes': [8, 4],\n",
    "    'batch_norm': False,\n",
    "    'dropout': 0.1144793446270997,\n",
    "    'lr': 0.1,\n",
    "    'max_epochs': 9,\n",
    "    'batch_size': 512,\n",
    "    'sampling_strategy': 0.05,\n",
    "    'seq_length': 1,\n",
    "}"
   ]
  },
  {
   "cell_type": "markdown",
   "metadata": {},
   "source": [
    "#### 3.2 deepsurv_ann_smoteenn_1\n",
    "- features: ['ht', 'sprint', 'a1c', 'po4', 'UACR_mg_g', 'Cr', 'age', 'hb', 'hco3']\n",
    "- sampling strategy: 0.3\n",
    "- 4 hidden layers with 64, 32, 16 and 8 nodes\n",
    "- batch normalization in each hidden layer\n",
    "- dropout ratio in each layer: 0.09555033386059111\n",
    "- learning rate: 0.1\n",
    "- max epochs: 16\n",
    "- batch size: 512"
   ]
  },
  {
   "cell_type": "code",
   "execution_count": 190,
   "metadata": {},
   "outputs": [],
   "source": [
    "deepsurv_ann_smoteenn_1_config = {\n",
    "    'model': 'deepsurv',\n",
    "    'net': 'ann',\n",
    "    'balance_method': 'enn',\n",
    "    'features': ['ht', 'sprint', 'a1c', 'po4', 'UACR_mg_g', 'Cr', 'age', 'hb', 'hco3'],\n",
    "    'endpoint': 1,\n",
    "    'num_nodes': [64, 32, 16, 8],\n",
    "    'batch_norm': True,\n",
    "    'dropout': 0.09555033386059111,\n",
    "    'lr': 0.1,\n",
    "    'max_epochs': 16,\n",
    "    'batch_size': 512,\n",
    "    'sampling_strategy': 0.3,\n",
    "    'seq_length': 1,\n",
    "}"
   ]
  },
  {
   "cell_type": "markdown",
   "metadata": {},
   "source": [
    "#### 3.3 deepsurv_ann_smotetomek_1\n",
    "- features:  ['gender', 'dm', 'ht', 'sprint', 'po4', 'UACR_mg_g', 'Cr', 'age', 'hb', 'hco3']\n",
    "- sampling strategy: 0.2\n",
    "- 3 hidden layers with 32, 16 and 8 nodes\n",
    "- batch normalization in each hidden layer\n",
    "- dropout ratio in each layer: 0.23872991564684112\n",
    "- learning rate: 0.1\n",
    "- max epochs: 14\n",
    "- batch size: 512"
   ]
  },
  {
   "cell_type": "code",
   "execution_count": 191,
   "metadata": {},
   "outputs": [],
   "source": [
    "deepsurv_ann_smotetomek_1_config = {\n",
    "    'model': 'deepsurv',\n",
    "    'net': 'ann',\n",
    "    'balance_method': 'tomek',\n",
    "    'features': ['gender', 'dm', 'ht', 'sprint', 'po4', 'UACR_mg_g', 'Cr', 'age', 'hb', 'hco3'],\n",
    "    'endpoint': 1,\n",
    "    'num_nodes': [32, 16, 8],\n",
    "    'batch_norm': True,\n",
    "    'dropout': 0.23872991564684112,\n",
    "    'lr': 0.1,\n",
    "    'max_epochs': 14,\n",
    "    'batch_size': 512,\n",
    "    'sampling_strategy': 0.2,\n",
    "    'seq_length': 1,\n",
    "}"
   ]
  },
  {
   "cell_type": "markdown",
   "metadata": {},
   "source": [
    "#### 3.4 deepsurv_ann_clustering_2\n",
    "- features: [\"gender\", \"a1c\", \"po4\", \"UACR_mg_g\", \"Cr\"]\n",
    "- sampling_strategy: 0.05\n",
    "- 3 hidden layers with 32, 16, 8 nodes\n",
    "- no batch normalization in each hidden layer\n",
    "- dropout ratio in each layer: 0.3058921011568742\n",
    "- learning rate: 0.1\n",
    "- max epochs: 14\n",
    "- batch size: 512"
   ]
  },
  {
   "cell_type": "code",
   "execution_count": 192,
   "metadata": {},
   "outputs": [],
   "source": [
    "deepsurv_ann_clustering_2_config = {\n",
    "    'model': 'deepsurv',\n",
    "    'net': 'ann',\n",
    "    'balance_method': 'clustering',\n",
    "    'features': [\"gender\", \"a1c\", \"po4\", \"UACR_mg_g\", \"Cr\"],\n",
    "    'endpoint': 2,\n",
    "    'num_nodes': [32, 16, 8],\n",
    "    'batch_norm': False,\n",
    "    'dropout': 0.3058921011568742,\n",
    "    'lr': 0.1,\n",
    "    'max_epochs': 14,\n",
    "    'batch_size': 512,\n",
    "    'sampling_strategy': 0.05,\n",
    "    'seq_length': 1,\n",
    "}"
   ]
  },
  {
   "cell_type": "markdown",
   "metadata": {},
   "source": [
    "#### 3.5 deepsurv_ann_smoteenn_2\n",
    "- features: [\"gender\", \"dm\", \"ht\", \"sprint\", \"a1c\", \"po4\", \"UACR_mg_g\", \"Cr\", \"age\", \"alb\", \"ca\", \"hb\", \"hco3\"]\n",
    "- sampling_strategy: 0.1, \n",
    "- 2 hidden layers with 8, 4 nodes\n",
    "- no batch normalization in each hidden layer\n",
    "- dropout ratio in each layer: 0.38878203553667456\n",
    "- learning rate: 0.01\n",
    "- max epochs: 10\n",
    "- batch size: 512"
   ]
  },
  {
   "cell_type": "code",
   "execution_count": 193,
   "metadata": {},
   "outputs": [],
   "source": [
    "deepsurv_ann_smoteenn_2_config = {\n",
    "    'model': 'deepsurv',\n",
    "    'net': 'ann',\n",
    "    'balance_method': 'enn',\n",
    "    'features': [\"gender\", \"dm\", \"ht\", \"sprint\", \"a1c\", \"po4\", \"UACR_mg_g\", \"Cr\", \"age\", \"alb\", \"ca\", \"hb\", \"hco3\"],\n",
    "    'endpoint': 2,\n",
    "    'num_nodes': [8, 4],\n",
    "    'batch_norm': False,\n",
    "    'dropout': 0.38878203553667456,\n",
    "    'lr': 0.01,\n",
    "    'max_epochs': 10,\n",
    "    'batch_size': 512,\n",
    "    'sampling_strategy': 0.1,\n",
    "    'seq_length': 1,\n",
    "}"
   ]
  },
  {
   "cell_type": "markdown",
   "metadata": {},
   "source": [
    "#### 3.6 deepsurv_ann_smotetomek_2\n",
    "- features: ['ht', 'sprint', 'a1c', 'po4', 'UACR_mg_g', 'Cr', 'age', 'alb', 'ca', 'hb', 'hco3']\n",
    "- sampling_strategy: 0.05\n",
    "- 2 hidden layers with 64, 32 nodes\n",
    "- batch normalization in each hidden layer \n",
    "- dropout ratio in each layer: 0.3162398297390827\n",
    "- learning rate: 0.1\n",
    "- max epochs: 11\n",
    "- batch size: 512"
   ]
  },
  {
   "cell_type": "code",
   "execution_count": 194,
   "metadata": {},
   "outputs": [],
   "source": [
    "deepsurv_ann_smotetomek_2_config = {\n",
    "    'model': 'deepsurv',\n",
    "    'net': 'ann',\n",
    "    'balance_method': 'tomek',\n",
    "    'features': ['ht', 'sprint', 'a1c', 'po4', 'UACR_mg_g', 'Cr', 'age', 'alb', 'ca', 'hb', 'hco3'],\n",
    "    'endpoint': 2,\n",
    "    'num_nodes': [64, 32],\n",
    "    'batch_norm': True,\n",
    "    'dropout': 0.3162398297390827,\n",
    "    'lr': 0.1,\n",
    "    'max_epochs': 11,\n",
    "    'batch_size': 512,\n",
    "    'sampling_strategy': 0.05,\n",
    "    'seq_length': 1,\n",
    "}"
   ]
  },
  {
   "cell_type": "markdown",
   "metadata": {},
   "source": [
    "#### 3.7 deepsurv_lstm_clustering_1\n",
    "- features: ['gender', 'a1c', 'po4', 'UACR_mg_g', 'Cr']\n",
    "- sampling_strategy: 0.05\n",
    "- 3 hidden layers with 8, 4, 2 nodes\n",
    "- sequence length 7\n",
    "- no batch normalization in each hidden layer\n",
    "- dropout ratio in each layer: 0.2772567071863989\n",
    "- learning rate: 0.1\n",
    "- max epochs: 13\n",
    "- batch size: 512"
   ]
  },
  {
   "cell_type": "code",
   "execution_count": 195,
   "metadata": {},
   "outputs": [],
   "source": [
    "deepsurv_lstm_clustering_1_config = {\n",
    "    'model': 'deepsurv',\n",
    "    'net': 'lstm',\n",
    "    'balance_method': 'clustering',\n",
    "    'features': ['gender', 'a1c', 'po4', 'UACR_mg_g', 'Cr'],\n",
    "    'endpoint': 1,\n",
    "    'num_nodes': [8, 4, 2],\n",
    "    'batch_norm': False,\n",
    "    'dropout': 0.2772567071863989,\n",
    "    'lr': 0.1,\n",
    "    'max_epochs': 13,\n",
    "    'batch_size': 512,\n",
    "    'sampling_strategy': 0.05,\n",
    "    'seq_length': 7,\n",
    "}"
   ]
  },
  {
   "cell_type": "markdown",
   "metadata": {},
   "source": [
    "#### 3.8 deepsurv_lstm_nearmiss_1\n",
    "- features: ['gender', 'a1c', 'po4', 'UACR_mg_g', 'Cr']\n",
    "- sampling_strategy: 0.05\n",
    "- 3 hidden layers with 8, 4, 2 nodes\n",
    "- seq_length': 8\n",
    "- no batch normalization in each hidden layer\n",
    "- dropout ratio in each layer: 0.3397308077824205\n",
    "- learning rate: 0.001\n",
    "- max epochs: 9\n",
    "- batch size: 512"
   ]
  },
  {
   "cell_type": "code",
   "execution_count": 196,
   "metadata": {},
   "outputs": [],
   "source": [
    "deepsurv_lstm_nearmiss_1_config = {\n",
    "    'model': 'deepsurv',\n",
    "    'net': 'lstm',\n",
    "    'balance_method': 'NearMiss',\n",
    "    'features': ['gender', 'a1c', 'po4', 'UACR_mg_g', 'Cr'],\n",
    "    'endpoint': 1,\n",
    "    'num_nodes': [8, 4, 2],\n",
    "    'batch_norm': False,\n",
    "    'dropout': 0.3397308077824205,\n",
    "    'lr': 0.001,\n",
    "    'max_epochs': 9,\n",
    "    'batch_size': 512,\n",
    "    'sampling_strategy': 0.05,\n",
    "    'seq_length': 8,\n",
    "}"
   ]
  },
  {
   "cell_type": "markdown",
   "metadata": {},
   "source": [
    "#### 3.9 deepsurv_lstm_clustering_2\n",
    "- features: ['gender', 'a1c', 'po4', 'UACR_mg_g', 'Cr']\n",
    "- sampling_strategy: 0.05\n",
    "- 3 hidden layers with 8, 4, 2 nodes\n",
    "- seq_length': 8\n",
    "- no batch normalization in each hidden layer\n",
    "- dropout ratio in each layer: 0.3397308077824205\n",
    "- learning rate: 0.001\n",
    "- max epochs: 9\n",
    "- batch size: 512"
   ]
  },
  {
   "cell_type": "code",
   "execution_count": 197,
   "metadata": {},
   "outputs": [],
   "source": [
    "deepsurv_lstm_clustering_2_config = {\n",
    "    'model': 'deepsurv',\n",
    "    'net': 'lstm',\n",
    "    'balance_method': 'clustering',\n",
    "    'features': ['gender', 'a1c', 'po4', 'UACR_mg_g', 'Cr'],\n",
    "    'endpoint': 2,\n",
    "    'num_nodes': [8, 4, 2],\n",
    "    'batch_norm': False,\n",
    "    'dropout': 0.3397308077824205,\n",
    "    'lr': 0.001,\n",
    "    'max_epochs': 9,\n",
    "    'batch_size': 512,\n",
    "    'sampling_strategy': 0.05,\n",
    "    'seq_length': 8,\n",
    "}"
   ]
  },
  {
   "cell_type": "markdown",
   "metadata": {},
   "source": [
    "#### 3.10 deepsurv_lstm_nearmiss_2\n",
    "- features: ['sprint', 'a1c', 'po4', 'UACR_mg_g', 'Cr', 'age', 'alb', 'ca', 'hb', 'hco3']\n",
    "- sampling_strategy: 0.05\n",
    "- 2 hidden layers with 32, 16 nodes\n",
    "- seq_length': 2\n",
    "- no batch normalization in each hidden layer\n",
    "- dropout ratio in each layer: 0.35763396978044143\n",
    "- learning rate: 0.1\n",
    "- max epochs: 10\n",
    "- batch size: 512"
   ]
  },
  {
   "cell_type": "code",
   "execution_count": 198,
   "metadata": {},
   "outputs": [],
   "source": [
    "deepsurv_lstm_nearmiss_2_config = {\n",
    "    'model': 'deepsurv',\n",
    "    'net': 'lstm',\n",
    "    'balance_method': 'NearMiss',\n",
    "    'features': ['sprint', 'a1c', 'po4', 'UACR_mg_g', 'Cr', 'age', 'alb', 'ca', 'hb', 'hco3'],\n",
    "    'endpoint': 2,\n",
    "    'num_nodes': [32, 16],\n",
    "    'batch_norm': False,\n",
    "    'dropout': 0.35763396978044143,\n",
    "    'lr': 0.1,\n",
    "    'max_epochs': 10,\n",
    "    'batch_size': 512,\n",
    "    'sampling_strategy': 0.05,\n",
    "    'seq_length': 2,\n",
    "}"
   ]
  },
  {
   "cell_type": "markdown",
   "metadata": {},
   "source": [
    "#### 3.11 deephit_ann_clustering_all\n",
    "- features: ['gender', 'dm', 'ht', 'sprint', 'po4', 'UACR_mg_g', 'Cr', 'age', 'hb', 'hco3']\n",
    "- sampling strategy: 0.05\n",
    "- 2 hidden layers with 64 and 32 nodes\n",
    "- batch normalization in each hidden layer\n",
    "- dropout ratio in each layer: 0.26400151710698067\n",
    "- learning rate: 0.1\n",
    "- max epochs: 8\n",
    "- batch size: 512"
   ]
  },
  {
   "cell_type": "code",
   "execution_count": 199,
   "metadata": {},
   "outputs": [],
   "source": [
    "deephit_ann_clustering_all_config = {\n",
    "    'model': 'deephit',\n",
    "    'net': 'ann',\n",
    "    'balance_method': 'clustering',\n",
    "    'features': ['gender', 'dm', 'ht', 'sprint', 'po4', 'UACR_mg_g', 'Cr', 'age', 'hb', 'hco3'],\n",
    "    'endpoint': 'all',\n",
    "    'num_nodes': [64, 32],\n",
    "    'batch_norm': True,\n",
    "    'dropout': 0.26400151710698067,\n",
    "    'lr': 0.1,\n",
    "    'max_epochs': 8,\n",
    "    'batch_size': 512,\n",
    "    'sampling_strategy': 0.05,\n",
    "    'seq_length': 1,\n",
    "}"
   ]
  },
  {
   "cell_type": "markdown",
   "metadata": {},
   "source": [
    "#### 3.12 deephit_ann_nearmiss2_all\n",
    "- features: ['sprint', 'a1c', 'po4', 'UACR_mg_g', 'Cr', 'age', 'alb', 'ca', 'hb', 'hco3']\n",
    "- sampling strategy: 0.05\n",
    "- 2 hidden layers with 8, 4 and 2 nodes\n",
    "- batch normalization in each hidden layer\n",
    "- dropout ratio in each layer: 0.7346754269827496\n",
    "- learning rate: 0.01\n",
    "- max epochs: 7\n",
    "- batch size: 512"
   ]
  },
  {
   "cell_type": "code",
   "execution_count": 200,
   "metadata": {},
   "outputs": [],
   "source": [
    "deephit_ann_nearmiss2_all_config = {\n",
    "    'model': 'deephit',\n",
    "    'net': 'ann',\n",
    "    'balance_method': 'NearMiss',\n",
    "    'version': 2,\n",
    "    'features': ['sprint', 'a1c', 'po4', 'UACR_mg_g', 'Cr', 'age', 'alb', 'ca', 'hb', 'hco3'],\n",
    "    'endpoint': 'all',\n",
    "    'num_nodes': [8, 4, 2],\n",
    "    'batch_norm': True,\n",
    "    'dropout': 0.7346754269827496,\n",
    "    'lr': 0.01,\n",
    "    'max_epochs': 7,\n",
    "    'batch_size': 512,\n",
    "    'sampling_strategy': 0.05,\n",
    "    'seq_length': 1,\n",
    "}"
   ]
  },
  {
   "cell_type": "markdown",
   "metadata": {},
   "source": [
    "#### 3.13 deephit_lstm_clustering_all\n",
    "- features: ['ht', 'sprint', 'a1c', 'po4', 'UACR_mg_g', 'Cr', 'age', 'alb', 'ca', 'hb', 'hco3']\n",
    "- sampling strategy: 0.05\n",
    "- seq_length: 6\n",
    "- 3 hidden layers with 64, 32 and 16 nodes\n",
    "- batch normalization in each hidden layer\n",
    "- dropout ratio in each layer: 0.46132889488306583\n",
    "- learning rate: 0.1\n",
    "- max epochs: 5\n",
    "- batch size: 512"
   ]
  },
  {
   "cell_type": "code",
   "execution_count": 201,
   "metadata": {},
   "outputs": [],
   "source": [
    "deephit_lstm_clustering_all_config = {\n",
    "    'model': 'deephit',\n",
    "    'net': 'lstm',\n",
    "    'balance_method': 'clustering',\n",
    "    'version': 2,\n",
    "    'features': ['ht', 'sprint', 'a1c', 'po4', 'UACR_mg_g', 'Cr', 'age', 'alb', 'ca', 'hb', 'hco3'],\n",
    "    'endpoint': 'all',\n",
    "    'num_nodes': [64, 32, 16],\n",
    "    'batch_norm': True,\n",
    "    'dropout': 0.46132889488306583,\n",
    "    'lr': 0.1,\n",
    "    'max_epochs': 5,\n",
    "    'batch_size': 512,\n",
    "    'sampling_strategy': 0.05,\n",
    "    'seq_length': 6,\n",
    "}"
   ]
  },
  {
   "cell_type": "markdown",
   "metadata": {},
   "source": [
    "#### 3.14 deephit_lstm_nearmiss1_all\n",
    "- features: ['gender', 'a1c', 'po4', 'UACR_mg_g', 'Cr']\n",
    "- sampling strategy: 0.05\n",
    "- seq_length: 9\n",
    "- 3 hidden layers with 32, 16 and 8 nodes\n",
    "- batch normalization in each hidden layer\n",
    "- dropout ratio in each layer: 0.18001924589390816\n",
    "- learning rate: 0.1\n",
    "- max epochs: 9\n",
    "- batch size: 512"
   ]
  },
  {
   "cell_type": "code",
   "execution_count": 202,
   "metadata": {},
   "outputs": [],
   "source": [
    "deephit_lstm_nearmiss1_all_config = {\n",
    "    'model': 'deephit',\n",
    "    'net': 'lstm',\n",
    "    'balance_method': 'NearMiss',\n",
    "    'version': 1,\n",
    "    'features': ['gender', 'a1c', 'po4', 'UACR_mg_g', 'Cr'],\n",
    "    'endpoint': 'all',\n",
    "    'num_nodes': [32, 16, 8],\n",
    "    'batch_norm': True,\n",
    "    'dropout': 0.18001924589390816,\n",
    "    'lr': 0.1,\n",
    "    'max_epochs': 9,\n",
    "    'batch_size': 512,\n",
    "    'sampling_strategy': 0.05,\n",
    "    'seq_length': 9,\n",
    "}"
   ]
  },
  {
   "cell_type": "code",
   "execution_count": 222,
   "metadata": {},
   "outputs": [
    {
     "name": "stdout",
     "output_type": "stream",
     "text": [
      "All model configurations saved to /mnt/d/PYDataScience/g3_regress/code/models/all_model_configs.json\n"
     ]
    }
   ],
   "source": [
    "model_ls = ['deepsurv_ann_clustering_1', 'deepsurv_ann_smoteenn_1', 'deepsurv_ann_smotetomek_1',\n",
    "            'deepsurv_ann_clustering_2', 'deepsurv_ann_smoteenn_2', 'deepsurv_ann_smotetomek_2',\n",
    "            'deepsurv_lstm_clustering_1', 'deepsurv_lstm_nearmiss_1', 'deepsurv_lstm_clustering_2', 'deepsurv_lstm_nearmiss_2',\n",
    "            'deephit_ann_clustering_all', 'deephit_ann_nearmiss2_all', 'deephit_lstm_clustering_all', 'deephit_lstm_nearmiss1_all']\n",
    "model_path = '/mnt/d/PYDataScience/g3_regress/code/models/'\n",
    "# Retrieve configurations dynamically from globals\n",
    "all_configs = {}\n",
    "for model in model_ls:\n",
    "    config_var_name = f\"{model}_config\"\n",
    "    config = globals().get(config_var_name)\n",
    "    if config:\n",
    "        all_configs[model] = config\n",
    "    else:\n",
    "        print(f\"Configuration for {config_var_name} not found.\")\n",
    "\n",
    "# Save all configurations to a JSON file\n",
    "output_file = model_path + \"all_model_configs.json\"\n",
    "with open(output_file, 'w') as json_file:\n",
    "    json.dump(all_configs, json_file, indent=4)\n",
    "\n",
    "print(f\"All model configurations saved to {output_file}\")"
   ]
  },
  {
   "cell_type": "code",
   "execution_count": 204,
   "metadata": {},
   "outputs": [
    {
     "name": "stderr",
     "output_type": "stream",
     "text": [
      "2024-11-21 07:15:16,843 - INFO - Event column 'endpoint' updated with focus on event value 1.\n",
      "2024-11-21 07:15:16,848 - INFO - Event column 'endpoint' updated with focus on event value 1.\n",
      "2024-11-21 07:15:16,856 - INFO - Performing clustering iteration 1 / 20\n",
      "2024-11-21 07:15:16,856 - INFO - CUDA environment set up and GPU memory cleared.\n",
      "2024-11-21 07:15:16,859 - INFO - Event column 'endpoint' updated with focus on event value 1.\n"
     ]
    },
    {
     "name": "stdout",
     "output_type": "stream",
     "text": [
      "Initiate training of deepsurv neural network\n",
      "model structure: ANN\n",
      "data balancing method: clustering\n"
     ]
    },
    {
     "name": "stderr",
     "output_type": "stream",
     "text": [
      "2024-11-21 07:15:17,464 - INFO - Defined medoid for deepsurv model with 1207 clusters.\n"
     ]
    },
    {
     "name": "stdout",
     "output_type": "stream",
     "text": [
      "0:\t[0s / 0s],\t\ttrain_loss: 5.1261,\tval_loss: 7.8751\n",
      "1:\t[0s / 0s],\t\ttrain_loss: 5.0471,\tval_loss: 7.6602\n",
      "2:\t[0s / 0s],\t\ttrain_loss: 4.9526,\tval_loss: 7.5625\n",
      "3:\t[0s / 0s],\t\ttrain_loss: 4.9109,\tval_loss: 7.1527\n",
      "4:\t[0s / 0s],\t\ttrain_loss: 4.8635,\tval_loss: 6.9761\n",
      "5:\t[0s / 0s],\t\ttrain_loss: 4.8398,\tval_loss: 6.9163\n",
      "6:\t[0s / 0s],\t\ttrain_loss: 4.8417,\tval_loss: 6.9144\n",
      "7:\t[0s / 0s],\t\ttrain_loss: 4.8399,\tval_loss: 6.7745\n",
      "8:\t[0s / 0s],\t\ttrain_loss: 4.8130,\tval_loss: 6.8014\n"
     ]
    },
    {
     "name": "stderr",
     "output_type": "stream",
     "text": [
      "/home/goma/miniconda3/envs/ai_dev/lib/python3.11/site-packages/torchtuples/base.py:669: FutureWarning: You are using `torch.load` with `weights_only=False` (the current default value), which uses the default pickle module implicitly. It is possible to construct malicious pickle data which will execute arbitrary code during unpickling (See https://github.com/pytorch/pytorch/blob/main/SECURITY.md#untrusted-models for more details). In a future release, the default value for `weights_only` will be flipped to `True`. This limits the functions that could be executed during unpickling. Arbitrary objects will no longer be allowed to be loaded via this mode unless they are explicitly allowlisted by the user via `torch.serialization.add_safe_globals`. We recommend you start setting `weights_only=True` for any use case where you don't have full control of the loaded file. Please open an issue on GitHub for any issues related to this experimental feature.\n",
      "  self.net.load_state_dict(torch.load(path, **kwargs))\n",
      "2024-11-21 07:15:18,509 - INFO - Performing clustering iteration 2 / 20\n",
      "2024-11-21 07:15:18,510 - INFO - CUDA environment set up and GPU memory cleared.\n",
      "2024-11-21 07:15:18,514 - INFO - Event column 'endpoint' updated with focus on event value 1.\n",
      "2024-11-21 07:15:18,920 - INFO - Defined medoid for deepsurv model with 1207 clusters.\n"
     ]
    },
    {
     "name": "stdout",
     "output_type": "stream",
     "text": [
      "9:\t[0s / 0s],\t\ttrain_loss: 4.7669,\tval_loss: 6.8175\n",
      "10:\t[0s / 0s],\t\ttrain_loss: 4.7986,\tval_loss: 6.8202\n",
      "11:\t[0s / 0s],\t\ttrain_loss: 4.7645,\tval_loss: 6.8363\n",
      "12:\t[0s / 0s],\t\ttrain_loss: 4.7694,\tval_loss: 6.7860\n",
      "13:\t[0s / 0s],\t\ttrain_loss: 4.7765,\tval_loss: 6.7771\n",
      "14:\t[0s / 0s],\t\ttrain_loss: 4.7583,\tval_loss: 6.8182\n",
      "15:\t[0s / 0s],\t\ttrain_loss: 4.7811,\tval_loss: 6.7846\n",
      "16:\t[0s / 0s],\t\ttrain_loss: 4.7801,\tval_loss: 6.7791\n",
      "17:\t[0s / 0s],\t\ttrain_loss: 4.7613,\tval_loss: 6.7746\n"
     ]
    },
    {
     "name": "stderr",
     "output_type": "stream",
     "text": [
      "/home/goma/miniconda3/envs/ai_dev/lib/python3.11/site-packages/torchtuples/base.py:669: FutureWarning: You are using `torch.load` with `weights_only=False` (the current default value), which uses the default pickle module implicitly. It is possible to construct malicious pickle data which will execute arbitrary code during unpickling (See https://github.com/pytorch/pytorch/blob/main/SECURITY.md#untrusted-models for more details). In a future release, the default value for `weights_only` will be flipped to `True`. This limits the functions that could be executed during unpickling. Arbitrary objects will no longer be allowed to be loaded via this mode unless they are explicitly allowlisted by the user via `torch.serialization.add_safe_globals`. We recommend you start setting `weights_only=True` for any use case where you don't have full control of the loaded file. Please open an issue on GitHub for any issues related to this experimental feature.\n",
      "  self.net.load_state_dict(torch.load(path, **kwargs))\n",
      "2024-11-21 07:15:19,687 - INFO - Performing clustering iteration 3 / 20\n",
      "2024-11-21 07:15:19,688 - INFO - CUDA environment set up and GPU memory cleared.\n",
      "2024-11-21 07:15:19,693 - INFO - Event column 'endpoint' updated with focus on event value 1.\n",
      "2024-11-21 07:15:20,118 - INFO - Defined medoid for deepsurv model with 1207 clusters.\n",
      "/home/goma/miniconda3/envs/ai_dev/lib/python3.11/site-packages/torchtuples/base.py:669: FutureWarning: You are using `torch.load` with `weights_only=False` (the current default value), which uses the default pickle module implicitly. It is possible to construct malicious pickle data which will execute arbitrary code during unpickling (See https://github.com/pytorch/pytorch/blob/main/SECURITY.md#untrusted-models for more details). In a future release, the default value for `weights_only` will be flipped to `True`. This limits the functions that could be executed during unpickling. Arbitrary objects will no longer be allowed to be loaded via this mode unless they are explicitly allowlisted by the user via `torch.serialization.add_safe_globals`. We recommend you start setting `weights_only=True` for any use case where you don't have full control of the loaded file. Please open an issue on GitHub for any issues related to this experimental feature.\n",
      "  self.net.load_state_dict(torch.load(path, **kwargs))\n",
      "2024-11-21 07:15:20,409 - INFO - Performing clustering iteration 4 / 20\n",
      "2024-11-21 07:15:20,410 - INFO - CUDA environment set up and GPU memory cleared.\n",
      "2024-11-21 07:15:20,412 - INFO - Event column 'endpoint' updated with focus on event value 1.\n"
     ]
    },
    {
     "name": "stdout",
     "output_type": "stream",
     "text": [
      "18:\t[0s / 0s],\t\ttrain_loss: 4.7769,\tval_loss: 6.8447\n"
     ]
    },
    {
     "name": "stderr",
     "output_type": "stream",
     "text": [
      "2024-11-21 07:15:20,813 - INFO - Defined medoid for deepsurv model with 1207 clusters.\n",
      "/home/goma/miniconda3/envs/ai_dev/lib/python3.11/site-packages/torchtuples/base.py:669: FutureWarning: You are using `torch.load` with `weights_only=False` (the current default value), which uses the default pickle module implicitly. It is possible to construct malicious pickle data which will execute arbitrary code during unpickling (See https://github.com/pytorch/pytorch/blob/main/SECURITY.md#untrusted-models for more details). In a future release, the default value for `weights_only` will be flipped to `True`. This limits the functions that could be executed during unpickling. Arbitrary objects will no longer be allowed to be loaded via this mode unless they are explicitly allowlisted by the user via `torch.serialization.add_safe_globals`. We recommend you start setting `weights_only=True` for any use case where you don't have full control of the loaded file. Please open an issue on GitHub for any issues related to this experimental feature.\n",
      "  self.net.load_state_dict(torch.load(path, **kwargs))\n",
      "2024-11-21 07:15:21,100 - INFO - Performing clustering iteration 5 / 20\n",
      "2024-11-21 07:15:21,101 - INFO - CUDA environment set up and GPU memory cleared.\n",
      "2024-11-21 07:15:21,103 - INFO - Event column 'endpoint' updated with focus on event value 1.\n"
     ]
    },
    {
     "name": "stdout",
     "output_type": "stream",
     "text": [
      "19:\t[0s / 0s],\t\ttrain_loss: 4.7844,\tval_loss: 6.8214\n"
     ]
    },
    {
     "name": "stderr",
     "output_type": "stream",
     "text": [
      "2024-11-21 07:15:21,499 - INFO - Defined medoid for deepsurv model with 1207 clusters.\n"
     ]
    },
    {
     "name": "stdout",
     "output_type": "stream",
     "text": [
      "20:\t[0s / 0s],\t\ttrain_loss: 4.7827,\tval_loss: 6.7636\n",
      "21:\t[0s / 0s],\t\ttrain_loss: 4.7608,\tval_loss: 6.7695\n",
      "22:\t[0s / 0s],\t\ttrain_loss: 4.7600,\tval_loss: 6.7485\n",
      "23:\t[0s / 0s],\t\ttrain_loss: 4.7720,\tval_loss: 6.7816\n",
      "24:\t[0s / 0s],\t\ttrain_loss: 4.7808,\tval_loss: 6.7897\n",
      "25:\t[0s / 0s],\t\ttrain_loss: 4.7605,\tval_loss: 6.7722\n",
      "26:\t[0s / 0s],\t\ttrain_loss: 4.7439,\tval_loss: 6.7515\n",
      "27:\t[0s / 0s],\t\ttrain_loss: 4.7430,\tval_loss: 6.7445\n",
      "28:\t[0s / 0s],\t\ttrain_loss: 4.7576,\tval_loss: 6.7426\n"
     ]
    },
    {
     "name": "stderr",
     "output_type": "stream",
     "text": [
      "/home/goma/miniconda3/envs/ai_dev/lib/python3.11/site-packages/torchtuples/base.py:669: FutureWarning: You are using `torch.load` with `weights_only=False` (the current default value), which uses the default pickle module implicitly. It is possible to construct malicious pickle data which will execute arbitrary code during unpickling (See https://github.com/pytorch/pytorch/blob/main/SECURITY.md#untrusted-models for more details). In a future release, the default value for `weights_only` will be flipped to `True`. This limits the functions that could be executed during unpickling. Arbitrary objects will no longer be allowed to be loaded via this mode unless they are explicitly allowlisted by the user via `torch.serialization.add_safe_globals`. We recommend you start setting `weights_only=True` for any use case where you don't have full control of the loaded file. Please open an issue on GitHub for any issues related to this experimental feature.\n",
      "  self.net.load_state_dict(torch.load(path, **kwargs))\n",
      "2024-11-21 07:15:22,416 - INFO - Performing clustering iteration 6 / 20\n",
      "2024-11-21 07:15:22,416 - INFO - CUDA environment set up and GPU memory cleared.\n",
      "2024-11-21 07:15:22,423 - INFO - Event column 'endpoint' updated with focus on event value 1.\n",
      "2024-11-21 07:15:22,835 - INFO - Defined medoid for deepsurv model with 1207 clusters.\n"
     ]
    },
    {
     "name": "stdout",
     "output_type": "stream",
     "text": [
      "29:\t[0s / 0s],\t\ttrain_loss: 4.7665,\tval_loss: 6.7421\n",
      "30:\t[0s / 0s],\t\ttrain_loss: 4.7587,\tval_loss: 6.6434\n",
      "31:\t[0s / 0s],\t\ttrain_loss: 4.7528,\tval_loss: 6.6015\n",
      "32:\t[0s / 0s],\t\ttrain_loss: 4.7665,\tval_loss: 6.7106\n",
      "33:\t[0s / 0s],\t\ttrain_loss: 4.7547,\tval_loss: 6.7139\n",
      "34:\t[0s / 0s],\t\ttrain_loss: 4.7491,\tval_loss: 6.6707\n",
      "35:\t[0s / 0s],\t\ttrain_loss: 4.7560,\tval_loss: 6.6521\n",
      "36:\t[0s / 0s],\t\ttrain_loss: 4.7532,\tval_loss: 6.6634\n",
      "37:\t[0s / 0s],\t\ttrain_loss: 4.7816,\tval_loss: 6.7348\n"
     ]
    },
    {
     "name": "stderr",
     "output_type": "stream",
     "text": [
      "/home/goma/miniconda3/envs/ai_dev/lib/python3.11/site-packages/torchtuples/base.py:669: FutureWarning: You are using `torch.load` with `weights_only=False` (the current default value), which uses the default pickle module implicitly. It is possible to construct malicious pickle data which will execute arbitrary code during unpickling (See https://github.com/pytorch/pytorch/blob/main/SECURITY.md#untrusted-models for more details). In a future release, the default value for `weights_only` will be flipped to `True`. This limits the functions that could be executed during unpickling. Arbitrary objects will no longer be allowed to be loaded via this mode unless they are explicitly allowlisted by the user via `torch.serialization.add_safe_globals`. We recommend you start setting `weights_only=True` for any use case where you don't have full control of the loaded file. Please open an issue on GitHub for any issues related to this experimental feature.\n",
      "  self.net.load_state_dict(torch.load(path, **kwargs))\n",
      "2024-11-21 07:15:23,652 - INFO - Performing clustering iteration 7 / 20\n",
      "2024-11-21 07:15:23,652 - INFO - CUDA environment set up and GPU memory cleared.\n",
      "2024-11-21 07:15:23,656 - INFO - Event column 'endpoint' updated with focus on event value 1.\n",
      "2024-11-21 07:15:24,053 - INFO - Defined medoid for deepsurv model with 1207 clusters.\n"
     ]
    },
    {
     "name": "stdout",
     "output_type": "stream",
     "text": [
      "38:\t[0s / 0s],\t\ttrain_loss: 4.7548,\tval_loss: 6.7172\n",
      "39:\t[0s / 0s],\t\ttrain_loss: 4.7767,\tval_loss: 6.7546\n",
      "40:\t[0s / 0s],\t\ttrain_loss: 4.7785,\tval_loss: 6.7386\n",
      "41:\t[0s / 0s],\t\ttrain_loss: 4.7612,\tval_loss: 6.7324\n"
     ]
    },
    {
     "name": "stderr",
     "output_type": "stream",
     "text": [
      "/home/goma/miniconda3/envs/ai_dev/lib/python3.11/site-packages/torchtuples/base.py:669: FutureWarning: You are using `torch.load` with `weights_only=False` (the current default value), which uses the default pickle module implicitly. It is possible to construct malicious pickle data which will execute arbitrary code during unpickling (See https://github.com/pytorch/pytorch/blob/main/SECURITY.md#untrusted-models for more details). In a future release, the default value for `weights_only` will be flipped to `True`. This limits the functions that could be executed during unpickling. Arbitrary objects will no longer be allowed to be loaded via this mode unless they are explicitly allowlisted by the user via `torch.serialization.add_safe_globals`. We recommend you start setting `weights_only=True` for any use case where you don't have full control of the loaded file. Please open an issue on GitHub for any issues related to this experimental feature.\n",
      "  self.net.load_state_dict(torch.load(path, **kwargs))\n",
      "2024-11-21 07:15:24,502 - INFO - Performing clustering iteration 8 / 20\n",
      "2024-11-21 07:15:24,502 - INFO - CUDA environment set up and GPU memory cleared.\n",
      "2024-11-21 07:15:24,506 - INFO - Event column 'endpoint' updated with focus on event value 1.\n",
      "2024-11-21 07:15:24,894 - INFO - Defined medoid for deepsurv model with 1207 clusters.\n",
      "/home/goma/miniconda3/envs/ai_dev/lib/python3.11/site-packages/torchtuples/base.py:669: FutureWarning: You are using `torch.load` with `weights_only=False` (the current default value), which uses the default pickle module implicitly. It is possible to construct malicious pickle data which will execute arbitrary code during unpickling (See https://github.com/pytorch/pytorch/blob/main/SECURITY.md#untrusted-models for more details). In a future release, the default value for `weights_only` will be flipped to `True`. This limits the functions that could be executed during unpickling. Arbitrary objects will no longer be allowed to be loaded via this mode unless they are explicitly allowlisted by the user via `torch.serialization.add_safe_globals`. We recommend you start setting `weights_only=True` for any use case where you don't have full control of the loaded file. Please open an issue on GitHub for any issues related to this experimental feature.\n",
      "  self.net.load_state_dict(torch.load(path, **kwargs))\n",
      "2024-11-21 07:15:25,162 - INFO - Performing clustering iteration 9 / 20\n",
      "2024-11-21 07:15:25,162 - INFO - CUDA environment set up and GPU memory cleared.\n",
      "2024-11-21 07:15:25,165 - INFO - Event column 'endpoint' updated with focus on event value 1.\n"
     ]
    },
    {
     "name": "stdout",
     "output_type": "stream",
     "text": [
      "42:\t[0s / 0s],\t\ttrain_loss: 4.7530,\tval_loss: 6.6424\n"
     ]
    },
    {
     "name": "stderr",
     "output_type": "stream",
     "text": [
      "2024-11-21 07:15:25,548 - INFO - Defined medoid for deepsurv model with 1207 clusters.\n",
      "/home/goma/miniconda3/envs/ai_dev/lib/python3.11/site-packages/torchtuples/base.py:669: FutureWarning: You are using `torch.load` with `weights_only=False` (the current default value), which uses the default pickle module implicitly. It is possible to construct malicious pickle data which will execute arbitrary code during unpickling (See https://github.com/pytorch/pytorch/blob/main/SECURITY.md#untrusted-models for more details). In a future release, the default value for `weights_only` will be flipped to `True`. This limits the functions that could be executed during unpickling. Arbitrary objects will no longer be allowed to be loaded via this mode unless they are explicitly allowlisted by the user via `torch.serialization.add_safe_globals`. We recommend you start setting `weights_only=True` for any use case where you don't have full control of the loaded file. Please open an issue on GitHub for any issues related to this experimental feature.\n",
      "  self.net.load_state_dict(torch.load(path, **kwargs))\n"
     ]
    },
    {
     "name": "stdout",
     "output_type": "stream",
     "text": [
      "43:\t[0s / 0s],\t\ttrain_loss: 4.7619,\tval_loss: 6.6517\n"
     ]
    },
    {
     "name": "stderr",
     "output_type": "stream",
     "text": [
      "2024-11-21 07:15:25,852 - INFO - Performing clustering iteration 10 / 20\n",
      "2024-11-21 07:15:25,853 - INFO - CUDA environment set up and GPU memory cleared.\n",
      "2024-11-21 07:15:25,856 - INFO - Event column 'endpoint' updated with focus on event value 1.\n",
      "2024-11-21 07:15:26,255 - INFO - Defined medoid for deepsurv model with 1207 clusters.\n",
      "/home/goma/miniconda3/envs/ai_dev/lib/python3.11/site-packages/torchtuples/base.py:669: FutureWarning: You are using `torch.load` with `weights_only=False` (the current default value), which uses the default pickle module implicitly. It is possible to construct malicious pickle data which will execute arbitrary code during unpickling (See https://github.com/pytorch/pytorch/blob/main/SECURITY.md#untrusted-models for more details). In a future release, the default value for `weights_only` will be flipped to `True`. This limits the functions that could be executed during unpickling. Arbitrary objects will no longer be allowed to be loaded via this mode unless they are explicitly allowlisted by the user via `torch.serialization.add_safe_globals`. We recommend you start setting `weights_only=True` for any use case where you don't have full control of the loaded file. Please open an issue on GitHub for any issues related to this experimental feature.\n",
      "  self.net.load_state_dict(torch.load(path, **kwargs))\n",
      "2024-11-21 07:15:26,541 - INFO - Performing clustering iteration 11 / 20\n",
      "2024-11-21 07:15:26,542 - INFO - CUDA environment set up and GPU memory cleared.\n",
      "2024-11-21 07:15:26,545 - INFO - Event column 'endpoint' updated with focus on event value 1.\n"
     ]
    },
    {
     "name": "stdout",
     "output_type": "stream",
     "text": [
      "44:\t[0s / 0s],\t\ttrain_loss: 4.7489,\tval_loss: 6.7018\n"
     ]
    },
    {
     "name": "stderr",
     "output_type": "stream",
     "text": [
      "2024-11-21 07:15:26,926 - INFO - Defined medoid for deepsurv model with 1207 clusters.\n",
      "/home/goma/miniconda3/envs/ai_dev/lib/python3.11/site-packages/torchtuples/base.py:669: FutureWarning: You are using `torch.load` with `weights_only=False` (the current default value), which uses the default pickle module implicitly. It is possible to construct malicious pickle data which will execute arbitrary code during unpickling (See https://github.com/pytorch/pytorch/blob/main/SECURITY.md#untrusted-models for more details). In a future release, the default value for `weights_only` will be flipped to `True`. This limits the functions that could be executed during unpickling. Arbitrary objects will no longer be allowed to be loaded via this mode unless they are explicitly allowlisted by the user via `torch.serialization.add_safe_globals`. We recommend you start setting `weights_only=True` for any use case where you don't have full control of the loaded file. Please open an issue on GitHub for any issues related to this experimental feature.\n",
      "  self.net.load_state_dict(torch.load(path, **kwargs))\n",
      "2024-11-21 07:15:27,194 - INFO - Performing clustering iteration 12 / 20\n",
      "2024-11-21 07:15:27,195 - INFO - CUDA environment set up and GPU memory cleared.\n",
      "2024-11-21 07:15:27,198 - INFO - Event column 'endpoint' updated with focus on event value 1.\n"
     ]
    },
    {
     "name": "stdout",
     "output_type": "stream",
     "text": [
      "45:\t[0s / 0s],\t\ttrain_loss: 4.7466,\tval_loss: 6.6353\n"
     ]
    },
    {
     "name": "stderr",
     "output_type": "stream",
     "text": [
      "2024-11-21 07:15:27,593 - INFO - Defined medoid for deepsurv model with 1207 clusters.\n",
      "/home/goma/miniconda3/envs/ai_dev/lib/python3.11/site-packages/torchtuples/base.py:669: FutureWarning: You are using `torch.load` with `weights_only=False` (the current default value), which uses the default pickle module implicitly. It is possible to construct malicious pickle data which will execute arbitrary code during unpickling (See https://github.com/pytorch/pytorch/blob/main/SECURITY.md#untrusted-models for more details). In a future release, the default value for `weights_only` will be flipped to `True`. This limits the functions that could be executed during unpickling. Arbitrary objects will no longer be allowed to be loaded via this mode unless they are explicitly allowlisted by the user via `torch.serialization.add_safe_globals`. We recommend you start setting `weights_only=True` for any use case where you don't have full control of the loaded file. Please open an issue on GitHub for any issues related to this experimental feature.\n",
      "  self.net.load_state_dict(torch.load(path, **kwargs))\n",
      "2024-11-21 07:15:27,920 - INFO - Performing clustering iteration 13 / 20\n",
      "2024-11-21 07:15:27,921 - INFO - CUDA environment set up and GPU memory cleared.\n",
      "2024-11-21 07:15:27,924 - INFO - Event column 'endpoint' updated with focus on event value 1.\n"
     ]
    },
    {
     "name": "stdout",
     "output_type": "stream",
     "text": [
      "46:\t[0s / 0s],\t\ttrain_loss: 4.7516,\tval_loss: 6.6632\n"
     ]
    },
    {
     "name": "stderr",
     "output_type": "stream",
     "text": [
      "2024-11-21 07:15:28,336 - INFO - Defined medoid for deepsurv model with 1207 clusters.\n",
      "/home/goma/miniconda3/envs/ai_dev/lib/python3.11/site-packages/torchtuples/base.py:669: FutureWarning: You are using `torch.load` with `weights_only=False` (the current default value), which uses the default pickle module implicitly. It is possible to construct malicious pickle data which will execute arbitrary code during unpickling (See https://github.com/pytorch/pytorch/blob/main/SECURITY.md#untrusted-models for more details). In a future release, the default value for `weights_only` will be flipped to `True`. This limits the functions that could be executed during unpickling. Arbitrary objects will no longer be allowed to be loaded via this mode unless they are explicitly allowlisted by the user via `torch.serialization.add_safe_globals`. We recommend you start setting `weights_only=True` for any use case where you don't have full control of the loaded file. Please open an issue on GitHub for any issues related to this experimental feature.\n",
      "  self.net.load_state_dict(torch.load(path, **kwargs))\n",
      "2024-11-21 07:15:28,601 - INFO - Performing clustering iteration 14 / 20\n",
      "2024-11-21 07:15:28,602 - INFO - CUDA environment set up and GPU memory cleared.\n",
      "2024-11-21 07:15:28,605 - INFO - Event column 'endpoint' updated with focus on event value 1.\n"
     ]
    },
    {
     "name": "stdout",
     "output_type": "stream",
     "text": [
      "47:\t[0s / 0s],\t\ttrain_loss: 4.7788,\tval_loss: 6.6325\n"
     ]
    },
    {
     "name": "stderr",
     "output_type": "stream",
     "text": [
      "2024-11-21 07:15:28,968 - INFO - Defined medoid for deepsurv model with 1207 clusters.\n",
      "/home/goma/miniconda3/envs/ai_dev/lib/python3.11/site-packages/torchtuples/base.py:669: FutureWarning: You are using `torch.load` with `weights_only=False` (the current default value), which uses the default pickle module implicitly. It is possible to construct malicious pickle data which will execute arbitrary code during unpickling (See https://github.com/pytorch/pytorch/blob/main/SECURITY.md#untrusted-models for more details). In a future release, the default value for `weights_only` will be flipped to `True`. This limits the functions that could be executed during unpickling. Arbitrary objects will no longer be allowed to be loaded via this mode unless they are explicitly allowlisted by the user via `torch.serialization.add_safe_globals`. We recommend you start setting `weights_only=True` for any use case where you don't have full control of the loaded file. Please open an issue on GitHub for any issues related to this experimental feature.\n",
      "  self.net.load_state_dict(torch.load(path, **kwargs))\n",
      "2024-11-21 07:15:29,290 - INFO - Performing clustering iteration 15 / 20\n",
      "2024-11-21 07:15:29,290 - INFO - CUDA environment set up and GPU memory cleared.\n",
      "2024-11-21 07:15:29,293 - INFO - Event column 'endpoint' updated with focus on event value 1.\n"
     ]
    },
    {
     "name": "stdout",
     "output_type": "stream",
     "text": [
      "48:\t[0s / 0s],\t\ttrain_loss: 4.7669,\tval_loss: 6.6485\n"
     ]
    },
    {
     "name": "stderr",
     "output_type": "stream",
     "text": [
      "2024-11-21 07:15:29,663 - INFO - Defined medoid for deepsurv model with 1207 clusters.\n",
      "/home/goma/miniconda3/envs/ai_dev/lib/python3.11/site-packages/torchtuples/base.py:669: FutureWarning: You are using `torch.load` with `weights_only=False` (the current default value), which uses the default pickle module implicitly. It is possible to construct malicious pickle data which will execute arbitrary code during unpickling (See https://github.com/pytorch/pytorch/blob/main/SECURITY.md#untrusted-models for more details). In a future release, the default value for `weights_only` will be flipped to `True`. This limits the functions that could be executed during unpickling. Arbitrary objects will no longer be allowed to be loaded via this mode unless they are explicitly allowlisted by the user via `torch.serialization.add_safe_globals`. We recommend you start setting `weights_only=True` for any use case where you don't have full control of the loaded file. Please open an issue on GitHub for any issues related to this experimental feature.\n",
      "  self.net.load_state_dict(torch.load(path, **kwargs))\n",
      "2024-11-21 07:15:29,946 - INFO - Performing clustering iteration 16 / 20\n",
      "2024-11-21 07:15:29,946 - INFO - CUDA environment set up and GPU memory cleared.\n",
      "2024-11-21 07:15:29,949 - INFO - Event column 'endpoint' updated with focus on event value 1.\n"
     ]
    },
    {
     "name": "stdout",
     "output_type": "stream",
     "text": [
      "49:\t[0s / 0s],\t\ttrain_loss: 4.7675,\tval_loss: 6.6691\n"
     ]
    },
    {
     "name": "stderr",
     "output_type": "stream",
     "text": [
      "2024-11-21 07:15:30,322 - INFO - Defined medoid for deepsurv model with 1207 clusters.\n",
      "/home/goma/miniconda3/envs/ai_dev/lib/python3.11/site-packages/torchtuples/base.py:669: FutureWarning: You are using `torch.load` with `weights_only=False` (the current default value), which uses the default pickle module implicitly. It is possible to construct malicious pickle data which will execute arbitrary code during unpickling (See https://github.com/pytorch/pytorch/blob/main/SECURITY.md#untrusted-models for more details). In a future release, the default value for `weights_only` will be flipped to `True`. This limits the functions that could be executed during unpickling. Arbitrary objects will no longer be allowed to be loaded via this mode unless they are explicitly allowlisted by the user via `torch.serialization.add_safe_globals`. We recommend you start setting `weights_only=True` for any use case where you don't have full control of the loaded file. Please open an issue on GitHub for any issues related to this experimental feature.\n",
      "  self.net.load_state_dict(torch.load(path, **kwargs))\n",
      "2024-11-21 07:15:30,607 - INFO - Performing clustering iteration 17 / 20\n",
      "2024-11-21 07:15:30,608 - INFO - CUDA environment set up and GPU memory cleared.\n",
      "2024-11-21 07:15:30,610 - INFO - Event column 'endpoint' updated with focus on event value 1.\n"
     ]
    },
    {
     "name": "stdout",
     "output_type": "stream",
     "text": [
      "50:\t[0s / 0s],\t\ttrain_loss: 4.7774,\tval_loss: 6.6255\n"
     ]
    },
    {
     "name": "stderr",
     "output_type": "stream",
     "text": [
      "2024-11-21 07:15:30,981 - INFO - Defined medoid for deepsurv model with 1207 clusters.\n",
      "/home/goma/miniconda3/envs/ai_dev/lib/python3.11/site-packages/torchtuples/base.py:669: FutureWarning: You are using `torch.load` with `weights_only=False` (the current default value), which uses the default pickle module implicitly. It is possible to construct malicious pickle data which will execute arbitrary code during unpickling (See https://github.com/pytorch/pytorch/blob/main/SECURITY.md#untrusted-models for more details). In a future release, the default value for `weights_only` will be flipped to `True`. This limits the functions that could be executed during unpickling. Arbitrary objects will no longer be allowed to be loaded via this mode unless they are explicitly allowlisted by the user via `torch.serialization.add_safe_globals`. We recommend you start setting `weights_only=True` for any use case where you don't have full control of the loaded file. Please open an issue on GitHub for any issues related to this experimental feature.\n",
      "  self.net.load_state_dict(torch.load(path, **kwargs))\n",
      "2024-11-21 07:15:31,266 - INFO - Performing clustering iteration 18 / 20\n",
      "2024-11-21 07:15:31,267 - INFO - CUDA environment set up and GPU memory cleared.\n",
      "2024-11-21 07:15:31,270 - INFO - Event column 'endpoint' updated with focus on event value 1.\n"
     ]
    },
    {
     "name": "stdout",
     "output_type": "stream",
     "text": [
      "51:\t[0s / 0s],\t\ttrain_loss: 4.7919,\tval_loss: 6.6365\n"
     ]
    },
    {
     "name": "stderr",
     "output_type": "stream",
     "text": [
      "2024-11-21 07:15:31,625 - INFO - Defined medoid for deepsurv model with 1207 clusters.\n",
      "/home/goma/miniconda3/envs/ai_dev/lib/python3.11/site-packages/torchtuples/base.py:669: FutureWarning: You are using `torch.load` with `weights_only=False` (the current default value), which uses the default pickle module implicitly. It is possible to construct malicious pickle data which will execute arbitrary code during unpickling (See https://github.com/pytorch/pytorch/blob/main/SECURITY.md#untrusted-models for more details). In a future release, the default value for `weights_only` will be flipped to `True`. This limits the functions that could be executed during unpickling. Arbitrary objects will no longer be allowed to be loaded via this mode unless they are explicitly allowlisted by the user via `torch.serialization.add_safe_globals`. We recommend you start setting `weights_only=True` for any use case where you don't have full control of the loaded file. Please open an issue on GitHub for any issues related to this experimental feature.\n",
      "  self.net.load_state_dict(torch.load(path, **kwargs))\n",
      "2024-11-21 07:15:31,896 - INFO - Performing clustering iteration 19 / 20\n",
      "2024-11-21 07:15:31,897 - INFO - CUDA environment set up and GPU memory cleared.\n",
      "2024-11-21 07:15:31,901 - INFO - Event column 'endpoint' updated with focus on event value 1.\n"
     ]
    },
    {
     "name": "stdout",
     "output_type": "stream",
     "text": [
      "52:\t[0s / 0s],\t\ttrain_loss: 4.7648,\tval_loss: 6.6145\n"
     ]
    },
    {
     "name": "stderr",
     "output_type": "stream",
     "text": [
      "2024-11-21 07:15:32,265 - INFO - Defined medoid for deepsurv model with 1207 clusters.\n",
      "/home/goma/miniconda3/envs/ai_dev/lib/python3.11/site-packages/torchtuples/base.py:669: FutureWarning: You are using `torch.load` with `weights_only=False` (the current default value), which uses the default pickle module implicitly. It is possible to construct malicious pickle data which will execute arbitrary code during unpickling (See https://github.com/pytorch/pytorch/blob/main/SECURITY.md#untrusted-models for more details). In a future release, the default value for `weights_only` will be flipped to `True`. This limits the functions that could be executed during unpickling. Arbitrary objects will no longer be allowed to be loaded via this mode unless they are explicitly allowlisted by the user via `torch.serialization.add_safe_globals`. We recommend you start setting `weights_only=True` for any use case where you don't have full control of the loaded file. Please open an issue on GitHub for any issues related to this experimental feature.\n",
      "  self.net.load_state_dict(torch.load(path, **kwargs))\n",
      "2024-11-21 07:15:32,550 - INFO - Performing clustering iteration 20 / 20\n",
      "2024-11-21 07:15:32,550 - INFO - CUDA environment set up and GPU memory cleared.\n",
      "2024-11-21 07:15:32,553 - INFO - Event column 'endpoint' updated with focus on event value 1.\n"
     ]
    },
    {
     "name": "stdout",
     "output_type": "stream",
     "text": [
      "53:\t[0s / 0s],\t\ttrain_loss: 4.7684,\tval_loss: 6.6113\n"
     ]
    },
    {
     "name": "stderr",
     "output_type": "stream",
     "text": [
      "2024-11-21 07:15:32,897 - INFO - Defined medoid for deepsurv model with 1207 clusters.\n",
      "/home/goma/miniconda3/envs/ai_dev/lib/python3.11/site-packages/torchtuples/base.py:669: FutureWarning: You are using `torch.load` with `weights_only=False` (the current default value), which uses the default pickle module implicitly. It is possible to construct malicious pickle data which will execute arbitrary code during unpickling (See https://github.com/pytorch/pytorch/blob/main/SECURITY.md#untrusted-models for more details). In a future release, the default value for `weights_only` will be flipped to `True`. This limits the functions that could be executed during unpickling. Arbitrary objects will no longer be allowed to be loaded via this mode unless they are explicitly allowlisted by the user via `torch.serialization.add_safe_globals`. We recommend you start setting `weights_only=True` for any use case where you don't have full control of the loaded file. Please open an issue on GitHub for any issues related to this experimental feature.\n",
      "  self.net.load_state_dict(torch.load(path, **kwargs))\n"
     ]
    },
    {
     "name": "stdout",
     "output_type": "stream",
     "text": [
      "54:\t[0s / 0s],\t\ttrain_loss: 4.7946,\tval_loss: 6.6120\n",
      "Model and baseline hazards saved to /mnt/d/PYDataScience/g3_regress/code/models/deepsurv_ann_clustering_1.pt and /mnt/d/PYDataScience/g3_regress/code/models/deepsurv_ann_clustering_1_hazard.pkl.\n",
      "Training and saving completed for all cross-validation splits.\n",
      "All models have been trained and saved successfully.\n"
     ]
    },
    {
     "name": "stderr",
     "output_type": "stream",
     "text": [
      "2024-11-21 07:15:34,308 - INFO - Event column 'endpoint' updated with focus on event value 1.\n",
      "2024-11-21 07:15:34,312 - INFO - Event column 'endpoint' updated with focus on event value 1.\n"
     ]
    },
    {
     "name": "stdout",
     "output_type": "stream",
     "text": [
      "Initiate training of deepsurv neural network\n",
      "model structure: ANN\n",
      "data balancing method: smoteenn\n"
     ]
    },
    {
     "name": "stderr",
     "output_type": "stream",
     "text": [
      "/home/goma/miniconda3/envs/ai_dev/lib/python3.11/site-packages/imblearn/over_sampling/_smote/base.py:370: FutureWarning: The parameter `n_jobs` has been deprecated in 0.10 and will be removed in 0.12. You can pass an nearest neighbors estimator where `n_jobs` is already set instead.\n",
      "  warnings.warn(\n",
      "2024-11-21 07:15:38,270 - INFO - Missing values imputed using IterativeImputer.\n",
      "2024-11-21 07:15:38,274 - INFO - Dataframe rebalanced with SMOTE and ENN.\n"
     ]
    },
    {
     "name": "stdout",
     "output_type": "stream",
     "text": [
      "0:\t[4s / 4s],\t\ttrain_loss: 3.6937,\tval_loss: 5.0549\n",
      "1:\t[4s / 8s],\t\ttrain_loss: 3.6709,\tval_loss: 5.0572\n",
      "2:\t[7s / 16s],\t\ttrain_loss: 3.6393,\tval_loss: 5.0221\n",
      "3:\t[4s / 20s],\t\ttrain_loss: 3.6521,\tval_loss: 5.0700\n",
      "4:\t[4s / 24s],\t\ttrain_loss: 3.6409,\tval_loss: 5.0327\n",
      "5:\t[4s / 28s],\t\ttrain_loss: 3.6310,\tval_loss: 5.0508\n",
      "6:\t[4s / 32s],\t\ttrain_loss: 3.6230,\tval_loss: 5.0177\n",
      "7:\t[4s / 37s],\t\ttrain_loss: 3.6388,\tval_loss: 5.1196\n",
      "8:\t[4s / 41s],\t\ttrain_loss: 3.6336,\tval_loss: 5.1525\n",
      "9:\t[4s / 45s],\t\ttrain_loss: 3.6276,\tval_loss: 5.0265\n",
      "10:\t[7s / 53s],\t\ttrain_loss: 3.6211,\tval_loss: 5.0507\n",
      "11:\t[4s / 57s],\t\ttrain_loss: 3.6150,\tval_loss: 5.0887\n",
      "12:\t[4s / 1m:1s],\t\ttrain_loss: 3.6100,\tval_loss: 5.0697\n",
      "13:\t[4s / 1m:5s],\t\ttrain_loss: 3.6051,\tval_loss: 5.0419\n",
      "14:\t[4s / 1m:9s],\t\ttrain_loss: 3.6046,\tval_loss: 5.0584\n",
      "15:\t[4s / 1m:13s],\t\ttrain_loss: 3.6214,\tval_loss: 5.0595\n"
     ]
    },
    {
     "name": "stderr",
     "output_type": "stream",
     "text": [
      "/home/goma/miniconda3/envs/ai_dev/lib/python3.11/site-packages/torchtuples/base.py:669: FutureWarning: You are using `torch.load` with `weights_only=False` (the current default value), which uses the default pickle module implicitly. It is possible to construct malicious pickle data which will execute arbitrary code during unpickling (See https://github.com/pytorch/pytorch/blob/main/SECURITY.md#untrusted-models for more details). In a future release, the default value for `weights_only` will be flipped to `True`. This limits the functions that could be executed during unpickling. Arbitrary objects will no longer be allowed to be loaded via this mode unless they are explicitly allowlisted by the user via `torch.serialization.add_safe_globals`. We recommend you start setting `weights_only=True` for any use case where you don't have full control of the loaded file. Please open an issue on GitHub for any issues related to this experimental feature.\n",
      "  self.net.load_state_dict(torch.load(path, **kwargs))\n"
     ]
    },
    {
     "name": "stdout",
     "output_type": "stream",
     "text": [
      "Model and baseline hazards saved to /mnt/d/PYDataScience/g3_regress/code/models/deepsurv_ann_smoteenn_1.pt and /mnt/d/PYDataScience/g3_regress/code/models/deepsurv_ann_smoteenn_1_hazard.pkl.\n",
      "Training and saving completed for all cross-validation splits.\n",
      "All models have been trained and saved successfully.\n"
     ]
    },
    {
     "name": "stderr",
     "output_type": "stream",
     "text": [
      "2024-11-21 07:16:53,571 - INFO - Event column 'endpoint' updated with focus on event value 1.\n",
      "2024-11-21 07:16:53,577 - INFO - Event column 'endpoint' updated with focus on event value 1.\n"
     ]
    },
    {
     "name": "stdout",
     "output_type": "stream",
     "text": [
      "Initiate training of deepsurv neural network\n",
      "model structure: ANN\n",
      "data balancing method: smotetomek\n"
     ]
    },
    {
     "name": "stderr",
     "output_type": "stream",
     "text": [
      "/home/goma/miniconda3/envs/ai_dev/lib/python3.11/site-packages/imblearn/over_sampling/_smote/base.py:370: FutureWarning: The parameter `n_jobs` has been deprecated in 0.10 and will be removed in 0.12. You can pass an nearest neighbors estimator where `n_jobs` is already set instead.\n",
      "  warnings.warn(\n",
      "2024-11-21 07:16:57,472 - INFO - Missing values imputed using IterativeImputer.\n",
      "2024-11-21 07:16:57,477 - INFO - Dataframe rebalanced with SMOTE and Tomek.\n"
     ]
    },
    {
     "name": "stdout",
     "output_type": "stream",
     "text": [
      "0:\t[7s / 7s],\t\n",
      "1:\t[4s / 12s],\t\n",
      "2:\t[4s / 16s],\t\n",
      "3:\t[4s / 21s],\t\n",
      "4:\t[4s / 25s],\t\n",
      "5:\t[4s / 29s],\t\n",
      "6:\t[4s / 34s],\t\n",
      "7:\t[4s / 38s],\t\n",
      "8:\t[7s / 46s],\t\n",
      "9:\t[4s / 50s],\t\n"
     ]
    },
    {
     "name": "stderr",
     "output_type": "stream",
     "text": [
      "/home/goma/miniconda3/envs/ai_dev/lib/python3.11/site-packages/torchtuples/base.py:669: FutureWarning: You are using `torch.load` with `weights_only=False` (the current default value), which uses the default pickle module implicitly. It is possible to construct malicious pickle data which will execute arbitrary code during unpickling (See https://github.com/pytorch/pytorch/blob/main/SECURITY.md#untrusted-models for more details). In a future release, the default value for `weights_only` will be flipped to `True`. This limits the functions that could be executed during unpickling. Arbitrary objects will no longer be allowed to be loaded via this mode unless they are explicitly allowlisted by the user via `torch.serialization.add_safe_globals`. We recommend you start setting `weights_only=True` for any use case where you don't have full control of the loaded file. Please open an issue on GitHub for any issues related to this experimental feature.\n",
      "  self.net.load_state_dict(torch.load(path, **kwargs))\n"
     ]
    },
    {
     "name": "stdout",
     "output_type": "stream",
     "text": [
      "Model and baseline hazards saved to /mnt/d/PYDataScience/g3_regress/code/models/deepsurv_ann_smotetomek_1.pt and /mnt/d/PYDataScience/g3_regress/code/models/deepsurv_ann_smotetomek_1_hazard.pkl.\n",
      "Training and saving completed for all cross-validation splits.\n",
      "All models have been trained and saved successfully.\n"
     ]
    },
    {
     "name": "stderr",
     "output_type": "stream",
     "text": [
      "2024-11-21 07:17:49,121 - INFO - Event column 'endpoint' updated with focus on event value 2.\n",
      "2024-11-21 07:17:49,125 - INFO - Event column 'endpoint' updated with focus on event value 2.\n",
      "2024-11-21 07:17:49,131 - INFO - Performing clustering iteration 1 / 20\n",
      "2024-11-21 07:17:49,132 - INFO - CUDA environment set up and GPU memory cleared.\n",
      "2024-11-21 07:17:49,135 - INFO - Event column 'endpoint' updated with focus on event value 1.\n"
     ]
    },
    {
     "name": "stdout",
     "output_type": "stream",
     "text": [
      "Initiate training of deepsurv neural network\n",
      "model structure: ANN\n",
      "data balancing method: clustering\n"
     ]
    },
    {
     "name": "stderr",
     "output_type": "stream",
     "text": [
      "2024-11-21 07:17:49,725 - INFO - Defined medoid for deepsurv model with 3725 clusters.\n"
     ]
    },
    {
     "name": "stdout",
     "output_type": "stream",
     "text": [
      "0:\t[0s / 0s],\t\ttrain_loss: 4.8491,\tval_loss: 7.7885\n",
      "1:\t[0s / 0s],\t\ttrain_loss: 4.7782,\tval_loss: 7.7687\n",
      "2:\t[0s / 0s],\t\ttrain_loss: 4.7601,\tval_loss: 7.7889\n",
      "3:\t[0s / 0s],\t\ttrain_loss: 4.7745,\tval_loss: 7.7888\n",
      "4:\t[0s / 0s],\t\ttrain_loss: 4.7578,\tval_loss: 7.7798\n",
      "5:\t[0s / 0s],\t\ttrain_loss: 4.7615,\tval_loss: 7.7837\n",
      "6:\t[0s / 0s],\t\ttrain_loss: 4.7549,\tval_loss: 7.7865\n",
      "7:\t[0s / 0s],\t\ttrain_loss: 4.7594,\tval_loss: 7.7859\n",
      "8:\t[0s / 0s],\t\ttrain_loss: 4.7591,\tval_loss: 7.7944\n",
      "9:\t[0s / 0s],\t\ttrain_loss: 4.7502,\tval_loss: 7.7828\n",
      "10:\t[0s / 0s],\t\ttrain_loss: 4.7515,\tval_loss: 7.7940\n"
     ]
    },
    {
     "name": "stderr",
     "output_type": "stream",
     "text": [
      "/home/goma/miniconda3/envs/ai_dev/lib/python3.11/site-packages/torchtuples/base.py:669: FutureWarning: You are using `torch.load` with `weights_only=False` (the current default value), which uses the default pickle module implicitly. It is possible to construct malicious pickle data which will execute arbitrary code during unpickling (See https://github.com/pytorch/pytorch/blob/main/SECURITY.md#untrusted-models for more details). In a future release, the default value for `weights_only` will be flipped to `True`. This limits the functions that could be executed during unpickling. Arbitrary objects will no longer be allowed to be loaded via this mode unless they are explicitly allowlisted by the user via `torch.serialization.add_safe_globals`. We recommend you start setting `weights_only=True` for any use case where you don't have full control of the loaded file. Please open an issue on GitHub for any issues related to this experimental feature.\n",
      "  self.net.load_state_dict(torch.load(path, **kwargs))\n",
      "2024-11-21 07:17:50,948 - INFO - Performing clustering iteration 2 / 20\n",
      "2024-11-21 07:17:50,949 - INFO - CUDA environment set up and GPU memory cleared.\n",
      "2024-11-21 07:17:50,952 - INFO - Event column 'endpoint' updated with focus on event value 1.\n"
     ]
    },
    {
     "name": "stdout",
     "output_type": "stream",
     "text": [
      "11:\t[0s / 1s],\t\ttrain_loss: 4.7466,\tval_loss: 7.7883\n"
     ]
    },
    {
     "name": "stderr",
     "output_type": "stream",
     "text": [
      "2024-11-21 07:17:51,328 - INFO - Defined medoid for deepsurv model with 3725 clusters.\n",
      "/home/goma/miniconda3/envs/ai_dev/lib/python3.11/site-packages/torchtuples/base.py:669: FutureWarning: You are using `torch.load` with `weights_only=False` (the current default value), which uses the default pickle module implicitly. It is possible to construct malicious pickle data which will execute arbitrary code during unpickling (See https://github.com/pytorch/pytorch/blob/main/SECURITY.md#untrusted-models for more details). In a future release, the default value for `weights_only` will be flipped to `True`. This limits the functions that could be executed during unpickling. Arbitrary objects will no longer be allowed to be loaded via this mode unless they are explicitly allowlisted by the user via `torch.serialization.add_safe_globals`. We recommend you start setting `weights_only=True` for any use case where you don't have full control of the loaded file. Please open an issue on GitHub for any issues related to this experimental feature.\n",
      "  self.net.load_state_dict(torch.load(path, **kwargs))\n",
      "2024-11-21 07:17:51,623 - INFO - Performing clustering iteration 3 / 20\n",
      "2024-11-21 07:17:51,623 - INFO - CUDA environment set up and GPU memory cleared.\n",
      "2024-11-21 07:17:51,626 - INFO - Event column 'endpoint' updated with focus on event value 1.\n"
     ]
    },
    {
     "name": "stdout",
     "output_type": "stream",
     "text": [
      "12:\t[0s / 0s],\t\ttrain_loss: 4.8200,\tval_loss: 7.7737\n"
     ]
    },
    {
     "name": "stderr",
     "output_type": "stream",
     "text": [
      "2024-11-21 07:17:51,997 - INFO - Defined medoid for deepsurv model with 3725 clusters.\n",
      "/home/goma/miniconda3/envs/ai_dev/lib/python3.11/site-packages/torchtuples/base.py:669: FutureWarning: You are using `torch.load` with `weights_only=False` (the current default value), which uses the default pickle module implicitly. It is possible to construct malicious pickle data which will execute arbitrary code during unpickling (See https://github.com/pytorch/pytorch/blob/main/SECURITY.md#untrusted-models for more details). In a future release, the default value for `weights_only` will be flipped to `True`. This limits the functions that could be executed during unpickling. Arbitrary objects will no longer be allowed to be loaded via this mode unless they are explicitly allowlisted by the user via `torch.serialization.add_safe_globals`. We recommend you start setting `weights_only=True` for any use case where you don't have full control of the loaded file. Please open an issue on GitHub for any issues related to this experimental feature.\n",
      "  self.net.load_state_dict(torch.load(path, **kwargs))\n",
      "2024-11-21 07:17:52,276 - INFO - Performing clustering iteration 4 / 20\n",
      "2024-11-21 07:17:52,276 - INFO - CUDA environment set up and GPU memory cleared.\n",
      "2024-11-21 07:17:52,280 - INFO - Event column 'endpoint' updated with focus on event value 1.\n"
     ]
    },
    {
     "name": "stdout",
     "output_type": "stream",
     "text": [
      "13:\t[0s / 0s],\t\ttrain_loss: 4.8953,\tval_loss: 7.7692\n"
     ]
    },
    {
     "name": "stderr",
     "output_type": "stream",
     "text": [
      "2024-11-21 07:17:52,635 - INFO - Defined medoid for deepsurv model with 3725 clusters.\n"
     ]
    },
    {
     "name": "stdout",
     "output_type": "stream",
     "text": [
      "14:\t[0s / 0s],\t\ttrain_loss: 5.0552,\tval_loss: 7.7432\n",
      "15:\t[0s / 0s],\t\ttrain_loss: 5.0348,\tval_loss: 7.7373\n",
      "16:\t[0s / 0s],\t\ttrain_loss: 5.0344,\tval_loss: 7.7413\n",
      "17:\t[0s / 0s],\t\ttrain_loss: 5.0290,\tval_loss: 7.7437\n",
      "18:\t[0s / 0s],\t\ttrain_loss: 5.0251,\tval_loss: 7.7457\n",
      "19:\t[0s / 0s],\t\ttrain_loss: 5.0157,\tval_loss: 7.7448\n",
      "20:\t[0s / 0s],\t\ttrain_loss: 5.0263,\tval_loss: 7.7410\n",
      "21:\t[0s / 0s],\t\ttrain_loss: 5.0199,\tval_loss: 7.7420\n",
      "22:\t[0s / 0s],\t\ttrain_loss: 5.0201,\tval_loss: 7.7426\n",
      "23:\t[0s / 0s],\t\ttrain_loss: 5.0199,\tval_loss: 7.7430\n",
      "24:\t[0s / 0s],\t\ttrain_loss: 5.0217,\tval_loss: 7.7435\n",
      "25:\t[0s / 0s],\t\ttrain_loss: 5.0140,\tval_loss: 7.7435\n"
     ]
    },
    {
     "name": "stderr",
     "output_type": "stream",
     "text": [
      "/home/goma/miniconda3/envs/ai_dev/lib/python3.11/site-packages/torchtuples/base.py:669: FutureWarning: You are using `torch.load` with `weights_only=False` (the current default value), which uses the default pickle module implicitly. It is possible to construct malicious pickle data which will execute arbitrary code during unpickling (See https://github.com/pytorch/pytorch/blob/main/SECURITY.md#untrusted-models for more details). In a future release, the default value for `weights_only` will be flipped to `True`. This limits the functions that could be executed during unpickling. Arbitrary objects will no longer be allowed to be loaded via this mode unless they are explicitly allowlisted by the user via `torch.serialization.add_safe_globals`. We recommend you start setting `weights_only=True` for any use case where you don't have full control of the loaded file. Please open an issue on GitHub for any issues related to this experimental feature.\n",
      "  self.net.load_state_dict(torch.load(path, **kwargs))\n",
      "2024-11-21 07:17:53,790 - INFO - Performing clustering iteration 5 / 20\n",
      "2024-11-21 07:17:53,791 - INFO - CUDA environment set up and GPU memory cleared.\n",
      "2024-11-21 07:17:53,795 - INFO - Event column 'endpoint' updated with focus on event value 1.\n",
      "2024-11-21 07:17:54,156 - INFO - Defined medoid for deepsurv model with 3725 clusters.\n",
      "/home/goma/miniconda3/envs/ai_dev/lib/python3.11/site-packages/torchtuples/base.py:669: FutureWarning: You are using `torch.load` with `weights_only=False` (the current default value), which uses the default pickle module implicitly. It is possible to construct malicious pickle data which will execute arbitrary code during unpickling (See https://github.com/pytorch/pytorch/blob/main/SECURITY.md#untrusted-models for more details). In a future release, the default value for `weights_only` will be flipped to `True`. This limits the functions that could be executed during unpickling. Arbitrary objects will no longer be allowed to be loaded via this mode unless they are explicitly allowlisted by the user via `torch.serialization.add_safe_globals`. We recommend you start setting `weights_only=True` for any use case where you don't have full control of the loaded file. Please open an issue on GitHub for any issues related to this experimental feature.\n",
      "  self.net.load_state_dict(torch.load(path, **kwargs))\n",
      "2024-11-21 07:17:54,423 - INFO - Performing clustering iteration 6 / 20\n",
      "2024-11-21 07:17:54,424 - INFO - CUDA environment set up and GPU memory cleared.\n",
      "2024-11-21 07:17:54,427 - INFO - Event column 'endpoint' updated with focus on event value 1.\n"
     ]
    },
    {
     "name": "stdout",
     "output_type": "stream",
     "text": [
      "26:\t[0s / 0s],\t\ttrain_loss: 5.0522,\tval_loss: 7.7378\n"
     ]
    },
    {
     "name": "stderr",
     "output_type": "stream",
     "text": [
      "2024-11-21 07:17:54,764 - INFO - Defined medoid for deepsurv model with 3725 clusters.\n",
      "/home/goma/miniconda3/envs/ai_dev/lib/python3.11/site-packages/torchtuples/base.py:669: FutureWarning: You are using `torch.load` with `weights_only=False` (the current default value), which uses the default pickle module implicitly. It is possible to construct malicious pickle data which will execute arbitrary code during unpickling (See https://github.com/pytorch/pytorch/blob/main/SECURITY.md#untrusted-models for more details). In a future release, the default value for `weights_only` will be flipped to `True`. This limits the functions that could be executed during unpickling. Arbitrary objects will no longer be allowed to be loaded via this mode unless they are explicitly allowlisted by the user via `torch.serialization.add_safe_globals`. We recommend you start setting `weights_only=True` for any use case where you don't have full control of the loaded file. Please open an issue on GitHub for any issues related to this experimental feature.\n",
      "  self.net.load_state_dict(torch.load(path, **kwargs))\n",
      "2024-11-21 07:17:55,026 - INFO - Performing clustering iteration 7 / 20\n",
      "2024-11-21 07:17:55,026 - INFO - CUDA environment set up and GPU memory cleared.\n",
      "2024-11-21 07:17:55,030 - INFO - Event column 'endpoint' updated with focus on event value 1.\n"
     ]
    },
    {
     "name": "stdout",
     "output_type": "stream",
     "text": [
      "27:\t[0s / 0s],\t\ttrain_loss: 5.0547,\tval_loss: 7.7385\n"
     ]
    },
    {
     "name": "stderr",
     "output_type": "stream",
     "text": [
      "2024-11-21 07:17:55,376 - INFO - Defined medoid for deepsurv model with 3725 clusters.\n",
      "/home/goma/miniconda3/envs/ai_dev/lib/python3.11/site-packages/torchtuples/base.py:669: FutureWarning: You are using `torch.load` with `weights_only=False` (the current default value), which uses the default pickle module implicitly. It is possible to construct malicious pickle data which will execute arbitrary code during unpickling (See https://github.com/pytorch/pytorch/blob/main/SECURITY.md#untrusted-models for more details). In a future release, the default value for `weights_only` will be flipped to `True`. This limits the functions that could be executed during unpickling. Arbitrary objects will no longer be allowed to be loaded via this mode unless they are explicitly allowlisted by the user via `torch.serialization.add_safe_globals`. We recommend you start setting `weights_only=True` for any use case where you don't have full control of the loaded file. Please open an issue on GitHub for any issues related to this experimental feature.\n",
      "  self.net.load_state_dict(torch.load(path, **kwargs))\n",
      "2024-11-21 07:17:55,640 - INFO - Performing clustering iteration 8 / 20\n",
      "2024-11-21 07:17:55,641 - INFO - CUDA environment set up and GPU memory cleared.\n",
      "2024-11-21 07:17:55,644 - INFO - Event column 'endpoint' updated with focus on event value 1.\n"
     ]
    },
    {
     "name": "stdout",
     "output_type": "stream",
     "text": [
      "28:\t[0s / 0s],\t\ttrain_loss: 5.0684,\tval_loss: 7.7389\n"
     ]
    },
    {
     "name": "stderr",
     "output_type": "stream",
     "text": [
      "2024-11-21 07:17:55,968 - INFO - Defined medoid for deepsurv model with 3725 clusters.\n",
      "/home/goma/miniconda3/envs/ai_dev/lib/python3.11/site-packages/torchtuples/base.py:669: FutureWarning: You are using `torch.load` with `weights_only=False` (the current default value), which uses the default pickle module implicitly. It is possible to construct malicious pickle data which will execute arbitrary code during unpickling (See https://github.com/pytorch/pytorch/blob/main/SECURITY.md#untrusted-models for more details). In a future release, the default value for `weights_only` will be flipped to `True`. This limits the functions that could be executed during unpickling. Arbitrary objects will no longer be allowed to be loaded via this mode unless they are explicitly allowlisted by the user via `torch.serialization.add_safe_globals`. We recommend you start setting `weights_only=True` for any use case where you don't have full control of the loaded file. Please open an issue on GitHub for any issues related to this experimental feature.\n",
      "  self.net.load_state_dict(torch.load(path, **kwargs))\n",
      "2024-11-21 07:17:56,245 - INFO - Performing clustering iteration 9 / 20\n",
      "2024-11-21 07:17:56,245 - INFO - CUDA environment set up and GPU memory cleared.\n",
      "2024-11-21 07:17:56,248 - INFO - Event column 'endpoint' updated with focus on event value 1.\n"
     ]
    },
    {
     "name": "stdout",
     "output_type": "stream",
     "text": [
      "29:\t[0s / 0s],\t\ttrain_loss: 5.0666,\tval_loss: 7.7377\n"
     ]
    },
    {
     "name": "stderr",
     "output_type": "stream",
     "text": [
      "2024-11-21 07:17:56,568 - INFO - Defined medoid for deepsurv model with 3725 clusters.\n",
      "/home/goma/miniconda3/envs/ai_dev/lib/python3.11/site-packages/torchtuples/base.py:669: FutureWarning: You are using `torch.load` with `weights_only=False` (the current default value), which uses the default pickle module implicitly. It is possible to construct malicious pickle data which will execute arbitrary code during unpickling (See https://github.com/pytorch/pytorch/blob/main/SECURITY.md#untrusted-models for more details). In a future release, the default value for `weights_only` will be flipped to `True`. This limits the functions that could be executed during unpickling. Arbitrary objects will no longer be allowed to be loaded via this mode unless they are explicitly allowlisted by the user via `torch.serialization.add_safe_globals`. We recommend you start setting `weights_only=True` for any use case where you don't have full control of the loaded file. Please open an issue on GitHub for any issues related to this experimental feature.\n",
      "  self.net.load_state_dict(torch.load(path, **kwargs))\n",
      "2024-11-21 07:17:56,847 - INFO - Performing clustering iteration 10 / 20\n",
      "2024-11-21 07:17:56,847 - INFO - CUDA environment set up and GPU memory cleared.\n",
      "2024-11-21 07:17:56,851 - INFO - Event column 'endpoint' updated with focus on event value 1.\n"
     ]
    },
    {
     "name": "stdout",
     "output_type": "stream",
     "text": [
      "30:\t[0s / 0s],\t\ttrain_loss: 5.0814,\tval_loss: 7.7513\n"
     ]
    },
    {
     "name": "stderr",
     "output_type": "stream",
     "text": [
      "2024-11-21 07:17:57,154 - INFO - Defined medoid for deepsurv model with 3725 clusters.\n",
      "/home/goma/miniconda3/envs/ai_dev/lib/python3.11/site-packages/torchtuples/base.py:669: FutureWarning: You are using `torch.load` with `weights_only=False` (the current default value), which uses the default pickle module implicitly. It is possible to construct malicious pickle data which will execute arbitrary code during unpickling (See https://github.com/pytorch/pytorch/blob/main/SECURITY.md#untrusted-models for more details). In a future release, the default value for `weights_only` will be flipped to `True`. This limits the functions that could be executed during unpickling. Arbitrary objects will no longer be allowed to be loaded via this mode unless they are explicitly allowlisted by the user via `torch.serialization.add_safe_globals`. We recommend you start setting `weights_only=True` for any use case where you don't have full control of the loaded file. Please open an issue on GitHub for any issues related to this experimental feature.\n",
      "  self.net.load_state_dict(torch.load(path, **kwargs))\n",
      "2024-11-21 07:17:57,423 - INFO - Performing clustering iteration 11 / 20\n",
      "2024-11-21 07:17:57,424 - INFO - CUDA environment set up and GPU memory cleared.\n",
      "2024-11-21 07:17:57,426 - INFO - Event column 'endpoint' updated with focus on event value 1.\n"
     ]
    },
    {
     "name": "stdout",
     "output_type": "stream",
     "text": [
      "31:\t[0s / 0s],\t\ttrain_loss: 5.0834,\tval_loss: 7.7463\n"
     ]
    },
    {
     "name": "stderr",
     "output_type": "stream",
     "text": [
      "2024-11-21 07:17:57,732 - INFO - Defined medoid for deepsurv model with 3725 clusters.\n",
      "/home/goma/miniconda3/envs/ai_dev/lib/python3.11/site-packages/torchtuples/base.py:669: FutureWarning: You are using `torch.load` with `weights_only=False` (the current default value), which uses the default pickle module implicitly. It is possible to construct malicious pickle data which will execute arbitrary code during unpickling (See https://github.com/pytorch/pytorch/blob/main/SECURITY.md#untrusted-models for more details). In a future release, the default value for `weights_only` will be flipped to `True`. This limits the functions that could be executed during unpickling. Arbitrary objects will no longer be allowed to be loaded via this mode unless they are explicitly allowlisted by the user via `torch.serialization.add_safe_globals`. We recommend you start setting `weights_only=True` for any use case where you don't have full control of the loaded file. Please open an issue on GitHub for any issues related to this experimental feature.\n",
      "  self.net.load_state_dict(torch.load(path, **kwargs))\n",
      "2024-11-21 07:17:58,039 - INFO - Performing clustering iteration 12 / 20\n",
      "2024-11-21 07:17:58,040 - INFO - CUDA environment set up and GPU memory cleared.\n",
      "2024-11-21 07:17:58,042 - INFO - Event column 'endpoint' updated with focus on event value 1.\n"
     ]
    },
    {
     "name": "stdout",
     "output_type": "stream",
     "text": [
      "32:\t[0s / 0s],\t\ttrain_loss: 5.0866,\tval_loss: 7.7461\n"
     ]
    },
    {
     "name": "stderr",
     "output_type": "stream",
     "text": [
      "2024-11-21 07:17:58,332 - INFO - Defined medoid for deepsurv model with 3725 clusters.\n",
      "/home/goma/miniconda3/envs/ai_dev/lib/python3.11/site-packages/torchtuples/base.py:669: FutureWarning: You are using `torch.load` with `weights_only=False` (the current default value), which uses the default pickle module implicitly. It is possible to construct malicious pickle data which will execute arbitrary code during unpickling (See https://github.com/pytorch/pytorch/blob/main/SECURITY.md#untrusted-models for more details). In a future release, the default value for `weights_only` will be flipped to `True`. This limits the functions that could be executed during unpickling. Arbitrary objects will no longer be allowed to be loaded via this mode unless they are explicitly allowlisted by the user via `torch.serialization.add_safe_globals`. We recommend you start setting `weights_only=True` for any use case where you don't have full control of the loaded file. Please open an issue on GitHub for any issues related to this experimental feature.\n",
      "  self.net.load_state_dict(torch.load(path, **kwargs))\n",
      "2024-11-21 07:17:58,603 - INFO - Performing clustering iteration 13 / 20\n",
      "2024-11-21 07:17:58,604 - INFO - CUDA environment set up and GPU memory cleared.\n",
      "2024-11-21 07:17:58,606 - INFO - Event column 'endpoint' updated with focus on event value 1.\n"
     ]
    },
    {
     "name": "stdout",
     "output_type": "stream",
     "text": [
      "33:\t[0s / 0s],\t\ttrain_loss: 5.0876,\tval_loss: 7.7497\n"
     ]
    },
    {
     "name": "stderr",
     "output_type": "stream",
     "text": [
      "2024-11-21 07:17:58,900 - INFO - Defined medoid for deepsurv model with 3725 clusters.\n",
      "/home/goma/miniconda3/envs/ai_dev/lib/python3.11/site-packages/torchtuples/base.py:669: FutureWarning: You are using `torch.load` with `weights_only=False` (the current default value), which uses the default pickle module implicitly. It is possible to construct malicious pickle data which will execute arbitrary code during unpickling (See https://github.com/pytorch/pytorch/blob/main/SECURITY.md#untrusted-models for more details). In a future release, the default value for `weights_only` will be flipped to `True`. This limits the functions that could be executed during unpickling. Arbitrary objects will no longer be allowed to be loaded via this mode unless they are explicitly allowlisted by the user via `torch.serialization.add_safe_globals`. We recommend you start setting `weights_only=True` for any use case where you don't have full control of the loaded file. Please open an issue on GitHub for any issues related to this experimental feature.\n",
      "  self.net.load_state_dict(torch.load(path, **kwargs))\n",
      "2024-11-21 07:17:59,162 - INFO - Performing clustering iteration 14 / 20\n",
      "2024-11-21 07:17:59,163 - INFO - CUDA environment set up and GPU memory cleared.\n",
      "2024-11-21 07:17:59,166 - INFO - Event column 'endpoint' updated with focus on event value 1.\n"
     ]
    },
    {
     "name": "stdout",
     "output_type": "stream",
     "text": [
      "34:\t[0s / 0s],\t\ttrain_loss: 5.1140,\tval_loss: 7.7488\n"
     ]
    },
    {
     "name": "stderr",
     "output_type": "stream",
     "text": [
      "2024-11-21 07:17:59,443 - INFO - Defined medoid for deepsurv model with 3725 clusters.\n",
      "/home/goma/miniconda3/envs/ai_dev/lib/python3.11/site-packages/torchtuples/base.py:669: FutureWarning: You are using `torch.load` with `weights_only=False` (the current default value), which uses the default pickle module implicitly. It is possible to construct malicious pickle data which will execute arbitrary code during unpickling (See https://github.com/pytorch/pytorch/blob/main/SECURITY.md#untrusted-models for more details). In a future release, the default value for `weights_only` will be flipped to `True`. This limits the functions that could be executed during unpickling. Arbitrary objects will no longer be allowed to be loaded via this mode unless they are explicitly allowlisted by the user via `torch.serialization.add_safe_globals`. We recommend you start setting `weights_only=True` for any use case where you don't have full control of the loaded file. Please open an issue on GitHub for any issues related to this experimental feature.\n",
      "  self.net.load_state_dict(torch.load(path, **kwargs))\n",
      "2024-11-21 07:17:59,724 - INFO - Performing clustering iteration 15 / 20\n",
      "2024-11-21 07:17:59,724 - INFO - CUDA environment set up and GPU memory cleared.\n",
      "2024-11-21 07:17:59,727 - INFO - Event column 'endpoint' updated with focus on event value 1.\n"
     ]
    },
    {
     "name": "stdout",
     "output_type": "stream",
     "text": [
      "35:\t[0s / 0s],\t\ttrain_loss: 5.1067,\tval_loss: 7.7484\n"
     ]
    },
    {
     "name": "stderr",
     "output_type": "stream",
     "text": [
      "2024-11-21 07:18:00,001 - INFO - Defined medoid for deepsurv model with 3725 clusters.\n",
      "/home/goma/miniconda3/envs/ai_dev/lib/python3.11/site-packages/torchtuples/base.py:669: FutureWarning: You are using `torch.load` with `weights_only=False` (the current default value), which uses the default pickle module implicitly. It is possible to construct malicious pickle data which will execute arbitrary code during unpickling (See https://github.com/pytorch/pytorch/blob/main/SECURITY.md#untrusted-models for more details). In a future release, the default value for `weights_only` will be flipped to `True`. This limits the functions that could be executed during unpickling. Arbitrary objects will no longer be allowed to be loaded via this mode unless they are explicitly allowlisted by the user via `torch.serialization.add_safe_globals`. We recommend you start setting `weights_only=True` for any use case where you don't have full control of the loaded file. Please open an issue on GitHub for any issues related to this experimental feature.\n",
      "  self.net.load_state_dict(torch.load(path, **kwargs))\n",
      "2024-11-21 07:18:00,266 - INFO - Performing clustering iteration 16 / 20\n",
      "2024-11-21 07:18:00,267 - INFO - CUDA environment set up and GPU memory cleared.\n",
      "2024-11-21 07:18:00,271 - INFO - Event column 'endpoint' updated with focus on event value 1.\n"
     ]
    },
    {
     "name": "stdout",
     "output_type": "stream",
     "text": [
      "36:\t[0s / 0s],\t\ttrain_loss: 5.0861,\tval_loss: 7.7503\n"
     ]
    },
    {
     "name": "stderr",
     "output_type": "stream",
     "text": [
      "2024-11-21 07:18:00,527 - INFO - Defined medoid for deepsurv model with 3725 clusters.\n",
      "/home/goma/miniconda3/envs/ai_dev/lib/python3.11/site-packages/torchtuples/base.py:669: FutureWarning: You are using `torch.load` with `weights_only=False` (the current default value), which uses the default pickle module implicitly. It is possible to construct malicious pickle data which will execute arbitrary code during unpickling (See https://github.com/pytorch/pytorch/blob/main/SECURITY.md#untrusted-models for more details). In a future release, the default value for `weights_only` will be flipped to `True`. This limits the functions that could be executed during unpickling. Arbitrary objects will no longer be allowed to be loaded via this mode unless they are explicitly allowlisted by the user via `torch.serialization.add_safe_globals`. We recommend you start setting `weights_only=True` for any use case where you don't have full control of the loaded file. Please open an issue on GitHub for any issues related to this experimental feature.\n",
      "  self.net.load_state_dict(torch.load(path, **kwargs))\n",
      "2024-11-21 07:18:00,798 - INFO - Performing clustering iteration 17 / 20\n",
      "2024-11-21 07:18:00,799 - INFO - CUDA environment set up and GPU memory cleared.\n",
      "2024-11-21 07:18:00,801 - INFO - Event column 'endpoint' updated with focus on event value 1.\n"
     ]
    },
    {
     "name": "stdout",
     "output_type": "stream",
     "text": [
      "37:\t[0s / 0s],\t\ttrain_loss: 5.1113,\tval_loss: 7.7491\n"
     ]
    },
    {
     "name": "stderr",
     "output_type": "stream",
     "text": [
      "2024-11-21 07:18:01,069 - INFO - Defined medoid for deepsurv model with 3725 clusters.\n",
      "/home/goma/miniconda3/envs/ai_dev/lib/python3.11/site-packages/torchtuples/base.py:669: FutureWarning: You are using `torch.load` with `weights_only=False` (the current default value), which uses the default pickle module implicitly. It is possible to construct malicious pickle data which will execute arbitrary code during unpickling (See https://github.com/pytorch/pytorch/blob/main/SECURITY.md#untrusted-models for more details). In a future release, the default value for `weights_only` will be flipped to `True`. This limits the functions that could be executed during unpickling. Arbitrary objects will no longer be allowed to be loaded via this mode unless they are explicitly allowlisted by the user via `torch.serialization.add_safe_globals`. We recommend you start setting `weights_only=True` for any use case where you don't have full control of the loaded file. Please open an issue on GitHub for any issues related to this experimental feature.\n",
      "  self.net.load_state_dict(torch.load(path, **kwargs))\n"
     ]
    },
    {
     "name": "stdout",
     "output_type": "stream",
     "text": [
      "38:\t[0s / 0s],\t\ttrain_loss: 5.1017,\tval_loss: 7.7498\n"
     ]
    },
    {
     "name": "stderr",
     "output_type": "stream",
     "text": [
      "2024-11-21 07:18:01,405 - INFO - Performing clustering iteration 18 / 20\n",
      "2024-11-21 07:18:01,406 - INFO - CUDA environment set up and GPU memory cleared.\n",
      "2024-11-21 07:18:01,409 - INFO - Event column 'endpoint' updated with focus on event value 1.\n",
      "2024-11-21 07:18:01,655 - INFO - Defined medoid for deepsurv model with 3725 clusters.\n",
      "/home/goma/miniconda3/envs/ai_dev/lib/python3.11/site-packages/torchtuples/base.py:669: FutureWarning: You are using `torch.load` with `weights_only=False` (the current default value), which uses the default pickle module implicitly. It is possible to construct malicious pickle data which will execute arbitrary code during unpickling (See https://github.com/pytorch/pytorch/blob/main/SECURITY.md#untrusted-models for more details). In a future release, the default value for `weights_only` will be flipped to `True`. This limits the functions that could be executed during unpickling. Arbitrary objects will no longer be allowed to be loaded via this mode unless they are explicitly allowlisted by the user via `torch.serialization.add_safe_globals`. We recommend you start setting `weights_only=True` for any use case where you don't have full control of the loaded file. Please open an issue on GitHub for any issues related to this experimental feature.\n",
      "  self.net.load_state_dict(torch.load(path, **kwargs))\n",
      "2024-11-21 07:18:01,943 - INFO - Performing clustering iteration 19 / 20\n",
      "2024-11-21 07:18:01,943 - INFO - CUDA environment set up and GPU memory cleared.\n",
      "2024-11-21 07:18:01,947 - INFO - Event column 'endpoint' updated with focus on event value 1.\n"
     ]
    },
    {
     "name": "stdout",
     "output_type": "stream",
     "text": [
      "39:\t[0s / 0s],\t\ttrain_loss: 5.1034,\tval_loss: 7.7457\n"
     ]
    },
    {
     "name": "stderr",
     "output_type": "stream",
     "text": [
      "2024-11-21 07:18:02,189 - INFO - Defined medoid for deepsurv model with 3725 clusters.\n",
      "/home/goma/miniconda3/envs/ai_dev/lib/python3.11/site-packages/torchtuples/base.py:669: FutureWarning: You are using `torch.load` with `weights_only=False` (the current default value), which uses the default pickle module implicitly. It is possible to construct malicious pickle data which will execute arbitrary code during unpickling (See https://github.com/pytorch/pytorch/blob/main/SECURITY.md#untrusted-models for more details). In a future release, the default value for `weights_only` will be flipped to `True`. This limits the functions that could be executed during unpickling. Arbitrary objects will no longer be allowed to be loaded via this mode unless they are explicitly allowlisted by the user via `torch.serialization.add_safe_globals`. We recommend you start setting `weights_only=True` for any use case where you don't have full control of the loaded file. Please open an issue on GitHub for any issues related to this experimental feature.\n",
      "  self.net.load_state_dict(torch.load(path, **kwargs))\n",
      "2024-11-21 07:18:02,455 - INFO - Performing clustering iteration 20 / 20\n",
      "2024-11-21 07:18:02,455 - INFO - CUDA environment set up and GPU memory cleared.\n",
      "2024-11-21 07:18:02,458 - INFO - Event column 'endpoint' updated with focus on event value 1.\n"
     ]
    },
    {
     "name": "stdout",
     "output_type": "stream",
     "text": [
      "40:\t[0s / 0s],\t\ttrain_loss: 5.0856,\tval_loss: 7.7435\n"
     ]
    },
    {
     "name": "stderr",
     "output_type": "stream",
     "text": [
      "2024-11-21 07:18:02,689 - INFO - Defined medoid for deepsurv model with 3725 clusters.\n",
      "/home/goma/miniconda3/envs/ai_dev/lib/python3.11/site-packages/torchtuples/base.py:669: FutureWarning: You are using `torch.load` with `weights_only=False` (the current default value), which uses the default pickle module implicitly. It is possible to construct malicious pickle data which will execute arbitrary code during unpickling (See https://github.com/pytorch/pytorch/blob/main/SECURITY.md#untrusted-models for more details). In a future release, the default value for `weights_only` will be flipped to `True`. This limits the functions that could be executed during unpickling. Arbitrary objects will no longer be allowed to be loaded via this mode unless they are explicitly allowlisted by the user via `torch.serialization.add_safe_globals`. We recommend you start setting `weights_only=True` for any use case where you don't have full control of the loaded file. Please open an issue on GitHub for any issues related to this experimental feature.\n",
      "  self.net.load_state_dict(torch.load(path, **kwargs))\n"
     ]
    },
    {
     "name": "stdout",
     "output_type": "stream",
     "text": [
      "41:\t[0s / 0s],\t\ttrain_loss: 5.1035,\tval_loss: 7.7486\n",
      "Model and baseline hazards saved to /mnt/d/PYDataScience/g3_regress/code/models/deepsurv_ann_clustering_2.pt and /mnt/d/PYDataScience/g3_regress/code/models/deepsurv_ann_clustering_2_hazard.pkl.\n",
      "Training and saving completed for all cross-validation splits.\n",
      "All models have been trained and saved successfully.\n"
     ]
    },
    {
     "name": "stderr",
     "output_type": "stream",
     "text": [
      "2024-11-21 07:18:04,098 - INFO - Event column 'endpoint' updated with focus on event value 2.\n",
      "2024-11-21 07:18:04,103 - INFO - Event column 'endpoint' updated with focus on event value 2.\n"
     ]
    },
    {
     "name": "stdout",
     "output_type": "stream",
     "text": [
      "Initiate training of deepsurv neural network\n",
      "model structure: ANN\n",
      "data balancing method: smoteenn\n"
     ]
    },
    {
     "name": "stderr",
     "output_type": "stream",
     "text": [
      "/home/goma/miniconda3/envs/ai_dev/lib/python3.11/site-packages/imblearn/over_sampling/_smote/base.py:370: FutureWarning: The parameter `n_jobs` has been deprecated in 0.10 and will be removed in 0.12. You can pass an nearest neighbors estimator where `n_jobs` is already set instead.\n",
      "  warnings.warn(\n",
      "2024-11-21 07:18:07,721 - INFO - Missing values imputed using IterativeImputer.\n",
      "2024-11-21 07:18:07,725 - INFO - Dataframe rebalanced with SMOTE and ENN.\n"
     ]
    },
    {
     "name": "stdout",
     "output_type": "stream",
     "text": [
      "0:\t[3s / 3s],\t\ttrain_loss: 4.8912,\tval_loss: 7.6535\n",
      "1:\t[7s / 10s],\t\ttrain_loss: 4.7604,\tval_loss: 7.4641\n",
      "2:\t[3s / 14s],\t\ttrain_loss: 4.6971,\tval_loss: 7.4596\n",
      "3:\t[3s / 17s],\t\ttrain_loss: 4.7232,\tval_loss: 7.5025\n",
      "4:\t[3s / 21s],\t\ttrain_loss: 4.6880,\tval_loss: 7.4566\n",
      "5:\t[3s / 24s],\t\ttrain_loss: 4.6840,\tval_loss: 7.4608\n",
      "6:\t[3s / 28s],\t\ttrain_loss: 4.6813,\tval_loss: 7.4559\n",
      "7:\t[3s / 32s],\t\ttrain_loss: 4.6968,\tval_loss: 7.4582\n",
      "8:\t[3s / 35s],\t\ttrain_loss: 4.6937,\tval_loss: 7.4718\n",
      "9:\t[3s / 39s],\t\ttrain_loss: 4.7053,\tval_loss: 7.4401\n"
     ]
    },
    {
     "name": "stderr",
     "output_type": "stream",
     "text": [
      "/home/goma/miniconda3/envs/ai_dev/lib/python3.11/site-packages/torchtuples/base.py:669: FutureWarning: You are using `torch.load` with `weights_only=False` (the current default value), which uses the default pickle module implicitly. It is possible to construct malicious pickle data which will execute arbitrary code during unpickling (See https://github.com/pytorch/pytorch/blob/main/SECURITY.md#untrusted-models for more details). In a future release, the default value for `weights_only` will be flipped to `True`. This limits the functions that could be executed during unpickling. Arbitrary objects will no longer be allowed to be loaded via this mode unless they are explicitly allowlisted by the user via `torch.serialization.add_safe_globals`. We recommend you start setting `weights_only=True` for any use case where you don't have full control of the loaded file. Please open an issue on GitHub for any issues related to this experimental feature.\n",
      "  self.net.load_state_dict(torch.load(path, **kwargs))\n"
     ]
    },
    {
     "name": "stdout",
     "output_type": "stream",
     "text": [
      "Model and baseline hazards saved to /mnt/d/PYDataScience/g3_regress/code/models/deepsurv_ann_smoteenn_2.pt and /mnt/d/PYDataScience/g3_regress/code/models/deepsurv_ann_smoteenn_2_hazard.pkl.\n",
      "Training and saving completed for all cross-validation splits.\n",
      "All models have been trained and saved successfully.\n"
     ]
    },
    {
     "name": "stderr",
     "output_type": "stream",
     "text": [
      "2024-11-21 07:18:48,384 - INFO - Event column 'endpoint' updated with focus on event value 2.\n",
      "2024-11-21 07:18:48,390 - INFO - Event column 'endpoint' updated with focus on event value 2.\n"
     ]
    },
    {
     "name": "stdout",
     "output_type": "stream",
     "text": [
      "Initiate training of deepsurv neural network\n",
      "model structure: ANN\n",
      "data balancing method: smotetomek\n"
     ]
    },
    {
     "name": "stderr",
     "output_type": "stream",
     "text": [
      "/home/goma/miniconda3/envs/ai_dev/lib/python3.11/site-packages/imblearn/over_sampling/_smote/base.py:370: FutureWarning: The parameter `n_jobs` has been deprecated in 0.10 and will be removed in 0.12. You can pass an nearest neighbors estimator where `n_jobs` is already set instead.\n",
      "  warnings.warn(\n",
      "2024-11-21 07:18:55,636 - INFO - Missing values imputed using IterativeImputer.\n",
      "2024-11-21 07:18:55,643 - INFO - Dataframe rebalanced with SMOTE and Tomek.\n"
     ]
    },
    {
     "name": "stdout",
     "output_type": "stream",
     "text": [
      "0:\t[3s / 3s],\t\ttrain_loss: 4.6940,\tval_loss: 7.4088\n",
      "1:\t[4s / 7s],\t\ttrain_loss: 4.6857,\tval_loss: 7.3693\n",
      "2:\t[4s / 11s],\t\ttrain_loss: 4.6101,\tval_loss: 7.4064\n",
      "3:\t[3s / 15s],\t\ttrain_loss: 4.6571,\tval_loss: 7.5830\n",
      "4:\t[4s / 19s],\t\ttrain_loss: 4.6257,\tval_loss: 7.4060\n",
      "5:\t[3s / 23s],\t\ttrain_loss: 4.5966,\tval_loss: 7.4291\n",
      "6:\t[3s / 27s],\t\ttrain_loss: 4.5714,\tval_loss: 7.4163\n",
      "7:\t[7s / 35s],\t\ttrain_loss: 4.6199,\tval_loss: 7.4361\n",
      "8:\t[3s / 39s],\t\ttrain_loss: 4.6154,\tval_loss: 7.4609\n",
      "9:\t[3s / 43s],\t\ttrain_loss: 4.6048,\tval_loss: 7.4003\n",
      "10:\t[3s / 46s],\t\ttrain_loss: 4.5941,\tval_loss: 7.4191\n"
     ]
    },
    {
     "name": "stderr",
     "output_type": "stream",
     "text": [
      "/home/goma/miniconda3/envs/ai_dev/lib/python3.11/site-packages/torchtuples/base.py:669: FutureWarning: You are using `torch.load` with `weights_only=False` (the current default value), which uses the default pickle module implicitly. It is possible to construct malicious pickle data which will execute arbitrary code during unpickling (See https://github.com/pytorch/pytorch/blob/main/SECURITY.md#untrusted-models for more details). In a future release, the default value for `weights_only` will be flipped to `True`. This limits the functions that could be executed during unpickling. Arbitrary objects will no longer be allowed to be loaded via this mode unless they are explicitly allowlisted by the user via `torch.serialization.add_safe_globals`. We recommend you start setting `weights_only=True` for any use case where you don't have full control of the loaded file. Please open an issue on GitHub for any issues related to this experimental feature.\n",
      "  self.net.load_state_dict(torch.load(path, **kwargs))\n"
     ]
    },
    {
     "name": "stdout",
     "output_type": "stream",
     "text": [
      "Model and baseline hazards saved to /mnt/d/PYDataScience/g3_regress/code/models/deepsurv_ann_smotetomek_2.pt and /mnt/d/PYDataScience/g3_regress/code/models/deepsurv_ann_smotetomek_2_hazard.pkl.\n",
      "Training and saving completed for all cross-validation splits.\n",
      "All models have been trained and saved successfully.\n"
     ]
    },
    {
     "name": "stderr",
     "output_type": "stream",
     "text": [
      "2024-11-21 07:19:43,954 - INFO - Event column 'endpoint' updated with focus on event value 1.\n",
      "2024-11-21 07:19:44,138 - INFO - Performing clustering iteration 1 / 20\n",
      "2024-11-21 07:19:44,138 - INFO - CUDA environment set up and GPU memory cleared.\n",
      "2024-11-21 07:19:44,142 - INFO - Event column 'endpoint' updated with focus on event value 1.\n"
     ]
    },
    {
     "name": "stdout",
     "output_type": "stream",
     "text": [
      "Initiate training of deepsurv neural network\n",
      "model structure: LSTM\n",
      "data balancing method: clustering\n"
     ]
    },
    {
     "name": "stderr",
     "output_type": "stream",
     "text": [
      "2024-11-21 07:19:44,754 - INFO - Defined medoid for deepsurv model with 1207 clusters.\n",
      "2024-11-21 07:19:44,755 - INFO - Performing clustering iteration 2 / 20\n",
      "2024-11-21 07:19:44,756 - INFO - CUDA environment set up and GPU memory cleared.\n",
      "2024-11-21 07:19:44,759 - INFO - Event column 'endpoint' updated with focus on event value 1.\n",
      "2024-11-21 07:19:45,149 - INFO - Defined medoid for deepsurv model with 1207 clusters.\n",
      "2024-11-21 07:19:45,150 - INFO - Performing clustering iteration 3 / 20\n",
      "2024-11-21 07:19:45,150 - INFO - CUDA environment set up and GPU memory cleared.\n",
      "2024-11-21 07:19:45,153 - INFO - Event column 'endpoint' updated with focus on event value 1.\n",
      "2024-11-21 07:19:45,543 - INFO - Defined medoid for deepsurv model with 1207 clusters.\n",
      "2024-11-21 07:19:45,544 - INFO - Performing clustering iteration 4 / 20\n",
      "2024-11-21 07:19:45,544 - INFO - CUDA environment set up and GPU memory cleared.\n",
      "2024-11-21 07:19:45,547 - INFO - Event column 'endpoint' updated with focus on event value 1.\n",
      "2024-11-21 07:19:45,924 - INFO - Defined medoid for deepsurv model with 1207 clusters.\n",
      "2024-11-21 07:19:45,925 - INFO - Performing clustering iteration 5 / 20\n",
      "2024-11-21 07:19:45,925 - INFO - CUDA environment set up and GPU memory cleared.\n",
      "2024-11-21 07:19:45,927 - INFO - Event column 'endpoint' updated with focus on event value 1.\n",
      "2024-11-21 07:19:46,303 - INFO - Defined medoid for deepsurv model with 1207 clusters.\n",
      "2024-11-21 07:19:46,304 - INFO - Performing clustering iteration 6 / 20\n",
      "2024-11-21 07:19:46,304 - INFO - CUDA environment set up and GPU memory cleared.\n",
      "2024-11-21 07:19:46,307 - INFO - Event column 'endpoint' updated with focus on event value 1.\n",
      "2024-11-21 07:19:46,688 - INFO - Defined medoid for deepsurv model with 1207 clusters.\n",
      "2024-11-21 07:19:46,689 - INFO - Performing clustering iteration 7 / 20\n",
      "2024-11-21 07:19:46,689 - INFO - CUDA environment set up and GPU memory cleared.\n",
      "2024-11-21 07:19:46,691 - INFO - Event column 'endpoint' updated with focus on event value 1.\n",
      "2024-11-21 07:19:47,083 - INFO - Defined medoid for deepsurv model with 1207 clusters.\n",
      "2024-11-21 07:19:47,085 - INFO - Performing clustering iteration 8 / 20\n",
      "2024-11-21 07:19:47,085 - INFO - CUDA environment set up and GPU memory cleared.\n",
      "2024-11-21 07:19:47,088 - INFO - Event column 'endpoint' updated with focus on event value 1.\n",
      "2024-11-21 07:19:47,465 - INFO - Defined medoid for deepsurv model with 1207 clusters.\n",
      "2024-11-21 07:19:47,465 - INFO - Performing clustering iteration 9 / 20\n",
      "2024-11-21 07:19:47,466 - INFO - CUDA environment set up and GPU memory cleared.\n",
      "2024-11-21 07:19:47,469 - INFO - Event column 'endpoint' updated with focus on event value 1.\n",
      "2024-11-21 07:19:47,833 - INFO - Defined medoid for deepsurv model with 1207 clusters.\n",
      "2024-11-21 07:19:47,835 - INFO - Performing clustering iteration 10 / 20\n",
      "2024-11-21 07:19:47,835 - INFO - CUDA environment set up and GPU memory cleared.\n",
      "2024-11-21 07:19:47,838 - INFO - Event column 'endpoint' updated with focus on event value 1.\n",
      "2024-11-21 07:19:48,199 - INFO - Defined medoid for deepsurv model with 1207 clusters.\n",
      "2024-11-21 07:19:48,200 - INFO - Performing clustering iteration 11 / 20\n",
      "2024-11-21 07:19:48,200 - INFO - CUDA environment set up and GPU memory cleared.\n",
      "2024-11-21 07:19:48,205 - INFO - Event column 'endpoint' updated with focus on event value 1.\n",
      "2024-11-21 07:19:48,562 - INFO - Defined medoid for deepsurv model with 1207 clusters.\n",
      "2024-11-21 07:19:48,564 - INFO - Performing clustering iteration 12 / 20\n",
      "2024-11-21 07:19:48,564 - INFO - CUDA environment set up and GPU memory cleared.\n",
      "2024-11-21 07:19:48,567 - INFO - Event column 'endpoint' updated with focus on event value 1.\n",
      "2024-11-21 07:19:48,926 - INFO - Defined medoid for deepsurv model with 1207 clusters.\n",
      "2024-11-21 07:19:48,927 - INFO - Performing clustering iteration 13 / 20\n",
      "2024-11-21 07:19:48,927 - INFO - CUDA environment set up and GPU memory cleared.\n",
      "2024-11-21 07:19:48,930 - INFO - Event column 'endpoint' updated with focus on event value 1.\n",
      "2024-11-21 07:19:49,294 - INFO - Defined medoid for deepsurv model with 1207 clusters.\n",
      "2024-11-21 07:19:49,296 - INFO - Performing clustering iteration 14 / 20\n",
      "2024-11-21 07:19:49,296 - INFO - CUDA environment set up and GPU memory cleared.\n",
      "2024-11-21 07:19:49,298 - INFO - Event column 'endpoint' updated with focus on event value 1.\n",
      "2024-11-21 07:19:49,652 - INFO - Defined medoid for deepsurv model with 1207 clusters.\n",
      "2024-11-21 07:19:49,653 - INFO - Performing clustering iteration 15 / 20\n",
      "2024-11-21 07:19:49,654 - INFO - CUDA environment set up and GPU memory cleared.\n",
      "2024-11-21 07:19:49,656 - INFO - Event column 'endpoint' updated with focus on event value 1.\n",
      "2024-11-21 07:19:50,005 - INFO - Defined medoid for deepsurv model with 1207 clusters.\n",
      "2024-11-21 07:19:50,006 - INFO - Performing clustering iteration 16 / 20\n",
      "2024-11-21 07:19:50,006 - INFO - CUDA environment set up and GPU memory cleared.\n",
      "2024-11-21 07:19:50,009 - INFO - Event column 'endpoint' updated with focus on event value 1.\n",
      "2024-11-21 07:19:50,354 - INFO - Defined medoid for deepsurv model with 1207 clusters.\n",
      "2024-11-21 07:19:50,355 - INFO - Performing clustering iteration 17 / 20\n",
      "2024-11-21 07:19:50,355 - INFO - CUDA environment set up and GPU memory cleared.\n",
      "2024-11-21 07:19:50,357 - INFO - Event column 'endpoint' updated with focus on event value 1.\n",
      "2024-11-21 07:19:50,703 - INFO - Defined medoid for deepsurv model with 1207 clusters.\n",
      "2024-11-21 07:19:50,705 - INFO - Performing clustering iteration 18 / 20\n",
      "2024-11-21 07:19:50,705 - INFO - CUDA environment set up and GPU memory cleared.\n",
      "2024-11-21 07:19:50,708 - INFO - Event column 'endpoint' updated with focus on event value 1.\n",
      "2024-11-21 07:19:51,056 - INFO - Defined medoid for deepsurv model with 1207 clusters.\n",
      "2024-11-21 07:19:51,057 - INFO - Performing clustering iteration 19 / 20\n",
      "2024-11-21 07:19:51,057 - INFO - CUDA environment set up and GPU memory cleared.\n",
      "2024-11-21 07:19:51,060 - INFO - Event column 'endpoint' updated with focus on event value 1.\n",
      "2024-11-21 07:19:51,409 - INFO - Defined medoid for deepsurv model with 1207 clusters.\n",
      "2024-11-21 07:19:51,410 - INFO - Performing clustering iteration 20 / 20\n",
      "2024-11-21 07:19:51,410 - INFO - CUDA environment set up and GPU memory cleared.\n",
      "2024-11-21 07:19:51,413 - INFO - Event column 'endpoint' updated with focus on event value 1.\n",
      "2024-11-21 07:19:51,754 - INFO - Defined medoid for deepsurv model with 1207 clusters.\n",
      "2024-11-21 07:19:51,765 - INFO - Cluster data retrieved\n",
      "2024-11-21 07:20:12,709 - INFO - Event column 'endpoint' updated with focus on event value 1.\n",
      "2024-11-21 07:20:36,970 - INFO - Validation data retrieved\n"
     ]
    },
    {
     "name": "stdout",
     "output_type": "stream",
     "text": [
      "64249\n"
     ]
    },
    {
     "name": "stderr",
     "output_type": "stream",
     "text": [
      "/home/goma/miniconda3/envs/ai_dev/lib/python3.11/site-packages/torch/nn/modules/rnn.py:917: UserWarning: RNN module weights are not part of single contiguous chunk of memory. This means they need to be compacted at every call, possibly greatly increasing memory usage. To compact weights again call flatten_parameters(). (Triggered internally at ../aten/src/ATen/native/cudnn/RNN.cpp:1424.)\n",
      "  result = _VF.lstm(input, hx, self._flat_weights, self.bias, self.num_layers,\n"
     ]
    },
    {
     "name": "stdout",
     "output_type": "stream",
     "text": [
      "0:\t[5s / 5s],\t\ttrain_loss: 4.9715,\tval_loss: 7.8747\n",
      "1:\t[2s / 8s],\t\ttrain_loss: 3.2833,\tval_loss: 5.4501\n",
      "2:\t[2s / 10s],\t\ttrain_loss: 2.6288,\tval_loss: 5.5585\n",
      "3:\t[2s / 12s],\t\ttrain_loss: 2.5349,\tval_loss: 6.4079\n",
      "4:\t[2s / 15s],\t\ttrain_loss: 2.4789,\tval_loss: 5.6070\n",
      "5:\t[2s / 17s],\t\ttrain_loss: 2.4512,\tval_loss: 5.2319\n",
      "6:\t[2s / 19s],\t\ttrain_loss: 2.3713,\tval_loss: 5.2538\n",
      "7:\t[2s / 22s],\t\ttrain_loss: 2.3792,\tval_loss: 5.9345\n",
      "8:\t[2s / 24s],\t\ttrain_loss: 2.2310,\tval_loss: 5.4938\n",
      "9:\t[2s / 26s],\t\ttrain_loss: 2.1501,\tval_loss: 5.2844\n",
      "10:\t[2s / 29s],\t\ttrain_loss: 2.1776,\tval_loss: 4.9481\n",
      "11:\t[2s / 31s],\t\ttrain_loss: 2.1259,\tval_loss: 5.5123\n",
      "12:\t[2s / 33s],\t\ttrain_loss: 2.0918,\tval_loss: 5.1554\n"
     ]
    },
    {
     "name": "stderr",
     "output_type": "stream",
     "text": [
      "/home/goma/miniconda3/envs/ai_dev/lib/python3.11/site-packages/torchtuples/base.py:669: FutureWarning: You are using `torch.load` with `weights_only=False` (the current default value), which uses the default pickle module implicitly. It is possible to construct malicious pickle data which will execute arbitrary code during unpickling (See https://github.com/pytorch/pytorch/blob/main/SECURITY.md#untrusted-models for more details). In a future release, the default value for `weights_only` will be flipped to `True`. This limits the functions that could be executed during unpickling. Arbitrary objects will no longer be allowed to be loaded via this mode unless they are explicitly allowlisted by the user via `torch.serialization.add_safe_globals`. We recommend you start setting `weights_only=True` for any use case where you don't have full control of the loaded file. Please open an issue on GitHub for any issues related to this experimental feature.\n",
      "  self.net.load_state_dict(torch.load(path, **kwargs))\n"
     ]
    },
    {
     "name": "stdout",
     "output_type": "stream",
     "text": [
      "Model and baseline hazards saved to /mnt/d/PYDataScience/g3_regress/code/models/deepsurv_lstm_clustering_1.pt and /mnt/d/PYDataScience/g3_regress/code/models/deepsurv_lstm_clustering_1_hazard.pkl.\n",
      "Training and saving completed for all cross-validation splits.\n",
      "All models have been trained and saved successfully.\n"
     ]
    },
    {
     "name": "stderr",
     "output_type": "stream",
     "text": [
      "2024-11-21 07:21:12,326 - INFO - Event column 'endpoint' updated with focus on event value 1.\n",
      "/mnt/d/PYDataScience/g3_regress/code/databalancer2.py:154: SettingWithCopyWarning: \n",
      "A value is trying to be set on a copy of a slice from a DataFrame.\n",
      "Try using .loc[row_indexer,col_indexer] = value instead\n",
      "\n",
      "See the caveats in the documentation: https://pandas.pydata.org/pandas-docs/stable/user_guide/indexing.html#returning-a-view-versus-a-copy\n",
      "  df['_original_index'] = df.index\n",
      "2024-11-21 07:21:12,519 - INFO - Event column 'endpoint' updated with focus on event value 1.\n"
     ]
    },
    {
     "name": "stdout",
     "output_type": "stream",
     "text": [
      "Initiate training of deepsurv neural network\n",
      "model structure: LSTM\n",
      "data balancing method: NearMiss\n"
     ]
    },
    {
     "name": "stderr",
     "output_type": "stream",
     "text": [
      "/home/goma/miniconda3/envs/ai_dev/lib/python3.11/site-packages/imblearn/under_sampling/_prototype_selection/_nearmiss.py:203: UserWarning: The number of the samples to be selected is larger than the number of samples available. The balancing ratio cannot be ensure and all samples will be returned.\n",
      "  warnings.warn(\n",
      "2024-11-21 07:21:12,818 - INFO - Dataset for deepsurv model undersampled using method 'NearMiss' with sampling strategy 0.05.\n",
      "2024-11-21 07:21:21,728 - INFO - Event column 'endpoint' updated with focus on event value 1.\n",
      "2024-11-21 07:21:46,528 - INFO - Validation data retrieved\n"
     ]
    },
    {
     "name": "stdout",
     "output_type": "stream",
     "text": [
      "64249\n"
     ]
    },
    {
     "name": "stderr",
     "output_type": "stream",
     "text": [
      "/home/goma/miniconda3/envs/ai_dev/lib/python3.11/site-packages/torch/nn/modules/rnn.py:917: UserWarning: RNN module weights are not part of single contiguous chunk of memory. This means they need to be compacted at every call, possibly greatly increasing memory usage. To compact weights again call flatten_parameters(). (Triggered internally at ../aten/src/ATen/native/cudnn/RNN.cpp:1424.)\n",
      "  result = _VF.lstm(input, hx, self._flat_weights, self.bias, self.num_layers,\n"
     ]
    },
    {
     "name": "stdout",
     "output_type": "stream",
     "text": [
      "0:\t[2s / 2s],\t\ttrain_loss: 5.1432,\tval_loss: 7.9110\n",
      "1:\t[5s / 7s],\t\ttrain_loss: 5.1453,\tval_loss: 7.9107\n",
      "2:\t[2s / 9s],\t\ttrain_loss: 5.1459,\tval_loss: 7.9107\n",
      "3:\t[2s / 11s],\t\ttrain_loss: 5.1488,\tval_loss: 7.9104\n",
      "4:\t[2s / 14s],\t\ttrain_loss: 5.1538,\tval_loss: 7.9101\n",
      "5:\t[2s / 16s],\t\ttrain_loss: 5.1572,\tval_loss: 7.9099\n",
      "6:\t[2s / 18s],\t\ttrain_loss: 5.1406,\tval_loss: 7.9099\n",
      "7:\t[2s / 20s],\t\ttrain_loss: 5.1441,\tval_loss: 7.9094\n",
      "8:\t[2s / 22s],\t\ttrain_loss: 5.1469,\tval_loss: 7.9089\n"
     ]
    },
    {
     "name": "stderr",
     "output_type": "stream",
     "text": [
      "/home/goma/miniconda3/envs/ai_dev/lib/python3.11/site-packages/torchtuples/base.py:669: FutureWarning: You are using `torch.load` with `weights_only=False` (the current default value), which uses the default pickle module implicitly. It is possible to construct malicious pickle data which will execute arbitrary code during unpickling (See https://github.com/pytorch/pytorch/blob/main/SECURITY.md#untrusted-models for more details). In a future release, the default value for `weights_only` will be flipped to `True`. This limits the functions that could be executed during unpickling. Arbitrary objects will no longer be allowed to be loaded via this mode unless they are explicitly allowlisted by the user via `torch.serialization.add_safe_globals`. We recommend you start setting `weights_only=True` for any use case where you don't have full control of the loaded file. Please open an issue on GitHub for any issues related to this experimental feature.\n",
      "  self.net.load_state_dict(torch.load(path, **kwargs))\n"
     ]
    },
    {
     "name": "stdout",
     "output_type": "stream",
     "text": [
      "Model and baseline hazards saved to /mnt/d/PYDataScience/g3_regress/code/models/deepsurv_lstm_nearmiss_1.pt and /mnt/d/PYDataScience/g3_regress/code/models/deepsurv_lstm_nearmiss_1_hazard.pkl.\n",
      "Training and saving completed for all cross-validation splits.\n",
      "All models have been trained and saved successfully.\n"
     ]
    },
    {
     "name": "stderr",
     "output_type": "stream",
     "text": [
      "2024-11-21 07:22:10,408 - INFO - Event column 'endpoint' updated with focus on event value 2.\n",
      "2024-11-21 07:22:10,593 - INFO - Performing clustering iteration 1 / 20\n",
      "2024-11-21 07:22:10,594 - INFO - CUDA environment set up and GPU memory cleared.\n",
      "2024-11-21 07:22:10,597 - INFO - Event column 'endpoint' updated with focus on event value 2.\n"
     ]
    },
    {
     "name": "stdout",
     "output_type": "stream",
     "text": [
      "Initiate training of deepsurv neural network\n",
      "model structure: LSTM\n",
      "data balancing method: clustering\n"
     ]
    },
    {
     "name": "stderr",
     "output_type": "stream",
     "text": [
      "2024-11-21 07:22:11,217 - INFO - Defined medoid for deepsurv model with 3725 clusters.\n",
      "2024-11-21 07:22:11,218 - INFO - Performing clustering iteration 2 / 20\n",
      "2024-11-21 07:22:11,219 - INFO - CUDA environment set up and GPU memory cleared.\n",
      "2024-11-21 07:22:11,221 - INFO - Event column 'endpoint' updated with focus on event value 2.\n",
      "2024-11-21 07:22:11,611 - INFO - Defined medoid for deepsurv model with 3725 clusters.\n",
      "2024-11-21 07:22:11,612 - INFO - Performing clustering iteration 3 / 20\n",
      "2024-11-21 07:22:11,612 - INFO - CUDA environment set up and GPU memory cleared.\n",
      "2024-11-21 07:22:11,616 - INFO - Event column 'endpoint' updated with focus on event value 2.\n",
      "2024-11-21 07:22:11,997 - INFO - Defined medoid for deepsurv model with 3725 clusters.\n",
      "2024-11-21 07:22:11,998 - INFO - Performing clustering iteration 4 / 20\n",
      "2024-11-21 07:22:11,999 - INFO - CUDA environment set up and GPU memory cleared.\n",
      "2024-11-21 07:22:12,001 - INFO - Event column 'endpoint' updated with focus on event value 2.\n",
      "2024-11-21 07:22:12,361 - INFO - Defined medoid for deepsurv model with 3725 clusters.\n",
      "2024-11-21 07:22:12,361 - INFO - Performing clustering iteration 5 / 20\n",
      "2024-11-21 07:22:12,362 - INFO - CUDA environment set up and GPU memory cleared.\n",
      "2024-11-21 07:22:12,365 - INFO - Event column 'endpoint' updated with focus on event value 2.\n",
      "2024-11-21 07:22:12,715 - INFO - Defined medoid for deepsurv model with 3725 clusters.\n",
      "2024-11-21 07:22:12,716 - INFO - Performing clustering iteration 6 / 20\n",
      "2024-11-21 07:22:12,717 - INFO - CUDA environment set up and GPU memory cleared.\n",
      "2024-11-21 07:22:12,719 - INFO - Event column 'endpoint' updated with focus on event value 2.\n",
      "2024-11-21 07:22:13,063 - INFO - Defined medoid for deepsurv model with 3725 clusters.\n",
      "2024-11-21 07:22:13,063 - INFO - Performing clustering iteration 7 / 20\n",
      "2024-11-21 07:22:13,064 - INFO - CUDA environment set up and GPU memory cleared.\n",
      "2024-11-21 07:22:13,066 - INFO - Event column 'endpoint' updated with focus on event value 2.\n",
      "2024-11-21 07:22:13,406 - INFO - Defined medoid for deepsurv model with 3725 clusters.\n",
      "2024-11-21 07:22:13,407 - INFO - Performing clustering iteration 8 / 20\n",
      "2024-11-21 07:22:13,407 - INFO - CUDA environment set up and GPU memory cleared.\n",
      "2024-11-21 07:22:13,410 - INFO - Event column 'endpoint' updated with focus on event value 2.\n",
      "2024-11-21 07:22:13,741 - INFO - Defined medoid for deepsurv model with 3725 clusters.\n",
      "2024-11-21 07:22:13,742 - INFO - Performing clustering iteration 9 / 20\n",
      "2024-11-21 07:22:13,742 - INFO - CUDA environment set up and GPU memory cleared.\n",
      "2024-11-21 07:22:13,744 - INFO - Event column 'endpoint' updated with focus on event value 2.\n",
      "2024-11-21 07:22:14,062 - INFO - Defined medoid for deepsurv model with 3725 clusters.\n",
      "2024-11-21 07:22:14,063 - INFO - Performing clustering iteration 10 / 20\n",
      "2024-11-21 07:22:14,063 - INFO - CUDA environment set up and GPU memory cleared.\n",
      "2024-11-21 07:22:14,066 - INFO - Event column 'endpoint' updated with focus on event value 2.\n",
      "2024-11-21 07:22:14,376 - INFO - Defined medoid for deepsurv model with 3725 clusters.\n",
      "2024-11-21 07:22:14,377 - INFO - Performing clustering iteration 11 / 20\n",
      "2024-11-21 07:22:14,377 - INFO - CUDA environment set up and GPU memory cleared.\n",
      "2024-11-21 07:22:14,379 - INFO - Event column 'endpoint' updated with focus on event value 2.\n",
      "2024-11-21 07:22:14,683 - INFO - Defined medoid for deepsurv model with 3725 clusters.\n",
      "2024-11-21 07:22:14,684 - INFO - Performing clustering iteration 12 / 20\n",
      "2024-11-21 07:22:14,685 - INFO - CUDA environment set up and GPU memory cleared.\n",
      "2024-11-21 07:22:14,687 - INFO - Event column 'endpoint' updated with focus on event value 2.\n",
      "2024-11-21 07:22:14,992 - INFO - Defined medoid for deepsurv model with 3725 clusters.\n",
      "2024-11-21 07:22:14,993 - INFO - Performing clustering iteration 13 / 20\n",
      "2024-11-21 07:22:14,993 - INFO - CUDA environment set up and GPU memory cleared.\n",
      "2024-11-21 07:22:14,996 - INFO - Event column 'endpoint' updated with focus on event value 2.\n",
      "2024-11-21 07:22:15,289 - INFO - Defined medoid for deepsurv model with 3725 clusters.\n",
      "2024-11-21 07:22:15,290 - INFO - Performing clustering iteration 14 / 20\n",
      "2024-11-21 07:22:15,291 - INFO - CUDA environment set up and GPU memory cleared.\n",
      "2024-11-21 07:22:15,293 - INFO - Event column 'endpoint' updated with focus on event value 2.\n",
      "2024-11-21 07:22:15,575 - INFO - Defined medoid for deepsurv model with 3725 clusters.\n",
      "2024-11-21 07:22:15,575 - INFO - Performing clustering iteration 15 / 20\n",
      "2024-11-21 07:22:15,576 - INFO - CUDA environment set up and GPU memory cleared.\n",
      "2024-11-21 07:22:15,578 - INFO - Event column 'endpoint' updated with focus on event value 2.\n",
      "2024-11-21 07:22:15,852 - INFO - Defined medoid for deepsurv model with 3725 clusters.\n",
      "2024-11-21 07:22:15,853 - INFO - Performing clustering iteration 16 / 20\n",
      "2024-11-21 07:22:15,853 - INFO - CUDA environment set up and GPU memory cleared.\n",
      "2024-11-21 07:22:15,856 - INFO - Event column 'endpoint' updated with focus on event value 2.\n",
      "2024-11-21 07:22:16,123 - INFO - Defined medoid for deepsurv model with 3725 clusters.\n",
      "2024-11-21 07:22:16,124 - INFO - Performing clustering iteration 17 / 20\n",
      "2024-11-21 07:22:16,124 - INFO - CUDA environment set up and GPU memory cleared.\n",
      "2024-11-21 07:22:16,127 - INFO - Event column 'endpoint' updated with focus on event value 2.\n",
      "2024-11-21 07:22:16,387 - INFO - Defined medoid for deepsurv model with 3725 clusters.\n",
      "2024-11-21 07:22:16,388 - INFO - Performing clustering iteration 18 / 20\n",
      "2024-11-21 07:22:16,388 - INFO - CUDA environment set up and GPU memory cleared.\n",
      "2024-11-21 07:22:16,391 - INFO - Event column 'endpoint' updated with focus on event value 2.\n",
      "2024-11-21 07:22:16,633 - INFO - Defined medoid for deepsurv model with 3725 clusters.\n",
      "2024-11-21 07:22:16,634 - INFO - Performing clustering iteration 19 / 20\n",
      "2024-11-21 07:22:16,634 - INFO - CUDA environment set up and GPU memory cleared.\n",
      "2024-11-21 07:22:16,637 - INFO - Event column 'endpoint' updated with focus on event value 2.\n",
      "2024-11-21 07:22:16,872 - INFO - Defined medoid for deepsurv model with 3725 clusters.\n",
      "2024-11-21 07:22:16,873 - INFO - Performing clustering iteration 20 / 20\n",
      "2024-11-21 07:22:16,873 - INFO - CUDA environment set up and GPU memory cleared.\n",
      "2024-11-21 07:22:16,875 - INFO - Event column 'endpoint' updated with focus on event value 2.\n",
      "2024-11-21 07:22:17,107 - INFO - Defined medoid for deepsurv model with 3725 clusters.\n",
      "2024-11-21 07:22:17,133 - INFO - Cluster data retrieved\n",
      "2024-11-21 07:23:15,333 - INFO - Event column 'endpoint' updated with focus on event value 2.\n",
      "2024-11-21 07:23:43,003 - INFO - Validation data retrieved\n"
     ]
    },
    {
     "name": "stdout",
     "output_type": "stream",
     "text": [
      "64249\n"
     ]
    },
    {
     "name": "stderr",
     "output_type": "stream",
     "text": [
      "/home/goma/miniconda3/envs/ai_dev/lib/python3.11/site-packages/torch/nn/modules/rnn.py:917: UserWarning: RNN module weights are not part of single contiguous chunk of memory. This means they need to be compacted at every call, possibly greatly increasing memory usage. To compact weights again call flatten_parameters(). (Triggered internally at ../aten/src/ATen/native/cudnn/RNN.cpp:1424.)\n",
      "  result = _VF.lstm(input, hx, self._flat_weights, self.bias, self.num_layers,\n"
     ]
    },
    {
     "name": "stdout",
     "output_type": "stream",
     "text": [
      "0:\t[2s / 2s],\t\ttrain_loss: 4.9768\n",
      "1:\t[2s / 5s],\t\ttrain_loss: 4.9595\n",
      "2:\t[2s / 8s],\t\ttrain_loss: 4.9157\n",
      "3:\t[2s / 11s],\t\ttrain_loss: 4.8961\n",
      "4:\t[2s / 14s],\t\ttrain_loss: 4.8531\n",
      "5:\t[2s / 17s],\t\ttrain_loss: 4.8309\n",
      "6:\t[2s / 19s],\t\ttrain_loss: 4.8291\n",
      "7:\t[2s / 22s],\t\ttrain_loss: 4.8137\n",
      "8:\t[2s / 25s],\t\ttrain_loss: 4.8082\n"
     ]
    },
    {
     "name": "stderr",
     "output_type": "stream",
     "text": [
      "/home/goma/miniconda3/envs/ai_dev/lib/python3.11/site-packages/torchtuples/base.py:669: FutureWarning: You are using `torch.load` with `weights_only=False` (the current default value), which uses the default pickle module implicitly. It is possible to construct malicious pickle data which will execute arbitrary code during unpickling (See https://github.com/pytorch/pytorch/blob/main/SECURITY.md#untrusted-models for more details). In a future release, the default value for `weights_only` will be flipped to `True`. This limits the functions that could be executed during unpickling. Arbitrary objects will no longer be allowed to be loaded via this mode unless they are explicitly allowlisted by the user via `torch.serialization.add_safe_globals`. We recommend you start setting `weights_only=True` for any use case where you don't have full control of the loaded file. Please open an issue on GitHub for any issues related to this experimental feature.\n",
      "  self.net.load_state_dict(torch.load(path, **kwargs))\n"
     ]
    },
    {
     "name": "stdout",
     "output_type": "stream",
     "text": [
      "Model and baseline hazards saved to /mnt/d/PYDataScience/g3_regress/code/models/deepsurv_lstm_clustering_2.pt and /mnt/d/PYDataScience/g3_regress/code/models/deepsurv_lstm_clustering_2_hazard.pkl.\n",
      "Training and saving completed for all cross-validation splits.\n",
      "All models have been trained and saved successfully.\n"
     ]
    },
    {
     "name": "stderr",
     "output_type": "stream",
     "text": [
      "2024-11-21 07:24:10,206 - INFO - Event column 'endpoint' updated with focus on event value 2.\n",
      "/mnt/d/PYDataScience/g3_regress/code/databalancer2.py:154: SettingWithCopyWarning: \n",
      "A value is trying to be set on a copy of a slice from a DataFrame.\n",
      "Try using .loc[row_indexer,col_indexer] = value instead\n",
      "\n",
      "See the caveats in the documentation: https://pandas.pydata.org/pandas-docs/stable/user_guide/indexing.html#returning-a-view-versus-a-copy\n",
      "  df['_original_index'] = df.index\n",
      "2024-11-21 07:24:10,387 - INFO - Event column 'endpoint' updated with focus on event value 2.\n"
     ]
    },
    {
     "name": "stdout",
     "output_type": "stream",
     "text": [
      "Initiate training of deepsurv neural network\n",
      "model structure: LSTM\n",
      "data balancing method: NearMiss\n"
     ]
    },
    {
     "name": "stderr",
     "output_type": "stream",
     "text": [
      "/home/goma/miniconda3/envs/ai_dev/lib/python3.11/site-packages/imblearn/under_sampling/_prototype_selection/_nearmiss.py:203: UserWarning: The number of the samples to be selected is larger than the number of samples available. The balancing ratio cannot be ensure and all samples will be returned.\n",
      "  warnings.warn(\n",
      "2024-11-21 07:24:10,695 - INFO - Dataset for deepsurv model undersampled using method 'NearMiss' with sampling strategy 0.05.\n",
      "2024-11-21 07:24:39,470 - INFO - Event column 'endpoint' updated with focus on event value 2.\n",
      "2024-11-21 07:25:13,616 - INFO - Validation data retrieved\n"
     ]
    },
    {
     "name": "stdout",
     "output_type": "stream",
     "text": [
      "64249\n"
     ]
    },
    {
     "name": "stderr",
     "output_type": "stream",
     "text": [
      "/home/goma/miniconda3/envs/ai_dev/lib/python3.11/site-packages/torch/nn/modules/rnn.py:917: UserWarning: RNN module weights are not part of single contiguous chunk of memory. This means they need to be compacted at every call, possibly greatly increasing memory usage. To compact weights again call flatten_parameters(). (Triggered internally at ../aten/src/ATen/native/cudnn/RNN.cpp:1424.)\n",
      "  result = _VF.lstm(input, hx, self._flat_weights, self.bias, self.num_layers,\n"
     ]
    },
    {
     "name": "stdout",
     "output_type": "stream",
     "text": [
      "0:\t[2s / 2s],\t\ttrain_loss: 5.1199\n",
      "1:\t[2s / 4s],\t\ttrain_loss: 5.0552\n",
      "2:\t[2s / 6s],\t\ttrain_loss: 4.9886\n",
      "3:\t[2s / 8s],\t\ttrain_loss: 4.9948\n",
      "4:\t[2s / 10s],\t\ttrain_loss: 4.9788\n",
      "5:\t[2s / 12s],\t\ttrain_loss: 4.9737\n",
      "6:\t[5s / 18s],\t\ttrain_loss: 4.9611\n",
      "7:\t[2s / 20s],\t\ttrain_loss: 4.9899\n",
      "8:\t[2s / 22s],\t\ttrain_loss: 4.9590\n",
      "9:\t[2s / 24s],\t\ttrain_loss: 4.9670\n"
     ]
    },
    {
     "name": "stderr",
     "output_type": "stream",
     "text": [
      "/home/goma/miniconda3/envs/ai_dev/lib/python3.11/site-packages/torchtuples/base.py:669: FutureWarning: You are using `torch.load` with `weights_only=False` (the current default value), which uses the default pickle module implicitly. It is possible to construct malicious pickle data which will execute arbitrary code during unpickling (See https://github.com/pytorch/pytorch/blob/main/SECURITY.md#untrusted-models for more details). In a future release, the default value for `weights_only` will be flipped to `True`. This limits the functions that could be executed during unpickling. Arbitrary objects will no longer be allowed to be loaded via this mode unless they are explicitly allowlisted by the user via `torch.serialization.add_safe_globals`. We recommend you start setting `weights_only=True` for any use case where you don't have full control of the loaded file. Please open an issue on GitHub for any issues related to this experimental feature.\n",
      "  self.net.load_state_dict(torch.load(path, **kwargs))\n"
     ]
    },
    {
     "name": "stdout",
     "output_type": "stream",
     "text": [
      "Model and baseline hazards saved to /mnt/d/PYDataScience/g3_regress/code/models/deepsurv_lstm_nearmiss_2.pt and /mnt/d/PYDataScience/g3_regress/code/models/deepsurv_lstm_nearmiss_2_hazard.pkl.\n",
      "Training and saving completed for all cross-validation splits.\n",
      "All models have been trained and saved successfully.\n"
     ]
    },
    {
     "name": "stderr",
     "output_type": "stream",
     "text": [
      "2024-11-21 07:25:39,878 - INFO - Performing clustering iteration 1 / 20\n",
      "2024-11-21 07:25:39,878 - INFO - CUDA environment set up and GPU memory cleared.\n"
     ]
    },
    {
     "name": "stdout",
     "output_type": "stream",
     "text": [
      "Initiate training of deephit neural network\n",
      "model structure: ANN\n",
      "data balancing method: clustering\n"
     ]
    },
    {
     "name": "stderr",
     "output_type": "stream",
     "text": [
      "2024-11-21 07:25:40,459 - INFO - Defined medoid for deephit model with 4932 clusters.\n"
     ]
    },
    {
     "name": "stdout",
     "output_type": "stream",
     "text": [
      "0:\t[0s / 0s],\t\ttrain_loss: 0.5257,\tval_loss: 0.0665\n",
      "1:\t[0s / 1s],\t\ttrain_loss: 0.3995,\tval_loss: 0.0774\n",
      "2:\t[0s / 1s],\t\ttrain_loss: 0.3632,\tval_loss: 0.0787\n",
      "3:\t[0s / 2s],\t\ttrain_loss: 0.3490,\tval_loss: 0.0698\n",
      "4:\t[0s / 2s],\t\ttrain_loss: 0.3351,\tval_loss: 0.0703\n",
      "5:\t[0s / 3s],\t\ttrain_loss: 0.3256,\tval_loss: 0.0765\n",
      "6:\t[0s / 3s],\t\ttrain_loss: 0.3259,\tval_loss: 0.0746\n",
      "7:\t[0s / 4s],\t\ttrain_loss: 0.3260,\tval_loss: 0.0758\n"
     ]
    },
    {
     "name": "stderr",
     "output_type": "stream",
     "text": [
      "/home/goma/miniconda3/envs/ai_dev/lib/python3.11/site-packages/torchtuples/base.py:669: FutureWarning: You are using `torch.load` with `weights_only=False` (the current default value), which uses the default pickle module implicitly. It is possible to construct malicious pickle data which will execute arbitrary code during unpickling (See https://github.com/pytorch/pytorch/blob/main/SECURITY.md#untrusted-models for more details). In a future release, the default value for `weights_only` will be flipped to `True`. This limits the functions that could be executed during unpickling. Arbitrary objects will no longer be allowed to be loaded via this mode unless they are explicitly allowlisted by the user via `torch.serialization.add_safe_globals`. We recommend you start setting `weights_only=True` for any use case where you don't have full control of the loaded file. Please open an issue on GitHub for any issues related to this experimental feature.\n",
      "  self.net.load_state_dict(torch.load(path, **kwargs))\n",
      "2024-11-21 07:25:44,805 - INFO - Performing clustering iteration 2 / 20\n",
      "2024-11-21 07:25:44,806 - INFO - CUDA environment set up and GPU memory cleared.\n",
      "2024-11-21 07:25:45,186 - INFO - Defined medoid for deephit model with 4932 clusters.\n"
     ]
    },
    {
     "name": "stdout",
     "output_type": "stream",
     "text": [
      "8:\t[0s / 0s],\t\ttrain_loss: 0.4304,\tval_loss: 0.0664\n",
      "9:\t[0s / 1s],\t\ttrain_loss: 0.3586,\tval_loss: 0.0608\n",
      "10:\t[0s / 1s],\t\ttrain_loss: 0.3419,\tval_loss: 0.0611\n",
      "11:\t[0s / 2s],\t\ttrain_loss: 0.3369,\tval_loss: 0.0630\n",
      "12:\t[0s / 2s],\t\ttrain_loss: 0.3297,\tval_loss: 0.0631\n",
      "13:\t[0s / 3s],\t\ttrain_loss: 0.3283,\tval_loss: 0.0633\n",
      "14:\t[0s / 3s],\t\ttrain_loss: 0.3274,\tval_loss: 0.0638\n",
      "15:\t[0s / 4s],\t\ttrain_loss: 0.3311,\tval_loss: 0.0591\n"
     ]
    },
    {
     "name": "stderr",
     "output_type": "stream",
     "text": [
      "/home/goma/miniconda3/envs/ai_dev/lib/python3.11/site-packages/torchtuples/base.py:669: FutureWarning: You are using `torch.load` with `weights_only=False` (the current default value), which uses the default pickle module implicitly. It is possible to construct malicious pickle data which will execute arbitrary code during unpickling (See https://github.com/pytorch/pytorch/blob/main/SECURITY.md#untrusted-models for more details). In a future release, the default value for `weights_only` will be flipped to `True`. This limits the functions that could be executed during unpickling. Arbitrary objects will no longer be allowed to be loaded via this mode unless they are explicitly allowlisted by the user via `torch.serialization.add_safe_globals`. We recommend you start setting `weights_only=True` for any use case where you don't have full control of the loaded file. Please open an issue on GitHub for any issues related to this experimental feature.\n",
      "  self.net.load_state_dict(torch.load(path, **kwargs))\n",
      "2024-11-21 07:25:49,572 - INFO - Performing clustering iteration 3 / 20\n",
      "2024-11-21 07:25:49,573 - INFO - CUDA environment set up and GPU memory cleared.\n",
      "2024-11-21 07:25:49,934 - INFO - Defined medoid for deephit model with 4932 clusters.\n"
     ]
    },
    {
     "name": "stdout",
     "output_type": "stream",
     "text": [
      "16:\t[0s / 0s],\t\ttrain_loss: 0.3331,\tval_loss: 0.0598\n",
      "17:\t[0s / 1s],\t\ttrain_loss: 0.3417,\tval_loss: 0.0733\n",
      "18:\t[0s / 1s],\t\ttrain_loss: 0.3351,\tval_loss: 0.0607\n",
      "19:\t[0s / 1s],\t\ttrain_loss: 0.3304,\tval_loss: 0.0686\n",
      "20:\t[0s / 2s],\t\ttrain_loss: 0.3260,\tval_loss: 0.0614\n",
      "21:\t[0s / 3s],\t\ttrain_loss: 0.3224,\tval_loss: 0.0642\n",
      "22:\t[0s / 3s],\t\ttrain_loss: 0.3242,\tval_loss: 0.0670\n",
      "23:\t[0s / 4s],\t\ttrain_loss: 0.3206,\tval_loss: 0.0621\n"
     ]
    },
    {
     "name": "stderr",
     "output_type": "stream",
     "text": [
      "/home/goma/miniconda3/envs/ai_dev/lib/python3.11/site-packages/torchtuples/base.py:669: FutureWarning: You are using `torch.load` with `weights_only=False` (the current default value), which uses the default pickle module implicitly. It is possible to construct malicious pickle data which will execute arbitrary code during unpickling (See https://github.com/pytorch/pytorch/blob/main/SECURITY.md#untrusted-models for more details). In a future release, the default value for `weights_only` will be flipped to `True`. This limits the functions that could be executed during unpickling. Arbitrary objects will no longer be allowed to be loaded via this mode unless they are explicitly allowlisted by the user via `torch.serialization.add_safe_globals`. We recommend you start setting `weights_only=True` for any use case where you don't have full control of the loaded file. Please open an issue on GitHub for any issues related to this experimental feature.\n",
      "  self.net.load_state_dict(torch.load(path, **kwargs))\n",
      "2024-11-21 07:25:54,180 - INFO - Performing clustering iteration 4 / 20\n",
      "2024-11-21 07:25:54,181 - INFO - CUDA environment set up and GPU memory cleared.\n",
      "2024-11-21 07:25:54,537 - INFO - Defined medoid for deephit model with 4932 clusters.\n"
     ]
    },
    {
     "name": "stdout",
     "output_type": "stream",
     "text": [
      "24:\t[0s / 0s],\t\ttrain_loss: 0.3304,\tval_loss: 0.0596\n",
      "25:\t[0s / 1s],\t\ttrain_loss: 0.3257,\tval_loss: 0.0594\n"
     ]
    },
    {
     "name": "stderr",
     "output_type": "stream",
     "text": [
      "/home/goma/miniconda3/envs/ai_dev/lib/python3.11/site-packages/torchtuples/base.py:669: FutureWarning: You are using `torch.load` with `weights_only=False` (the current default value), which uses the default pickle module implicitly. It is possible to construct malicious pickle data which will execute arbitrary code during unpickling (See https://github.com/pytorch/pytorch/blob/main/SECURITY.md#untrusted-models for more details). In a future release, the default value for `weights_only` will be flipped to `True`. This limits the functions that could be executed during unpickling. Arbitrary objects will no longer be allowed to be loaded via this mode unless they are explicitly allowlisted by the user via `torch.serialization.add_safe_globals`. We recommend you start setting `weights_only=True` for any use case where you don't have full control of the loaded file. Please open an issue on GitHub for any issues related to this experimental feature.\n",
      "  self.net.load_state_dict(torch.load(path, **kwargs))\n",
      "2024-11-21 07:25:55,873 - INFO - Performing clustering iteration 5 / 20\n",
      "2024-11-21 07:25:55,873 - INFO - CUDA environment set up and GPU memory cleared.\n",
      "2024-11-21 07:25:56,213 - INFO - Defined medoid for deephit model with 4932 clusters.\n",
      "/home/goma/miniconda3/envs/ai_dev/lib/python3.11/site-packages/torchtuples/base.py:669: FutureWarning: You are using `torch.load` with `weights_only=False` (the current default value), which uses the default pickle module implicitly. It is possible to construct malicious pickle data which will execute arbitrary code during unpickling (See https://github.com/pytorch/pytorch/blob/main/SECURITY.md#untrusted-models for more details). In a future release, the default value for `weights_only` will be flipped to `True`. This limits the functions that could be executed during unpickling. Arbitrary objects will no longer be allowed to be loaded via this mode unless they are explicitly allowlisted by the user via `torch.serialization.add_safe_globals`. We recommend you start setting `weights_only=True` for any use case where you don't have full control of the loaded file. Please open an issue on GitHub for any issues related to this experimental feature.\n",
      "  self.net.load_state_dict(torch.load(path, **kwargs))\n",
      "2024-11-21 07:25:56,932 - INFO - Performing clustering iteration 6 / 20\n",
      "2024-11-21 07:25:56,932 - INFO - CUDA environment set up and GPU memory cleared.\n"
     ]
    },
    {
     "name": "stdout",
     "output_type": "stream",
     "text": [
      "26:\t[0s / 0s],\t\ttrain_loss: 0.3325,\tval_loss: 0.0612\n"
     ]
    },
    {
     "name": "stderr",
     "output_type": "stream",
     "text": [
      "2024-11-21 07:25:57,282 - INFO - Defined medoid for deephit model with 4932 clusters.\n",
      "/home/goma/miniconda3/envs/ai_dev/lib/python3.11/site-packages/torchtuples/base.py:669: FutureWarning: You are using `torch.load` with `weights_only=False` (the current default value), which uses the default pickle module implicitly. It is possible to construct malicious pickle data which will execute arbitrary code during unpickling (See https://github.com/pytorch/pytorch/blob/main/SECURITY.md#untrusted-models for more details). In a future release, the default value for `weights_only` will be flipped to `True`. This limits the functions that could be executed during unpickling. Arbitrary objects will no longer be allowed to be loaded via this mode unless they are explicitly allowlisted by the user via `torch.serialization.add_safe_globals`. We recommend you start setting `weights_only=True` for any use case where you don't have full control of the loaded file. Please open an issue on GitHub for any issues related to this experimental feature.\n",
      "  self.net.load_state_dict(torch.load(path, **kwargs))\n",
      "2024-11-21 07:25:57,957 - INFO - Performing clustering iteration 7 / 20\n",
      "2024-11-21 07:25:57,958 - INFO - CUDA environment set up and GPU memory cleared.\n"
     ]
    },
    {
     "name": "stdout",
     "output_type": "stream",
     "text": [
      "27:\t[0s / 0s],\t\ttrain_loss: 0.3367,\tval_loss: 0.0619\n"
     ]
    },
    {
     "name": "stderr",
     "output_type": "stream",
     "text": [
      "2024-11-21 07:25:58,274 - INFO - Defined medoid for deephit model with 4932 clusters.\n"
     ]
    },
    {
     "name": "stdout",
     "output_type": "stream",
     "text": [
      "28:\t[0s / 0s],\t\ttrain_loss: 0.3379,\tval_loss: 0.0616\n"
     ]
    },
    {
     "name": "stderr",
     "output_type": "stream",
     "text": [
      "/home/goma/miniconda3/envs/ai_dev/lib/python3.11/site-packages/torchtuples/base.py:669: FutureWarning: You are using `torch.load` with `weights_only=False` (the current default value), which uses the default pickle module implicitly. It is possible to construct malicious pickle data which will execute arbitrary code during unpickling (See https://github.com/pytorch/pytorch/blob/main/SECURITY.md#untrusted-models for more details). In a future release, the default value for `weights_only` will be flipped to `True`. This limits the functions that could be executed during unpickling. Arbitrary objects will no longer be allowed to be loaded via this mode unless they are explicitly allowlisted by the user via `torch.serialization.add_safe_globals`. We recommend you start setting `weights_only=True` for any use case where you don't have full control of the loaded file. Please open an issue on GitHub for any issues related to this experimental feature.\n",
      "  self.net.load_state_dict(torch.load(path, **kwargs))\n",
      "2024-11-21 07:25:59,010 - INFO - Performing clustering iteration 8 / 20\n",
      "2024-11-21 07:25:59,010 - INFO - CUDA environment set up and GPU memory cleared.\n",
      "2024-11-21 07:25:59,334 - INFO - Defined medoid for deephit model with 4932 clusters.\n"
     ]
    },
    {
     "name": "stdout",
     "output_type": "stream",
     "text": [
      "29:\t[0s / 0s],\t\ttrain_loss: 0.3408,\tval_loss: 0.0571\n",
      "30:\t[0s / 1s],\t\ttrain_loss: 0.3427,\tval_loss: 0.0501\n",
      "31:\t[0s / 1s],\t\ttrain_loss: 0.3472,\tval_loss: 0.0531\n",
      "32:\t[0s / 2s],\t\ttrain_loss: 0.3371,\tval_loss: 0.0699\n",
      "33:\t[0s / 2s],\t\ttrain_loss: 0.3330,\tval_loss: 0.0627\n",
      "34:\t[0s / 3s],\t\ttrain_loss: 0.3278,\tval_loss: 0.0610\n",
      "35:\t[0s / 3s],\t\ttrain_loss: 0.3319,\tval_loss: 0.0591\n",
      "36:\t[4s / 7s],\t\ttrain_loss: 0.3301,\tval_loss: 0.0587\n"
     ]
    },
    {
     "name": "stderr",
     "output_type": "stream",
     "text": [
      "/home/goma/miniconda3/envs/ai_dev/lib/python3.11/site-packages/torchtuples/base.py:669: FutureWarning: You are using `torch.load` with `weights_only=False` (the current default value), which uses the default pickle module implicitly. It is possible to construct malicious pickle data which will execute arbitrary code during unpickling (See https://github.com/pytorch/pytorch/blob/main/SECURITY.md#untrusted-models for more details). In a future release, the default value for `weights_only` will be flipped to `True`. This limits the functions that could be executed during unpickling. Arbitrary objects will no longer be allowed to be loaded via this mode unless they are explicitly allowlisted by the user via `torch.serialization.add_safe_globals`. We recommend you start setting `weights_only=True` for any use case where you don't have full control of the loaded file. Please open an issue on GitHub for any issues related to this experimental feature.\n",
      "  self.net.load_state_dict(torch.load(path, **kwargs))\n",
      "2024-11-21 07:26:07,429 - INFO - Performing clustering iteration 9 / 20\n",
      "2024-11-21 07:26:07,429 - INFO - CUDA environment set up and GPU memory cleared.\n",
      "2024-11-21 07:26:07,724 - INFO - Defined medoid for deephit model with 4932 clusters.\n"
     ]
    },
    {
     "name": "stdout",
     "output_type": "stream",
     "text": [
      "37:\t[0s / 0s],\t\ttrain_loss: 0.3427,\tval_loss: 0.0578\n",
      "38:\t[0s / 1s],\t\ttrain_loss: 0.3330,\tval_loss: 0.0611\n",
      "39:\t[0s / 1s],\t\ttrain_loss: 0.3306,\tval_loss: 0.0580\n"
     ]
    },
    {
     "name": "stderr",
     "output_type": "stream",
     "text": [
      "/home/goma/miniconda3/envs/ai_dev/lib/python3.11/site-packages/torchtuples/base.py:669: FutureWarning: You are using `torch.load` with `weights_only=False` (the current default value), which uses the default pickle module implicitly. It is possible to construct malicious pickle data which will execute arbitrary code during unpickling (See https://github.com/pytorch/pytorch/blob/main/SECURITY.md#untrusted-models for more details). In a future release, the default value for `weights_only` will be flipped to `True`. This limits the functions that could be executed during unpickling. Arbitrary objects will no longer be allowed to be loaded via this mode unless they are explicitly allowlisted by the user via `torch.serialization.add_safe_globals`. We recommend you start setting `weights_only=True` for any use case where you don't have full control of the loaded file. Please open an issue on GitHub for any issues related to this experimental feature.\n",
      "  self.net.load_state_dict(torch.load(path, **kwargs))\n",
      "2024-11-21 07:26:10,018 - INFO - Performing clustering iteration 10 / 20\n",
      "2024-11-21 07:26:10,019 - INFO - CUDA environment set up and GPU memory cleared.\n"
     ]
    },
    {
     "name": "stdout",
     "output_type": "stream",
     "text": [
      "40:\t[0s / 2s],\t\ttrain_loss: 0.3309,\tval_loss: 0.0573\n"
     ]
    },
    {
     "name": "stderr",
     "output_type": "stream",
     "text": [
      "2024-11-21 07:26:10,303 - INFO - Defined medoid for deephit model with 4932 clusters.\n",
      "/home/goma/miniconda3/envs/ai_dev/lib/python3.11/site-packages/torchtuples/base.py:669: FutureWarning: You are using `torch.load` with `weights_only=False` (the current default value), which uses the default pickle module implicitly. It is possible to construct malicious pickle data which will execute arbitrary code during unpickling (See https://github.com/pytorch/pytorch/blob/main/SECURITY.md#untrusted-models for more details). In a future release, the default value for `weights_only` will be flipped to `True`. This limits the functions that could be executed during unpickling. Arbitrary objects will no longer be allowed to be loaded via this mode unless they are explicitly allowlisted by the user via `torch.serialization.add_safe_globals`. We recommend you start setting `weights_only=True` for any use case where you don't have full control of the loaded file. Please open an issue on GitHub for any issues related to this experimental feature.\n",
      "  self.net.load_state_dict(torch.load(path, **kwargs))\n",
      "2024-11-21 07:26:11,026 - INFO - Performing clustering iteration 11 / 20\n",
      "2024-11-21 07:26:11,026 - INFO - CUDA environment set up and GPU memory cleared.\n"
     ]
    },
    {
     "name": "stdout",
     "output_type": "stream",
     "text": [
      "41:\t[0s / 0s],\t\ttrain_loss: 0.3477,\tval_loss: 0.0574\n"
     ]
    },
    {
     "name": "stderr",
     "output_type": "stream",
     "text": [
      "2024-11-21 07:26:11,310 - INFO - Defined medoid for deephit model with 4932 clusters.\n"
     ]
    },
    {
     "name": "stdout",
     "output_type": "stream",
     "text": [
      "42:\t[0s / 0s],\t\ttrain_loss: 0.3408,\tval_loss: 0.0624\n"
     ]
    },
    {
     "name": "stderr",
     "output_type": "stream",
     "text": [
      "/home/goma/miniconda3/envs/ai_dev/lib/python3.11/site-packages/torchtuples/base.py:669: FutureWarning: You are using `torch.load` with `weights_only=False` (the current default value), which uses the default pickle module implicitly. It is possible to construct malicious pickle data which will execute arbitrary code during unpickling (See https://github.com/pytorch/pytorch/blob/main/SECURITY.md#untrusted-models for more details). In a future release, the default value for `weights_only` will be flipped to `True`. This limits the functions that could be executed during unpickling. Arbitrary objects will no longer be allowed to be loaded via this mode unless they are explicitly allowlisted by the user via `torch.serialization.add_safe_globals`. We recommend you start setting `weights_only=True` for any use case where you don't have full control of the loaded file. Please open an issue on GitHub for any issues related to this experimental feature.\n",
      "  self.net.load_state_dict(torch.load(path, **kwargs))\n",
      "2024-11-21 07:26:12,096 - INFO - Performing clustering iteration 12 / 20\n",
      "2024-11-21 07:26:12,097 - INFO - CUDA environment set up and GPU memory cleared.\n",
      "2024-11-21 07:26:12,367 - INFO - Defined medoid for deephit model with 4932 clusters.\n"
     ]
    },
    {
     "name": "stdout",
     "output_type": "stream",
     "text": [
      "43:\t[0s / 0s],\t\ttrain_loss: 0.3660,\tval_loss: 0.0449\n",
      "44:\t[0s / 1s],\t\ttrain_loss: 0.3468,\tval_loss: 0.0526\n",
      "45:\t[0s / 1s],\t\ttrain_loss: 0.3363,\tval_loss: 0.0551\n",
      "46:\t[0s / 2s],\t\ttrain_loss: 0.3315,\tval_loss: 0.0580\n",
      "47:\t[0s / 2s],\t\ttrain_loss: 0.3314,\tval_loss: 0.0586\n",
      "48:\t[0s / 3s],\t\ttrain_loss: 0.3290,\tval_loss: 0.0574\n",
      "49:\t[0s / 3s],\t\ttrain_loss: 0.3283,\tval_loss: 0.0589\n"
     ]
    },
    {
     "name": "stderr",
     "output_type": "stream",
     "text": [
      "/home/goma/miniconda3/envs/ai_dev/lib/python3.11/site-packages/torchtuples/base.py:669: FutureWarning: You are using `torch.load` with `weights_only=False` (the current default value), which uses the default pickle module implicitly. It is possible to construct malicious pickle data which will execute arbitrary code during unpickling (See https://github.com/pytorch/pytorch/blob/main/SECURITY.md#untrusted-models for more details). In a future release, the default value for `weights_only` will be flipped to `True`. This limits the functions that could be executed during unpickling. Arbitrary objects will no longer be allowed to be loaded via this mode unless they are explicitly allowlisted by the user via `torch.serialization.add_safe_globals`. We recommend you start setting `weights_only=True` for any use case where you don't have full control of the loaded file. Please open an issue on GitHub for any issues related to this experimental feature.\n",
      "  self.net.load_state_dict(torch.load(path, **kwargs))\n",
      "2024-11-21 07:26:16,684 - INFO - Performing clustering iteration 13 / 20\n",
      "2024-11-21 07:26:16,685 - INFO - CUDA environment set up and GPU memory cleared.\n"
     ]
    },
    {
     "name": "stdout",
     "output_type": "stream",
     "text": [
      "50:\t[0s / 4s],\t\ttrain_loss: 0.3300,\tval_loss: 0.0565\n"
     ]
    },
    {
     "name": "stderr",
     "output_type": "stream",
     "text": [
      "2024-11-21 07:26:16,940 - INFO - Defined medoid for deephit model with 4932 clusters.\n"
     ]
    },
    {
     "name": "stdout",
     "output_type": "stream",
     "text": [
      "51:\t[0s / 0s],\t\ttrain_loss: 0.3492,\tval_loss: 0.0600\n",
      "52:\t[0s / 1s],\t\ttrain_loss: 0.3342,\tval_loss: 0.0582\n"
     ]
    },
    {
     "name": "stderr",
     "output_type": "stream",
     "text": [
      "/home/goma/miniconda3/envs/ai_dev/lib/python3.11/site-packages/torchtuples/base.py:669: FutureWarning: You are using `torch.load` with `weights_only=False` (the current default value), which uses the default pickle module implicitly. It is possible to construct malicious pickle data which will execute arbitrary code during unpickling (See https://github.com/pytorch/pytorch/blob/main/SECURITY.md#untrusted-models for more details). In a future release, the default value for `weights_only` will be flipped to `True`. This limits the functions that could be executed during unpickling. Arbitrary objects will no longer be allowed to be loaded via this mode unless they are explicitly allowlisted by the user via `torch.serialization.add_safe_globals`. We recommend you start setting `weights_only=True` for any use case where you don't have full control of the loaded file. Please open an issue on GitHub for any issues related to this experimental feature.\n",
      "  self.net.load_state_dict(torch.load(path, **kwargs))\n",
      "2024-11-21 07:26:18,661 - INFO - Performing clustering iteration 14 / 20\n",
      "2024-11-21 07:26:18,662 - INFO - CUDA environment set up and GPU memory cleared.\n"
     ]
    },
    {
     "name": "stdout",
     "output_type": "stream",
     "text": [
      "53:\t[0s / 1s],\t\ttrain_loss: 0.3333,\tval_loss: 0.0585\n"
     ]
    },
    {
     "name": "stderr",
     "output_type": "stream",
     "text": [
      "2024-11-21 07:26:18,905 - INFO - Defined medoid for deephit model with 4932 clusters.\n",
      "/home/goma/miniconda3/envs/ai_dev/lib/python3.11/site-packages/torchtuples/base.py:669: FutureWarning: You are using `torch.load` with `weights_only=False` (the current default value), which uses the default pickle module implicitly. It is possible to construct malicious pickle data which will execute arbitrary code during unpickling (See https://github.com/pytorch/pytorch/blob/main/SECURITY.md#untrusted-models for more details). In a future release, the default value for `weights_only` will be flipped to `True`. This limits the functions that could be executed during unpickling. Arbitrary objects will no longer be allowed to be loaded via this mode unless they are explicitly allowlisted by the user via `torch.serialization.add_safe_globals`. We recommend you start setting `weights_only=True` for any use case where you don't have full control of the loaded file. Please open an issue on GitHub for any issues related to this experimental feature.\n",
      "  self.net.load_state_dict(torch.load(path, **kwargs))\n",
      "2024-11-21 07:26:19,661 - INFO - Performing clustering iteration 15 / 20\n",
      "2024-11-21 07:26:19,661 - INFO - CUDA environment set up and GPU memory cleared.\n"
     ]
    },
    {
     "name": "stdout",
     "output_type": "stream",
     "text": [
      "54:\t[0s / 0s],\t\ttrain_loss: 0.3488,\tval_loss: 0.0585\n"
     ]
    },
    {
     "name": "stderr",
     "output_type": "stream",
     "text": [
      "2024-11-21 07:26:19,906 - INFO - Defined medoid for deephit model with 4932 clusters.\n",
      "/home/goma/miniconda3/envs/ai_dev/lib/python3.11/site-packages/torchtuples/base.py:669: FutureWarning: You are using `torch.load` with `weights_only=False` (the current default value), which uses the default pickle module implicitly. It is possible to construct malicious pickle data which will execute arbitrary code during unpickling (See https://github.com/pytorch/pytorch/blob/main/SECURITY.md#untrusted-models for more details). In a future release, the default value for `weights_only` will be flipped to `True`. This limits the functions that could be executed during unpickling. Arbitrary objects will no longer be allowed to be loaded via this mode unless they are explicitly allowlisted by the user via `torch.serialization.add_safe_globals`. We recommend you start setting `weights_only=True` for any use case where you don't have full control of the loaded file. Please open an issue on GitHub for any issues related to this experimental feature.\n",
      "  self.net.load_state_dict(torch.load(path, **kwargs))\n",
      "2024-11-21 07:26:20,615 - INFO - Performing clustering iteration 16 / 20\n",
      "2024-11-21 07:26:20,615 - INFO - CUDA environment set up and GPU memory cleared.\n"
     ]
    },
    {
     "name": "stdout",
     "output_type": "stream",
     "text": [
      "55:\t[0s / 0s],\t\ttrain_loss: 0.3503,\tval_loss: 0.0572\n"
     ]
    },
    {
     "name": "stderr",
     "output_type": "stream",
     "text": [
      "2024-11-21 07:26:20,871 - INFO - Defined medoid for deephit model with 4932 clusters.\n",
      "/home/goma/miniconda3/envs/ai_dev/lib/python3.11/site-packages/torchtuples/base.py:669: FutureWarning: You are using `torch.load` with `weights_only=False` (the current default value), which uses the default pickle module implicitly. It is possible to construct malicious pickle data which will execute arbitrary code during unpickling (See https://github.com/pytorch/pytorch/blob/main/SECURITY.md#untrusted-models for more details). In a future release, the default value for `weights_only` will be flipped to `True`. This limits the functions that could be executed during unpickling. Arbitrary objects will no longer be allowed to be loaded via this mode unless they are explicitly allowlisted by the user via `torch.serialization.add_safe_globals`. We recommend you start setting `weights_only=True` for any use case where you don't have full control of the loaded file. Please open an issue on GitHub for any issues related to this experimental feature.\n",
      "  self.net.load_state_dict(torch.load(path, **kwargs))\n",
      "2024-11-21 07:26:21,554 - INFO - Performing clustering iteration 17 / 20\n",
      "2024-11-21 07:26:21,554 - INFO - CUDA environment set up and GPU memory cleared.\n"
     ]
    },
    {
     "name": "stdout",
     "output_type": "stream",
     "text": [
      "56:\t[0s / 0s],\t\ttrain_loss: 0.3534,\tval_loss: 0.0564\n"
     ]
    },
    {
     "name": "stderr",
     "output_type": "stream",
     "text": [
      "2024-11-21 07:26:21,777 - INFO - Defined medoid for deephit model with 4932 clusters.\n",
      "/home/goma/miniconda3/envs/ai_dev/lib/python3.11/site-packages/torchtuples/base.py:669: FutureWarning: You are using `torch.load` with `weights_only=False` (the current default value), which uses the default pickle module implicitly. It is possible to construct malicious pickle data which will execute arbitrary code during unpickling (See https://github.com/pytorch/pytorch/blob/main/SECURITY.md#untrusted-models for more details). In a future release, the default value for `weights_only` will be flipped to `True`. This limits the functions that could be executed during unpickling. Arbitrary objects will no longer be allowed to be loaded via this mode unless they are explicitly allowlisted by the user via `torch.serialization.add_safe_globals`. We recommend you start setting `weights_only=True` for any use case where you don't have full control of the loaded file. Please open an issue on GitHub for any issues related to this experimental feature.\n",
      "  self.net.load_state_dict(torch.load(path, **kwargs))\n",
      "2024-11-21 07:26:22,519 - INFO - Performing clustering iteration 18 / 20\n",
      "2024-11-21 07:26:22,520 - INFO - CUDA environment set up and GPU memory cleared.\n"
     ]
    },
    {
     "name": "stdout",
     "output_type": "stream",
     "text": [
      "57:\t[0s / 0s],\t\ttrain_loss: 0.3523,\tval_loss: 0.0542\n"
     ]
    },
    {
     "name": "stderr",
     "output_type": "stream",
     "text": [
      "2024-11-21 07:26:22,730 - INFO - Defined medoid for deephit model with 4932 clusters.\n"
     ]
    },
    {
     "name": "stdout",
     "output_type": "stream",
     "text": [
      "58:\t[0s / 0s],\t\ttrain_loss: 0.3554,\tval_loss: 0.0513\n"
     ]
    },
    {
     "name": "stderr",
     "output_type": "stream",
     "text": [
      "/home/goma/miniconda3/envs/ai_dev/lib/python3.11/site-packages/torchtuples/base.py:669: FutureWarning: You are using `torch.load` with `weights_only=False` (the current default value), which uses the default pickle module implicitly. It is possible to construct malicious pickle data which will execute arbitrary code during unpickling (See https://github.com/pytorch/pytorch/blob/main/SECURITY.md#untrusted-models for more details). In a future release, the default value for `weights_only` will be flipped to `True`. This limits the functions that could be executed during unpickling. Arbitrary objects will no longer be allowed to be loaded via this mode unless they are explicitly allowlisted by the user via `torch.serialization.add_safe_globals`. We recommend you start setting `weights_only=True` for any use case where you don't have full control of the loaded file. Please open an issue on GitHub for any issues related to this experimental feature.\n",
      "  self.net.load_state_dict(torch.load(path, **kwargs))\n",
      "2024-11-21 07:26:23,497 - INFO - Performing clustering iteration 19 / 20\n",
      "2024-11-21 07:26:23,497 - INFO - CUDA environment set up and GPU memory cleared.\n",
      "2024-11-21 07:26:23,702 - INFO - Defined medoid for deephit model with 4932 clusters.\n"
     ]
    },
    {
     "name": "stdout",
     "output_type": "stream",
     "text": [
      "59:\t[0s / 0s],\t\ttrain_loss: 0.3582,\tval_loss: 0.0491\n"
     ]
    },
    {
     "name": "stderr",
     "output_type": "stream",
     "text": [
      "/home/goma/miniconda3/envs/ai_dev/lib/python3.11/site-packages/torchtuples/base.py:669: FutureWarning: You are using `torch.load` with `weights_only=False` (the current default value), which uses the default pickle module implicitly. It is possible to construct malicious pickle data which will execute arbitrary code during unpickling (See https://github.com/pytorch/pytorch/blob/main/SECURITY.md#untrusted-models for more details). In a future release, the default value for `weights_only` will be flipped to `True`. This limits the functions that could be executed during unpickling. Arbitrary objects will no longer be allowed to be loaded via this mode unless they are explicitly allowlisted by the user via `torch.serialization.add_safe_globals`. We recommend you start setting `weights_only=True` for any use case where you don't have full control of the loaded file. Please open an issue on GitHub for any issues related to this experimental feature.\n",
      "  self.net.load_state_dict(torch.load(path, **kwargs))\n",
      "2024-11-21 07:26:24,415 - INFO - Performing clustering iteration 20 / 20\n",
      "2024-11-21 07:26:24,415 - INFO - CUDA environment set up and GPU memory cleared.\n",
      "2024-11-21 07:26:24,602 - INFO - Defined medoid for deephit model with 4932 clusters.\n"
     ]
    },
    {
     "name": "stdout",
     "output_type": "stream",
     "text": [
      "60:\t[0s / 0s],\t\ttrain_loss: 0.3605,\tval_loss: 0.0462\n"
     ]
    },
    {
     "name": "stderr",
     "output_type": "stream",
     "text": [
      "/home/goma/miniconda3/envs/ai_dev/lib/python3.11/site-packages/torchtuples/base.py:669: FutureWarning: You are using `torch.load` with `weights_only=False` (the current default value), which uses the default pickle module implicitly. It is possible to construct malicious pickle data which will execute arbitrary code during unpickling (See https://github.com/pytorch/pytorch/blob/main/SECURITY.md#untrusted-models for more details). In a future release, the default value for `weights_only` will be flipped to `True`. This limits the functions that could be executed during unpickling. Arbitrary objects will no longer be allowed to be loaded via this mode unless they are explicitly allowlisted by the user via `torch.serialization.add_safe_globals`. We recommend you start setting `weights_only=True` for any use case where you don't have full control of the loaded file. Please open an issue on GitHub for any issues related to this experimental feature.\n",
      "  self.net.load_state_dict(torch.load(path, **kwargs))\n"
     ]
    },
    {
     "name": "stdout",
     "output_type": "stream",
     "text": [
      "Model and baseline hazards saved to /mnt/d/PYDataScience/g3_regress/code/models/deephit_ann_clustering_all.pt and /mnt/d/PYDataScience/g3_regress/code/models/deephit_ann_clustering_all_hazard.pkl.\n",
      "Training and saving completed for all cross-validation splits.\n",
      "All models have been trained and saved successfully.\n",
      "Initiate training of deephit neural network\n",
      "model structure: ANN\n",
      "data balancing method: NearMiss\n"
     ]
    },
    {
     "name": "stderr",
     "output_type": "stream",
     "text": [
      "/mnt/d/PYDataScience/g3_regress/code/databalancer2.py:152: SettingWithCopyWarning: \n",
      "A value is trying to be set on a copy of a slice from a DataFrame.\n",
      "Try using .loc[row_indexer,col_indexer] = value instead\n",
      "\n",
      "See the caveats in the documentation: https://pandas.pydata.org/pandas-docs/stable/user_guide/indexing.html#returning-a-view-versus-a-copy\n",
      "  df['_original_index'] = df.index\n",
      "2024-11-21 07:26:38,082 - INFO - Dataset for deephit model undersampled using method 'NearMiss' with sampling strategy 0.05.\n"
     ]
    },
    {
     "name": "stdout",
     "output_type": "stream",
     "text": [
      "0:\t[7s / 7s],\t\ttrain_loss: 0.0978,\tval_loss: 0.0567\n",
      "1:\t[3s / 10s],\t\ttrain_loss: 0.0674,\tval_loss: 0.0337\n",
      "2:\t[3s / 13s],\t\ttrain_loss: 0.0593,\tval_loss: 0.0316\n",
      "3:\t[2s / 16s],\t\ttrain_loss: 0.0565,\tval_loss: 0.0275\n",
      "4:\t[3s / 20s],\t\ttrain_loss: 0.0550,\tval_loss: 0.0272\n",
      "5:\t[2s / 22s],\t\ttrain_loss: 0.0548,\tval_loss: 0.0269\n",
      "6:\t[2s / 25s],\t\ttrain_loss: 0.0547,\tval_loss: 0.0269\n",
      "Model and baseline hazards saved to /mnt/d/PYDataScience/g3_regress/code/models/deephit_ann_nearmiss2_all.pt and /mnt/d/PYDataScience/g3_regress/code/models/deephit_ann_nearmiss2_all_hazard.pkl.\n"
     ]
    },
    {
     "name": "stderr",
     "output_type": "stream",
     "text": [
      "/home/goma/miniconda3/envs/ai_dev/lib/python3.11/site-packages/torchtuples/base.py:669: FutureWarning: You are using `torch.load` with `weights_only=False` (the current default value), which uses the default pickle module implicitly. It is possible to construct malicious pickle data which will execute arbitrary code during unpickling (See https://github.com/pytorch/pytorch/blob/main/SECURITY.md#untrusted-models for more details). In a future release, the default value for `weights_only` will be flipped to `True`. This limits the functions that could be executed during unpickling. Arbitrary objects will no longer be allowed to be loaded via this mode unless they are explicitly allowlisted by the user via `torch.serialization.add_safe_globals`. We recommend you start setting `weights_only=True` for any use case where you don't have full control of the loaded file. Please open an issue on GitHub for any issues related to this experimental feature.\n",
      "  self.net.load_state_dict(torch.load(path, **kwargs))\n"
     ]
    },
    {
     "name": "stdout",
     "output_type": "stream",
     "text": [
      "Training and saving completed for all cross-validation splits.\n",
      "All models have been trained and saved successfully.\n"
     ]
    },
    {
     "name": "stderr",
     "output_type": "stream",
     "text": [
      "2024-11-21 07:27:04,975 - INFO - Performing clustering iteration 1 / 20\n",
      "2024-11-21 07:27:04,975 - INFO - CUDA environment set up and GPU memory cleared.\n",
      "2024-11-21 07:27:04,978 - INFO - Event column 'endpoint' updated with focus on event value 1.\n"
     ]
    },
    {
     "name": "stdout",
     "output_type": "stream",
     "text": [
      "Initiate training of deephit neural network\n",
      "model structure: LSTM\n",
      "data balancing method: clustering\n"
     ]
    },
    {
     "name": "stderr",
     "output_type": "stream",
     "text": [
      "2024-11-21 07:27:05,391 - INFO - Defined medoid for deepsurv model with 1207 clusters.\n",
      "2024-11-21 07:27:05,392 - INFO - Performing clustering iteration 2 / 20\n",
      "2024-11-21 07:27:05,393 - INFO - CUDA environment set up and GPU memory cleared.\n",
      "2024-11-21 07:27:05,396 - INFO - Event column 'endpoint' updated with focus on event value 1.\n",
      "2024-11-21 07:27:05,816 - INFO - Defined medoid for deepsurv model with 1207 clusters.\n",
      "2024-11-21 07:27:05,818 - INFO - Performing clustering iteration 3 / 20\n",
      "2024-11-21 07:27:05,819 - INFO - CUDA environment set up and GPU memory cleared.\n",
      "2024-11-21 07:27:05,826 - INFO - Event column 'endpoint' updated with focus on event value 1.\n",
      "2024-11-21 07:27:06,248 - INFO - Defined medoid for deepsurv model with 1207 clusters.\n",
      "2024-11-21 07:27:06,250 - INFO - Performing clustering iteration 4 / 20\n",
      "2024-11-21 07:27:06,250 - INFO - CUDA environment set up and GPU memory cleared.\n",
      "2024-11-21 07:27:06,254 - INFO - Event column 'endpoint' updated with focus on event value 1.\n",
      "2024-11-21 07:27:06,659 - INFO - Defined medoid for deepsurv model with 1207 clusters.\n",
      "2024-11-21 07:27:06,660 - INFO - Performing clustering iteration 5 / 20\n",
      "2024-11-21 07:27:06,660 - INFO - CUDA environment set up and GPU memory cleared.\n",
      "2024-11-21 07:27:06,663 - INFO - Event column 'endpoint' updated with focus on event value 1.\n",
      "2024-11-21 07:27:07,063 - INFO - Defined medoid for deepsurv model with 1207 clusters.\n",
      "2024-11-21 07:27:07,064 - INFO - Performing clustering iteration 6 / 20\n",
      "2024-11-21 07:27:07,064 - INFO - CUDA environment set up and GPU memory cleared.\n",
      "2024-11-21 07:27:07,067 - INFO - Event column 'endpoint' updated with focus on event value 1.\n",
      "2024-11-21 07:27:07,462 - INFO - Defined medoid for deepsurv model with 1207 clusters.\n",
      "2024-11-21 07:27:07,463 - INFO - Performing clustering iteration 7 / 20\n",
      "2024-11-21 07:27:07,463 - INFO - CUDA environment set up and GPU memory cleared.\n",
      "2024-11-21 07:27:07,466 - INFO - Event column 'endpoint' updated with focus on event value 1.\n",
      "2024-11-21 07:27:07,856 - INFO - Defined medoid for deepsurv model with 1207 clusters.\n",
      "2024-11-21 07:27:07,858 - INFO - Performing clustering iteration 8 / 20\n",
      "2024-11-21 07:27:07,858 - INFO - CUDA environment set up and GPU memory cleared.\n",
      "2024-11-21 07:27:07,862 - INFO - Event column 'endpoint' updated with focus on event value 1.\n",
      "2024-11-21 07:27:08,247 - INFO - Defined medoid for deepsurv model with 1207 clusters.\n",
      "2024-11-21 07:27:08,247 - INFO - Performing clustering iteration 9 / 20\n",
      "2024-11-21 07:27:08,248 - INFO - CUDA environment set up and GPU memory cleared.\n",
      "2024-11-21 07:27:08,250 - INFO - Event column 'endpoint' updated with focus on event value 1.\n",
      "2024-11-21 07:27:08,632 - INFO - Defined medoid for deepsurv model with 1207 clusters.\n",
      "2024-11-21 07:27:08,633 - INFO - Performing clustering iteration 10 / 20\n",
      "2024-11-21 07:27:08,633 - INFO - CUDA environment set up and GPU memory cleared.\n",
      "2024-11-21 07:27:08,636 - INFO - Event column 'endpoint' updated with focus on event value 1.\n",
      "2024-11-21 07:27:09,010 - INFO - Defined medoid for deepsurv model with 1207 clusters.\n",
      "2024-11-21 07:27:09,010 - INFO - Performing clustering iteration 11 / 20\n",
      "2024-11-21 07:27:09,011 - INFO - CUDA environment set up and GPU memory cleared.\n",
      "2024-11-21 07:27:09,014 - INFO - Event column 'endpoint' updated with focus on event value 1.\n",
      "2024-11-21 07:27:09,384 - INFO - Defined medoid for deepsurv model with 1207 clusters.\n",
      "2024-11-21 07:27:09,385 - INFO - Performing clustering iteration 12 / 20\n",
      "2024-11-21 07:27:09,386 - INFO - CUDA environment set up and GPU memory cleared.\n",
      "2024-11-21 07:27:09,390 - INFO - Event column 'endpoint' updated with focus on event value 1.\n",
      "2024-11-21 07:27:09,774 - INFO - Defined medoid for deepsurv model with 1207 clusters.\n",
      "2024-11-21 07:27:09,774 - INFO - Performing clustering iteration 13 / 20\n",
      "2024-11-21 07:27:09,775 - INFO - CUDA environment set up and GPU memory cleared.\n",
      "2024-11-21 07:27:09,777 - INFO - Event column 'endpoint' updated with focus on event value 1.\n",
      "2024-11-21 07:27:10,152 - INFO - Defined medoid for deepsurv model with 1207 clusters.\n",
      "2024-11-21 07:27:10,153 - INFO - Performing clustering iteration 14 / 20\n",
      "2024-11-21 07:27:10,154 - INFO - CUDA environment set up and GPU memory cleared.\n",
      "2024-11-21 07:27:10,156 - INFO - Event column 'endpoint' updated with focus on event value 1.\n",
      "2024-11-21 07:27:10,518 - INFO - Defined medoid for deepsurv model with 1207 clusters.\n",
      "2024-11-21 07:27:10,519 - INFO - Performing clustering iteration 15 / 20\n",
      "2024-11-21 07:27:10,519 - INFO - CUDA environment set up and GPU memory cleared.\n",
      "2024-11-21 07:27:10,523 - INFO - Event column 'endpoint' updated with focus on event value 1.\n",
      "2024-11-21 07:27:10,880 - INFO - Defined medoid for deepsurv model with 1207 clusters.\n",
      "2024-11-21 07:27:10,881 - INFO - Performing clustering iteration 16 / 20\n",
      "2024-11-21 07:27:10,882 - INFO - CUDA environment set up and GPU memory cleared.\n",
      "2024-11-21 07:27:10,885 - INFO - Event column 'endpoint' updated with focus on event value 1.\n",
      "2024-11-21 07:27:11,238 - INFO - Defined medoid for deepsurv model with 1207 clusters.\n",
      "2024-11-21 07:27:11,238 - INFO - Performing clustering iteration 17 / 20\n",
      "2024-11-21 07:27:11,239 - INFO - CUDA environment set up and GPU memory cleared.\n",
      "2024-11-21 07:27:11,241 - INFO - Event column 'endpoint' updated with focus on event value 1.\n",
      "2024-11-21 07:27:11,595 - INFO - Defined medoid for deepsurv model with 1207 clusters.\n",
      "2024-11-21 07:27:11,597 - INFO - Performing clustering iteration 18 / 20\n",
      "2024-11-21 07:27:11,598 - INFO - CUDA environment set up and GPU memory cleared.\n",
      "2024-11-21 07:27:11,601 - INFO - Event column 'endpoint' updated with focus on event value 1.\n",
      "2024-11-21 07:27:11,950 - INFO - Defined medoid for deepsurv model with 1207 clusters.\n",
      "2024-11-21 07:27:11,951 - INFO - Performing clustering iteration 19 / 20\n",
      "2024-11-21 07:27:11,951 - INFO - CUDA environment set up and GPU memory cleared.\n",
      "2024-11-21 07:27:11,953 - INFO - Event column 'endpoint' updated with focus on event value 1.\n",
      "2024-11-21 07:27:12,302 - INFO - Defined medoid for deepsurv model with 1207 clusters.\n",
      "2024-11-21 07:27:12,303 - INFO - Performing clustering iteration 20 / 20\n",
      "2024-11-21 07:27:12,304 - INFO - CUDA environment set up and GPU memory cleared.\n",
      "2024-11-21 07:27:12,306 - INFO - Event column 'endpoint' updated with focus on event value 1.\n",
      "2024-11-21 07:27:12,665 - INFO - Defined medoid for deepsurv model with 1207 clusters.\n",
      "2024-11-21 07:27:12,677 - INFO - Cluster data retrieved\n",
      "2024-11-21 07:28:38,671 - INFO - Validation data retrieved\n"
     ]
    },
    {
     "name": "stdout",
     "output_type": "stream",
     "text": [
      "64249\n"
     ]
    },
    {
     "name": "stderr",
     "output_type": "stream",
     "text": [
      "/home/goma/miniconda3/envs/ai_dev/lib/python3.11/site-packages/torch/nn/modules/rnn.py:917: UserWarning: RNN module weights are not part of single contiguous chunk of memory. This means they need to be compacted at every call, possibly greatly increasing memory usage. To compact weights again call flatten_parameters(). (Triggered internally at ../aten/src/ATen/native/cudnn/RNN.cpp:1424.)\n",
      "  result = _VF.lstm(input, hx, self._flat_weights, self.bias, self.num_layers,\n"
     ]
    },
    {
     "name": "stdout",
     "output_type": "stream",
     "text": [
      "0:\t[3s / 3s],\t\ttrain_loss: 0.0585,\tval_loss: 0.0412\n",
      "1:\t[2s / 6s],\t\ttrain_loss: 0.0493,\tval_loss: 0.0432\n",
      "2:\t[3s / 9s],\t\ttrain_loss: 0.0494,\tval_loss: 0.0417\n",
      "3:\t[2s / 12s],\t\ttrain_loss: 0.0485,\tval_loss: 0.0412\n",
      "4:\t[2s / 15s],\t\ttrain_loss: 0.0493,\tval_loss: 0.0420\n"
     ]
    },
    {
     "name": "stderr",
     "output_type": "stream",
     "text": [
      "/home/goma/miniconda3/envs/ai_dev/lib/python3.11/site-packages/torchtuples/base.py:669: FutureWarning: You are using `torch.load` with `weights_only=False` (the current default value), which uses the default pickle module implicitly. It is possible to construct malicious pickle data which will execute arbitrary code during unpickling (See https://github.com/pytorch/pytorch/blob/main/SECURITY.md#untrusted-models for more details). In a future release, the default value for `weights_only` will be flipped to `True`. This limits the functions that could be executed during unpickling. Arbitrary objects will no longer be allowed to be loaded via this mode unless they are explicitly allowlisted by the user via `torch.serialization.add_safe_globals`. We recommend you start setting `weights_only=True` for any use case where you don't have full control of the loaded file. Please open an issue on GitHub for any issues related to this experimental feature.\n",
      "  self.net.load_state_dict(torch.load(path, **kwargs))\n"
     ]
    },
    {
     "name": "stdout",
     "output_type": "stream",
     "text": [
      "Model and baseline hazards saved to /mnt/d/PYDataScience/g3_regress/code/models/deephit_lstm_clustering_all.pt and /mnt/d/PYDataScience/g3_regress/code/models/deephit_lstm_clustering_all_hazard.pkl.\n",
      "Training and saving completed for all cross-validation splits.\n",
      "All models have been trained and saved successfully.\n",
      "Initiate training of deephit neural network\n",
      "model structure: LSTM\n",
      "data balancing method: NearMiss\n"
     ]
    },
    {
     "name": "stderr",
     "output_type": "stream",
     "text": [
      "/mnt/d/PYDataScience/g3_regress/code/databalancer2.py:152: SettingWithCopyWarning: \n",
      "A value is trying to be set on a copy of a slice from a DataFrame.\n",
      "Try using .loc[row_indexer,col_indexer] = value instead\n",
      "\n",
      "See the caveats in the documentation: https://pandas.pydata.org/pandas-docs/stable/user_guide/indexing.html#returning-a-view-versus-a-copy\n",
      "  df['_original_index'] = df.index\n",
      "/home/goma/miniconda3/envs/ai_dev/lib/python3.11/site-packages/imblearn/under_sampling/_prototype_selection/_nearmiss.py:203: UserWarning: The number of the samples to be selected is larger than the number of samples available. The balancing ratio cannot be ensure and all samples will be returned.\n",
      "  warnings.warn(\n",
      "/home/goma/miniconda3/envs/ai_dev/lib/python3.11/site-packages/imblearn/under_sampling/_prototype_selection/_nearmiss.py:203: UserWarning: The number of the samples to be selected is larger than the number of samples available. The balancing ratio cannot be ensure and all samples will be returned.\n",
      "  warnings.warn(\n",
      "2024-11-21 07:28:55,901 - INFO - Dataset for deephit model undersampled using method 'NearMiss' with sampling strategy 0.05.\n",
      "2024-11-21 07:29:29,809 - INFO - Validation data retrieved\n"
     ]
    },
    {
     "name": "stdout",
     "output_type": "stream",
     "text": [
      "64249\n"
     ]
    },
    {
     "name": "stderr",
     "output_type": "stream",
     "text": [
      "/home/goma/miniconda3/envs/ai_dev/lib/python3.11/site-packages/torch/nn/modules/rnn.py:917: UserWarning: RNN module weights are not part of single contiguous chunk of memory. This means they need to be compacted at every call, possibly greatly increasing memory usage. To compact weights again call flatten_parameters(). (Triggered internally at ../aten/src/ATen/native/cudnn/RNN.cpp:1424.)\n",
      "  result = _VF.lstm(input, hx, self._flat_weights, self.bias, self.num_layers,\n"
     ]
    },
    {
     "name": "stdout",
     "output_type": "stream",
     "text": [
      "0:\t[3s / 3s],\t\ttrain_loss: 0.4252,\tval_loss: 0.0750\n",
      "1:\t[2s / 6s],\t\ttrain_loss: 0.3917,\tval_loss: 0.0722\n",
      "2:\t[2s / 9s],\t\ttrain_loss: 0.3814,\tval_loss: 0.0722\n",
      "3:\t[6s / 15s],\t\ttrain_loss: 0.3792,\tval_loss: 0.0669\n",
      "4:\t[2s / 18s],\t\ttrain_loss: 0.3730,\tval_loss: 0.0693\n",
      "5:\t[2s / 21s],\t\ttrain_loss: 0.3558,\tval_loss: 0.0645\n",
      "6:\t[2s / 24s],\t\ttrain_loss: 0.3377,\tval_loss: 0.0655\n",
      "7:\t[3s / 27s],\t\ttrain_loss: 0.3722,\tval_loss: 0.0827\n",
      "8:\t[2s / 30s],\t\ttrain_loss: 0.3641,\tval_loss: 0.0678\n"
     ]
    },
    {
     "name": "stderr",
     "output_type": "stream",
     "text": [
      "/home/goma/miniconda3/envs/ai_dev/lib/python3.11/site-packages/torchtuples/base.py:669: FutureWarning: You are using `torch.load` with `weights_only=False` (the current default value), which uses the default pickle module implicitly. It is possible to construct malicious pickle data which will execute arbitrary code during unpickling (See https://github.com/pytorch/pytorch/blob/main/SECURITY.md#untrusted-models for more details). In a future release, the default value for `weights_only` will be flipped to `True`. This limits the functions that could be executed during unpickling. Arbitrary objects will no longer be allowed to be loaded via this mode unless they are explicitly allowlisted by the user via `torch.serialization.add_safe_globals`. We recommend you start setting `weights_only=True` for any use case where you don't have full control of the loaded file. Please open an issue on GitHub for any issues related to this experimental feature.\n",
      "  self.net.load_state_dict(torch.load(path, **kwargs))\n"
     ]
    },
    {
     "name": "stdout",
     "output_type": "stream",
     "text": [
      "Model and baseline hazards saved to /mnt/d/PYDataScience/g3_regress/code/models/deephit_lstm_nearmiss1_all.pt and /mnt/d/PYDataScience/g3_regress/code/models/deephit_lstm_nearmiss1_all_hazard.pkl.\n",
      "Training and saving completed for all cross-validation splits.\n",
      "All models have been trained and saved successfully.\n"
     ]
    }
   ],
   "source": [
    "gss1 = GroupShuffleSplit(n_splits=1, test_size=0.2, random_state=RANDOM_SEED)\n",
    "gss2 = GroupShuffleSplit(n_splits=1, test_size=0.2, random_state=RANDOM_SEED)\n",
    "for train_idx_1, fin_val_idx in gss1.split(X=X_train_transformed[FEATURE_COLS], y=X_train_transformed[EVENT_COL], groups=X_train_transformed[CLUSTER_COL]):\n",
    "    X_train_transformed_2, X_fin_val = X_train_transformed.iloc[train_idx_1, :], X_train_transformed.iloc[fin_val_idx, :]\n",
    "    gc.collect()\n",
    "    torch.cuda.empty_cache()\n",
    "    for model in model_ls:\n",
    "        config_var_name = model + \"_config\"\n",
    "        model_config = globals().get(config_var_name)\n",
    "        if model_config is None:\n",
    "            print(f\"Configuration for {config_var_name} not found.\")\n",
    "            continue\n",
    "\n",
    "        model_weights_path = f'{model_path}{model}.pt'\n",
    "        model_hazard_path = f'{model_path}{model}_hazard.pkl'\n",
    "        \n",
    "        training_wrapper(X_train_transformed_2, model_config, gss2, model_weights_path, \n",
    "                        model_hazard_path, \n",
    "                        feature_col=FEATURE_COLS, duration_col=DURATION_COL, event_col=EVENT_COL, cluster_col=CLUSTER_COL, time_grid=TIME_GRID)\n",
    "        gc.collect()\n",
    "        torch.cuda.empty_cache()"
   ]
  },
  {
   "cell_type": "markdown",
   "metadata": {},
   "source": [
    "### 4. Load models and hazards"
   ]
  },
  {
   "cell_type": "code",
   "execution_count": 205,
   "metadata": {},
   "outputs": [],
   "source": [
    "def load_model(model, model_config, model_path, baseline_hazard_path):\n",
    "    \"\"\"\n",
    "    Load model weights and baseline hazard data.\n",
    "\n",
    "    Parameters:\n",
    "    - create_model_func: Function to create the model architecture (e.g., create_neural_network).\n",
    "    - model_path: Path to load the model weights (.pt file).\n",
    "    - baseline_hazard_path: Path to load the baseline hazards (.pkl file).\n",
    "\n",
    "    Returns:\n",
    "    - model: The loaded model with weights and baseline hazards.\n",
    "    \"\"\"\n",
    "    \n",
    "    # Load model weights\n",
    "    model.load_model_weights(model_path)\n",
    "    \n",
    "    # Load baseline hazards and assign to model\n",
    "    if model_config['model'] == 'deepsurv':\n",
    "        baseline_hazard = pd.read_pickle(baseline_hazard_path)\n",
    "        model.baseline_hazards_ = baseline_hazard\n",
    "        model.baseline_cumulative_hazards_ = baseline_hazard.cumsum()\n",
    "    \n",
    "    print(f\"Model and baseline hazards loaded from {model_path} and {baseline_hazard_path}.\")\n",
    "    return model"
   ]
  },
  {
   "cell_type": "code",
   "execution_count": 206,
   "metadata": {},
   "outputs": [
    {
     "name": "stdout",
     "output_type": "stream",
     "text": [
      "Model and baseline hazards loaded from /mnt/d/PYDataScience/g3_regress/code/models/deepsurv_ann_clustering_1.pt and /mnt/d/PYDataScience/g3_regress/code/models/deepsurv_ann_clustering_1_hazard.pkl.\n",
      "Loaded model deepsurv_ann_clustering_1\n"
     ]
    },
    {
     "name": "stderr",
     "output_type": "stream",
     "text": [
      "/home/goma/miniconda3/envs/ai_dev/lib/python3.11/site-packages/torchtuples/base.py:669: FutureWarning: You are using `torch.load` with `weights_only=False` (the current default value), which uses the default pickle module implicitly. It is possible to construct malicious pickle data which will execute arbitrary code during unpickling (See https://github.com/pytorch/pytorch/blob/main/SECURITY.md#untrusted-models for more details). In a future release, the default value for `weights_only` will be flipped to `True`. This limits the functions that could be executed during unpickling. Arbitrary objects will no longer be allowed to be loaded via this mode unless they are explicitly allowlisted by the user via `torch.serialization.add_safe_globals`. We recommend you start setting `weights_only=True` for any use case where you don't have full control of the loaded file. Please open an issue on GitHub for any issues related to this experimental feature.\n",
      "  self.net.load_state_dict(torch.load(path, **kwargs))\n"
     ]
    },
    {
     "name": "stdout",
     "output_type": "stream",
     "text": [
      "Model and baseline hazards loaded from /mnt/d/PYDataScience/g3_regress/code/models/deepsurv_ann_smoteenn_1.pt and /mnt/d/PYDataScience/g3_regress/code/models/deepsurv_ann_smoteenn_1_hazard.pkl.\n",
      "Loaded model deepsurv_ann_smoteenn_1\n",
      "Model and baseline hazards loaded from /mnt/d/PYDataScience/g3_regress/code/models/deepsurv_ann_smotetomek_1.pt and /mnt/d/PYDataScience/g3_regress/code/models/deepsurv_ann_smotetomek_1_hazard.pkl.\n",
      "Loaded model deepsurv_ann_smotetomek_1\n"
     ]
    },
    {
     "name": "stderr",
     "output_type": "stream",
     "text": [
      "/home/goma/miniconda3/envs/ai_dev/lib/python3.11/site-packages/torchtuples/base.py:669: FutureWarning: You are using `torch.load` with `weights_only=False` (the current default value), which uses the default pickle module implicitly. It is possible to construct malicious pickle data which will execute arbitrary code during unpickling (See https://github.com/pytorch/pytorch/blob/main/SECURITY.md#untrusted-models for more details). In a future release, the default value for `weights_only` will be flipped to `True`. This limits the functions that could be executed during unpickling. Arbitrary objects will no longer be allowed to be loaded via this mode unless they are explicitly allowlisted by the user via `torch.serialization.add_safe_globals`. We recommend you start setting `weights_only=True` for any use case where you don't have full control of the loaded file. Please open an issue on GitHub for any issues related to this experimental feature.\n",
      "  self.net.load_state_dict(torch.load(path, **kwargs))\n",
      "/home/goma/miniconda3/envs/ai_dev/lib/python3.11/site-packages/torchtuples/base.py:669: FutureWarning: You are using `torch.load` with `weights_only=False` (the current default value), which uses the default pickle module implicitly. It is possible to construct malicious pickle data which will execute arbitrary code during unpickling (See https://github.com/pytorch/pytorch/blob/main/SECURITY.md#untrusted-models for more details). In a future release, the default value for `weights_only` will be flipped to `True`. This limits the functions that could be executed during unpickling. Arbitrary objects will no longer be allowed to be loaded via this mode unless they are explicitly allowlisted by the user via `torch.serialization.add_safe_globals`. We recommend you start setting `weights_only=True` for any use case where you don't have full control of the loaded file. Please open an issue on GitHub for any issues related to this experimental feature.\n",
      "  self.net.load_state_dict(torch.load(path, **kwargs))\n"
     ]
    },
    {
     "name": "stdout",
     "output_type": "stream",
     "text": [
      "Model and baseline hazards loaded from /mnt/d/PYDataScience/g3_regress/code/models/deepsurv_ann_clustering_2.pt and /mnt/d/PYDataScience/g3_regress/code/models/deepsurv_ann_clustering_2_hazard.pkl.\n",
      "Loaded model deepsurv_ann_clustering_2\n"
     ]
    },
    {
     "name": "stderr",
     "output_type": "stream",
     "text": [
      "/home/goma/miniconda3/envs/ai_dev/lib/python3.11/site-packages/torchtuples/base.py:669: FutureWarning: You are using `torch.load` with `weights_only=False` (the current default value), which uses the default pickle module implicitly. It is possible to construct malicious pickle data which will execute arbitrary code during unpickling (See https://github.com/pytorch/pytorch/blob/main/SECURITY.md#untrusted-models for more details). In a future release, the default value for `weights_only` will be flipped to `True`. This limits the functions that could be executed during unpickling. Arbitrary objects will no longer be allowed to be loaded via this mode unless they are explicitly allowlisted by the user via `torch.serialization.add_safe_globals`. We recommend you start setting `weights_only=True` for any use case where you don't have full control of the loaded file. Please open an issue on GitHub for any issues related to this experimental feature.\n",
      "  self.net.load_state_dict(torch.load(path, **kwargs))\n"
     ]
    },
    {
     "name": "stdout",
     "output_type": "stream",
     "text": [
      "Model and baseline hazards loaded from /mnt/d/PYDataScience/g3_regress/code/models/deepsurv_ann_smoteenn_2.pt and /mnt/d/PYDataScience/g3_regress/code/models/deepsurv_ann_smoteenn_2_hazard.pkl.\n",
      "Loaded model deepsurv_ann_smoteenn_2\n"
     ]
    },
    {
     "name": "stderr",
     "output_type": "stream",
     "text": [
      "/home/goma/miniconda3/envs/ai_dev/lib/python3.11/site-packages/torchtuples/base.py:669: FutureWarning: You are using `torch.load` with `weights_only=False` (the current default value), which uses the default pickle module implicitly. It is possible to construct malicious pickle data which will execute arbitrary code during unpickling (See https://github.com/pytorch/pytorch/blob/main/SECURITY.md#untrusted-models for more details). In a future release, the default value for `weights_only` will be flipped to `True`. This limits the functions that could be executed during unpickling. Arbitrary objects will no longer be allowed to be loaded via this mode unless they are explicitly allowlisted by the user via `torch.serialization.add_safe_globals`. We recommend you start setting `weights_only=True` for any use case where you don't have full control of the loaded file. Please open an issue on GitHub for any issues related to this experimental feature.\n",
      "  self.net.load_state_dict(torch.load(path, **kwargs))\n",
      "/home/goma/miniconda3/envs/ai_dev/lib/python3.11/site-packages/torchtuples/base.py:669: FutureWarning: You are using `torch.load` with `weights_only=False` (the current default value), which uses the default pickle module implicitly. It is possible to construct malicious pickle data which will execute arbitrary code during unpickling (See https://github.com/pytorch/pytorch/blob/main/SECURITY.md#untrusted-models for more details). In a future release, the default value for `weights_only` will be flipped to `True`. This limits the functions that could be executed during unpickling. Arbitrary objects will no longer be allowed to be loaded via this mode unless they are explicitly allowlisted by the user via `torch.serialization.add_safe_globals`. We recommend you start setting `weights_only=True` for any use case where you don't have full control of the loaded file. Please open an issue on GitHub for any issues related to this experimental feature.\n",
      "  self.net.load_state_dict(torch.load(path, **kwargs))\n"
     ]
    },
    {
     "name": "stdout",
     "output_type": "stream",
     "text": [
      "Model and baseline hazards loaded from /mnt/d/PYDataScience/g3_regress/code/models/deepsurv_ann_smotetomek_2.pt and /mnt/d/PYDataScience/g3_regress/code/models/deepsurv_ann_smotetomek_2_hazard.pkl.\n",
      "Loaded model deepsurv_ann_smotetomek_2\n",
      "Model and baseline hazards loaded from /mnt/d/PYDataScience/g3_regress/code/models/deepsurv_lstm_clustering_1.pt and /mnt/d/PYDataScience/g3_regress/code/models/deepsurv_lstm_clustering_1_hazard.pkl.\n",
      "Loaded model deepsurv_lstm_clustering_1\n"
     ]
    },
    {
     "name": "stderr",
     "output_type": "stream",
     "text": [
      "/home/goma/miniconda3/envs/ai_dev/lib/python3.11/site-packages/torchtuples/base.py:669: FutureWarning: You are using `torch.load` with `weights_only=False` (the current default value), which uses the default pickle module implicitly. It is possible to construct malicious pickle data which will execute arbitrary code during unpickling (See https://github.com/pytorch/pytorch/blob/main/SECURITY.md#untrusted-models for more details). In a future release, the default value for `weights_only` will be flipped to `True`. This limits the functions that could be executed during unpickling. Arbitrary objects will no longer be allowed to be loaded via this mode unless they are explicitly allowlisted by the user via `torch.serialization.add_safe_globals`. We recommend you start setting `weights_only=True` for any use case where you don't have full control of the loaded file. Please open an issue on GitHub for any issues related to this experimental feature.\n",
      "  self.net.load_state_dict(torch.load(path, **kwargs))\n",
      "/home/goma/miniconda3/envs/ai_dev/lib/python3.11/site-packages/torchtuples/base.py:669: FutureWarning: You are using `torch.load` with `weights_only=False` (the current default value), which uses the default pickle module implicitly. It is possible to construct malicious pickle data which will execute arbitrary code during unpickling (See https://github.com/pytorch/pytorch/blob/main/SECURITY.md#untrusted-models for more details). In a future release, the default value for `weights_only` will be flipped to `True`. This limits the functions that could be executed during unpickling. Arbitrary objects will no longer be allowed to be loaded via this mode unless they are explicitly allowlisted by the user via `torch.serialization.add_safe_globals`. We recommend you start setting `weights_only=True` for any use case where you don't have full control of the loaded file. Please open an issue on GitHub for any issues related to this experimental feature.\n",
      "  self.net.load_state_dict(torch.load(path, **kwargs))\n"
     ]
    },
    {
     "name": "stdout",
     "output_type": "stream",
     "text": [
      "Model and baseline hazards loaded from /mnt/d/PYDataScience/g3_regress/code/models/deepsurv_lstm_nearmiss_1.pt and /mnt/d/PYDataScience/g3_regress/code/models/deepsurv_lstm_nearmiss_1_hazard.pkl.\n",
      "Loaded model deepsurv_lstm_nearmiss_1\n",
      "Model and baseline hazards loaded from /mnt/d/PYDataScience/g3_regress/code/models/deepsurv_lstm_clustering_2.pt and /mnt/d/PYDataScience/g3_regress/code/models/deepsurv_lstm_clustering_2_hazard.pkl.\n",
      "Loaded model deepsurv_lstm_clustering_2\n"
     ]
    },
    {
     "name": "stderr",
     "output_type": "stream",
     "text": [
      "/home/goma/miniconda3/envs/ai_dev/lib/python3.11/site-packages/torchtuples/base.py:669: FutureWarning: You are using `torch.load` with `weights_only=False` (the current default value), which uses the default pickle module implicitly. It is possible to construct malicious pickle data which will execute arbitrary code during unpickling (See https://github.com/pytorch/pytorch/blob/main/SECURITY.md#untrusted-models for more details). In a future release, the default value for `weights_only` will be flipped to `True`. This limits the functions that could be executed during unpickling. Arbitrary objects will no longer be allowed to be loaded via this mode unless they are explicitly allowlisted by the user via `torch.serialization.add_safe_globals`. We recommend you start setting `weights_only=True` for any use case where you don't have full control of the loaded file. Please open an issue on GitHub for any issues related to this experimental feature.\n",
      "  self.net.load_state_dict(torch.load(path, **kwargs))\n",
      "/home/goma/miniconda3/envs/ai_dev/lib/python3.11/site-packages/torchtuples/base.py:669: FutureWarning: You are using `torch.load` with `weights_only=False` (the current default value), which uses the default pickle module implicitly. It is possible to construct malicious pickle data which will execute arbitrary code during unpickling (See https://github.com/pytorch/pytorch/blob/main/SECURITY.md#untrusted-models for more details). In a future release, the default value for `weights_only` will be flipped to `True`. This limits the functions that could be executed during unpickling. Arbitrary objects will no longer be allowed to be loaded via this mode unless they are explicitly allowlisted by the user via `torch.serialization.add_safe_globals`. We recommend you start setting `weights_only=True` for any use case where you don't have full control of the loaded file. Please open an issue on GitHub for any issues related to this experimental feature.\n",
      "  self.net.load_state_dict(torch.load(path, **kwargs))\n"
     ]
    },
    {
     "name": "stdout",
     "output_type": "stream",
     "text": [
      "Model and baseline hazards loaded from /mnt/d/PYDataScience/g3_regress/code/models/deepsurv_lstm_nearmiss_2.pt and /mnt/d/PYDataScience/g3_regress/code/models/deepsurv_lstm_nearmiss_2_hazard.pkl.\n",
      "Loaded model deepsurv_lstm_nearmiss_2\n",
      "Model and baseline hazards loaded from /mnt/d/PYDataScience/g3_regress/code/models/deephit_ann_clustering_all.pt and /mnt/d/PYDataScience/g3_regress/code/models/deephit_ann_clustering_all_hazard.pkl.\n",
      "Loaded model deephit_ann_clustering_all\n",
      "Model and baseline hazards loaded from /mnt/d/PYDataScience/g3_regress/code/models/deephit_ann_nearmiss2_all.pt and /mnt/d/PYDataScience/g3_regress/code/models/deephit_ann_nearmiss2_all_hazard.pkl.\n",
      "Loaded model deephit_ann_nearmiss2_all\n",
      "Model and baseline hazards loaded from /mnt/d/PYDataScience/g3_regress/code/models/deephit_lstm_clustering_all.pt and /mnt/d/PYDataScience/g3_regress/code/models/deephit_lstm_clustering_all_hazard.pkl.\n",
      "Loaded model deephit_lstm_clustering_all\n",
      "Model and baseline hazards loaded from /mnt/d/PYDataScience/g3_regress/code/models/deephit_lstm_nearmiss1_all.pt and /mnt/d/PYDataScience/g3_regress/code/models/deephit_lstm_nearmiss1_all_hazard.pkl.\n",
      "Loaded model deephit_lstm_nearmiss1_all\n"
     ]
    }
   ],
   "source": [
    "# Dictionary to store loaded models\n",
    "loaded_models = {}\n",
    "\n",
    "for model_name in model_ls:\n",
    "    # Retrieve configuration by dynamically constructing the variable name\n",
    "    config_var_name = model_name + \"_config\"\n",
    "    model_config = globals().get(config_var_name)\n",
    "    \n",
    "    if model_config is None:\n",
    "        print(f\"Configuration for {config_var_name} not found.\")\n",
    "        continue\n",
    "\n",
    "    model_weights_path = f'{model_path}{model_name}.pt'\n",
    "    model_hazard_path = f'{model_path}{model_name}_hazard.pkl'\n",
    "    \n",
    "    # Define the model creation function as a lambda to pass the config\n",
    "    create_model_func = lambda: create_neural_network(\n",
    "        config=model_config,\n",
    "        num_risk=len(X_train_transformed[EVENT_COL].unique()) - 1,\n",
    "        num_time_bins=len(TIME_GRID)\n",
    "    )\n",
    "    model = create_model_func()\n",
    "    \n",
    "    # Load the model and store it in the dictionary\n",
    "    loaded_models[model_name] = load_model(model, model_config, model_weights_path, model_hazard_path)\n",
    "    print(f'Loaded model {model_name}')"
   ]
  },
  {
   "cell_type": "markdown",
   "metadata": {},
   "source": [
    "### 5. Prepare and make prediction on the training set, combine the prediction arrays for training of super learner"
   ]
  },
  {
   "cell_type": "code",
   "execution_count": 207,
   "metadata": {},
   "outputs": [],
   "source": [
    "def predict_neural_network(model, config, X_test, duration_col, event_col, cluster_col, time_grid=None):\n",
    "    \"\"\"\n",
    "    Function to train a given neural network using the provided datasets.\n",
    "\n",
    "    Args:\n",
    "        net (torch.nn.Module): Neural network to be trained.\n",
    "        config (dict): Configuration dictionary containing model hyperparameters.\n",
    "        X_train (pd.DataFrame): Training dataset with features.\n",
    "        X_val (pd.DataFrame): Validation dataset with features.\n",
    "        duration_col (str): Column representing event durations.\n",
    "        event_col (str): Column representing event occurrences.\n",
    "        cluster_col (str): Column for grouping during cross-validation.\n",
    "        callbacks (list): List of callbacks for training.\n",
    "        time_grid (np.array, optional): Time grid for evaluation if required. Defaults to None.\n",
    "\n",
    "    Returns:\n",
    "        model: Trained PyCox model.\n",
    "        logs: Training logs.\n",
    "    \"\"\"\n",
    "    gc.collect()\n",
    "    torch.cuda.empty_cache()\n",
    "    # Train the model\n",
    "    if config['model'] == 'deepsurv':\n",
    "        print('Initiate testing of deepsurv neural network')\n",
    "        X_test = df_event_focus(X_test, event_col, config['endpoint'])\n",
    "        if config['net'] == 'ann':\n",
    "            print('model structure: ANN')\n",
    "            X_test_processed, y_test = preprocess_data(X_test, config['features'], duration_col, event_col)\n",
    "            surv = model.predict_surv_df(X_test_processed, batch_size=512)\n",
    "        elif config['net'] == 'lstm':\n",
    "            print('model structure: LSTM')\n",
    "            X_test_processed, y_test = prepare_validation_data(X_test, config['features'], duration_col, event_col, config, cluster_col, config['model'], time_grid)\n",
    "            X_test_tensor = torch.tensor(X_test_processed, dtype=torch.float32)\n",
    "            y_test_tensor = (torch.tensor(y_test[0], dtype=torch.float32), torch.tensor(y_test[1], dtype=torch.float32))\n",
    "            surv = model.predict_surv_df(X_test_tensor, batch_size=512)\n",
    "    elif config['model'] == 'deephit':\n",
    "        print('Initiate testing of deephit neural network')\n",
    "        if config['net'] == 'ann':\n",
    "            print('model structure: ANN')\n",
    "            X_test_processed, y_test = preprocess_data(X_test, config['features'], duration_col, event_col, time_grid, discretize=True)\n",
    "            surv = model.predict_cif(X_test_processed, batch_size=512)\n",
    "            print('prediction complete, please note that prediction of deephit models are CIF.')\n",
    "        elif config['net'] == 'lstm':\n",
    "            print('model structure: LSTM')\n",
    "            X_test_processed, y_test = prepare_validation_data(X_test, config['features'], duration_col, event_col, config, cluster_col, config['model'], time_grid)\n",
    "            surv = model.predict_cif(X_test_processed, batch_size=512)\n",
    "            print('prediction complete, please note that prediction of deephit models are CIF.')\n",
    "\n",
    "    # Free memory after training\n",
    "    gc.collect()\n",
    "    torch.cuda.empty_cache()\n",
    "\n",
    "    return surv, y_test"
   ]
  },
  {
   "cell_type": "code",
   "execution_count": 208,
   "metadata": {},
   "outputs": [],
   "source": [
    "\n",
    "def align_to_time_grid(surv, time_grid):\n",
    "    \"\"\"\n",
    "    Align the survival DataFrame to the closest indices of the time grid.\n",
    "\n",
    "    Parameters:\n",
    "        surv (pd.DataFrame): Survival probabilities DataFrame.\n",
    "        time_grid (np.array): Array of target time points to align.\n",
    "\n",
    "    Returns:\n",
    "        aligned_surv (pd.DataFrame): Aligned survival probabilities.\n",
    "    \"\"\"\n",
    "    # Convert the DataFrame's index to a NumPy array for fast computation\n",
    "    surv_times = np.array(surv.index)\n",
    "    \n",
    "    # Find the closest time in the survival DataFrame for each time in the grid\n",
    "    closest_indices = [np.argmin(np.abs(surv_times - t)) for t in time_grid]\n",
    "    \n",
    "    # Extract the rows corresponding to the closest times\n",
    "    aligned_surv = surv.iloc[closest_indices].copy()\n",
    "    \n",
    "    # Reindex the DataFrame to match the time grid\n",
    "    aligned_surv.index = range(len(time_grid))  # Standardize indices to 0, 1, 2, ...\n",
    "    return aligned_surv"
   ]
  },
  {
   "cell_type": "markdown",
   "metadata": {},
   "source": [
    "#### 5.1 Use lifelines and CoxPH Fitter to get the CIF of both outcomes as the 'ground truth' of the training dataset"
   ]
  },
  {
   "cell_type": "code",
   "execution_count": 209,
   "metadata": {},
   "outputs": [
    {
     "name": "stderr",
     "output_type": "stream",
     "text": [
      "/home/goma/miniconda3/envs/ai_dev/lib/python3.11/site-packages/lifelines/fitters/coxph_fitter.py:1607: ConvergenceWarning: Newton-Raphson convergence completed successfully but norm(delta) is still high, 0.359. This may imply non-unique solutions to the maximum likelihood. Perhaps there is collinearity or complete separation in the dataset?\n",
      "\n",
      "  warnings.warn(\n"
     ]
    }
   ],
   "source": [
    "from lifelines import CoxPHFitter\n",
    "from lifelines import AalenJohansenFitter\n",
    "from sklearn.linear_model import LinearRegression\n",
    "from joblib import Parallel, delayed\n",
    "\n",
    "# Convert all non-target events to 0 (censored)\n",
    "X_train_transformed[\"event1\"] = X_train_transformed[EVENT_COL].apply(lambda x: 1 if x == 1 else 0)\n",
    "X_train_transformed[\"event2\"] = X_train_transformed[EVENT_COL].apply(lambda x: 1 if x == 2 else 0)\n",
    "\n",
    "class_counts = X_train_transformed[EVENT_COL].value_counts()\n",
    "X_train_transformed['weights'] = X_train_transformed[EVENT_COL].map(lambda e: 1 / class_counts[e]).values\n",
    "\n",
    "# Step 1: Fit a Cox model for each event type\n",
    "cox_model_event_1 = CoxPHFitter()\n",
    "cox_model_event_1.fit(X_train_transformed[FEATURE_COLS + [DURATION_COL, 'event1', CLUSTER_COL, 'weights']], duration_col=DURATION_COL, event_col=\"event1\", cluster_col=CLUSTER_COL, weights_col=\"weights\", robust=True)\n",
    "\n",
    "cox_model_event_2 = CoxPHFitter()\n",
    "cox_model_event_2.fit(X_train_transformed[FEATURE_COLS + [DURATION_COL, 'event2', CLUSTER_COL, 'weights']], duration_col=DURATION_COL, event_col=\"event2\", cluster_col=CLUSTER_COL, weights_col=\"weights\", robust=True)\n",
    "\n",
    "# Step 2: Predict individual cumulative hazards for each event type\n",
    "cumulative_hazard_event_1 = cox_model_event_1.predict_cumulative_hazard(X_train_transformed)\n",
    "cumulative_hazard_event_2 = cox_model_event_2.predict_cumulative_hazard(X_train_transformed)\n",
    "\n",
    "# Step 3: Compute overall survival for each individual\n",
    "# Overall survival: S(t) = exp(- (H1(t) + H2(t)))\n",
    "overall_survival = np.exp(-(cumulative_hazard_event_1 + cumulative_hazard_event_2))\n",
    "\n",
    "# Step 4: Calculate CIF for each event type\n",
    "# CIF_k(t) = ∫ h_k(u) * S(u) du (approximated as cumulative sum)\n",
    "cif_event_1 = (cumulative_hazard_event_1 * overall_survival).cumsum(axis=0)\n",
    "cif_event_2 = (cumulative_hazard_event_2 * overall_survival).cumsum(axis=0)\n",
    "\n",
    "# Step 5: Format and display the CIF predictions\n",
    "cif_event_1_normalized = cif_event_1.div(cif_event_1.iloc[-1].max(), axis=1)\n",
    "cif_event_2_normalized = cif_event_2.div(cif_event_2.iloc[-1].max(), axis=1)\n",
    "\n",
    "# Compute the CIF ground truth\n",
    "cif_ground_truth = np.zeros((2,6,396424))\n",
    "cif_ground_truth[0] = align_to_time_grid(cif_event_1_normalized, TIME_GRID).values\n",
    "cif_ground_truth[1] = align_to_time_grid(cif_event_2_normalized, TIME_GRID).values"
   ]
  },
  {
   "cell_type": "code",
   "execution_count": 220,
   "metadata": {},
   "outputs": [
    {
     "data": {
      "text/plain": [
       "{'Event_1': 0.9818982092210652, 'Event_2': 0.7033707118427875}"
      ]
     },
     "metadata": {},
     "output_type": "display_data"
    },
    {
     "data": {
      "text/plain": [
       "{'Event_1': 0       0.000000\n",
       " 365     0.038203\n",
       " 730     0.038203\n",
       " 1095    0.038203\n",
       " 1460    0.038203\n",
       " 1825    0.038203\n",
       " Name: brier_score, dtype: float64,\n",
       " 'Event_2': 0       0.000000\n",
       " 365     0.085103\n",
       " 730     0.085103\n",
       " 1095    0.085103\n",
       " 1460    0.085103\n",
       " 1825    0.085103\n",
       " Name: brier_score, dtype: float64}"
      ]
     },
     "metadata": {},
     "output_type": "display_data"
    },
    {
     "data": {
      "text/plain": [
       "{'Event_1': 0.03565589439044669, 'Event_2': 0.07942951892202992}"
      ]
     },
     "metadata": {},
     "output_type": "display_data"
    },
    {
     "data": {
      "text/plain": [
       "{'Event_1': 0.17732477425591783, 'Event_2': 0.27434970836708145}"
      ]
     },
     "metadata": {},
     "output_type": "display_data"
    }
   ],
   "source": [
    "_, y_ground_truth = preprocess_data(X_train_transformed, FEATURE_COLS, DURATION_COL, EVENT_COL, TIME_GRID, discretize=True)\n",
    "concordance_indices = {}\n",
    "integrated_brier_scores = {}\n",
    "neg_log_likelihoods = {}\n",
    "brier_series = {}\n",
    "for i in range(0, 2):\n",
    "    event_interest = i + 1\n",
    "    cif = pd.DataFrame(cif_ground_truth[i], [0, 1, 2, 3, 4, 5])\n",
    "    ev = EvalSurv(1-cif, y_ground_truth[0], y_ground_truth[1] == event_interest, censor_surv='km')\n",
    "    concordance_indices[f\"Event_{event_interest}\"] = ev.concordance_td()\n",
    "    brier_series[f\"Event_{event_interest}\"] = ev.brier_score(TIME_GRID)\n",
    "    integrated_brier_scores[f\"Event_{event_interest}\"] = ev.integrated_brier_score(TIME_GRID)\n",
    "    neg_log_likelihoods[f\"Event_{event_interest}\"] = ev.integrated_nbll(TIME_GRID)\n",
    "\n",
    "    # # Nam and D'Agostino Chi2 statistic for calibration\n",
    "    # for time in time_grid:\n",
    "    #     chi2_stat, p_value, observed_events, expected_events, n, prob_df = nam_dagostino_chi2(\n",
    "    #         df=df_test, \n",
    "    #         duration_col=duration_col, \n",
    "    #         event_col=event_col,\n",
    "    #         surv=(1-cif), \n",
    "    #         time=time, \n",
    "    #         event_focus=event_interest\n",
    "    #     )\n",
    "    #     nam_dagostino_results.append({\n",
    "    #         'Event': event_interest,\n",
    "    #         'Year': round(time / 365),\n",
    "    #         'Chi2_Stat': chi2_stat,\n",
    "    #         'P_Value': p_value,\n",
    "    #         'Observed_Events': observed_events.tolist(),\n",
    "    #         'Expected_Events': expected_events.tolist(),\n",
    "    #         'Sample_Size': n.tolist()\n",
    "    #     })\n",
    "display(concordance_indices)\n",
    "display(brier_series)\n",
    "display(integrated_brier_scores)\n",
    "display(neg_log_likelihoods)\n"
   ]
  },
  {
   "cell_type": "markdown",
   "metadata": {},
   "source": [
    "#### 5.2 Get the prediction for each model"
   ]
  },
  {
   "cell_type": "code",
   "execution_count": 211,
   "metadata": {},
   "outputs": [
    {
     "name": "stderr",
     "output_type": "stream",
     "text": [
      "2024-11-21 09:05:26,695 - INFO - Event column 'endpoint' updated with focus on event value 1.\n"
     ]
    },
    {
     "name": "stdout",
     "output_type": "stream",
     "text": [
      "Processing fold 1...\n",
      "Initiating prediction for model: deepsurv_ann_clustering_1\n",
      "Initiate testing of deepsurv neural network\n",
      "model structure: ANN\n"
     ]
    },
    {
     "name": "stderr",
     "output_type": "stream",
     "text": [
      "2024-11-21 09:05:27,340 - INFO - Event column 'endpoint' updated with focus on event value 1.\n"
     ]
    },
    {
     "name": "stdout",
     "output_type": "stream",
     "text": [
      "Prediction completed for deepsurv_ann_clustering_1 on fold 1.\n",
      "Initiating prediction for model: deepsurv_ann_smoteenn_1\n",
      "Initiate testing of deepsurv neural network\n",
      "model structure: ANN\n"
     ]
    },
    {
     "name": "stderr",
     "output_type": "stream",
     "text": [
      "2024-11-21 09:05:36,046 - INFO - Event column 'endpoint' updated with focus on event value 1.\n"
     ]
    },
    {
     "name": "stdout",
     "output_type": "stream",
     "text": [
      "Prediction completed for deepsurv_ann_smoteenn_1 on fold 1.\n",
      "Initiating prediction for model: deepsurv_ann_smotetomek_1\n",
      "Initiate testing of deepsurv neural network\n",
      "model structure: ANN\n"
     ]
    },
    {
     "name": "stderr",
     "output_type": "stream",
     "text": [
      "2024-11-21 09:05:45,899 - INFO - Event column 'endpoint' updated with focus on event value 2.\n"
     ]
    },
    {
     "name": "stdout",
     "output_type": "stream",
     "text": [
      "Prediction completed for deepsurv_ann_smotetomek_1 on fold 1.\n",
      "Initiating prediction for model: deepsurv_ann_clustering_2\n",
      "Initiate testing of deepsurv neural network\n",
      "model structure: ANN\n"
     ]
    },
    {
     "name": "stderr",
     "output_type": "stream",
     "text": [
      "2024-11-21 09:05:46,603 - INFO - Event column 'endpoint' updated with focus on event value 2.\n"
     ]
    },
    {
     "name": "stdout",
     "output_type": "stream",
     "text": [
      "Prediction completed for deepsurv_ann_clustering_2 on fold 1.\n",
      "Initiating prediction for model: deepsurv_ann_smoteenn_2\n",
      "Initiate testing of deepsurv neural network\n",
      "model structure: ANN\n"
     ]
    },
    {
     "name": "stderr",
     "output_type": "stream",
     "text": [
      "2024-11-21 09:05:48,259 - INFO - Event column 'endpoint' updated with focus on event value 2.\n"
     ]
    },
    {
     "name": "stdout",
     "output_type": "stream",
     "text": [
      "Prediction completed for deepsurv_ann_smoteenn_2 on fold 1.\n",
      "Initiating prediction for model: deepsurv_ann_smotetomek_2\n",
      "Initiate testing of deepsurv neural network\n",
      "model structure: ANN\n"
     ]
    },
    {
     "name": "stderr",
     "output_type": "stream",
     "text": [
      "2024-11-21 09:05:50,237 - INFO - Event column 'endpoint' updated with focus on event value 1.\n",
      "2024-11-21 09:05:50,246 - INFO - Event column 'endpoint' updated with focus on event value 1.\n"
     ]
    },
    {
     "name": "stdout",
     "output_type": "stream",
     "text": [
      "Prediction completed for deepsurv_ann_smotetomek_2 on fold 1.\n",
      "Initiating prediction for model: deepsurv_lstm_clustering_1\n",
      "Initiate testing of deepsurv neural network\n",
      "model structure: LSTM\n"
     ]
    },
    {
     "name": "stderr",
     "output_type": "stream",
     "text": [
      "2024-11-21 09:06:05,425 - INFO - Validation data retrieved\n",
      "2024-11-21 09:06:06,029 - INFO - Event column 'endpoint' updated with focus on event value 1.\n",
      "2024-11-21 09:06:06,030 - INFO - Event column 'endpoint' updated with focus on event value 1.\n"
     ]
    },
    {
     "name": "stdout",
     "output_type": "stream",
     "text": [
      "Prediction completed for deepsurv_lstm_clustering_1 on fold 1.\n",
      "Initiating prediction for model: deepsurv_lstm_nearmiss_1\n",
      "Initiate testing of deepsurv neural network\n",
      "model structure: LSTM\n"
     ]
    },
    {
     "name": "stderr",
     "output_type": "stream",
     "text": [
      "2024-11-21 09:06:16,036 - INFO - Validation data retrieved\n",
      "2024-11-21 09:06:16,577 - INFO - Event column 'endpoint' updated with focus on event value 2.\n",
      "2024-11-21 09:06:16,578 - INFO - Event column 'endpoint' updated with focus on event value 2.\n"
     ]
    },
    {
     "name": "stdout",
     "output_type": "stream",
     "text": [
      "Prediction completed for deepsurv_lstm_nearmiss_1 on fold 1.\n",
      "Initiating prediction for model: deepsurv_lstm_clustering_2\n",
      "Initiate testing of deepsurv neural network\n",
      "model structure: LSTM\n"
     ]
    },
    {
     "name": "stderr",
     "output_type": "stream",
     "text": [
      "2024-11-21 09:06:26,632 - INFO - Validation data retrieved\n",
      "2024-11-21 09:06:27,219 - INFO - Event column 'endpoint' updated with focus on event value 2.\n",
      "2024-11-21 09:06:27,220 - INFO - Event column 'endpoint' updated with focus on event value 2.\n"
     ]
    },
    {
     "name": "stdout",
     "output_type": "stream",
     "text": [
      "Prediction completed for deepsurv_lstm_clustering_2 on fold 1.\n",
      "Initiating prediction for model: deepsurv_lstm_nearmiss_2\n",
      "Initiate testing of deepsurv neural network\n",
      "model structure: LSTM\n"
     ]
    },
    {
     "name": "stderr",
     "output_type": "stream",
     "text": [
      "2024-11-21 09:06:42,499 - INFO - Validation data retrieved\n"
     ]
    },
    {
     "name": "stdout",
     "output_type": "stream",
     "text": [
      "Prediction completed for deepsurv_lstm_nearmiss_2 on fold 1.\n",
      "Initiating prediction for model: deephit_ann_clustering_all\n",
      "Initiate testing of deephit neural network\n",
      "model structure: ANN\n",
      "prediction complete, please note that prediction of deephit models are CIF.\n",
      "Prediction completed for deephit_ann_clustering_all on fold 1.\n",
      "Initiating prediction for model: deephit_ann_nearmiss2_all\n",
      "Initiate testing of deephit neural network\n",
      "model structure: ANN\n",
      "prediction complete, please note that prediction of deephit models are CIF.\n",
      "Prediction completed for deephit_ann_nearmiss2_all on fold 1.\n",
      "Initiating prediction for model: deephit_lstm_clustering_all\n",
      "Initiate testing of deephit neural network\n",
      "model structure: LSTM\n"
     ]
    },
    {
     "name": "stderr",
     "output_type": "stream",
     "text": [
      "2024-11-21 09:06:57,027 - INFO - Validation data retrieved\n"
     ]
    },
    {
     "name": "stdout",
     "output_type": "stream",
     "text": [
      "prediction complete, please note that prediction of deephit models are CIF.\n",
      "Prediction completed for deephit_lstm_clustering_all on fold 1.\n",
      "Initiating prediction for model: deephit_lstm_nearmiss1_all\n",
      "Initiate testing of deephit neural network\n",
      "model structure: LSTM\n"
     ]
    },
    {
     "name": "stderr",
     "output_type": "stream",
     "text": [
      "2024-11-21 09:07:07,519 - INFO - Validation data retrieved\n"
     ]
    },
    {
     "name": "stdout",
     "output_type": "stream",
     "text": [
      "prediction complete, please note that prediction of deephit models are CIF.\n",
      "Prediction completed for deephit_lstm_nearmiss1_all on fold 1.\n",
      "Processing fold 2...\n",
      "Initiating prediction for model: deepsurv_ann_clustering_1\n"
     ]
    },
    {
     "name": "stderr",
     "output_type": "stream",
     "text": [
      "2024-11-21 09:07:08,068 - INFO - Event column 'endpoint' updated with focus on event value 1.\n"
     ]
    },
    {
     "name": "stdout",
     "output_type": "stream",
     "text": [
      "Initiate testing of deepsurv neural network\n",
      "model structure: ANN\n"
     ]
    },
    {
     "name": "stderr",
     "output_type": "stream",
     "text": [
      "2024-11-21 09:07:08,789 - INFO - Event column 'endpoint' updated with focus on event value 1.\n"
     ]
    },
    {
     "name": "stdout",
     "output_type": "stream",
     "text": [
      "Prediction completed for deepsurv_ann_clustering_1 on fold 2.\n",
      "Initiating prediction for model: deepsurv_ann_smoteenn_1\n",
      "Initiate testing of deepsurv neural network\n",
      "model structure: ANN\n"
     ]
    },
    {
     "name": "stderr",
     "output_type": "stream",
     "text": [
      "2024-11-21 09:07:20,564 - INFO - Event column 'endpoint' updated with focus on event value 1.\n"
     ]
    },
    {
     "name": "stdout",
     "output_type": "stream",
     "text": [
      "Prediction completed for deepsurv_ann_smoteenn_1 on fold 2.\n",
      "Initiating prediction for model: deepsurv_ann_smotetomek_1\n",
      "Initiate testing of deepsurv neural network\n",
      "model structure: ANN\n"
     ]
    },
    {
     "name": "stderr",
     "output_type": "stream",
     "text": [
      "2024-11-21 09:07:29,765 - INFO - Event column 'endpoint' updated with focus on event value 2.\n"
     ]
    },
    {
     "name": "stdout",
     "output_type": "stream",
     "text": [
      "Prediction completed for deepsurv_ann_smotetomek_1 on fold 2.\n",
      "Initiating prediction for model: deepsurv_ann_clustering_2\n",
      "Initiate testing of deepsurv neural network\n",
      "model structure: ANN\n"
     ]
    },
    {
     "name": "stderr",
     "output_type": "stream",
     "text": [
      "2024-11-21 09:07:30,508 - INFO - Event column 'endpoint' updated with focus on event value 2.\n"
     ]
    },
    {
     "name": "stdout",
     "output_type": "stream",
     "text": [
      "Prediction completed for deepsurv_ann_clustering_2 on fold 2.\n",
      "Initiating prediction for model: deepsurv_ann_smoteenn_2\n",
      "Initiate testing of deepsurv neural network\n",
      "model structure: ANN\n"
     ]
    },
    {
     "name": "stderr",
     "output_type": "stream",
     "text": [
      "2024-11-21 09:07:32,160 - INFO - Event column 'endpoint' updated with focus on event value 2.\n"
     ]
    },
    {
     "name": "stdout",
     "output_type": "stream",
     "text": [
      "Prediction completed for deepsurv_ann_smoteenn_2 on fold 2.\n",
      "Initiating prediction for model: deepsurv_ann_smotetomek_2\n",
      "Initiate testing of deepsurv neural network\n",
      "model structure: ANN\n"
     ]
    },
    {
     "name": "stderr",
     "output_type": "stream",
     "text": [
      "2024-11-21 09:07:34,253 - INFO - Event column 'endpoint' updated with focus on event value 1.\n",
      "2024-11-21 09:07:34,254 - INFO - Event column 'endpoint' updated with focus on event value 1.\n"
     ]
    },
    {
     "name": "stdout",
     "output_type": "stream",
     "text": [
      "Prediction completed for deepsurv_ann_smotetomek_2 on fold 2.\n",
      "Initiating prediction for model: deepsurv_lstm_clustering_1\n",
      "Initiate testing of deepsurv neural network\n",
      "model structure: LSTM\n"
     ]
    },
    {
     "name": "stderr",
     "output_type": "stream",
     "text": [
      "2024-11-21 09:07:45,664 - INFO - Validation data retrieved\n",
      "2024-11-21 09:07:50,048 - INFO - Event column 'endpoint' updated with focus on event value 1.\n",
      "2024-11-21 09:07:50,050 - INFO - Event column 'endpoint' updated with focus on event value 1.\n"
     ]
    },
    {
     "name": "stdout",
     "output_type": "stream",
     "text": [
      "Prediction completed for deepsurv_lstm_clustering_1 on fold 2.\n",
      "Initiating prediction for model: deepsurv_lstm_nearmiss_1\n",
      "Initiate testing of deepsurv neural network\n",
      "model structure: LSTM\n"
     ]
    },
    {
     "name": "stderr",
     "output_type": "stream",
     "text": [
      "2024-11-21 09:08:01,090 - INFO - Validation data retrieved\n",
      "2024-11-21 09:08:01,729 - INFO - Event column 'endpoint' updated with focus on event value 2.\n",
      "2024-11-21 09:08:01,730 - INFO - Event column 'endpoint' updated with focus on event value 2.\n"
     ]
    },
    {
     "name": "stdout",
     "output_type": "stream",
     "text": [
      "Prediction completed for deepsurv_lstm_nearmiss_1 on fold 2.\n",
      "Initiating prediction for model: deepsurv_lstm_clustering_2\n",
      "Initiate testing of deepsurv neural network\n",
      "model structure: LSTM\n"
     ]
    },
    {
     "name": "stderr",
     "output_type": "stream",
     "text": [
      "2024-11-21 09:08:12,580 - INFO - Validation data retrieved\n",
      "2024-11-21 09:08:13,219 - INFO - Event column 'endpoint' updated with focus on event value 2.\n",
      "2024-11-21 09:08:13,220 - INFO - Event column 'endpoint' updated with focus on event value 2.\n"
     ]
    },
    {
     "name": "stdout",
     "output_type": "stream",
     "text": [
      "Prediction completed for deepsurv_lstm_clustering_2 on fold 2.\n",
      "Initiating prediction for model: deepsurv_lstm_nearmiss_2\n",
      "Initiate testing of deepsurv neural network\n",
      "model structure: LSTM\n"
     ]
    },
    {
     "name": "stderr",
     "output_type": "stream",
     "text": [
      "2024-11-21 09:08:28,603 - INFO - Validation data retrieved\n"
     ]
    },
    {
     "name": "stdout",
     "output_type": "stream",
     "text": [
      "Prediction completed for deepsurv_lstm_nearmiss_2 on fold 2.\n",
      "Initiating prediction for model: deephit_ann_clustering_all\n",
      "Initiate testing of deephit neural network\n",
      "model structure: ANN\n",
      "prediction complete, please note that prediction of deephit models are CIF.\n",
      "Prediction completed for deephit_ann_clustering_all on fold 2.\n",
      "Initiating prediction for model: deephit_ann_nearmiss2_all\n",
      "Initiate testing of deephit neural network\n",
      "model structure: ANN\n",
      "prediction complete, please note that prediction of deephit models are CIF.\n",
      "Prediction completed for deephit_ann_nearmiss2_all on fold 2.\n",
      "Initiating prediction for model: deephit_lstm_clustering_all\n",
      "Initiate testing of deephit neural network\n",
      "model structure: LSTM\n"
     ]
    },
    {
     "name": "stderr",
     "output_type": "stream",
     "text": [
      "2024-11-21 09:08:43,157 - INFO - Validation data retrieved\n"
     ]
    },
    {
     "name": "stdout",
     "output_type": "stream",
     "text": [
      "prediction complete, please note that prediction of deephit models are CIF.\n",
      "Prediction completed for deephit_lstm_clustering_all on fold 2.\n",
      "Initiating prediction for model: deephit_lstm_nearmiss1_all\n",
      "Initiate testing of deephit neural network\n",
      "model structure: LSTM\n"
     ]
    },
    {
     "name": "stderr",
     "output_type": "stream",
     "text": [
      "2024-11-21 09:08:53,719 - INFO - Validation data retrieved\n",
      "2024-11-21 09:08:54,183 - INFO - Event column 'endpoint' updated with focus on event value 1.\n"
     ]
    },
    {
     "name": "stdout",
     "output_type": "stream",
     "text": [
      "prediction complete, please note that prediction of deephit models are CIF.\n",
      "Prediction completed for deephit_lstm_nearmiss1_all on fold 2.\n",
      "Processing fold 3...\n",
      "Initiating prediction for model: deepsurv_ann_clustering_1\n",
      "Initiate testing of deepsurv neural network\n",
      "model structure: ANN\n"
     ]
    },
    {
     "name": "stderr",
     "output_type": "stream",
     "text": [
      "2024-11-21 09:08:54,820 - INFO - Event column 'endpoint' updated with focus on event value 1.\n"
     ]
    },
    {
     "name": "stdout",
     "output_type": "stream",
     "text": [
      "Prediction completed for deepsurv_ann_clustering_1 on fold 3.\n",
      "Initiating prediction for model: deepsurv_ann_smoteenn_1\n",
      "Initiate testing of deepsurv neural network\n",
      "model structure: ANN\n"
     ]
    },
    {
     "name": "stderr",
     "output_type": "stream",
     "text": [
      "2024-11-21 09:09:06,640 - INFO - Event column 'endpoint' updated with focus on event value 1.\n"
     ]
    },
    {
     "name": "stdout",
     "output_type": "stream",
     "text": [
      "Prediction completed for deepsurv_ann_smoteenn_1 on fold 3.\n",
      "Initiating prediction for model: deepsurv_ann_smotetomek_1\n",
      "Initiate testing of deepsurv neural network\n",
      "model structure: ANN\n"
     ]
    },
    {
     "name": "stderr",
     "output_type": "stream",
     "text": [
      "2024-11-21 09:09:15,959 - INFO - Event column 'endpoint' updated with focus on event value 2.\n"
     ]
    },
    {
     "name": "stdout",
     "output_type": "stream",
     "text": [
      "Prediction completed for deepsurv_ann_smotetomek_1 on fold 3.\n",
      "Initiating prediction for model: deepsurv_ann_clustering_2\n",
      "Initiate testing of deepsurv neural network\n",
      "model structure: ANN\n"
     ]
    },
    {
     "name": "stderr",
     "output_type": "stream",
     "text": [
      "2024-11-21 09:09:16,739 - INFO - Event column 'endpoint' updated with focus on event value 2.\n"
     ]
    },
    {
     "name": "stdout",
     "output_type": "stream",
     "text": [
      "Prediction completed for deepsurv_ann_clustering_2 on fold 3.\n",
      "Initiating prediction for model: deepsurv_ann_smoteenn_2\n",
      "Initiate testing of deepsurv neural network\n",
      "model structure: ANN\n"
     ]
    },
    {
     "name": "stderr",
     "output_type": "stream",
     "text": [
      "2024-11-21 09:09:18,562 - INFO - Event column 'endpoint' updated with focus on event value 2.\n"
     ]
    },
    {
     "name": "stdout",
     "output_type": "stream",
     "text": [
      "Prediction completed for deepsurv_ann_smoteenn_2 on fold 3.\n",
      "Initiating prediction for model: deepsurv_ann_smotetomek_2\n",
      "Initiate testing of deepsurv neural network\n",
      "model structure: ANN\n"
     ]
    },
    {
     "name": "stderr",
     "output_type": "stream",
     "text": [
      "2024-11-21 09:09:20,643 - INFO - Event column 'endpoint' updated with focus on event value 1.\n",
      "2024-11-21 09:09:20,644 - INFO - Event column 'endpoint' updated with focus on event value 1.\n"
     ]
    },
    {
     "name": "stdout",
     "output_type": "stream",
     "text": [
      "Prediction completed for deepsurv_ann_smotetomek_2 on fold 3.\n",
      "Initiating prediction for model: deepsurv_lstm_clustering_1\n",
      "Initiate testing of deepsurv neural network\n",
      "model structure: LSTM\n"
     ]
    },
    {
     "name": "stderr",
     "output_type": "stream",
     "text": [
      "2024-11-21 09:09:32,088 - INFO - Validation data retrieved\n",
      "2024-11-21 09:09:32,854 - INFO - Event column 'endpoint' updated with focus on event value 1.\n",
      "2024-11-21 09:09:32,856 - INFO - Event column 'endpoint' updated with focus on event value 1.\n"
     ]
    },
    {
     "name": "stdout",
     "output_type": "stream",
     "text": [
      "Prediction completed for deepsurv_lstm_clustering_1 on fold 3.\n",
      "Initiating prediction for model: deepsurv_lstm_nearmiss_1\n",
      "Initiate testing of deepsurv neural network\n",
      "model structure: LSTM\n"
     ]
    },
    {
     "name": "stderr",
     "output_type": "stream",
     "text": [
      "2024-11-21 09:09:47,366 - INFO - Validation data retrieved\n",
      "2024-11-21 09:09:47,959 - INFO - Event column 'endpoint' updated with focus on event value 2.\n",
      "2024-11-21 09:09:47,960 - INFO - Event column 'endpoint' updated with focus on event value 2.\n"
     ]
    },
    {
     "name": "stdout",
     "output_type": "stream",
     "text": [
      "Prediction completed for deepsurv_lstm_nearmiss_1 on fold 3.\n",
      "Initiating prediction for model: deepsurv_lstm_clustering_2\n",
      "Initiate testing of deepsurv neural network\n",
      "model structure: LSTM\n"
     ]
    },
    {
     "name": "stderr",
     "output_type": "stream",
     "text": [
      "2024-11-21 09:09:57,866 - INFO - Validation data retrieved\n",
      "2024-11-21 09:09:58,446 - INFO - Event column 'endpoint' updated with focus on event value 2.\n",
      "2024-11-21 09:09:58,447 - INFO - Event column 'endpoint' updated with focus on event value 2.\n"
     ]
    },
    {
     "name": "stdout",
     "output_type": "stream",
     "text": [
      "Prediction completed for deepsurv_lstm_clustering_2 on fold 3.\n",
      "Initiating prediction for model: deepsurv_lstm_nearmiss_2\n",
      "Initiate testing of deepsurv neural network\n",
      "model structure: LSTM\n"
     ]
    },
    {
     "name": "stderr",
     "output_type": "stream",
     "text": [
      "2024-11-21 09:10:10,285 - INFO - Validation data retrieved\n"
     ]
    },
    {
     "name": "stdout",
     "output_type": "stream",
     "text": [
      "Prediction completed for deepsurv_lstm_nearmiss_2 on fold 3.\n",
      "Initiating prediction for model: deephit_ann_clustering_all\n",
      "Initiate testing of deephit neural network\n",
      "model structure: ANN\n",
      "prediction complete, please note that prediction of deephit models are CIF.\n",
      "Prediction completed for deephit_ann_clustering_all on fold 3.\n",
      "Initiating prediction for model: deephit_ann_nearmiss2_all\n",
      "Initiate testing of deephit neural network\n",
      "model structure: ANN\n",
      "prediction complete, please note that prediction of deephit models are CIF.\n",
      "Prediction completed for deephit_ann_nearmiss2_all on fold 3.\n",
      "Initiating prediction for model: deephit_lstm_clustering_all\n",
      "Initiate testing of deephit neural network\n",
      "model structure: LSTM\n"
     ]
    },
    {
     "name": "stderr",
     "output_type": "stream",
     "text": [
      "2024-11-21 09:10:28,324 - INFO - Validation data retrieved\n"
     ]
    },
    {
     "name": "stdout",
     "output_type": "stream",
     "text": [
      "prediction complete, please note that prediction of deephit models are CIF.\n",
      "Prediction completed for deephit_lstm_clustering_all on fold 3.\n",
      "Initiating prediction for model: deephit_lstm_nearmiss1_all\n",
      "Initiate testing of deephit neural network\n",
      "model structure: LSTM\n"
     ]
    },
    {
     "name": "stderr",
     "output_type": "stream",
     "text": [
      "2024-11-21 09:10:39,024 - INFO - Validation data retrieved\n",
      "2024-11-21 09:10:39,445 - INFO - Event column 'endpoint' updated with focus on event value 1.\n"
     ]
    },
    {
     "name": "stdout",
     "output_type": "stream",
     "text": [
      "prediction complete, please note that prediction of deephit models are CIF.\n",
      "Prediction completed for deephit_lstm_nearmiss1_all on fold 3.\n",
      "Processing fold 4...\n",
      "Initiating prediction for model: deepsurv_ann_clustering_1\n",
      "Initiate testing of deepsurv neural network\n",
      "model structure: ANN\n"
     ]
    },
    {
     "name": "stderr",
     "output_type": "stream",
     "text": [
      "2024-11-21 09:10:40,096 - INFO - Event column 'endpoint' updated with focus on event value 1.\n"
     ]
    },
    {
     "name": "stdout",
     "output_type": "stream",
     "text": [
      "Prediction completed for deepsurv_ann_clustering_1 on fold 4.\n",
      "Initiating prediction for model: deepsurv_ann_smoteenn_1\n",
      "Initiate testing of deepsurv neural network\n",
      "model structure: ANN\n"
     ]
    },
    {
     "name": "stderr",
     "output_type": "stream",
     "text": [
      "2024-11-21 09:10:52,095 - INFO - Event column 'endpoint' updated with focus on event value 1.\n"
     ]
    },
    {
     "name": "stdout",
     "output_type": "stream",
     "text": [
      "Prediction completed for deepsurv_ann_smoteenn_1 on fold 4.\n",
      "Initiating prediction for model: deepsurv_ann_smotetomek_1\n",
      "Initiate testing of deepsurv neural network\n",
      "model structure: ANN\n"
     ]
    },
    {
     "name": "stderr",
     "output_type": "stream",
     "text": [
      "2024-11-21 09:11:02,224 - INFO - Event column 'endpoint' updated with focus on event value 2.\n"
     ]
    },
    {
     "name": "stdout",
     "output_type": "stream",
     "text": [
      "Prediction completed for deepsurv_ann_smotetomek_1 on fold 4.\n",
      "Initiating prediction for model: deepsurv_ann_clustering_2\n",
      "Initiate testing of deepsurv neural network\n",
      "model structure: ANN\n"
     ]
    },
    {
     "name": "stderr",
     "output_type": "stream",
     "text": [
      "2024-11-21 09:11:02,939 - INFO - Event column 'endpoint' updated with focus on event value 2.\n"
     ]
    },
    {
     "name": "stdout",
     "output_type": "stream",
     "text": [
      "Prediction completed for deepsurv_ann_clustering_2 on fold 4.\n",
      "Initiating prediction for model: deepsurv_ann_smoteenn_2\n",
      "Initiate testing of deepsurv neural network\n",
      "model structure: ANN\n"
     ]
    },
    {
     "name": "stderr",
     "output_type": "stream",
     "text": [
      "2024-11-21 09:11:04,667 - INFO - Event column 'endpoint' updated with focus on event value 2.\n"
     ]
    },
    {
     "name": "stdout",
     "output_type": "stream",
     "text": [
      "Prediction completed for deepsurv_ann_smoteenn_2 on fold 4.\n",
      "Initiating prediction for model: deepsurv_ann_smotetomek_2\n",
      "Initiate testing of deepsurv neural network\n",
      "model structure: ANN\n"
     ]
    },
    {
     "name": "stderr",
     "output_type": "stream",
     "text": [
      "2024-11-21 09:11:06,768 - INFO - Event column 'endpoint' updated with focus on event value 1.\n",
      "2024-11-21 09:11:06,770 - INFO - Event column 'endpoint' updated with focus on event value 1.\n"
     ]
    },
    {
     "name": "stdout",
     "output_type": "stream",
     "text": [
      "Prediction completed for deepsurv_ann_smotetomek_2 on fold 4.\n",
      "Initiating prediction for model: deepsurv_lstm_clustering_1\n",
      "Initiate testing of deepsurv neural network\n",
      "model structure: LSTM\n"
     ]
    },
    {
     "name": "stderr",
     "output_type": "stream",
     "text": [
      "2024-11-21 09:11:18,523 - INFO - Validation data retrieved\n",
      "2024-11-21 09:11:19,275 - INFO - Event column 'endpoint' updated with focus on event value 1.\n",
      "2024-11-21 09:11:19,276 - INFO - Event column 'endpoint' updated with focus on event value 1.\n"
     ]
    },
    {
     "name": "stdout",
     "output_type": "stream",
     "text": [
      "Prediction completed for deepsurv_lstm_clustering_1 on fold 4.\n",
      "Initiating prediction for model: deepsurv_lstm_nearmiss_1\n",
      "Initiate testing of deepsurv neural network\n",
      "model structure: LSTM\n"
     ]
    },
    {
     "name": "stderr",
     "output_type": "stream",
     "text": [
      "2024-11-21 09:11:34,059 - INFO - Validation data retrieved\n",
      "2024-11-21 09:11:34,779 - INFO - Event column 'endpoint' updated with focus on event value 2.\n",
      "2024-11-21 09:11:34,780 - INFO - Event column 'endpoint' updated with focus on event value 2.\n"
     ]
    },
    {
     "name": "stdout",
     "output_type": "stream",
     "text": [
      "Prediction completed for deepsurv_lstm_nearmiss_1 on fold 4.\n",
      "Initiating prediction for model: deepsurv_lstm_clustering_2\n",
      "Initiate testing of deepsurv neural network\n",
      "model structure: LSTM\n"
     ]
    },
    {
     "name": "stderr",
     "output_type": "stream",
     "text": [
      "2024-11-21 09:11:45,457 - INFO - Validation data retrieved\n",
      "2024-11-21 09:11:46,110 - INFO - Event column 'endpoint' updated with focus on event value 2.\n",
      "2024-11-21 09:11:46,111 - INFO - Event column 'endpoint' updated with focus on event value 2.\n"
     ]
    },
    {
     "name": "stdout",
     "output_type": "stream",
     "text": [
      "Prediction completed for deepsurv_lstm_clustering_2 on fold 4.\n",
      "Initiating prediction for model: deepsurv_lstm_nearmiss_2\n",
      "Initiate testing of deepsurv neural network\n",
      "model structure: LSTM\n"
     ]
    },
    {
     "name": "stderr",
     "output_type": "stream",
     "text": [
      "2024-11-21 09:11:57,901 - INFO - Validation data retrieved\n"
     ]
    },
    {
     "name": "stdout",
     "output_type": "stream",
     "text": [
      "Prediction completed for deepsurv_lstm_nearmiss_2 on fold 4.\n",
      "Initiating prediction for model: deephit_ann_clustering_all\n",
      "Initiate testing of deephit neural network\n",
      "model structure: ANN\n",
      "prediction complete, please note that prediction of deephit models are CIF.\n",
      "Prediction completed for deephit_ann_clustering_all on fold 4.\n",
      "Initiating prediction for model: deephit_ann_nearmiss2_all\n",
      "Initiate testing of deephit neural network\n",
      "model structure: ANN\n",
      "prediction complete, please note that prediction of deephit models are CIF.\n",
      "Prediction completed for deephit_ann_nearmiss2_all on fold 4.\n",
      "Initiating prediction for model: deephit_lstm_clustering_all\n",
      "Initiate testing of deephit neural network\n",
      "model structure: LSTM\n"
     ]
    },
    {
     "name": "stderr",
     "output_type": "stream",
     "text": [
      "2024-11-21 09:12:16,418 - INFO - Validation data retrieved\n"
     ]
    },
    {
     "name": "stdout",
     "output_type": "stream",
     "text": [
      "prediction complete, please note that prediction of deephit models are CIF.\n",
      "Prediction completed for deephit_lstm_clustering_all on fold 4.\n",
      "Initiating prediction for model: deephit_lstm_nearmiss1_all\n",
      "Initiate testing of deephit neural network\n",
      "model structure: LSTM\n"
     ]
    },
    {
     "name": "stderr",
     "output_type": "stream",
     "text": [
      "2024-11-21 09:12:27,234 - INFO - Validation data retrieved\n",
      "2024-11-21 09:12:27,669 - INFO - Event column 'endpoint' updated with focus on event value 1.\n"
     ]
    },
    {
     "name": "stdout",
     "output_type": "stream",
     "text": [
      "prediction complete, please note that prediction of deephit models are CIF.\n",
      "Prediction completed for deephit_lstm_nearmiss1_all on fold 4.\n",
      "Processing fold 5...\n",
      "Initiating prediction for model: deepsurv_ann_clustering_1\n",
      "Initiate testing of deepsurv neural network\n",
      "model structure: ANN\n"
     ]
    },
    {
     "name": "stderr",
     "output_type": "stream",
     "text": [
      "2024-11-21 09:12:28,298 - INFO - Event column 'endpoint' updated with focus on event value 1.\n"
     ]
    },
    {
     "name": "stdout",
     "output_type": "stream",
     "text": [
      "Prediction completed for deepsurv_ann_clustering_1 on fold 5.\n",
      "Initiating prediction for model: deepsurv_ann_smoteenn_1\n",
      "Initiate testing of deepsurv neural network\n",
      "model structure: ANN\n"
     ]
    },
    {
     "name": "stderr",
     "output_type": "stream",
     "text": [
      "2024-11-21 09:12:40,139 - INFO - Event column 'endpoint' updated with focus on event value 1.\n"
     ]
    },
    {
     "name": "stdout",
     "output_type": "stream",
     "text": [
      "Prediction completed for deepsurv_ann_smoteenn_1 on fold 5.\n",
      "Initiating prediction for model: deepsurv_ann_smotetomek_1\n",
      "Initiate testing of deepsurv neural network\n",
      "model structure: ANN\n"
     ]
    },
    {
     "name": "stderr",
     "output_type": "stream",
     "text": [
      "2024-11-21 09:12:49,757 - INFO - Event column 'endpoint' updated with focus on event value 2.\n"
     ]
    },
    {
     "name": "stdout",
     "output_type": "stream",
     "text": [
      "Prediction completed for deepsurv_ann_smotetomek_1 on fold 5.\n",
      "Initiating prediction for model: deepsurv_ann_clustering_2\n",
      "Initiate testing of deepsurv neural network\n",
      "model structure: ANN\n"
     ]
    },
    {
     "name": "stderr",
     "output_type": "stream",
     "text": [
      "2024-11-21 09:12:50,455 - INFO - Event column 'endpoint' updated with focus on event value 2.\n"
     ]
    },
    {
     "name": "stdout",
     "output_type": "stream",
     "text": [
      "Prediction completed for deepsurv_ann_clustering_2 on fold 5.\n",
      "Initiating prediction for model: deepsurv_ann_smoteenn_2\n",
      "Initiate testing of deepsurv neural network\n",
      "model structure: ANN\n"
     ]
    },
    {
     "name": "stderr",
     "output_type": "stream",
     "text": [
      "2024-11-21 09:12:52,158 - INFO - Event column 'endpoint' updated with focus on event value 2.\n"
     ]
    },
    {
     "name": "stdout",
     "output_type": "stream",
     "text": [
      "Prediction completed for deepsurv_ann_smoteenn_2 on fold 5.\n",
      "Initiating prediction for model: deepsurv_ann_smotetomek_2\n",
      "Initiate testing of deepsurv neural network\n",
      "model structure: ANN\n"
     ]
    },
    {
     "name": "stderr",
     "output_type": "stream",
     "text": [
      "2024-11-21 09:12:54,182 - INFO - Event column 'endpoint' updated with focus on event value 1.\n",
      "2024-11-21 09:12:54,184 - INFO - Event column 'endpoint' updated with focus on event value 1.\n"
     ]
    },
    {
     "name": "stdout",
     "output_type": "stream",
     "text": [
      "Prediction completed for deepsurv_ann_smotetomek_2 on fold 5.\n",
      "Initiating prediction for model: deepsurv_lstm_clustering_1\n",
      "Initiate testing of deepsurv neural network\n",
      "model structure: LSTM\n"
     ]
    },
    {
     "name": "stderr",
     "output_type": "stream",
     "text": [
      "2024-11-21 09:13:05,830 - INFO - Validation data retrieved\n",
      "2024-11-21 09:13:06,530 - INFO - Event column 'endpoint' updated with focus on event value 1.\n",
      "2024-11-21 09:13:06,532 - INFO - Event column 'endpoint' updated with focus on event value 1.\n"
     ]
    },
    {
     "name": "stdout",
     "output_type": "stream",
     "text": [
      "Prediction completed for deepsurv_lstm_clustering_1 on fold 5.\n",
      "Initiating prediction for model: deepsurv_lstm_nearmiss_1\n",
      "Initiate testing of deepsurv neural network\n",
      "model structure: LSTM\n"
     ]
    },
    {
     "name": "stderr",
     "output_type": "stream",
     "text": [
      "2024-11-21 09:13:21,261 - INFO - Validation data retrieved\n",
      "2024-11-21 09:13:21,876 - INFO - Event column 'endpoint' updated with focus on event value 2.\n",
      "2024-11-21 09:13:21,877 - INFO - Event column 'endpoint' updated with focus on event value 2.\n"
     ]
    },
    {
     "name": "stdout",
     "output_type": "stream",
     "text": [
      "Prediction completed for deepsurv_lstm_nearmiss_1 on fold 5.\n",
      "Initiating prediction for model: deepsurv_lstm_clustering_2\n",
      "Initiate testing of deepsurv neural network\n",
      "model structure: LSTM\n"
     ]
    },
    {
     "name": "stderr",
     "output_type": "stream",
     "text": [
      "2024-11-21 09:13:32,105 - INFO - Validation data retrieved\n",
      "2024-11-21 09:13:32,682 - INFO - Event column 'endpoint' updated with focus on event value 2.\n",
      "2024-11-21 09:13:32,683 - INFO - Event column 'endpoint' updated with focus on event value 2.\n"
     ]
    },
    {
     "name": "stdout",
     "output_type": "stream",
     "text": [
      "Prediction completed for deepsurv_lstm_clustering_2 on fold 5.\n",
      "Initiating prediction for model: deepsurv_lstm_nearmiss_2\n",
      "Initiate testing of deepsurv neural network\n",
      "model structure: LSTM\n"
     ]
    },
    {
     "name": "stderr",
     "output_type": "stream",
     "text": [
      "2024-11-21 09:13:44,466 - INFO - Validation data retrieved\n"
     ]
    },
    {
     "name": "stdout",
     "output_type": "stream",
     "text": [
      "Prediction completed for deepsurv_lstm_nearmiss_2 on fold 5.\n",
      "Initiating prediction for model: deephit_ann_clustering_all\n",
      "Initiate testing of deephit neural network\n",
      "model structure: ANN\n",
      "prediction complete, please note that prediction of deephit models are CIF.\n",
      "Prediction completed for deephit_ann_clustering_all on fold 5.\n",
      "Initiating prediction for model: deephit_ann_nearmiss2_all\n",
      "Initiate testing of deephit neural network\n",
      "model structure: ANN\n",
      "prediction complete, please note that prediction of deephit models are CIF.\n",
      "Prediction completed for deephit_ann_nearmiss2_all on fold 5.\n",
      "Initiating prediction for model: deephit_lstm_clustering_all\n",
      "Initiate testing of deephit neural network\n",
      "model structure: LSTM\n"
     ]
    },
    {
     "name": "stderr",
     "output_type": "stream",
     "text": [
      "2024-11-21 09:14:02,439 - INFO - Validation data retrieved\n"
     ]
    },
    {
     "name": "stdout",
     "output_type": "stream",
     "text": [
      "prediction complete, please note that prediction of deephit models are CIF.\n",
      "Prediction completed for deephit_lstm_clustering_all on fold 5.\n",
      "Initiating prediction for model: deephit_lstm_nearmiss1_all\n",
      "Initiate testing of deephit neural network\n",
      "model structure: LSTM\n"
     ]
    },
    {
     "name": "stderr",
     "output_type": "stream",
     "text": [
      "2024-11-21 09:14:12,930 - INFO - Validation data retrieved\n"
     ]
    },
    {
     "name": "stdout",
     "output_type": "stream",
     "text": [
      "prediction complete, please note that prediction of deephit models are CIF.\n",
      "Prediction completed for deephit_lstm_nearmiss1_all on fold 5.\n",
      "Processing fold 6...\n",
      "Initiating prediction for model: deepsurv_ann_clustering_1\n"
     ]
    },
    {
     "name": "stderr",
     "output_type": "stream",
     "text": [
      "2024-11-21 09:14:13,409 - INFO - Event column 'endpoint' updated with focus on event value 1.\n"
     ]
    },
    {
     "name": "stdout",
     "output_type": "stream",
     "text": [
      "Initiate testing of deepsurv neural network\n",
      "model structure: ANN\n"
     ]
    },
    {
     "name": "stderr",
     "output_type": "stream",
     "text": [
      "2024-11-21 09:14:14,186 - INFO - Event column 'endpoint' updated with focus on event value 1.\n"
     ]
    },
    {
     "name": "stdout",
     "output_type": "stream",
     "text": [
      "Prediction completed for deepsurv_ann_clustering_1 on fold 6.\n",
      "Initiating prediction for model: deepsurv_ann_smoteenn_1\n",
      "Initiate testing of deepsurv neural network\n",
      "model structure: ANN\n"
     ]
    },
    {
     "name": "stderr",
     "output_type": "stream",
     "text": [
      "2024-11-21 09:14:22,865 - INFO - Event column 'endpoint' updated with focus on event value 1.\n"
     ]
    },
    {
     "name": "stdout",
     "output_type": "stream",
     "text": [
      "Prediction completed for deepsurv_ann_smoteenn_1 on fold 6.\n",
      "Initiating prediction for model: deepsurv_ann_smotetomek_1\n",
      "Initiate testing of deepsurv neural network\n",
      "model structure: ANN\n"
     ]
    },
    {
     "name": "stderr",
     "output_type": "stream",
     "text": [
      "2024-11-21 09:14:36,033 - INFO - Event column 'endpoint' updated with focus on event value 2.\n"
     ]
    },
    {
     "name": "stdout",
     "output_type": "stream",
     "text": [
      "Prediction completed for deepsurv_ann_smotetomek_1 on fold 6.\n",
      "Initiating prediction for model: deepsurv_ann_clustering_2\n",
      "Initiate testing of deepsurv neural network\n",
      "model structure: ANN\n"
     ]
    },
    {
     "name": "stderr",
     "output_type": "stream",
     "text": [
      "2024-11-21 09:14:36,734 - INFO - Event column 'endpoint' updated with focus on event value 2.\n"
     ]
    },
    {
     "name": "stdout",
     "output_type": "stream",
     "text": [
      "Prediction completed for deepsurv_ann_clustering_2 on fold 6.\n",
      "Initiating prediction for model: deepsurv_ann_smoteenn_2\n",
      "Initiate testing of deepsurv neural network\n",
      "model structure: ANN\n"
     ]
    },
    {
     "name": "stderr",
     "output_type": "stream",
     "text": [
      "2024-11-21 09:14:39,020 - INFO - Event column 'endpoint' updated with focus on event value 2.\n"
     ]
    },
    {
     "name": "stdout",
     "output_type": "stream",
     "text": [
      "Prediction completed for deepsurv_ann_smoteenn_2 on fold 6.\n",
      "Initiating prediction for model: deepsurv_ann_smotetomek_2\n",
      "Initiate testing of deepsurv neural network\n",
      "model structure: ANN\n"
     ]
    },
    {
     "name": "stderr",
     "output_type": "stream",
     "text": [
      "2024-11-21 09:14:41,103 - INFO - Event column 'endpoint' updated with focus on event value 1.\n",
      "2024-11-21 09:14:41,104 - INFO - Event column 'endpoint' updated with focus on event value 1.\n"
     ]
    },
    {
     "name": "stdout",
     "output_type": "stream",
     "text": [
      "Prediction completed for deepsurv_ann_smotetomek_2 on fold 6.\n",
      "Initiating prediction for model: deepsurv_lstm_clustering_1\n",
      "Initiate testing of deepsurv neural network\n",
      "model structure: LSTM\n"
     ]
    },
    {
     "name": "stderr",
     "output_type": "stream",
     "text": [
      "2024-11-21 09:14:52,784 - INFO - Validation data retrieved\n",
      "2024-11-21 09:14:53,485 - INFO - Event column 'endpoint' updated with focus on event value 1.\n",
      "2024-11-21 09:14:53,486 - INFO - Event column 'endpoint' updated with focus on event value 1.\n"
     ]
    },
    {
     "name": "stdout",
     "output_type": "stream",
     "text": [
      "Prediction completed for deepsurv_lstm_clustering_1 on fold 6.\n",
      "Initiating prediction for model: deepsurv_lstm_nearmiss_1\n",
      "Initiate testing of deepsurv neural network\n",
      "model structure: LSTM\n"
     ]
    },
    {
     "name": "stderr",
     "output_type": "stream",
     "text": [
      "2024-11-21 09:15:07,747 - INFO - Validation data retrieved\n",
      "2024-11-21 09:15:08,501 - INFO - Event column 'endpoint' updated with focus on event value 2.\n",
      "2024-11-21 09:15:08,502 - INFO - Event column 'endpoint' updated with focus on event value 2.\n"
     ]
    },
    {
     "name": "stdout",
     "output_type": "stream",
     "text": [
      "Prediction completed for deepsurv_lstm_nearmiss_1 on fold 6.\n",
      "Initiating prediction for model: deepsurv_lstm_clustering_2\n",
      "Initiate testing of deepsurv neural network\n",
      "model structure: LSTM\n"
     ]
    },
    {
     "name": "stderr",
     "output_type": "stream",
     "text": [
      "2024-11-21 09:15:18,909 - INFO - Validation data retrieved\n",
      "2024-11-21 09:15:19,577 - INFO - Event column 'endpoint' updated with focus on event value 2.\n",
      "2024-11-21 09:15:19,578 - INFO - Event column 'endpoint' updated with focus on event value 2.\n"
     ]
    },
    {
     "name": "stdout",
     "output_type": "stream",
     "text": [
      "Prediction completed for deepsurv_lstm_clustering_2 on fold 6.\n",
      "Initiating prediction for model: deepsurv_lstm_nearmiss_2\n",
      "Initiate testing of deepsurv neural network\n",
      "model structure: LSTM\n"
     ]
    },
    {
     "name": "stderr",
     "output_type": "stream",
     "text": [
      "2024-11-21 09:15:31,710 - INFO - Validation data retrieved\n"
     ]
    },
    {
     "name": "stdout",
     "output_type": "stream",
     "text": [
      "Prediction completed for deepsurv_lstm_nearmiss_2 on fold 6.\n",
      "Initiating prediction for model: deephit_ann_clustering_all\n",
      "Initiate testing of deephit neural network\n",
      "model structure: ANN\n",
      "prediction complete, please note that prediction of deephit models are CIF.\n",
      "Prediction completed for deephit_ann_clustering_all on fold 6.\n",
      "Initiating prediction for model: deephit_ann_nearmiss2_all\n",
      "Initiate testing of deephit neural network\n",
      "model structure: ANN\n",
      "prediction complete, please note that prediction of deephit models are CIF.\n",
      "Prediction completed for deephit_ann_nearmiss2_all on fold 6.\n",
      "Initiating prediction for model: deephit_lstm_clustering_all\n",
      "Initiate testing of deephit neural network\n",
      "model structure: LSTM\n"
     ]
    },
    {
     "name": "stderr",
     "output_type": "stream",
     "text": [
      "2024-11-21 09:15:50,217 - INFO - Validation data retrieved\n"
     ]
    },
    {
     "name": "stdout",
     "output_type": "stream",
     "text": [
      "prediction complete, please note that prediction of deephit models are CIF.\n",
      "Prediction completed for deephit_lstm_clustering_all on fold 6.\n",
      "Initiating prediction for model: deephit_lstm_nearmiss1_all\n",
      "Initiate testing of deephit neural network\n",
      "model structure: LSTM\n"
     ]
    },
    {
     "name": "stderr",
     "output_type": "stream",
     "text": [
      "2024-11-21 09:16:00,905 - INFO - Validation data retrieved\n",
      "2024-11-21 09:16:01,366 - INFO - Event column 'endpoint' updated with focus on event value 1.\n"
     ]
    },
    {
     "name": "stdout",
     "output_type": "stream",
     "text": [
      "prediction complete, please note that prediction of deephit models are CIF.\n",
      "Prediction completed for deephit_lstm_nearmiss1_all on fold 6.\n",
      "Processing fold 7...\n",
      "Initiating prediction for model: deepsurv_ann_clustering_1\n",
      "Initiate testing of deepsurv neural network\n",
      "model structure: ANN\n"
     ]
    },
    {
     "name": "stderr",
     "output_type": "stream",
     "text": [
      "2024-11-21 09:16:01,995 - INFO - Event column 'endpoint' updated with focus on event value 1.\n"
     ]
    },
    {
     "name": "stdout",
     "output_type": "stream",
     "text": [
      "Prediction completed for deepsurv_ann_clustering_1 on fold 7.\n",
      "Initiating prediction for model: deepsurv_ann_smoteenn_1\n",
      "Initiate testing of deepsurv neural network\n",
      "model structure: ANN\n"
     ]
    },
    {
     "name": "stderr",
     "output_type": "stream",
     "text": [
      "2024-11-21 09:16:10,303 - INFO - Event column 'endpoint' updated with focus on event value 1.\n"
     ]
    },
    {
     "name": "stdout",
     "output_type": "stream",
     "text": [
      "Prediction completed for deepsurv_ann_smoteenn_1 on fold 7.\n",
      "Initiating prediction for model: deepsurv_ann_smotetomek_1\n",
      "Initiate testing of deepsurv neural network\n",
      "model structure: ANN\n"
     ]
    },
    {
     "name": "stderr",
     "output_type": "stream",
     "text": [
      "2024-11-21 09:16:23,795 - INFO - Event column 'endpoint' updated with focus on event value 2.\n"
     ]
    },
    {
     "name": "stdout",
     "output_type": "stream",
     "text": [
      "Prediction completed for deepsurv_ann_smotetomek_1 on fold 7.\n",
      "Initiating prediction for model: deepsurv_ann_clustering_2\n",
      "Initiate testing of deepsurv neural network\n",
      "model structure: ANN\n"
     ]
    },
    {
     "name": "stderr",
     "output_type": "stream",
     "text": [
      "2024-11-21 09:16:24,552 - INFO - Event column 'endpoint' updated with focus on event value 2.\n"
     ]
    },
    {
     "name": "stdout",
     "output_type": "stream",
     "text": [
      "Prediction completed for deepsurv_ann_clustering_2 on fold 7.\n",
      "Initiating prediction for model: deepsurv_ann_smoteenn_2\n",
      "Initiate testing of deepsurv neural network\n",
      "model structure: ANN\n"
     ]
    },
    {
     "name": "stderr",
     "output_type": "stream",
     "text": [
      "2024-11-21 09:16:26,413 - INFO - Event column 'endpoint' updated with focus on event value 2.\n"
     ]
    },
    {
     "name": "stdout",
     "output_type": "stream",
     "text": [
      "Prediction completed for deepsurv_ann_smoteenn_2 on fold 7.\n",
      "Initiating prediction for model: deepsurv_ann_smotetomek_2\n",
      "Initiate testing of deepsurv neural network\n",
      "model structure: ANN\n"
     ]
    },
    {
     "name": "stderr",
     "output_type": "stream",
     "text": [
      "2024-11-21 09:16:28,413 - INFO - Event column 'endpoint' updated with focus on event value 1.\n",
      "2024-11-21 09:16:28,415 - INFO - Event column 'endpoint' updated with focus on event value 1.\n"
     ]
    },
    {
     "name": "stdout",
     "output_type": "stream",
     "text": [
      "Prediction completed for deepsurv_ann_smotetomek_2 on fold 7.\n",
      "Initiating prediction for model: deepsurv_lstm_clustering_1\n",
      "Initiate testing of deepsurv neural network\n",
      "model structure: LSTM\n"
     ]
    },
    {
     "name": "stderr",
     "output_type": "stream",
     "text": [
      "2024-11-21 09:16:39,692 - INFO - Validation data retrieved\n",
      "2024-11-21 09:16:40,411 - INFO - Event column 'endpoint' updated with focus on event value 1.\n",
      "2024-11-21 09:16:40,412 - INFO - Event column 'endpoint' updated with focus on event value 1.\n"
     ]
    },
    {
     "name": "stdout",
     "output_type": "stream",
     "text": [
      "Prediction completed for deepsurv_lstm_clustering_1 on fold 7.\n",
      "Initiating prediction for model: deepsurv_lstm_nearmiss_1\n",
      "Initiate testing of deepsurv neural network\n",
      "model structure: LSTM\n"
     ]
    },
    {
     "name": "stderr",
     "output_type": "stream",
     "text": [
      "2024-11-21 09:16:54,783 - INFO - Validation data retrieved\n",
      "2024-11-21 09:16:55,451 - INFO - Event column 'endpoint' updated with focus on event value 2.\n",
      "2024-11-21 09:16:55,452 - INFO - Event column 'endpoint' updated with focus on event value 2.\n"
     ]
    },
    {
     "name": "stdout",
     "output_type": "stream",
     "text": [
      "Prediction completed for deepsurv_lstm_nearmiss_1 on fold 7.\n",
      "Initiating prediction for model: deepsurv_lstm_clustering_2\n",
      "Initiate testing of deepsurv neural network\n",
      "model structure: LSTM\n"
     ]
    },
    {
     "name": "stderr",
     "output_type": "stream",
     "text": [
      "2024-11-21 09:17:05,978 - INFO - Validation data retrieved\n",
      "2024-11-21 09:17:06,556 - INFO - Event column 'endpoint' updated with focus on event value 2.\n",
      "2024-11-21 09:17:06,558 - INFO - Event column 'endpoint' updated with focus on event value 2.\n"
     ]
    },
    {
     "name": "stdout",
     "output_type": "stream",
     "text": [
      "Prediction completed for deepsurv_lstm_clustering_2 on fold 7.\n",
      "Initiating prediction for model: deepsurv_lstm_nearmiss_2\n",
      "Initiate testing of deepsurv neural network\n",
      "model structure: LSTM\n"
     ]
    },
    {
     "name": "stderr",
     "output_type": "stream",
     "text": [
      "2024-11-21 09:17:18,167 - INFO - Validation data retrieved\n"
     ]
    },
    {
     "name": "stdout",
     "output_type": "stream",
     "text": [
      "Prediction completed for deepsurv_lstm_nearmiss_2 on fold 7.\n",
      "Initiating prediction for model: deephit_ann_clustering_all\n",
      "Initiate testing of deephit neural network\n",
      "model structure: ANN\n",
      "prediction complete, please note that prediction of deephit models are CIF.\n",
      "Prediction completed for deephit_ann_clustering_all on fold 7.\n",
      "Initiating prediction for model: deephit_ann_nearmiss2_all\n",
      "Initiate testing of deephit neural network\n",
      "model structure: ANN\n",
      "prediction complete, please note that prediction of deephit models are CIF.\n",
      "Prediction completed for deephit_ann_nearmiss2_all on fold 7.\n",
      "Initiating prediction for model: deephit_lstm_clustering_all\n",
      "Initiate testing of deephit neural network\n",
      "model structure: LSTM\n"
     ]
    },
    {
     "name": "stderr",
     "output_type": "stream",
     "text": [
      "2024-11-21 09:17:36,328 - INFO - Validation data retrieved\n"
     ]
    },
    {
     "name": "stdout",
     "output_type": "stream",
     "text": [
      "prediction complete, please note that prediction of deephit models are CIF.\n",
      "Prediction completed for deephit_lstm_clustering_all on fold 7.\n",
      "Initiating prediction for model: deephit_lstm_nearmiss1_all\n",
      "Initiate testing of deephit neural network\n",
      "model structure: LSTM\n"
     ]
    },
    {
     "name": "stderr",
     "output_type": "stream",
     "text": [
      "2024-11-21 09:17:46,976 - INFO - Validation data retrieved\n"
     ]
    },
    {
     "name": "stdout",
     "output_type": "stream",
     "text": [
      "prediction complete, please note that prediction of deephit models are CIF.\n",
      "Prediction completed for deephit_lstm_nearmiss1_all on fold 7.\n",
      "Processing fold 8...\n",
      "Initiating prediction for model: deepsurv_ann_clustering_1\n"
     ]
    },
    {
     "name": "stderr",
     "output_type": "stream",
     "text": [
      "2024-11-21 09:17:47,439 - INFO - Event column 'endpoint' updated with focus on event value 1.\n"
     ]
    },
    {
     "name": "stdout",
     "output_type": "stream",
     "text": [
      "Initiate testing of deepsurv neural network\n",
      "model structure: ANN\n"
     ]
    },
    {
     "name": "stderr",
     "output_type": "stream",
     "text": [
      "2024-11-21 09:17:48,087 - INFO - Event column 'endpoint' updated with focus on event value 1.\n"
     ]
    },
    {
     "name": "stdout",
     "output_type": "stream",
     "text": [
      "Prediction completed for deepsurv_ann_clustering_1 on fold 8.\n",
      "Initiating prediction for model: deepsurv_ann_smoteenn_1\n",
      "Initiate testing of deepsurv neural network\n",
      "model structure: ANN\n"
     ]
    },
    {
     "name": "stderr",
     "output_type": "stream",
     "text": [
      "2024-11-21 09:17:56,188 - INFO - Event column 'endpoint' updated with focus on event value 1.\n"
     ]
    },
    {
     "name": "stdout",
     "output_type": "stream",
     "text": [
      "Prediction completed for deepsurv_ann_smoteenn_1 on fold 8.\n",
      "Initiating prediction for model: deepsurv_ann_smotetomek_1\n",
      "Initiate testing of deepsurv neural network\n",
      "model structure: ANN\n"
     ]
    },
    {
     "name": "stderr",
     "output_type": "stream",
     "text": [
      "2024-11-21 09:18:08,162 - INFO - Event column 'endpoint' updated with focus on event value 2.\n"
     ]
    },
    {
     "name": "stdout",
     "output_type": "stream",
     "text": [
      "Prediction completed for deepsurv_ann_smotetomek_1 on fold 8.\n",
      "Initiating prediction for model: deepsurv_ann_clustering_2\n",
      "Initiate testing of deepsurv neural network\n",
      "model structure: ANN\n"
     ]
    },
    {
     "name": "stderr",
     "output_type": "stream",
     "text": [
      "2024-11-21 09:18:09,032 - INFO - Event column 'endpoint' updated with focus on event value 2.\n"
     ]
    },
    {
     "name": "stdout",
     "output_type": "stream",
     "text": [
      "Prediction completed for deepsurv_ann_clustering_2 on fold 8.\n",
      "Initiating prediction for model: deepsurv_ann_smoteenn_2\n",
      "Initiate testing of deepsurv neural network\n",
      "model structure: ANN\n"
     ]
    },
    {
     "name": "stderr",
     "output_type": "stream",
     "text": [
      "2024-11-21 09:18:10,901 - INFO - Event column 'endpoint' updated with focus on event value 2.\n"
     ]
    },
    {
     "name": "stdout",
     "output_type": "stream",
     "text": [
      "Prediction completed for deepsurv_ann_smoteenn_2 on fold 8.\n",
      "Initiating prediction for model: deepsurv_ann_smotetomek_2\n",
      "Initiate testing of deepsurv neural network\n",
      "model structure: ANN\n"
     ]
    },
    {
     "name": "stderr",
     "output_type": "stream",
     "text": [
      "2024-11-21 09:18:13,052 - INFO - Event column 'endpoint' updated with focus on event value 1.\n",
      "2024-11-21 09:18:13,053 - INFO - Event column 'endpoint' updated with focus on event value 1.\n"
     ]
    },
    {
     "name": "stdout",
     "output_type": "stream",
     "text": [
      "Prediction completed for deepsurv_ann_smotetomek_2 on fold 8.\n",
      "Initiating prediction for model: deepsurv_lstm_clustering_1\n",
      "Initiate testing of deepsurv neural network\n",
      "model structure: LSTM\n"
     ]
    },
    {
     "name": "stderr",
     "output_type": "stream",
     "text": [
      "2024-11-21 09:18:23,902 - INFO - Validation data retrieved\n",
      "2024-11-21 09:18:24,693 - INFO - Event column 'endpoint' updated with focus on event value 1.\n",
      "2024-11-21 09:18:24,694 - INFO - Event column 'endpoint' updated with focus on event value 1.\n"
     ]
    },
    {
     "name": "stdout",
     "output_type": "stream",
     "text": [
      "Prediction completed for deepsurv_lstm_clustering_1 on fold 8.\n",
      "Initiating prediction for model: deepsurv_lstm_nearmiss_1\n",
      "Initiate testing of deepsurv neural network\n",
      "model structure: LSTM\n"
     ]
    },
    {
     "name": "stderr",
     "output_type": "stream",
     "text": [
      "2024-11-21 09:18:34,955 - INFO - Validation data retrieved\n",
      "2024-11-21 09:18:35,557 - INFO - Event column 'endpoint' updated with focus on event value 2.\n",
      "2024-11-21 09:18:35,558 - INFO - Event column 'endpoint' updated with focus on event value 2.\n"
     ]
    },
    {
     "name": "stdout",
     "output_type": "stream",
     "text": [
      "Prediction completed for deepsurv_lstm_nearmiss_1 on fold 8.\n",
      "Initiating prediction for model: deepsurv_lstm_clustering_2\n",
      "Initiate testing of deepsurv neural network\n",
      "model structure: LSTM\n"
     ]
    },
    {
     "name": "stderr",
     "output_type": "stream",
     "text": [
      "2024-11-21 09:18:48,992 - INFO - Validation data retrieved\n",
      "2024-11-21 09:18:49,613 - INFO - Event column 'endpoint' updated with focus on event value 2.\n",
      "2024-11-21 09:18:49,614 - INFO - Event column 'endpoint' updated with focus on event value 2.\n"
     ]
    },
    {
     "name": "stdout",
     "output_type": "stream",
     "text": [
      "Prediction completed for deepsurv_lstm_clustering_2 on fold 8.\n",
      "Initiating prediction for model: deepsurv_lstm_nearmiss_2\n",
      "Initiate testing of deepsurv neural network\n",
      "model structure: LSTM\n"
     ]
    },
    {
     "name": "stderr",
     "output_type": "stream",
     "text": [
      "2024-11-21 09:19:00,778 - INFO - Validation data retrieved\n"
     ]
    },
    {
     "name": "stdout",
     "output_type": "stream",
     "text": [
      "Prediction completed for deepsurv_lstm_nearmiss_2 on fold 8.\n",
      "Initiating prediction for model: deephit_ann_clustering_all\n",
      "Initiate testing of deephit neural network\n",
      "model structure: ANN\n",
      "prediction complete, please note that prediction of deephit models are CIF.\n",
      "Prediction completed for deephit_ann_clustering_all on fold 8.\n",
      "Initiating prediction for model: deephit_ann_nearmiss2_all\n",
      "Initiate testing of deephit neural network\n",
      "model structure: ANN\n",
      "prediction complete, please note that prediction of deephit models are CIF.\n",
      "Prediction completed for deephit_ann_nearmiss2_all on fold 8.\n",
      "Initiating prediction for model: deephit_lstm_clustering_all\n",
      "Initiate testing of deephit neural network\n",
      "model structure: LSTM\n"
     ]
    },
    {
     "name": "stderr",
     "output_type": "stream",
     "text": [
      "2024-11-21 09:19:18,341 - INFO - Validation data retrieved\n"
     ]
    },
    {
     "name": "stdout",
     "output_type": "stream",
     "text": [
      "prediction complete, please note that prediction of deephit models are CIF.\n",
      "Prediction completed for deephit_lstm_clustering_all on fold 8.\n",
      "Initiating prediction for model: deephit_lstm_nearmiss1_all\n",
      "Initiate testing of deephit neural network\n",
      "model structure: LSTM\n"
     ]
    },
    {
     "name": "stderr",
     "output_type": "stream",
     "text": [
      "2024-11-21 09:19:28,399 - INFO - Validation data retrieved\n",
      "2024-11-21 09:19:28,838 - INFO - Event column 'endpoint' updated with focus on event value 1.\n"
     ]
    },
    {
     "name": "stdout",
     "output_type": "stream",
     "text": [
      "prediction complete, please note that prediction of deephit models are CIF.\n",
      "Prediction completed for deephit_lstm_nearmiss1_all on fold 8.\n",
      "Processing fold 9...\n",
      "Initiating prediction for model: deepsurv_ann_clustering_1\n",
      "Initiate testing of deepsurv neural network\n",
      "model structure: ANN\n"
     ]
    },
    {
     "name": "stderr",
     "output_type": "stream",
     "text": [
      "2024-11-21 09:19:29,510 - INFO - Event column 'endpoint' updated with focus on event value 1.\n"
     ]
    },
    {
     "name": "stdout",
     "output_type": "stream",
     "text": [
      "Prediction completed for deepsurv_ann_clustering_1 on fold 9.\n",
      "Initiating prediction for model: deepsurv_ann_smoteenn_1\n",
      "Initiate testing of deepsurv neural network\n",
      "model structure: ANN\n"
     ]
    },
    {
     "name": "stderr",
     "output_type": "stream",
     "text": [
      "2024-11-21 09:19:37,934 - INFO - Event column 'endpoint' updated with focus on event value 1.\n"
     ]
    },
    {
     "name": "stdout",
     "output_type": "stream",
     "text": [
      "Prediction completed for deepsurv_ann_smoteenn_1 on fold 9.\n",
      "Initiating prediction for model: deepsurv_ann_smotetomek_1\n",
      "Initiate testing of deepsurv neural network\n",
      "model structure: ANN\n"
     ]
    },
    {
     "name": "stderr",
     "output_type": "stream",
     "text": [
      "2024-11-21 09:19:47,339 - INFO - Event column 'endpoint' updated with focus on event value 2.\n"
     ]
    },
    {
     "name": "stdout",
     "output_type": "stream",
     "text": [
      "Prediction completed for deepsurv_ann_smotetomek_1 on fold 9.\n",
      "Initiating prediction for model: deepsurv_ann_clustering_2\n",
      "Initiate testing of deepsurv neural network\n",
      "model structure: ANN\n"
     ]
    },
    {
     "name": "stderr",
     "output_type": "stream",
     "text": [
      "2024-11-21 09:19:48,041 - INFO - Event column 'endpoint' updated with focus on event value 2.\n"
     ]
    },
    {
     "name": "stdout",
     "output_type": "stream",
     "text": [
      "Prediction completed for deepsurv_ann_clustering_2 on fold 9.\n",
      "Initiating prediction for model: deepsurv_ann_smoteenn_2\n",
      "Initiate testing of deepsurv neural network\n",
      "model structure: ANN\n"
     ]
    },
    {
     "name": "stderr",
     "output_type": "stream",
     "text": [
      "2024-11-21 09:19:53,372 - INFO - Event column 'endpoint' updated with focus on event value 2.\n"
     ]
    },
    {
     "name": "stdout",
     "output_type": "stream",
     "text": [
      "Prediction completed for deepsurv_ann_smoteenn_2 on fold 9.\n",
      "Initiating prediction for model: deepsurv_ann_smotetomek_2\n",
      "Initiate testing of deepsurv neural network\n",
      "model structure: ANN\n"
     ]
    },
    {
     "name": "stderr",
     "output_type": "stream",
     "text": [
      "2024-11-21 09:19:55,430 - INFO - Event column 'endpoint' updated with focus on event value 1.\n",
      "2024-11-21 09:19:55,432 - INFO - Event column 'endpoint' updated with focus on event value 1.\n"
     ]
    },
    {
     "name": "stdout",
     "output_type": "stream",
     "text": [
      "Prediction completed for deepsurv_ann_smotetomek_2 on fold 9.\n",
      "Initiating prediction for model: deepsurv_lstm_clustering_1\n",
      "Initiate testing of deepsurv neural network\n",
      "model structure: LSTM\n"
     ]
    },
    {
     "name": "stderr",
     "output_type": "stream",
     "text": [
      "2024-11-21 09:20:06,880 - INFO - Validation data retrieved\n",
      "2024-11-21 09:20:07,541 - INFO - Event column 'endpoint' updated with focus on event value 1.\n",
      "2024-11-21 09:20:07,542 - INFO - Event column 'endpoint' updated with focus on event value 1.\n"
     ]
    },
    {
     "name": "stdout",
     "output_type": "stream",
     "text": [
      "Prediction completed for deepsurv_lstm_clustering_1 on fold 9.\n",
      "Initiating prediction for model: deepsurv_lstm_nearmiss_1\n",
      "Initiate testing of deepsurv neural network\n",
      "model structure: LSTM\n"
     ]
    },
    {
     "name": "stderr",
     "output_type": "stream",
     "text": [
      "2024-11-21 09:20:17,821 - INFO - Validation data retrieved\n",
      "2024-11-21 09:20:18,417 - INFO - Event column 'endpoint' updated with focus on event value 2.\n",
      "2024-11-21 09:20:18,418 - INFO - Event column 'endpoint' updated with focus on event value 2.\n"
     ]
    },
    {
     "name": "stdout",
     "output_type": "stream",
     "text": [
      "Prediction completed for deepsurv_lstm_nearmiss_1 on fold 9.\n",
      "Initiating prediction for model: deepsurv_lstm_clustering_2\n",
      "Initiate testing of deepsurv neural network\n",
      "model structure: LSTM\n"
     ]
    },
    {
     "name": "stderr",
     "output_type": "stream",
     "text": [
      "2024-11-21 09:20:32,135 - INFO - Validation data retrieved\n",
      "2024-11-21 09:20:32,728 - INFO - Event column 'endpoint' updated with focus on event value 2.\n",
      "2024-11-21 09:20:32,729 - INFO - Event column 'endpoint' updated with focus on event value 2.\n"
     ]
    },
    {
     "name": "stdout",
     "output_type": "stream",
     "text": [
      "Prediction completed for deepsurv_lstm_clustering_2 on fold 9.\n",
      "Initiating prediction for model: deepsurv_lstm_nearmiss_2\n",
      "Initiate testing of deepsurv neural network\n",
      "model structure: LSTM\n"
     ]
    },
    {
     "name": "stderr",
     "output_type": "stream",
     "text": [
      "2024-11-21 09:20:44,244 - INFO - Validation data retrieved\n"
     ]
    },
    {
     "name": "stdout",
     "output_type": "stream",
     "text": [
      "Prediction completed for deepsurv_lstm_nearmiss_2 on fold 9.\n",
      "Initiating prediction for model: deephit_ann_clustering_all\n",
      "Initiate testing of deephit neural network\n",
      "model structure: ANN\n",
      "prediction complete, please note that prediction of deephit models are CIF.\n",
      "Prediction completed for deephit_ann_clustering_all on fold 9.\n",
      "Initiating prediction for model: deephit_ann_nearmiss2_all\n",
      "Initiate testing of deephit neural network\n",
      "model structure: ANN\n",
      "prediction complete, please note that prediction of deephit models are CIF.\n",
      "Prediction completed for deephit_ann_nearmiss2_all on fold 9.\n",
      "Initiating prediction for model: deephit_lstm_clustering_all\n",
      "Initiate testing of deephit neural network\n",
      "model structure: LSTM\n"
     ]
    },
    {
     "name": "stderr",
     "output_type": "stream",
     "text": [
      "2024-11-21 09:20:58,856 - INFO - Validation data retrieved\n"
     ]
    },
    {
     "name": "stdout",
     "output_type": "stream",
     "text": [
      "prediction complete, please note that prediction of deephit models are CIF.\n",
      "Prediction completed for deephit_lstm_clustering_all on fold 9.\n",
      "Initiating prediction for model: deephit_lstm_nearmiss1_all\n",
      "Initiate testing of deephit neural network\n",
      "model structure: LSTM\n"
     ]
    },
    {
     "name": "stderr",
     "output_type": "stream",
     "text": [
      "2024-11-21 09:21:13,145 - INFO - Validation data retrieved\n"
     ]
    },
    {
     "name": "stdout",
     "output_type": "stream",
     "text": [
      "prediction complete, please note that prediction of deephit models are CIF.\n",
      "Prediction completed for deephit_lstm_nearmiss1_all on fold 9.\n",
      "Processing fold 10...\n",
      "Initiating prediction for model: deepsurv_ann_clustering_1\n"
     ]
    },
    {
     "name": "stderr",
     "output_type": "stream",
     "text": [
      "2024-11-21 09:21:13,692 - INFO - Event column 'endpoint' updated with focus on event value 1.\n"
     ]
    },
    {
     "name": "stdout",
     "output_type": "stream",
     "text": [
      "Initiate testing of deepsurv neural network\n",
      "model structure: ANN\n"
     ]
    },
    {
     "name": "stderr",
     "output_type": "stream",
     "text": [
      "2024-11-21 09:21:14,321 - INFO - Event column 'endpoint' updated with focus on event value 1.\n"
     ]
    },
    {
     "name": "stdout",
     "output_type": "stream",
     "text": [
      "Prediction completed for deepsurv_ann_clustering_1 on fold 10.\n",
      "Initiating prediction for model: deepsurv_ann_smoteenn_1\n",
      "Initiate testing of deepsurv neural network\n",
      "model structure: ANN\n"
     ]
    },
    {
     "name": "stderr",
     "output_type": "stream",
     "text": [
      "2024-11-21 09:21:22,331 - INFO - Event column 'endpoint' updated with focus on event value 1.\n"
     ]
    },
    {
     "name": "stdout",
     "output_type": "stream",
     "text": [
      "Prediction completed for deepsurv_ann_smoteenn_1 on fold 10.\n",
      "Initiating prediction for model: deepsurv_ann_smotetomek_1\n",
      "Initiate testing of deepsurv neural network\n",
      "model structure: ANN\n"
     ]
    },
    {
     "name": "stderr",
     "output_type": "stream",
     "text": [
      "2024-11-21 09:21:30,950 - INFO - Event column 'endpoint' updated with focus on event value 2.\n"
     ]
    },
    {
     "name": "stdout",
     "output_type": "stream",
     "text": [
      "Prediction completed for deepsurv_ann_smotetomek_1 on fold 10.\n",
      "Initiating prediction for model: deepsurv_ann_clustering_2\n",
      "Initiate testing of deepsurv neural network\n",
      "model structure: ANN\n"
     ]
    },
    {
     "name": "stderr",
     "output_type": "stream",
     "text": [
      "2024-11-21 09:21:31,637 - INFO - Event column 'endpoint' updated with focus on event value 2.\n"
     ]
    },
    {
     "name": "stdout",
     "output_type": "stream",
     "text": [
      "Prediction completed for deepsurv_ann_clustering_2 on fold 10.\n",
      "Initiating prediction for model: deepsurv_ann_smoteenn_2\n",
      "Initiate testing of deepsurv neural network\n",
      "model structure: ANN\n"
     ]
    },
    {
     "name": "stderr",
     "output_type": "stream",
     "text": [
      "2024-11-21 09:21:33,311 - INFO - Event column 'endpoint' updated with focus on event value 2.\n"
     ]
    },
    {
     "name": "stdout",
     "output_type": "stream",
     "text": [
      "Prediction completed for deepsurv_ann_smoteenn_2 on fold 10.\n",
      "Initiating prediction for model: deepsurv_ann_smotetomek_2\n",
      "Initiate testing of deepsurv neural network\n",
      "model structure: ANN\n"
     ]
    },
    {
     "name": "stderr",
     "output_type": "stream",
     "text": [
      "2024-11-21 09:21:35,470 - INFO - Event column 'endpoint' updated with focus on event value 1.\n",
      "2024-11-21 09:21:35,473 - INFO - Event column 'endpoint' updated with focus on event value 1.\n"
     ]
    },
    {
     "name": "stdout",
     "output_type": "stream",
     "text": [
      "Prediction completed for deepsurv_ann_smotetomek_2 on fold 10.\n",
      "Initiating prediction for model: deepsurv_lstm_clustering_1\n",
      "Initiate testing of deepsurv neural network\n",
      "model structure: LSTM\n"
     ]
    },
    {
     "name": "stderr",
     "output_type": "stream",
     "text": [
      "2024-11-21 09:21:49,736 - INFO - Validation data retrieved\n",
      "2024-11-21 09:21:50,426 - INFO - Event column 'endpoint' updated with focus on event value 1.\n",
      "2024-11-21 09:21:50,427 - INFO - Event column 'endpoint' updated with focus on event value 1.\n"
     ]
    },
    {
     "name": "stdout",
     "output_type": "stream",
     "text": [
      "Prediction completed for deepsurv_lstm_clustering_1 on fold 10.\n",
      "Initiating prediction for model: deepsurv_lstm_nearmiss_1\n",
      "Initiate testing of deepsurv neural network\n",
      "model structure: LSTM\n"
     ]
    },
    {
     "name": "stderr",
     "output_type": "stream",
     "text": [
      "2024-11-21 09:22:00,446 - INFO - Validation data retrieved\n",
      "2024-11-21 09:22:01,128 - INFO - Event column 'endpoint' updated with focus on event value 2.\n",
      "2024-11-21 09:22:01,129 - INFO - Event column 'endpoint' updated with focus on event value 2.\n"
     ]
    },
    {
     "name": "stdout",
     "output_type": "stream",
     "text": [
      "Prediction completed for deepsurv_lstm_nearmiss_1 on fold 10.\n",
      "Initiating prediction for model: deepsurv_lstm_clustering_2\n",
      "Initiate testing of deepsurv neural network\n",
      "model structure: LSTM\n"
     ]
    },
    {
     "name": "stderr",
     "output_type": "stream",
     "text": [
      "2024-11-21 09:22:11,119 - INFO - Validation data retrieved\n",
      "2024-11-21 09:22:11,753 - INFO - Event column 'endpoint' updated with focus on event value 2.\n",
      "2024-11-21 09:22:11,754 - INFO - Event column 'endpoint' updated with focus on event value 2.\n"
     ]
    },
    {
     "name": "stdout",
     "output_type": "stream",
     "text": [
      "Prediction completed for deepsurv_lstm_clustering_2 on fold 10.\n",
      "Initiating prediction for model: deepsurv_lstm_nearmiss_2\n",
      "Initiate testing of deepsurv neural network\n",
      "model structure: LSTM\n"
     ]
    },
    {
     "name": "stderr",
     "output_type": "stream",
     "text": [
      "2024-11-21 09:22:26,261 - INFO - Validation data retrieved\n"
     ]
    },
    {
     "name": "stdout",
     "output_type": "stream",
     "text": [
      "Prediction completed for deepsurv_lstm_nearmiss_2 on fold 10.\n",
      "Initiating prediction for model: deephit_ann_clustering_all\n",
      "Initiate testing of deephit neural network\n",
      "model structure: ANN\n",
      "prediction complete, please note that prediction of deephit models are CIF.\n",
      "Prediction completed for deephit_ann_clustering_all on fold 10.\n",
      "Initiating prediction for model: deephit_ann_nearmiss2_all\n",
      "Initiate testing of deephit neural network\n",
      "model structure: ANN\n",
      "prediction complete, please note that prediction of deephit models are CIF.\n",
      "Prediction completed for deephit_ann_nearmiss2_all on fold 10.\n",
      "Initiating prediction for model: deephit_lstm_clustering_all\n",
      "Initiate testing of deephit neural network\n",
      "model structure: LSTM\n"
     ]
    },
    {
     "name": "stderr",
     "output_type": "stream",
     "text": [
      "2024-11-21 09:22:40,206 - INFO - Validation data retrieved\n"
     ]
    },
    {
     "name": "stdout",
     "output_type": "stream",
     "text": [
      "prediction complete, please note that prediction of deephit models are CIF.\n",
      "Prediction completed for deephit_lstm_clustering_all on fold 10.\n",
      "Initiating prediction for model: deephit_lstm_nearmiss1_all\n",
      "Initiate testing of deephit neural network\n",
      "model structure: LSTM\n"
     ]
    },
    {
     "name": "stderr",
     "output_type": "stream",
     "text": [
      "2024-11-21 09:22:53,764 - INFO - Validation data retrieved\n"
     ]
    },
    {
     "name": "stdout",
     "output_type": "stream",
     "text": [
      "prediction complete, please note that prediction of deephit models are CIF.\n",
      "Prediction completed for deephit_lstm_nearmiss1_all on fold 10.\n",
      "Final predictions and y_test combined.\n"
     ]
    }
   ],
   "source": [
    "gc.collect()\n",
    "torch.cuda.empty_cache()\n",
    "\n",
    "# Initialize dictionary to store combined predictions and y_test\n",
    "combined_predictions = []\n",
    "combined_y_test = []\n",
    "cif_ground_truth_test = []\n",
    "\n",
    "# Get unique keys and split them into 10 groups\n",
    "unique_keys = X_train_transformed_2['key'].unique()\n",
    "np.random.shuffle(unique_keys)  # Shuffle keys to ensure randomness\n",
    "key_folds = np.array_split(unique_keys, 10)\n",
    "\n",
    "for fold_idx, test_keys in enumerate(key_folds):\n",
    "    print(f\"Processing fold {fold_idx + 1}...\")\n",
    "    # Split the dataset into train and test based on keys\n",
    "    X_test_fold = X_train_transformed_2[X_train_transformed_2['key'].isin(test_keys)]\n",
    "    \n",
    "    # Get the indices of X_test_fold relative to the original dataset\n",
    "    test_indices = X_test_fold.index.to_numpy()\n",
    "\n",
    "    # Extract CIF ground truth for these indices\n",
    "    fold_cif_ground_truth = cif_ground_truth[:, :, test_indices]\n",
    "\n",
    "    # Stack this fold's CIF ground truth\n",
    "    cif_ground_truth_test.append(fold_cif_ground_truth)\n",
    "    \n",
    "    # Store predictions for this fold\n",
    "    fold_predictions = {}\n",
    "    \n",
    "    X_test, y_test = preprocess_data(X_test_fold, FEATURE_COLS, DURATION_COL, EVENT_COL, TIME_GRID, discretize=True)\n",
    "    combined_y_test.append(y_test)\n",
    "    \n",
    "    for model_name in model_ls:\n",
    "        # Retrieve configuration by dynamically constructing the variable name\n",
    "        config_var_name = model_name + \"_config\"\n",
    "        model_config = globals().get(config_var_name)\n",
    "        if model_config is None:\n",
    "            print(f\"Configuration for {config_var_name} not found.\")\n",
    "            continue\n",
    "        try:\n",
    "            print(f\"Initiating prediction for model: {model_name}\")\n",
    "            \n",
    "            # Retrieve the loaded model\n",
    "            model = loaded_models.get(model_name)\n",
    "            if model is None:\n",
    "                print(f\"Model {model_name} is not loaded.\")\n",
    "                continue\n",
    "            \n",
    "            # Predict using the loaded model and configuration\n",
    "            surv, _ = predict_neural_network(\n",
    "                model=model,\n",
    "                config=model_config,\n",
    "                X_test=X_test_fold,\n",
    "                duration_col=DURATION_COL,\n",
    "                event_col=EVENT_COL,\n",
    "                cluster_col=CLUSTER_COL,\n",
    "                time_grid=TIME_GRID\n",
    "            )\n",
    "            \n",
    "            # Align survival probabilities (if DeepSurv)\n",
    "            if model_config['model'] == 'deepsurv':\n",
    "                surv = align_to_time_grid(surv, TIME_GRID).values  # 2D array\n",
    "                \n",
    "                # Structure key dynamically\n",
    "                key = f\"deepsurv_{model_config['net']}_{model_config['balance_method']}\"\n",
    "                \n",
    "                # Store predictions\n",
    "                if key not in fold_predictions:\n",
    "                    fold_predictions[key] = []\n",
    "                fold_predictions[key].append(np.expand_dims(1 - surv, axis=0))\n",
    "            \n",
    "            # Handle DeepHit predictions\n",
    "            elif model_config['model'] == 'deephit':\n",
    "                surv = np.array(surv)  # Convert to numpy array\n",
    "                \n",
    "                # Structure key dynamically\n",
    "                key = f\"deephit_{model_config['net']}_{model_config['balance_method']}\"\n",
    "                \n",
    "                # Store predictions\n",
    "                if key not in fold_predictions:\n",
    "                    fold_predictions[key] = []\n",
    "                fold_predictions[key].append(surv)\n",
    "            \n",
    "            print(f\"Prediction completed for {model_name} on fold {fold_idx + 1}.\")\n",
    "        \n",
    "        except Exception as e:\n",
    "            print(f\"Error during prediction for {model_name} on fold {fold_idx + 1}: {e}\")\n",
    "            \n",
    "    combined_predictions.append(fold_predictions)\n",
    "\n",
    "meta_learner_X_train = {}\n",
    "\n",
    "for fold_predictions in combined_predictions:\n",
    "    for model_key, fold_data in fold_predictions.items():\n",
    "        if model_key not in meta_learner_X_train:\n",
    "            meta_learner_X_train[model_key] = []\n",
    "        \n",
    "        # Align DeepSurv predictions to match DeepHit format\n",
    "        if \"deepsurv\" in model_key:\n",
    "            # Stack competing outcomes and remove the redundant dimension\n",
    "            meta_learner_X_train[model_key].extend(\n",
    "                [np.squeeze(np.stack(fold_data, axis=0), axis=1)]  # Squeeze out extra axis\n",
    "            )\n",
    "        else:\n",
    "            # Keep DeepHit predictions as-is\n",
    "            meta_learner_X_train[model_key].extend(fold_data)\n",
    "\n",
    "# Combine y_test\n",
    "meta_learner_y_train = (\n",
    "    np.concatenate([fold[0] for fold in combined_y_test]),  # Concatenate all first elements\n",
    "    np.concatenate([fold[1] for fold in combined_y_test])   # Concatenate all second elements\n",
    ")\n",
    "\n",
    "# Combine CIF ground truth for all folds\n",
    "cif_ground_truth_test_stacked = np.concatenate(cif_ground_truth_test, axis=2)\n",
    "\n",
    "print(\"Final predictions and y_test combined.\")"
   ]
  },
  {
   "cell_type": "code",
   "execution_count": 212,
   "metadata": {},
   "outputs": [
    {
     "name": "stdout",
     "output_type": "stream",
     "text": [
      "deepsurv_ann_clustering: final shape (2, 6, 316242)\n",
      "deepsurv_ann_enn: final shape (2, 6, 316242)\n",
      "deepsurv_ann_tomek: final shape (2, 6, 316242)\n",
      "deepsurv_lstm_clustering: final shape (2, 6, 316242)\n",
      "deepsurv_lstm_NearMiss: final shape (2, 6, 316242)\n",
      "deephit_ann_clustering: final shape (2, 6, 316242)\n",
      "deephit_ann_NearMiss: final shape (2, 6, 316242)\n",
      "deephit_lstm_clustering: final shape (2, 6, 316242)\n",
      "deephit_lstm_NearMiss: final shape (2, 6, 316242)\n"
     ]
    }
   ],
   "source": [
    "# Combine all 10 items for each model's predictions\n",
    "final_meta_learner_X_train = {}\n",
    "\n",
    "for key, predictions in meta_learner_X_train.items():\n",
    "    # Concatenate the predictions along the last axis\n",
    "    final_meta_learner_X_train[key] = np.concatenate(predictions, axis=2)  # Combine along the feature axis\n",
    "\n",
    "# Validate the shapes\n",
    "for key, combined_prediction in final_meta_learner_X_train.items():\n",
    "    print(f\"{key}: final shape {combined_prediction.shape}\")\n"
   ]
  },
  {
   "cell_type": "code",
   "execution_count": 213,
   "metadata": {},
   "outputs": [
    {
     "data": {
      "text/plain": [
       "(2, 6, 316242)"
      ]
     },
     "metadata": {},
     "output_type": "display_data"
    },
    {
     "name": "stdout",
     "output_type": "stream",
     "text": [
      "(316242,)\n",
      "(316242,)\n",
      "(array([0, 1, 2]), array([310074,   1509,   4659]))\n"
     ]
    }
   ],
   "source": [
    "display(np.shape(cif_ground_truth_test_stacked))\n",
    "\n",
    "# Use the duration and event data as targets\n",
    "durations = meta_learner_y_train[0]  # Time to event or censoring\n",
    "events = meta_learner_y_train[1]  # Event type (competing risks)\n",
    "\n",
    "print(durations.shape)\n",
    "print(events.shape)\n",
    "print(np.unique(events, return_counts=True))"
   ]
  },
  {
   "cell_type": "markdown",
   "metadata": {},
   "source": [
    "### 6. Ensemble methods"
   ]
  },
  {
   "cell_type": "markdown",
   "metadata": {},
   "source": [
    "#### 6.1 Prepare each model's prediction on validation set\n"
   ]
  },
  {
   "cell_type": "code",
   "execution_count": 214,
   "metadata": {},
   "outputs": [
    {
     "name": "stdout",
     "output_type": "stream",
     "text": [
      "Processing fold 1...\n",
      "Initiating prediction for model: deepsurv_ann_clustering_1\n",
      "Initiate testing of deepsurv neural network\n"
     ]
    },
    {
     "name": "stderr",
     "output_type": "stream",
     "text": [
      "2024-11-21 09:22:54,543 - INFO - Event column 'endpoint' updated with focus on event value 1.\n"
     ]
    },
    {
     "name": "stdout",
     "output_type": "stream",
     "text": [
      "model structure: ANN\n"
     ]
    },
    {
     "name": "stderr",
     "output_type": "stream",
     "text": [
      "2024-11-21 09:22:55,018 - INFO - Event column 'endpoint' updated with focus on event value 1.\n"
     ]
    },
    {
     "name": "stdout",
     "output_type": "stream",
     "text": [
      "Prediction completed for deepsurv_ann_clustering_1 on fold 1.\n",
      "Initiating prediction for model: deepsurv_ann_smoteenn_1\n",
      "Initiate testing of deepsurv neural network\n",
      "model structure: ANN\n"
     ]
    },
    {
     "name": "stderr",
     "output_type": "stream",
     "text": [
      "2024-11-21 09:22:57,418 - INFO - Event column 'endpoint' updated with focus on event value 1.\n"
     ]
    },
    {
     "name": "stdout",
     "output_type": "stream",
     "text": [
      "Prediction completed for deepsurv_ann_smoteenn_1 on fold 1.\n",
      "Initiating prediction for model: deepsurv_ann_smotetomek_1\n",
      "Initiate testing of deepsurv neural network\n",
      "model structure: ANN\n"
     ]
    },
    {
     "name": "stderr",
     "output_type": "stream",
     "text": [
      "2024-11-21 09:22:59,719 - INFO - Event column 'endpoint' updated with focus on event value 2.\n"
     ]
    },
    {
     "name": "stdout",
     "output_type": "stream",
     "text": [
      "Prediction completed for deepsurv_ann_smotetomek_1 on fold 1.\n",
      "Initiating prediction for model: deepsurv_ann_clustering_2\n",
      "Initiate testing of deepsurv neural network\n",
      "model structure: ANN\n"
     ]
    },
    {
     "name": "stderr",
     "output_type": "stream",
     "text": [
      "2024-11-21 09:23:00,173 - INFO - Event column 'endpoint' updated with focus on event value 2.\n"
     ]
    },
    {
     "name": "stdout",
     "output_type": "stream",
     "text": [
      "Prediction completed for deepsurv_ann_clustering_2 on fold 1.\n",
      "Initiating prediction for model: deepsurv_ann_smoteenn_2\n",
      "Initiate testing of deepsurv neural network\n",
      "model structure: ANN\n"
     ]
    },
    {
     "name": "stderr",
     "output_type": "stream",
     "text": [
      "2024-11-21 09:23:00,963 - INFO - Event column 'endpoint' updated with focus on event value 2.\n"
     ]
    },
    {
     "name": "stdout",
     "output_type": "stream",
     "text": [
      "Prediction completed for deepsurv_ann_smoteenn_2 on fold 1.\n",
      "Initiating prediction for model: deepsurv_ann_smotetomek_2\n",
      "Initiate testing of deepsurv neural network\n",
      "model structure: ANN\n"
     ]
    },
    {
     "name": "stderr",
     "output_type": "stream",
     "text": [
      "2024-11-21 09:23:01,759 - INFO - Event column 'endpoint' updated with focus on event value 1.\n",
      "2024-11-21 09:23:01,760 - INFO - Event column 'endpoint' updated with focus on event value 1.\n"
     ]
    },
    {
     "name": "stdout",
     "output_type": "stream",
     "text": [
      "Prediction completed for deepsurv_ann_smotetomek_2 on fold 1.\n",
      "Initiating prediction for model: deepsurv_lstm_clustering_1\n",
      "Initiate testing of deepsurv neural network\n",
      "model structure: LSTM\n"
     ]
    },
    {
     "name": "stderr",
     "output_type": "stream",
     "text": [
      "2024-11-21 09:23:04,373 - INFO - Validation data retrieved\n",
      "2024-11-21 09:23:04,863 - INFO - Event column 'endpoint' updated with focus on event value 1.\n",
      "2024-11-21 09:23:04,864 - INFO - Event column 'endpoint' updated with focus on event value 1.\n"
     ]
    },
    {
     "name": "stdout",
     "output_type": "stream",
     "text": [
      "Prediction completed for deepsurv_lstm_clustering_1 on fold 1.\n",
      "Initiating prediction for model: deepsurv_lstm_nearmiss_1\n",
      "Initiate testing of deepsurv neural network\n",
      "model structure: LSTM\n"
     ]
    },
    {
     "name": "stderr",
     "output_type": "stream",
     "text": [
      "2024-11-21 09:23:07,447 - INFO - Validation data retrieved\n",
      "2024-11-21 09:23:07,903 - INFO - Event column 'endpoint' updated with focus on event value 2.\n",
      "2024-11-21 09:23:07,904 - INFO - Event column 'endpoint' updated with focus on event value 2.\n"
     ]
    },
    {
     "name": "stdout",
     "output_type": "stream",
     "text": [
      "Prediction completed for deepsurv_lstm_nearmiss_1 on fold 1.\n",
      "Initiating prediction for model: deepsurv_lstm_clustering_2\n",
      "Initiate testing of deepsurv neural network\n",
      "model structure: LSTM\n"
     ]
    },
    {
     "name": "stderr",
     "output_type": "stream",
     "text": [
      "2024-11-21 09:23:10,422 - INFO - Validation data retrieved\n",
      "2024-11-21 09:23:10,877 - INFO - Event column 'endpoint' updated with focus on event value 2.\n",
      "2024-11-21 09:23:10,878 - INFO - Event column 'endpoint' updated with focus on event value 2.\n"
     ]
    },
    {
     "name": "stdout",
     "output_type": "stream",
     "text": [
      "Prediction completed for deepsurv_lstm_clustering_2 on fold 1.\n",
      "Initiating prediction for model: deepsurv_lstm_nearmiss_2\n",
      "Initiate testing of deepsurv neural network\n",
      "model structure: LSTM\n"
     ]
    },
    {
     "name": "stderr",
     "output_type": "stream",
     "text": [
      "2024-11-21 09:23:13,453 - INFO - Validation data retrieved\n"
     ]
    },
    {
     "name": "stdout",
     "output_type": "stream",
     "text": [
      "Prediction completed for deepsurv_lstm_nearmiss_2 on fold 1.\n",
      "Initiating prediction for model: deephit_ann_clustering_all\n",
      "Initiate testing of deephit neural network\n",
      "model structure: ANN\n",
      "prediction complete, please note that prediction of deephit models are CIF.\n",
      "Prediction completed for deephit_ann_clustering_all on fold 1.\n",
      "Initiating prediction for model: deephit_ann_nearmiss2_all\n",
      "Initiate testing of deephit neural network\n",
      "model structure: ANN\n",
      "prediction complete, please note that prediction of deephit models are CIF.\n",
      "Prediction completed for deephit_ann_nearmiss2_all on fold 1.\n",
      "Initiating prediction for model: deephit_lstm_clustering_all\n",
      "Initiate testing of deephit neural network\n",
      "model structure: LSTM\n"
     ]
    },
    {
     "name": "stderr",
     "output_type": "stream",
     "text": [
      "2024-11-21 09:23:17,512 - INFO - Validation data retrieved\n"
     ]
    },
    {
     "name": "stdout",
     "output_type": "stream",
     "text": [
      "prediction complete, please note that prediction of deephit models are CIF.\n",
      "Prediction completed for deephit_lstm_clustering_all on fold 1.\n",
      "Initiating prediction for model: deephit_lstm_nearmiss1_all\n",
      "Initiate testing of deephit neural network\n",
      "model structure: LSTM\n"
     ]
    },
    {
     "name": "stderr",
     "output_type": "stream",
     "text": [
      "2024-11-21 09:23:20,229 - INFO - Validation data retrieved\n",
      "2024-11-21 09:23:20,588 - INFO - Event column 'endpoint' updated with focus on event value 1.\n"
     ]
    },
    {
     "name": "stdout",
     "output_type": "stream",
     "text": [
      "prediction complete, please note that prediction of deephit models are CIF.\n",
      "Prediction completed for deephit_lstm_nearmiss1_all on fold 1.\n",
      "Processing fold 2...\n",
      "Initiating prediction for model: deepsurv_ann_clustering_1\n",
      "Initiate testing of deepsurv neural network\n",
      "model structure: ANN\n"
     ]
    },
    {
     "name": "stderr",
     "output_type": "stream",
     "text": [
      "2024-11-21 09:23:21,036 - INFO - Event column 'endpoint' updated with focus on event value 1.\n"
     ]
    },
    {
     "name": "stdout",
     "output_type": "stream",
     "text": [
      "Prediction completed for deepsurv_ann_clustering_1 on fold 2.\n",
      "Initiating prediction for model: deepsurv_ann_smoteenn_1\n",
      "Initiate testing of deepsurv neural network\n",
      "model structure: ANN\n"
     ]
    },
    {
     "name": "stderr",
     "output_type": "stream",
     "text": [
      "2024-11-21 09:23:23,395 - INFO - Event column 'endpoint' updated with focus on event value 1.\n"
     ]
    },
    {
     "name": "stdout",
     "output_type": "stream",
     "text": [
      "Prediction completed for deepsurv_ann_smoteenn_1 on fold 2.\n",
      "Initiating prediction for model: deepsurv_ann_smotetomek_1\n",
      "Initiate testing of deepsurv neural network\n",
      "model structure: ANN\n"
     ]
    },
    {
     "name": "stderr",
     "output_type": "stream",
     "text": [
      "2024-11-21 09:23:29,255 - INFO - Event column 'endpoint' updated with focus on event value 2.\n"
     ]
    },
    {
     "name": "stdout",
     "output_type": "stream",
     "text": [
      "Prediction completed for deepsurv_ann_smotetomek_1 on fold 2.\n",
      "Initiating prediction for model: deepsurv_ann_clustering_2\n",
      "Initiate testing of deepsurv neural network\n",
      "model structure: ANN\n"
     ]
    },
    {
     "name": "stderr",
     "output_type": "stream",
     "text": [
      "2024-11-21 09:23:29,695 - INFO - Event column 'endpoint' updated with focus on event value 2.\n"
     ]
    },
    {
     "name": "stdout",
     "output_type": "stream",
     "text": [
      "Prediction completed for deepsurv_ann_clustering_2 on fold 2.\n",
      "Initiating prediction for model: deepsurv_ann_smoteenn_2\n",
      "Initiate testing of deepsurv neural network\n",
      "model structure: ANN\n"
     ]
    },
    {
     "name": "stderr",
     "output_type": "stream",
     "text": [
      "2024-11-21 09:23:30,358 - INFO - Event column 'endpoint' updated with focus on event value 2.\n"
     ]
    },
    {
     "name": "stdout",
     "output_type": "stream",
     "text": [
      "Prediction completed for deepsurv_ann_smoteenn_2 on fold 2.\n",
      "Initiating prediction for model: deepsurv_ann_smotetomek_2\n",
      "Initiate testing of deepsurv neural network\n",
      "model structure: ANN\n"
     ]
    },
    {
     "name": "stderr",
     "output_type": "stream",
     "text": [
      "2024-11-21 09:23:31,117 - INFO - Event column 'endpoint' updated with focus on event value 1.\n",
      "2024-11-21 09:23:31,118 - INFO - Event column 'endpoint' updated with focus on event value 1.\n"
     ]
    },
    {
     "name": "stdout",
     "output_type": "stream",
     "text": [
      "Prediction completed for deepsurv_ann_smotetomek_2 on fold 2.\n",
      "Initiating prediction for model: deepsurv_lstm_clustering_1\n",
      "Initiate testing of deepsurv neural network\n",
      "model structure: LSTM\n"
     ]
    },
    {
     "name": "stderr",
     "output_type": "stream",
     "text": [
      "2024-11-21 09:23:33,721 - INFO - Validation data retrieved\n",
      "2024-11-21 09:23:34,167 - INFO - Event column 'endpoint' updated with focus on event value 1.\n",
      "2024-11-21 09:23:34,168 - INFO - Event column 'endpoint' updated with focus on event value 1.\n"
     ]
    },
    {
     "name": "stdout",
     "output_type": "stream",
     "text": [
      "Prediction completed for deepsurv_lstm_clustering_1 on fold 2.\n",
      "Initiating prediction for model: deepsurv_lstm_nearmiss_1\n",
      "Initiate testing of deepsurv neural network\n",
      "model structure: LSTM\n"
     ]
    },
    {
     "name": "stderr",
     "output_type": "stream",
     "text": [
      "2024-11-21 09:23:36,730 - INFO - Validation data retrieved\n",
      "2024-11-21 09:23:37,216 - INFO - Event column 'endpoint' updated with focus on event value 2.\n",
      "2024-11-21 09:23:37,217 - INFO - Event column 'endpoint' updated with focus on event value 2.\n"
     ]
    },
    {
     "name": "stdout",
     "output_type": "stream",
     "text": [
      "Prediction completed for deepsurv_lstm_nearmiss_1 on fold 2.\n",
      "Initiating prediction for model: deepsurv_lstm_clustering_2\n",
      "Initiate testing of deepsurv neural network\n",
      "model structure: LSTM\n"
     ]
    },
    {
     "name": "stderr",
     "output_type": "stream",
     "text": [
      "2024-11-21 09:23:39,737 - INFO - Validation data retrieved\n",
      "2024-11-21 09:23:40,210 - INFO - Event column 'endpoint' updated with focus on event value 2.\n",
      "2024-11-21 09:23:40,211 - INFO - Event column 'endpoint' updated with focus on event value 2.\n"
     ]
    },
    {
     "name": "stdout",
     "output_type": "stream",
     "text": [
      "Prediction completed for deepsurv_lstm_clustering_2 on fold 2.\n",
      "Initiating prediction for model: deepsurv_lstm_nearmiss_2\n",
      "Initiate testing of deepsurv neural network\n",
      "model structure: LSTM\n"
     ]
    },
    {
     "name": "stderr",
     "output_type": "stream",
     "text": [
      "2024-11-21 09:23:42,687 - INFO - Validation data retrieved\n"
     ]
    },
    {
     "name": "stdout",
     "output_type": "stream",
     "text": [
      "Prediction completed for deepsurv_lstm_nearmiss_2 on fold 2.\n",
      "Initiating prediction for model: deephit_ann_clustering_all\n",
      "Initiate testing of deephit neural network\n",
      "model structure: ANN\n",
      "prediction complete, please note that prediction of deephit models are CIF.\n",
      "Prediction completed for deephit_ann_clustering_all on fold 2.\n",
      "Initiating prediction for model: deephit_ann_nearmiss2_all\n",
      "Initiate testing of deephit neural network\n",
      "model structure: ANN\n",
      "prediction complete, please note that prediction of deephit models are CIF.\n",
      "Prediction completed for deephit_ann_nearmiss2_all on fold 2.\n",
      "Initiating prediction for model: deephit_lstm_clustering_all\n",
      "Initiate testing of deephit neural network\n",
      "model structure: LSTM\n"
     ]
    },
    {
     "name": "stderr",
     "output_type": "stream",
     "text": [
      "2024-11-21 09:23:46,659 - INFO - Validation data retrieved\n"
     ]
    },
    {
     "name": "stdout",
     "output_type": "stream",
     "text": [
      "prediction complete, please note that prediction of deephit models are CIF.\n",
      "Prediction completed for deephit_lstm_clustering_all on fold 2.\n",
      "Initiating prediction for model: deephit_lstm_nearmiss1_all\n",
      "Initiate testing of deephit neural network\n",
      "model structure: LSTM\n"
     ]
    },
    {
     "name": "stderr",
     "output_type": "stream",
     "text": [
      "2024-11-21 09:23:49,331 - INFO - Validation data retrieved\n",
      "2024-11-21 09:23:49,711 - INFO - Event column 'endpoint' updated with focus on event value 1.\n"
     ]
    },
    {
     "name": "stdout",
     "output_type": "stream",
     "text": [
      "prediction complete, please note that prediction of deephit models are CIF.\n",
      "Prediction completed for deephit_lstm_nearmiss1_all on fold 2.\n",
      "Processing fold 3...\n",
      "Initiating prediction for model: deepsurv_ann_clustering_1\n",
      "Initiate testing of deepsurv neural network\n",
      "model structure: ANN\n"
     ]
    },
    {
     "name": "stderr",
     "output_type": "stream",
     "text": [
      "2024-11-21 09:23:50,121 - INFO - Event column 'endpoint' updated with focus on event value 1.\n"
     ]
    },
    {
     "name": "stdout",
     "output_type": "stream",
     "text": [
      "Prediction completed for deepsurv_ann_clustering_1 on fold 3.\n",
      "Initiating prediction for model: deepsurv_ann_smoteenn_1\n",
      "Initiate testing of deepsurv neural network\n",
      "model structure: ANN\n"
     ]
    },
    {
     "name": "stderr",
     "output_type": "stream",
     "text": [
      "2024-11-21 09:23:52,463 - INFO - Event column 'endpoint' updated with focus on event value 1.\n"
     ]
    },
    {
     "name": "stdout",
     "output_type": "stream",
     "text": [
      "Prediction completed for deepsurv_ann_smoteenn_1 on fold 3.\n",
      "Initiating prediction for model: deepsurv_ann_smotetomek_1\n",
      "Initiate testing of deepsurv neural network\n",
      "model structure: ANN\n"
     ]
    },
    {
     "name": "stderr",
     "output_type": "stream",
     "text": [
      "2024-11-21 09:23:54,633 - INFO - Event column 'endpoint' updated with focus on event value 2.\n"
     ]
    },
    {
     "name": "stdout",
     "output_type": "stream",
     "text": [
      "Prediction completed for deepsurv_ann_smotetomek_1 on fold 3.\n",
      "Initiating prediction for model: deepsurv_ann_clustering_2\n",
      "Initiate testing of deepsurv neural network\n",
      "model structure: ANN\n"
     ]
    },
    {
     "name": "stderr",
     "output_type": "stream",
     "text": [
      "2024-11-21 09:23:55,079 - INFO - Event column 'endpoint' updated with focus on event value 2.\n"
     ]
    },
    {
     "name": "stdout",
     "output_type": "stream",
     "text": [
      "Prediction completed for deepsurv_ann_clustering_2 on fold 3.\n",
      "Initiating prediction for model: deepsurv_ann_smoteenn_2\n",
      "Initiate testing of deepsurv neural network\n",
      "model structure: ANN\n"
     ]
    },
    {
     "name": "stderr",
     "output_type": "stream",
     "text": [
      "2024-11-21 09:23:55,741 - INFO - Event column 'endpoint' updated with focus on event value 2.\n"
     ]
    },
    {
     "name": "stdout",
     "output_type": "stream",
     "text": [
      "Prediction completed for deepsurv_ann_smoteenn_2 on fold 3.\n",
      "Initiating prediction for model: deepsurv_ann_smotetomek_2\n",
      "Initiate testing of deepsurv neural network\n",
      "model structure: ANN\n"
     ]
    },
    {
     "name": "stderr",
     "output_type": "stream",
     "text": [
      "2024-11-21 09:23:56,496 - INFO - Event column 'endpoint' updated with focus on event value 1.\n",
      "2024-11-21 09:23:56,497 - INFO - Event column 'endpoint' updated with focus on event value 1.\n"
     ]
    },
    {
     "name": "stdout",
     "output_type": "stream",
     "text": [
      "Prediction completed for deepsurv_ann_smotetomek_2 on fold 3.\n",
      "Initiating prediction for model: deepsurv_lstm_clustering_1\n",
      "Initiate testing of deepsurv neural network\n",
      "model structure: LSTM\n"
     ]
    },
    {
     "name": "stderr",
     "output_type": "stream",
     "text": [
      "2024-11-21 09:23:59,069 - INFO - Validation data retrieved\n",
      "2024-11-21 09:23:59,555 - INFO - Event column 'endpoint' updated with focus on event value 1.\n",
      "2024-11-21 09:23:59,556 - INFO - Event column 'endpoint' updated with focus on event value 1.\n"
     ]
    },
    {
     "name": "stdout",
     "output_type": "stream",
     "text": [
      "Prediction completed for deepsurv_lstm_clustering_1 on fold 3.\n",
      "Initiating prediction for model: deepsurv_lstm_nearmiss_1\n",
      "Initiate testing of deepsurv neural network\n",
      "model structure: LSTM\n"
     ]
    },
    {
     "name": "stderr",
     "output_type": "stream",
     "text": [
      "2024-11-21 09:24:05,592 - INFO - Validation data retrieved\n",
      "2024-11-21 09:24:06,087 - INFO - Event column 'endpoint' updated with focus on event value 2.\n",
      "2024-11-21 09:24:06,088 - INFO - Event column 'endpoint' updated with focus on event value 2.\n"
     ]
    },
    {
     "name": "stdout",
     "output_type": "stream",
     "text": [
      "Prediction completed for deepsurv_lstm_nearmiss_1 on fold 3.\n",
      "Initiating prediction for model: deepsurv_lstm_clustering_2\n",
      "Initiate testing of deepsurv neural network\n",
      "model structure: LSTM\n"
     ]
    },
    {
     "name": "stderr",
     "output_type": "stream",
     "text": [
      "2024-11-21 09:24:08,515 - INFO - Validation data retrieved\n",
      "2024-11-21 09:24:09,000 - INFO - Event column 'endpoint' updated with focus on event value 2.\n",
      "2024-11-21 09:24:09,001 - INFO - Event column 'endpoint' updated with focus on event value 2.\n"
     ]
    },
    {
     "name": "stdout",
     "output_type": "stream",
     "text": [
      "Prediction completed for deepsurv_lstm_clustering_2 on fold 3.\n",
      "Initiating prediction for model: deepsurv_lstm_nearmiss_2\n",
      "Initiate testing of deepsurv neural network\n",
      "model structure: LSTM\n"
     ]
    },
    {
     "name": "stderr",
     "output_type": "stream",
     "text": [
      "2024-11-21 09:24:11,581 - INFO - Validation data retrieved\n"
     ]
    },
    {
     "name": "stdout",
     "output_type": "stream",
     "text": [
      "Prediction completed for deepsurv_lstm_nearmiss_2 on fold 3.\n",
      "Initiating prediction for model: deephit_ann_clustering_all\n",
      "Initiate testing of deephit neural network\n",
      "model structure: ANN\n",
      "prediction complete, please note that prediction of deephit models are CIF.\n",
      "Prediction completed for deephit_ann_clustering_all on fold 3.\n",
      "Initiating prediction for model: deephit_ann_nearmiss2_all\n",
      "Initiate testing of deephit neural network\n",
      "model structure: ANN\n",
      "prediction complete, please note that prediction of deephit models are CIF.\n",
      "Prediction completed for deephit_ann_nearmiss2_all on fold 3.\n",
      "Initiating prediction for model: deephit_lstm_clustering_all\n",
      "Initiate testing of deephit neural network\n",
      "model structure: LSTM\n"
     ]
    },
    {
     "name": "stderr",
     "output_type": "stream",
     "text": [
      "2024-11-21 09:24:15,625 - INFO - Validation data retrieved\n"
     ]
    },
    {
     "name": "stdout",
     "output_type": "stream",
     "text": [
      "prediction complete, please note that prediction of deephit models are CIF.\n",
      "Prediction completed for deephit_lstm_clustering_all on fold 3.\n",
      "Initiating prediction for model: deephit_lstm_nearmiss1_all\n",
      "Initiate testing of deephit neural network\n",
      "model structure: LSTM\n"
     ]
    },
    {
     "name": "stderr",
     "output_type": "stream",
     "text": [
      "2024-11-21 09:24:18,276 - INFO - Validation data retrieved\n",
      "2024-11-21 09:24:18,643 - INFO - Event column 'endpoint' updated with focus on event value 1.\n"
     ]
    },
    {
     "name": "stdout",
     "output_type": "stream",
     "text": [
      "prediction complete, please note that prediction of deephit models are CIF.\n",
      "Prediction completed for deephit_lstm_nearmiss1_all on fold 3.\n",
      "Processing fold 4...\n",
      "Initiating prediction for model: deepsurv_ann_clustering_1\n",
      "Initiate testing of deepsurv neural network\n",
      "model structure: ANN\n"
     ]
    },
    {
     "name": "stderr",
     "output_type": "stream",
     "text": [
      "2024-11-21 09:24:19,054 - INFO - Event column 'endpoint' updated with focus on event value 1.\n"
     ]
    },
    {
     "name": "stdout",
     "output_type": "stream",
     "text": [
      "Prediction completed for deepsurv_ann_clustering_1 on fold 4.\n",
      "Initiating prediction for model: deepsurv_ann_smoteenn_1\n",
      "Initiate testing of deepsurv neural network\n",
      "model structure: ANN\n"
     ]
    },
    {
     "name": "stderr",
     "output_type": "stream",
     "text": [
      "2024-11-21 09:24:21,303 - INFO - Event column 'endpoint' updated with focus on event value 1.\n"
     ]
    },
    {
     "name": "stdout",
     "output_type": "stream",
     "text": [
      "Prediction completed for deepsurv_ann_smoteenn_1 on fold 4.\n",
      "Initiating prediction for model: deepsurv_ann_smotetomek_1\n",
      "Initiate testing of deepsurv neural network\n",
      "model structure: ANN\n"
     ]
    },
    {
     "name": "stderr",
     "output_type": "stream",
     "text": [
      "2024-11-21 09:24:23,414 - INFO - Event column 'endpoint' updated with focus on event value 2.\n"
     ]
    },
    {
     "name": "stdout",
     "output_type": "stream",
     "text": [
      "Prediction completed for deepsurv_ann_smotetomek_1 on fold 4.\n",
      "Initiating prediction for model: deepsurv_ann_clustering_2\n",
      "Initiate testing of deepsurv neural network\n",
      "model structure: ANN\n"
     ]
    },
    {
     "name": "stderr",
     "output_type": "stream",
     "text": [
      "2024-11-21 09:24:23,852 - INFO - Event column 'endpoint' updated with focus on event value 2.\n"
     ]
    },
    {
     "name": "stdout",
     "output_type": "stream",
     "text": [
      "Prediction completed for deepsurv_ann_clustering_2 on fold 4.\n",
      "Initiating prediction for model: deepsurv_ann_smoteenn_2\n",
      "Initiate testing of deepsurv neural network\n",
      "model structure: ANN\n"
     ]
    },
    {
     "name": "stderr",
     "output_type": "stream",
     "text": [
      "2024-11-21 09:24:24,563 - INFO - Event column 'endpoint' updated with focus on event value 2.\n"
     ]
    },
    {
     "name": "stdout",
     "output_type": "stream",
     "text": [
      "Prediction completed for deepsurv_ann_smoteenn_2 on fold 4.\n",
      "Initiating prediction for model: deepsurv_ann_smotetomek_2\n",
      "Initiate testing of deepsurv neural network\n",
      "model structure: ANN\n"
     ]
    },
    {
     "name": "stderr",
     "output_type": "stream",
     "text": [
      "2024-11-21 09:24:25,347 - INFO - Event column 'endpoint' updated with focus on event value 1.\n",
      "2024-11-21 09:24:25,348 - INFO - Event column 'endpoint' updated with focus on event value 1.\n"
     ]
    },
    {
     "name": "stdout",
     "output_type": "stream",
     "text": [
      "Prediction completed for deepsurv_ann_smotetomek_2 on fold 4.\n",
      "Initiating prediction for model: deepsurv_lstm_clustering_1\n",
      "Initiate testing of deepsurv neural network\n",
      "model structure: LSTM\n"
     ]
    },
    {
     "name": "stderr",
     "output_type": "stream",
     "text": [
      "2024-11-21 09:24:27,684 - INFO - Validation data retrieved\n",
      "2024-11-21 09:24:28,135 - INFO - Event column 'endpoint' updated with focus on event value 1.\n",
      "2024-11-21 09:24:28,136 - INFO - Event column 'endpoint' updated with focus on event value 1.\n"
     ]
    },
    {
     "name": "stdout",
     "output_type": "stream",
     "text": [
      "Prediction completed for deepsurv_lstm_clustering_1 on fold 4.\n",
      "Initiating prediction for model: deepsurv_lstm_nearmiss_1\n",
      "Initiate testing of deepsurv neural network\n",
      "model structure: LSTM\n"
     ]
    },
    {
     "name": "stderr",
     "output_type": "stream",
     "text": [
      "2024-11-21 09:24:30,436 - INFO - Validation data retrieved\n",
      "2024-11-21 09:24:30,897 - INFO - Event column 'endpoint' updated with focus on event value 2.\n",
      "2024-11-21 09:24:30,898 - INFO - Event column 'endpoint' updated with focus on event value 2.\n"
     ]
    },
    {
     "name": "stdout",
     "output_type": "stream",
     "text": [
      "Prediction completed for deepsurv_lstm_nearmiss_1 on fold 4.\n",
      "Initiating prediction for model: deepsurv_lstm_clustering_2\n",
      "Initiate testing of deepsurv neural network\n",
      "model structure: LSTM\n"
     ]
    },
    {
     "name": "stderr",
     "output_type": "stream",
     "text": [
      "2024-11-21 09:24:33,198 - INFO - Validation data retrieved\n",
      "2024-11-21 09:24:33,655 - INFO - Event column 'endpoint' updated with focus on event value 2.\n",
      "2024-11-21 09:24:33,656 - INFO - Event column 'endpoint' updated with focus on event value 2.\n"
     ]
    },
    {
     "name": "stdout",
     "output_type": "stream",
     "text": [
      "Prediction completed for deepsurv_lstm_clustering_2 on fold 4.\n",
      "Initiating prediction for model: deepsurv_lstm_nearmiss_2\n",
      "Initiate testing of deepsurv neural network\n",
      "model structure: LSTM\n"
     ]
    },
    {
     "name": "stderr",
     "output_type": "stream",
     "text": [
      "2024-11-21 09:24:35,972 - INFO - Validation data retrieved\n"
     ]
    },
    {
     "name": "stdout",
     "output_type": "stream",
     "text": [
      "Prediction completed for deepsurv_lstm_nearmiss_2 on fold 4.\n",
      "Initiating prediction for model: deephit_ann_clustering_all\n",
      "Initiate testing of deephit neural network\n",
      "model structure: ANN\n",
      "prediction complete, please note that prediction of deephit models are CIF.\n",
      "Prediction completed for deephit_ann_clustering_all on fold 4.\n",
      "Initiating prediction for model: deephit_ann_nearmiss2_all\n",
      "Initiate testing of deephit neural network\n",
      "model structure: ANN\n",
      "prediction complete, please note that prediction of deephit models are CIF.\n",
      "Prediction completed for deephit_ann_nearmiss2_all on fold 4.\n",
      "Initiating prediction for model: deephit_lstm_clustering_all\n",
      "Initiate testing of deephit neural network\n",
      "model structure: LSTM\n"
     ]
    },
    {
     "name": "stderr",
     "output_type": "stream",
     "text": [
      "2024-11-21 09:24:43,440 - INFO - Validation data retrieved\n"
     ]
    },
    {
     "name": "stdout",
     "output_type": "stream",
     "text": [
      "prediction complete, please note that prediction of deephit models are CIF.\n",
      "Prediction completed for deephit_lstm_clustering_all on fold 4.\n",
      "Initiating prediction for model: deephit_lstm_nearmiss1_all\n",
      "Initiate testing of deephit neural network\n",
      "model structure: LSTM\n"
     ]
    },
    {
     "name": "stderr",
     "output_type": "stream",
     "text": [
      "2024-11-21 09:24:46,000 - INFO - Validation data retrieved\n",
      "2024-11-21 09:24:46,387 - INFO - Event column 'endpoint' updated with focus on event value 1.\n"
     ]
    },
    {
     "name": "stdout",
     "output_type": "stream",
     "text": [
      "prediction complete, please note that prediction of deephit models are CIF.\n",
      "Prediction completed for deephit_lstm_nearmiss1_all on fold 4.\n",
      "Processing fold 5...\n",
      "Initiating prediction for model: deepsurv_ann_clustering_1\n",
      "Initiate testing of deepsurv neural network\n",
      "model structure: ANN\n"
     ]
    },
    {
     "name": "stderr",
     "output_type": "stream",
     "text": [
      "2024-11-21 09:24:46,847 - INFO - Event column 'endpoint' updated with focus on event value 1.\n"
     ]
    },
    {
     "name": "stdout",
     "output_type": "stream",
     "text": [
      "Prediction completed for deepsurv_ann_clustering_1 on fold 5.\n",
      "Initiating prediction for model: deepsurv_ann_smoteenn_1\n",
      "Initiate testing of deepsurv neural network\n",
      "model structure: ANN\n"
     ]
    },
    {
     "name": "stderr",
     "output_type": "stream",
     "text": [
      "2024-11-21 09:24:49,189 - INFO - Event column 'endpoint' updated with focus on event value 1.\n"
     ]
    },
    {
     "name": "stdout",
     "output_type": "stream",
     "text": [
      "Prediction completed for deepsurv_ann_smoteenn_1 on fold 5.\n",
      "Initiating prediction for model: deepsurv_ann_smotetomek_1\n",
      "Initiate testing of deepsurv neural network\n",
      "model structure: ANN\n"
     ]
    },
    {
     "name": "stderr",
     "output_type": "stream",
     "text": [
      "2024-11-21 09:24:51,357 - INFO - Event column 'endpoint' updated with focus on event value 2.\n"
     ]
    },
    {
     "name": "stdout",
     "output_type": "stream",
     "text": [
      "Prediction completed for deepsurv_ann_smotetomek_1 on fold 5.\n",
      "Initiating prediction for model: deepsurv_ann_clustering_2\n",
      "Initiate testing of deepsurv neural network\n",
      "model structure: ANN\n"
     ]
    },
    {
     "name": "stderr",
     "output_type": "stream",
     "text": [
      "2024-11-21 09:24:51,792 - INFO - Event column 'endpoint' updated with focus on event value 2.\n"
     ]
    },
    {
     "name": "stdout",
     "output_type": "stream",
     "text": [
      "Prediction completed for deepsurv_ann_clustering_2 on fold 5.\n",
      "Initiating prediction for model: deepsurv_ann_smoteenn_2\n",
      "Initiate testing of deepsurv neural network\n",
      "model structure: ANN\n"
     ]
    },
    {
     "name": "stderr",
     "output_type": "stream",
     "text": [
      "2024-11-21 09:24:52,520 - INFO - Event column 'endpoint' updated with focus on event value 2.\n"
     ]
    },
    {
     "name": "stdout",
     "output_type": "stream",
     "text": [
      "Prediction completed for deepsurv_ann_smoteenn_2 on fold 5.\n",
      "Initiating prediction for model: deepsurv_ann_smotetomek_2\n",
      "Initiate testing of deepsurv neural network\n",
      "model structure: ANN\n"
     ]
    },
    {
     "name": "stderr",
     "output_type": "stream",
     "text": [
      "2024-11-21 09:24:53,259 - INFO - Event column 'endpoint' updated with focus on event value 1.\n",
      "2024-11-21 09:24:53,260 - INFO - Event column 'endpoint' updated with focus on event value 1.\n"
     ]
    },
    {
     "name": "stdout",
     "output_type": "stream",
     "text": [
      "Prediction completed for deepsurv_ann_smotetomek_2 on fold 5.\n",
      "Initiating prediction for model: deepsurv_lstm_clustering_1\n",
      "Initiate testing of deepsurv neural network\n",
      "model structure: LSTM\n"
     ]
    },
    {
     "name": "stderr",
     "output_type": "stream",
     "text": [
      "2024-11-21 09:24:55,726 - INFO - Validation data retrieved\n",
      "2024-11-21 09:24:56,178 - INFO - Event column 'endpoint' updated with focus on event value 1.\n",
      "2024-11-21 09:24:56,178 - INFO - Event column 'endpoint' updated with focus on event value 1.\n"
     ]
    },
    {
     "name": "stdout",
     "output_type": "stream",
     "text": [
      "Prediction completed for deepsurv_lstm_clustering_1 on fold 5.\n",
      "Initiating prediction for model: deepsurv_lstm_nearmiss_1\n",
      "Initiate testing of deepsurv neural network\n",
      "model structure: LSTM\n"
     ]
    },
    {
     "name": "stderr",
     "output_type": "stream",
     "text": [
      "2024-11-21 09:24:58,615 - INFO - Validation data retrieved\n",
      "2024-11-21 09:24:59,091 - INFO - Event column 'endpoint' updated with focus on event value 2.\n",
      "2024-11-21 09:24:59,091 - INFO - Event column 'endpoint' updated with focus on event value 2.\n"
     ]
    },
    {
     "name": "stdout",
     "output_type": "stream",
     "text": [
      "Prediction completed for deepsurv_lstm_nearmiss_1 on fold 5.\n",
      "Initiating prediction for model: deepsurv_lstm_clustering_2\n",
      "Initiate testing of deepsurv neural network\n",
      "model structure: LSTM\n"
     ]
    },
    {
     "name": "stderr",
     "output_type": "stream",
     "text": [
      "2024-11-21 09:25:01,503 - INFO - Validation data retrieved\n",
      "2024-11-21 09:25:01,962 - INFO - Event column 'endpoint' updated with focus on event value 2.\n",
      "2024-11-21 09:25:01,963 - INFO - Event column 'endpoint' updated with focus on event value 2.\n"
     ]
    },
    {
     "name": "stdout",
     "output_type": "stream",
     "text": [
      "Prediction completed for deepsurv_lstm_clustering_2 on fold 5.\n",
      "Initiating prediction for model: deepsurv_lstm_nearmiss_2\n",
      "Initiate testing of deepsurv neural network\n",
      "model structure: LSTM\n"
     ]
    },
    {
     "name": "stderr",
     "output_type": "stream",
     "text": [
      "2024-11-21 09:25:04,331 - INFO - Validation data retrieved\n"
     ]
    },
    {
     "name": "stdout",
     "output_type": "stream",
     "text": [
      "Prediction completed for deepsurv_lstm_nearmiss_2 on fold 5.\n",
      "Initiating prediction for model: deephit_ann_clustering_all\n",
      "Initiate testing of deephit neural network\n",
      "model structure: ANN\n",
      "prediction complete, please note that prediction of deephit models are CIF.\n",
      "Prediction completed for deephit_ann_clustering_all on fold 5.\n",
      "Initiating prediction for model: deephit_ann_nearmiss2_all\n",
      "Initiate testing of deephit neural network\n",
      "model structure: ANN\n",
      "prediction complete, please note that prediction of deephit models are CIF.\n",
      "Prediction completed for deephit_ann_nearmiss2_all on fold 5.\n",
      "Initiating prediction for model: deephit_lstm_clustering_all\n",
      "Initiate testing of deephit neural network\n",
      "model structure: LSTM\n"
     ]
    },
    {
     "name": "stderr",
     "output_type": "stream",
     "text": [
      "2024-11-21 09:25:08,286 - INFO - Validation data retrieved\n"
     ]
    },
    {
     "name": "stdout",
     "output_type": "stream",
     "text": [
      "prediction complete, please note that prediction of deephit models are CIF.\n",
      "Prediction completed for deephit_lstm_clustering_all on fold 5.\n",
      "Initiating prediction for model: deephit_lstm_nearmiss1_all\n",
      "Initiate testing of deephit neural network\n",
      "model structure: LSTM\n"
     ]
    },
    {
     "name": "stderr",
     "output_type": "stream",
     "text": [
      "2024-11-21 09:25:11,006 - INFO - Validation data retrieved\n",
      "2024-11-21 09:25:11,396 - INFO - Event column 'endpoint' updated with focus on event value 1.\n"
     ]
    },
    {
     "name": "stdout",
     "output_type": "stream",
     "text": [
      "prediction complete, please note that prediction of deephit models are CIF.\n",
      "Prediction completed for deephit_lstm_nearmiss1_all on fold 5.\n",
      "Processing fold 6...\n",
      "Initiating prediction for model: deepsurv_ann_clustering_1\n",
      "Initiate testing of deepsurv neural network\n",
      "model structure: ANN\n"
     ]
    },
    {
     "name": "stderr",
     "output_type": "stream",
     "text": [
      "2024-11-21 09:25:11,834 - INFO - Event column 'endpoint' updated with focus on event value 1.\n"
     ]
    },
    {
     "name": "stdout",
     "output_type": "stream",
     "text": [
      "Prediction completed for deepsurv_ann_clustering_1 on fold 6.\n",
      "Initiating prediction for model: deepsurv_ann_smoteenn_1\n",
      "Initiate testing of deepsurv neural network\n",
      "model structure: ANN\n"
     ]
    },
    {
     "name": "stderr",
     "output_type": "stream",
     "text": [
      "2024-11-21 09:25:17,702 - INFO - Event column 'endpoint' updated with focus on event value 1.\n"
     ]
    },
    {
     "name": "stdout",
     "output_type": "stream",
     "text": [
      "Prediction completed for deepsurv_ann_smoteenn_1 on fold 6.\n",
      "Initiating prediction for model: deepsurv_ann_smotetomek_1\n",
      "Initiate testing of deepsurv neural network\n",
      "model structure: ANN\n"
     ]
    },
    {
     "name": "stderr",
     "output_type": "stream",
     "text": [
      "2024-11-21 09:25:20,051 - INFO - Event column 'endpoint' updated with focus on event value 2.\n"
     ]
    },
    {
     "name": "stdout",
     "output_type": "stream",
     "text": [
      "Prediction completed for deepsurv_ann_smotetomek_1 on fold 6.\n",
      "Initiating prediction for model: deepsurv_ann_clustering_2\n",
      "Initiate testing of deepsurv neural network\n",
      "model structure: ANN\n"
     ]
    },
    {
     "name": "stderr",
     "output_type": "stream",
     "text": [
      "2024-11-21 09:25:20,499 - INFO - Event column 'endpoint' updated with focus on event value 2.\n"
     ]
    },
    {
     "name": "stdout",
     "output_type": "stream",
     "text": [
      "Prediction completed for deepsurv_ann_clustering_2 on fold 6.\n",
      "Initiating prediction for model: deepsurv_ann_smoteenn_2\n",
      "Initiate testing of deepsurv neural network\n",
      "model structure: ANN\n"
     ]
    },
    {
     "name": "stderr",
     "output_type": "stream",
     "text": [
      "2024-11-21 09:25:21,192 - INFO - Event column 'endpoint' updated with focus on event value 2.\n"
     ]
    },
    {
     "name": "stdout",
     "output_type": "stream",
     "text": [
      "Prediction completed for deepsurv_ann_smoteenn_2 on fold 6.\n",
      "Initiating prediction for model: deepsurv_ann_smotetomek_2\n",
      "Initiate testing of deepsurv neural network\n",
      "model structure: ANN\n"
     ]
    },
    {
     "name": "stderr",
     "output_type": "stream",
     "text": [
      "2024-11-21 09:25:21,934 - INFO - Event column 'endpoint' updated with focus on event value 1.\n",
      "2024-11-21 09:25:21,935 - INFO - Event column 'endpoint' updated with focus on event value 1.\n"
     ]
    },
    {
     "name": "stdout",
     "output_type": "stream",
     "text": [
      "Prediction completed for deepsurv_ann_smotetomek_2 on fold 6.\n",
      "Initiating prediction for model: deepsurv_lstm_clustering_1\n",
      "Initiate testing of deepsurv neural network\n",
      "model structure: LSTM\n"
     ]
    },
    {
     "name": "stderr",
     "output_type": "stream",
     "text": [
      "2024-11-21 09:25:24,364 - INFO - Validation data retrieved\n",
      "2024-11-21 09:25:24,828 - INFO - Event column 'endpoint' updated with focus on event value 1.\n",
      "2024-11-21 09:25:24,829 - INFO - Event column 'endpoint' updated with focus on event value 1.\n"
     ]
    },
    {
     "name": "stdout",
     "output_type": "stream",
     "text": [
      "Prediction completed for deepsurv_lstm_clustering_1 on fold 6.\n",
      "Initiating prediction for model: deepsurv_lstm_nearmiss_1\n",
      "Initiate testing of deepsurv neural network\n",
      "model structure: LSTM\n"
     ]
    },
    {
     "name": "stderr",
     "output_type": "stream",
     "text": [
      "2024-11-21 09:25:27,208 - INFO - Validation data retrieved\n",
      "2024-11-21 09:25:27,683 - INFO - Event column 'endpoint' updated with focus on event value 2.\n",
      "2024-11-21 09:25:27,684 - INFO - Event column 'endpoint' updated with focus on event value 2.\n"
     ]
    },
    {
     "name": "stdout",
     "output_type": "stream",
     "text": [
      "Prediction completed for deepsurv_lstm_nearmiss_1 on fold 6.\n",
      "Initiating prediction for model: deepsurv_lstm_clustering_2\n",
      "Initiate testing of deepsurv neural network\n",
      "model structure: LSTM\n"
     ]
    },
    {
     "name": "stderr",
     "output_type": "stream",
     "text": [
      "2024-11-21 09:25:30,047 - INFO - Validation data retrieved\n",
      "2024-11-21 09:25:30,531 - INFO - Event column 'endpoint' updated with focus on event value 2.\n",
      "2024-11-21 09:25:30,532 - INFO - Event column 'endpoint' updated with focus on event value 2.\n"
     ]
    },
    {
     "name": "stdout",
     "output_type": "stream",
     "text": [
      "Prediction completed for deepsurv_lstm_clustering_2 on fold 6.\n",
      "Initiating prediction for model: deepsurv_lstm_nearmiss_2\n",
      "Initiate testing of deepsurv neural network\n",
      "model structure: LSTM\n"
     ]
    },
    {
     "name": "stderr",
     "output_type": "stream",
     "text": [
      "2024-11-21 09:25:33,053 - INFO - Validation data retrieved\n"
     ]
    },
    {
     "name": "stdout",
     "output_type": "stream",
     "text": [
      "Prediction completed for deepsurv_lstm_nearmiss_2 on fold 6.\n",
      "Initiating prediction for model: deephit_ann_clustering_all\n",
      "Initiate testing of deephit neural network\n",
      "model structure: ANN\n",
      "prediction complete, please note that prediction of deephit models are CIF.\n",
      "Prediction completed for deephit_ann_clustering_all on fold 6.\n",
      "Initiating prediction for model: deephit_ann_nearmiss2_all\n",
      "Initiate testing of deephit neural network\n",
      "model structure: ANN\n",
      "prediction complete, please note that prediction of deephit models are CIF.\n",
      "Prediction completed for deephit_ann_nearmiss2_all on fold 6.\n",
      "Initiating prediction for model: deephit_lstm_clustering_all\n",
      "Initiate testing of deephit neural network\n",
      "model structure: LSTM\n"
     ]
    },
    {
     "name": "stderr",
     "output_type": "stream",
     "text": [
      "2024-11-21 09:25:37,120 - INFO - Validation data retrieved\n"
     ]
    },
    {
     "name": "stdout",
     "output_type": "stream",
     "text": [
      "prediction complete, please note that prediction of deephit models are CIF.\n",
      "Prediction completed for deephit_lstm_clustering_all on fold 6.\n",
      "Initiating prediction for model: deephit_lstm_nearmiss1_all\n",
      "Initiate testing of deephit neural network\n",
      "model structure: LSTM\n"
     ]
    },
    {
     "name": "stderr",
     "output_type": "stream",
     "text": [
      "2024-11-21 09:25:39,782 - INFO - Validation data retrieved\n",
      "2024-11-21 09:25:40,200 - INFO - Event column 'endpoint' updated with focus on event value 1.\n"
     ]
    },
    {
     "name": "stdout",
     "output_type": "stream",
     "text": [
      "prediction complete, please note that prediction of deephit models are CIF.\n",
      "Prediction completed for deephit_lstm_nearmiss1_all on fold 6.\n",
      "Processing fold 7...\n",
      "Initiating prediction for model: deepsurv_ann_clustering_1\n",
      "Initiate testing of deepsurv neural network\n",
      "model structure: ANN\n"
     ]
    },
    {
     "name": "stderr",
     "output_type": "stream",
     "text": [
      "2024-11-21 09:25:40,822 - INFO - Event column 'endpoint' updated with focus on event value 1.\n"
     ]
    },
    {
     "name": "stdout",
     "output_type": "stream",
     "text": [
      "Prediction completed for deepsurv_ann_clustering_1 on fold 7.\n",
      "Initiating prediction for model: deepsurv_ann_smoteenn_1\n",
      "Initiate testing of deepsurv neural network\n",
      "model structure: ANN\n"
     ]
    },
    {
     "name": "stderr",
     "output_type": "stream",
     "text": [
      "2024-11-21 09:25:43,190 - INFO - Event column 'endpoint' updated with focus on event value 1.\n"
     ]
    },
    {
     "name": "stdout",
     "output_type": "stream",
     "text": [
      "Prediction completed for deepsurv_ann_smoteenn_1 on fold 7.\n",
      "Initiating prediction for model: deepsurv_ann_smotetomek_1\n",
      "Initiate testing of deepsurv neural network\n",
      "model structure: ANN\n"
     ]
    },
    {
     "name": "stderr",
     "output_type": "stream",
     "text": [
      "2024-11-21 09:25:45,436 - INFO - Event column 'endpoint' updated with focus on event value 2.\n"
     ]
    },
    {
     "name": "stdout",
     "output_type": "stream",
     "text": [
      "Prediction completed for deepsurv_ann_smotetomek_1 on fold 7.\n",
      "Initiating prediction for model: deepsurv_ann_clustering_2\n",
      "Initiate testing of deepsurv neural network\n",
      "model structure: ANN\n"
     ]
    },
    {
     "name": "stderr",
     "output_type": "stream",
     "text": [
      "2024-11-21 09:25:45,876 - INFO - Event column 'endpoint' updated with focus on event value 2.\n"
     ]
    },
    {
     "name": "stdout",
     "output_type": "stream",
     "text": [
      "Prediction completed for deepsurv_ann_clustering_2 on fold 7.\n",
      "Initiating prediction for model: deepsurv_ann_smoteenn_2\n",
      "Initiate testing of deepsurv neural network\n",
      "model structure: ANN\n"
     ]
    },
    {
     "name": "stderr",
     "output_type": "stream",
     "text": [
      "2024-11-21 09:25:46,653 - INFO - Event column 'endpoint' updated with focus on event value 2.\n"
     ]
    },
    {
     "name": "stdout",
     "output_type": "stream",
     "text": [
      "Prediction completed for deepsurv_ann_smoteenn_2 on fold 7.\n",
      "Initiating prediction for model: deepsurv_ann_smotetomek_2\n",
      "Initiate testing of deepsurv neural network\n",
      "model structure: ANN\n"
     ]
    },
    {
     "name": "stderr",
     "output_type": "stream",
     "text": [
      "2024-11-21 09:25:47,397 - INFO - Event column 'endpoint' updated with focus on event value 1.\n",
      "2024-11-21 09:25:47,398 - INFO - Event column 'endpoint' updated with focus on event value 1.\n"
     ]
    },
    {
     "name": "stdout",
     "output_type": "stream",
     "text": [
      "Prediction completed for deepsurv_ann_smotetomek_2 on fold 7.\n",
      "Initiating prediction for model: deepsurv_lstm_clustering_1\n",
      "Initiate testing of deepsurv neural network\n",
      "model structure: LSTM\n"
     ]
    },
    {
     "name": "stderr",
     "output_type": "stream",
     "text": [
      "2024-11-21 09:25:53,465 - INFO - Validation data retrieved\n",
      "2024-11-21 09:25:53,947 - INFO - Event column 'endpoint' updated with focus on event value 1.\n",
      "2024-11-21 09:25:53,948 - INFO - Event column 'endpoint' updated with focus on event value 1.\n"
     ]
    },
    {
     "name": "stdout",
     "output_type": "stream",
     "text": [
      "Prediction completed for deepsurv_lstm_clustering_1 on fold 7.\n",
      "Initiating prediction for model: deepsurv_lstm_nearmiss_1\n",
      "Initiate testing of deepsurv neural network\n",
      "model structure: LSTM\n"
     ]
    },
    {
     "name": "stderr",
     "output_type": "stream",
     "text": [
      "2024-11-21 09:25:56,353 - INFO - Validation data retrieved\n",
      "2024-11-21 09:25:56,842 - INFO - Event column 'endpoint' updated with focus on event value 2.\n",
      "2024-11-21 09:25:56,843 - INFO - Event column 'endpoint' updated with focus on event value 2.\n"
     ]
    },
    {
     "name": "stdout",
     "output_type": "stream",
     "text": [
      "Prediction completed for deepsurv_lstm_nearmiss_1 on fold 7.\n",
      "Initiating prediction for model: deepsurv_lstm_clustering_2\n",
      "Initiate testing of deepsurv neural network\n",
      "model structure: LSTM\n"
     ]
    },
    {
     "name": "stderr",
     "output_type": "stream",
     "text": [
      "2024-11-21 09:25:59,214 - INFO - Validation data retrieved\n",
      "2024-11-21 09:25:59,727 - INFO - Event column 'endpoint' updated with focus on event value 2.\n",
      "2024-11-21 09:25:59,728 - INFO - Event column 'endpoint' updated with focus on event value 2.\n"
     ]
    },
    {
     "name": "stdout",
     "output_type": "stream",
     "text": [
      "Prediction completed for deepsurv_lstm_clustering_2 on fold 7.\n",
      "Initiating prediction for model: deepsurv_lstm_nearmiss_2\n",
      "Initiate testing of deepsurv neural network\n",
      "model structure: LSTM\n"
     ]
    },
    {
     "name": "stderr",
     "output_type": "stream",
     "text": [
      "2024-11-21 09:26:02,138 - INFO - Validation data retrieved\n"
     ]
    },
    {
     "name": "stdout",
     "output_type": "stream",
     "text": [
      "Prediction completed for deepsurv_lstm_nearmiss_2 on fold 7.\n",
      "Initiating prediction for model: deephit_ann_clustering_all\n",
      "Initiate testing of deephit neural network\n",
      "model structure: ANN\n",
      "prediction complete, please note that prediction of deephit models are CIF.\n",
      "Prediction completed for deephit_ann_clustering_all on fold 7.\n",
      "Initiating prediction for model: deephit_ann_nearmiss2_all\n",
      "Initiate testing of deephit neural network\n",
      "model structure: ANN\n",
      "prediction complete, please note that prediction of deephit models are CIF.\n",
      "Prediction completed for deephit_ann_nearmiss2_all on fold 7.\n",
      "Initiating prediction for model: deephit_lstm_clustering_all\n",
      "Initiate testing of deephit neural network\n",
      "model structure: LSTM\n"
     ]
    },
    {
     "name": "stderr",
     "output_type": "stream",
     "text": [
      "2024-11-21 09:26:06,004 - INFO - Validation data retrieved\n"
     ]
    },
    {
     "name": "stdout",
     "output_type": "stream",
     "text": [
      "prediction complete, please note that prediction of deephit models are CIF.\n",
      "Prediction completed for deephit_lstm_clustering_all on fold 7.\n",
      "Initiating prediction for model: deephit_lstm_nearmiss1_all\n",
      "Initiate testing of deephit neural network\n",
      "model structure: LSTM\n"
     ]
    },
    {
     "name": "stderr",
     "output_type": "stream",
     "text": [
      "2024-11-21 09:26:08,592 - INFO - Validation data retrieved\n",
      "2024-11-21 09:26:08,968 - INFO - Event column 'endpoint' updated with focus on event value 1.\n"
     ]
    },
    {
     "name": "stdout",
     "output_type": "stream",
     "text": [
      "prediction complete, please note that prediction of deephit models are CIF.\n",
      "Prediction completed for deephit_lstm_nearmiss1_all on fold 7.\n",
      "Processing fold 8...\n",
      "Initiating prediction for model: deepsurv_ann_clustering_1\n",
      "Initiate testing of deepsurv neural network\n",
      "model structure: ANN\n"
     ]
    },
    {
     "name": "stderr",
     "output_type": "stream",
     "text": [
      "2024-11-21 09:26:09,380 - INFO - Event column 'endpoint' updated with focus on event value 1.\n"
     ]
    },
    {
     "name": "stdout",
     "output_type": "stream",
     "text": [
      "Prediction completed for deepsurv_ann_clustering_1 on fold 8.\n",
      "Initiating prediction for model: deepsurv_ann_smoteenn_1\n",
      "Initiate testing of deepsurv neural network\n",
      "model structure: ANN\n"
     ]
    },
    {
     "name": "stderr",
     "output_type": "stream",
     "text": [
      "2024-11-21 09:26:11,754 - INFO - Event column 'endpoint' updated with focus on event value 1.\n"
     ]
    },
    {
     "name": "stdout",
     "output_type": "stream",
     "text": [
      "Prediction completed for deepsurv_ann_smoteenn_1 on fold 8.\n",
      "Initiating prediction for model: deepsurv_ann_smotetomek_1\n",
      "Initiate testing of deepsurv neural network\n",
      "model structure: ANN\n"
     ]
    },
    {
     "name": "stderr",
     "output_type": "stream",
     "text": [
      "2024-11-21 09:26:14,459 - INFO - Event column 'endpoint' updated with focus on event value 2.\n"
     ]
    },
    {
     "name": "stdout",
     "output_type": "stream",
     "text": [
      "Prediction completed for deepsurv_ann_smotetomek_1 on fold 8.\n",
      "Initiating prediction for model: deepsurv_ann_clustering_2\n",
      "Initiate testing of deepsurv neural network\n",
      "model structure: ANN\n"
     ]
    },
    {
     "name": "stderr",
     "output_type": "stream",
     "text": [
      "2024-11-21 09:26:14,960 - INFO - Event column 'endpoint' updated with focus on event value 2.\n"
     ]
    },
    {
     "name": "stdout",
     "output_type": "stream",
     "text": [
      "Prediction completed for deepsurv_ann_clustering_2 on fold 8.\n",
      "Initiating prediction for model: deepsurv_ann_smoteenn_2\n",
      "Initiate testing of deepsurv neural network\n",
      "model structure: ANN\n"
     ]
    },
    {
     "name": "stderr",
     "output_type": "stream",
     "text": [
      "2024-11-21 09:26:15,652 - INFO - Event column 'endpoint' updated with focus on event value 2.\n"
     ]
    },
    {
     "name": "stdout",
     "output_type": "stream",
     "text": [
      "Prediction completed for deepsurv_ann_smoteenn_2 on fold 8.\n",
      "Initiating prediction for model: deepsurv_ann_smotetomek_2\n",
      "Initiate testing of deepsurv neural network\n",
      "model structure: ANN\n"
     ]
    },
    {
     "name": "stderr",
     "output_type": "stream",
     "text": [
      "2024-11-21 09:26:16,481 - INFO - Event column 'endpoint' updated with focus on event value 1.\n",
      "2024-11-21 09:26:16,482 - INFO - Event column 'endpoint' updated with focus on event value 1.\n"
     ]
    },
    {
     "name": "stdout",
     "output_type": "stream",
     "text": [
      "Prediction completed for deepsurv_ann_smotetomek_2 on fold 8.\n",
      "Initiating prediction for model: deepsurv_lstm_clustering_1\n",
      "Initiate testing of deepsurv neural network\n",
      "model structure: LSTM\n"
     ]
    },
    {
     "name": "stderr",
     "output_type": "stream",
     "text": [
      "2024-11-21 09:26:18,861 - INFO - Validation data retrieved\n",
      "2024-11-21 09:26:19,325 - INFO - Event column 'endpoint' updated with focus on event value 1.\n",
      "2024-11-21 09:26:19,326 - INFO - Event column 'endpoint' updated with focus on event value 1.\n"
     ]
    },
    {
     "name": "stdout",
     "output_type": "stream",
     "text": [
      "Prediction completed for deepsurv_lstm_clustering_1 on fold 8.\n",
      "Initiating prediction for model: deepsurv_lstm_nearmiss_1\n",
      "Initiate testing of deepsurv neural network\n",
      "model structure: LSTM\n"
     ]
    },
    {
     "name": "stderr",
     "output_type": "stream",
     "text": [
      "2024-11-21 09:26:21,633 - INFO - Validation data retrieved\n",
      "2024-11-21 09:26:22,072 - INFO - Event column 'endpoint' updated with focus on event value 2.\n",
      "2024-11-21 09:26:22,073 - INFO - Event column 'endpoint' updated with focus on event value 2.\n"
     ]
    },
    {
     "name": "stdout",
     "output_type": "stream",
     "text": [
      "Prediction completed for deepsurv_lstm_nearmiss_1 on fold 8.\n",
      "Initiating prediction for model: deepsurv_lstm_clustering_2\n",
      "Initiate testing of deepsurv neural network\n",
      "model structure: LSTM\n"
     ]
    },
    {
     "name": "stderr",
     "output_type": "stream",
     "text": [
      "2024-11-21 09:26:24,395 - INFO - Validation data retrieved\n",
      "2024-11-21 09:26:24,874 - INFO - Event column 'endpoint' updated with focus on event value 2.\n",
      "2024-11-21 09:26:24,875 - INFO - Event column 'endpoint' updated with focus on event value 2.\n"
     ]
    },
    {
     "name": "stdout",
     "output_type": "stream",
     "text": [
      "Prediction completed for deepsurv_lstm_clustering_2 on fold 8.\n",
      "Initiating prediction for model: deepsurv_lstm_nearmiss_2\n",
      "Initiate testing of deepsurv neural network\n",
      "model structure: LSTM\n"
     ]
    },
    {
     "name": "stderr",
     "output_type": "stream",
     "text": [
      "2024-11-21 09:26:30,924 - INFO - Validation data retrieved\n"
     ]
    },
    {
     "name": "stdout",
     "output_type": "stream",
     "text": [
      "Prediction completed for deepsurv_lstm_nearmiss_2 on fold 8.\n",
      "Initiating prediction for model: deephit_ann_clustering_all\n",
      "Initiate testing of deephit neural network\n",
      "model structure: ANN\n",
      "prediction complete, please note that prediction of deephit models are CIF.\n",
      "Prediction completed for deephit_ann_clustering_all on fold 8.\n",
      "Initiating prediction for model: deephit_ann_nearmiss2_all\n",
      "Initiate testing of deephit neural network\n",
      "model structure: ANN\n",
      "prediction complete, please note that prediction of deephit models are CIF.\n",
      "Prediction completed for deephit_ann_nearmiss2_all on fold 8.\n",
      "Initiating prediction for model: deephit_lstm_clustering_all\n",
      "Initiate testing of deephit neural network\n",
      "model structure: LSTM\n"
     ]
    },
    {
     "name": "stderr",
     "output_type": "stream",
     "text": [
      "2024-11-21 09:26:34,978 - INFO - Validation data retrieved\n"
     ]
    },
    {
     "name": "stdout",
     "output_type": "stream",
     "text": [
      "prediction complete, please note that prediction of deephit models are CIF.\n",
      "Prediction completed for deephit_lstm_clustering_all on fold 8.\n",
      "Initiating prediction for model: deephit_lstm_nearmiss1_all\n",
      "Initiate testing of deephit neural network\n",
      "model structure: LSTM\n"
     ]
    },
    {
     "name": "stderr",
     "output_type": "stream",
     "text": [
      "2024-11-21 09:26:37,489 - INFO - Validation data retrieved\n",
      "2024-11-21 09:26:37,853 - INFO - Event column 'endpoint' updated with focus on event value 1.\n"
     ]
    },
    {
     "name": "stdout",
     "output_type": "stream",
     "text": [
      "prediction complete, please note that prediction of deephit models are CIF.\n",
      "Prediction completed for deephit_lstm_nearmiss1_all on fold 8.\n",
      "Processing fold 9...\n",
      "Initiating prediction for model: deepsurv_ann_clustering_1\n",
      "Initiate testing of deepsurv neural network\n",
      "model structure: ANN\n"
     ]
    },
    {
     "name": "stderr",
     "output_type": "stream",
     "text": [
      "2024-11-21 09:26:38,276 - INFO - Event column 'endpoint' updated with focus on event value 1.\n"
     ]
    },
    {
     "name": "stdout",
     "output_type": "stream",
     "text": [
      "Prediction completed for deepsurv_ann_clustering_1 on fold 9.\n",
      "Initiating prediction for model: deepsurv_ann_smoteenn_1\n",
      "Initiate testing of deepsurv neural network\n",
      "model structure: ANN\n"
     ]
    },
    {
     "name": "stderr",
     "output_type": "stream",
     "text": [
      "2024-11-21 09:26:40,655 - INFO - Event column 'endpoint' updated with focus on event value 1.\n"
     ]
    },
    {
     "name": "stdout",
     "output_type": "stream",
     "text": [
      "Prediction completed for deepsurv_ann_smoteenn_1 on fold 9.\n",
      "Initiating prediction for model: deepsurv_ann_smotetomek_1\n",
      "Initiate testing of deepsurv neural network\n",
      "model structure: ANN\n"
     ]
    },
    {
     "name": "stderr",
     "output_type": "stream",
     "text": [
      "2024-11-21 09:26:42,929 - INFO - Event column 'endpoint' updated with focus on event value 2.\n"
     ]
    },
    {
     "name": "stdout",
     "output_type": "stream",
     "text": [
      "Prediction completed for deepsurv_ann_smotetomek_1 on fold 9.\n",
      "Initiating prediction for model: deepsurv_ann_clustering_2\n",
      "Initiate testing of deepsurv neural network\n",
      "model structure: ANN\n"
     ]
    },
    {
     "name": "stderr",
     "output_type": "stream",
     "text": [
      "2024-11-21 09:26:43,413 - INFO - Event column 'endpoint' updated with focus on event value 2.\n"
     ]
    },
    {
     "name": "stdout",
     "output_type": "stream",
     "text": [
      "Prediction completed for deepsurv_ann_clustering_2 on fold 9.\n",
      "Initiating prediction for model: deepsurv_ann_smoteenn_2\n",
      "Initiate testing of deepsurv neural network\n",
      "model structure: ANN\n"
     ]
    },
    {
     "name": "stderr",
     "output_type": "stream",
     "text": [
      "2024-11-21 09:26:44,310 - INFO - Event column 'endpoint' updated with focus on event value 2.\n"
     ]
    },
    {
     "name": "stdout",
     "output_type": "stream",
     "text": [
      "Prediction completed for deepsurv_ann_smoteenn_2 on fold 9.\n",
      "Initiating prediction for model: deepsurv_ann_smotetomek_2\n",
      "Initiate testing of deepsurv neural network\n",
      "model structure: ANN\n"
     ]
    },
    {
     "name": "stderr",
     "output_type": "stream",
     "text": [
      "2024-11-21 09:26:45,070 - INFO - Event column 'endpoint' updated with focus on event value 1.\n",
      "2024-11-21 09:26:45,071 - INFO - Event column 'endpoint' updated with focus on event value 1.\n"
     ]
    },
    {
     "name": "stdout",
     "output_type": "stream",
     "text": [
      "Prediction completed for deepsurv_ann_smotetomek_2 on fold 9.\n",
      "Initiating prediction for model: deepsurv_lstm_clustering_1\n",
      "Initiate testing of deepsurv neural network\n",
      "model structure: LSTM\n"
     ]
    },
    {
     "name": "stderr",
     "output_type": "stream",
     "text": [
      "2024-11-21 09:26:47,500 - INFO - Validation data retrieved\n",
      "2024-11-21 09:26:47,972 - INFO - Event column 'endpoint' updated with focus on event value 1.\n",
      "2024-11-21 09:26:47,973 - INFO - Event column 'endpoint' updated with focus on event value 1.\n"
     ]
    },
    {
     "name": "stdout",
     "output_type": "stream",
     "text": [
      "Prediction completed for deepsurv_lstm_clustering_1 on fold 9.\n",
      "Initiating prediction for model: deepsurv_lstm_nearmiss_1\n",
      "Initiate testing of deepsurv neural network\n",
      "model structure: LSTM\n"
     ]
    },
    {
     "name": "stderr",
     "output_type": "stream",
     "text": [
      "2024-11-21 09:26:50,440 - INFO - Validation data retrieved\n",
      "2024-11-21 09:26:50,890 - INFO - Event column 'endpoint' updated with focus on event value 2.\n",
      "2024-11-21 09:26:50,891 - INFO - Event column 'endpoint' updated with focus on event value 2.\n"
     ]
    },
    {
     "name": "stdout",
     "output_type": "stream",
     "text": [
      "Prediction completed for deepsurv_lstm_nearmiss_1 on fold 9.\n",
      "Initiating prediction for model: deepsurv_lstm_clustering_2\n",
      "Initiate testing of deepsurv neural network\n",
      "model structure: LSTM\n"
     ]
    },
    {
     "name": "stderr",
     "output_type": "stream",
     "text": [
      "2024-11-21 09:26:53,301 - INFO - Validation data retrieved\n",
      "2024-11-21 09:26:53,791 - INFO - Event column 'endpoint' updated with focus on event value 2.\n",
      "2024-11-21 09:26:53,792 - INFO - Event column 'endpoint' updated with focus on event value 2.\n"
     ]
    },
    {
     "name": "stdout",
     "output_type": "stream",
     "text": [
      "Prediction completed for deepsurv_lstm_clustering_2 on fold 9.\n",
      "Initiating prediction for model: deepsurv_lstm_nearmiss_2\n",
      "Initiate testing of deepsurv neural network\n",
      "model structure: LSTM\n"
     ]
    },
    {
     "name": "stderr",
     "output_type": "stream",
     "text": [
      "2024-11-21 09:26:56,364 - INFO - Validation data retrieved\n"
     ]
    },
    {
     "name": "stdout",
     "output_type": "stream",
     "text": [
      "Prediction completed for deepsurv_lstm_nearmiss_2 on fold 9.\n",
      "Initiating prediction for model: deephit_ann_clustering_all\n",
      "Initiate testing of deephit neural network\n",
      "model structure: ANN\n",
      "prediction complete, please note that prediction of deephit models are CIF.\n",
      "Prediction completed for deephit_ann_clustering_all on fold 9.\n",
      "Initiating prediction for model: deephit_ann_nearmiss2_all\n",
      "Initiate testing of deephit neural network\n",
      "model structure: ANN\n",
      "prediction complete, please note that prediction of deephit models are CIF.\n",
      "Prediction completed for deephit_ann_nearmiss2_all on fold 9.\n",
      "Initiating prediction for model: deephit_lstm_clustering_all\n",
      "Initiate testing of deephit neural network\n",
      "model structure: LSTM\n"
     ]
    },
    {
     "name": "stderr",
     "output_type": "stream",
     "text": [
      "2024-11-21 09:27:00,374 - INFO - Validation data retrieved\n"
     ]
    },
    {
     "name": "stdout",
     "output_type": "stream",
     "text": [
      "prediction complete, please note that prediction of deephit models are CIF.\n",
      "Prediction completed for deephit_lstm_clustering_all on fold 9.\n",
      "Initiating prediction for model: deephit_lstm_nearmiss1_all\n",
      "Initiate testing of deephit neural network\n",
      "model structure: LSTM\n"
     ]
    },
    {
     "name": "stderr",
     "output_type": "stream",
     "text": [
      "2024-11-21 09:27:06,676 - INFO - Validation data retrieved\n",
      "2024-11-21 09:27:07,043 - INFO - Event column 'endpoint' updated with focus on event value 1.\n"
     ]
    },
    {
     "name": "stdout",
     "output_type": "stream",
     "text": [
      "prediction complete, please note that prediction of deephit models are CIF.\n",
      "Prediction completed for deephit_lstm_nearmiss1_all on fold 9.\n",
      "Processing fold 10...\n",
      "Initiating prediction for model: deepsurv_ann_clustering_1\n",
      "Initiate testing of deepsurv neural network\n",
      "model structure: ANN\n"
     ]
    },
    {
     "name": "stderr",
     "output_type": "stream",
     "text": [
      "2024-11-21 09:27:07,469 - INFO - Event column 'endpoint' updated with focus on event value 1.\n"
     ]
    },
    {
     "name": "stdout",
     "output_type": "stream",
     "text": [
      "Prediction completed for deepsurv_ann_clustering_1 on fold 10.\n",
      "Initiating prediction for model: deepsurv_ann_smoteenn_1\n",
      "Initiate testing of deepsurv neural network\n",
      "model structure: ANN\n"
     ]
    },
    {
     "name": "stderr",
     "output_type": "stream",
     "text": [
      "2024-11-21 09:27:09,689 - INFO - Event column 'endpoint' updated with focus on event value 1.\n"
     ]
    },
    {
     "name": "stdout",
     "output_type": "stream",
     "text": [
      "Prediction completed for deepsurv_ann_smoteenn_1 on fold 10.\n",
      "Initiating prediction for model: deepsurv_ann_smotetomek_1\n",
      "Initiate testing of deepsurv neural network\n",
      "model structure: ANN\n"
     ]
    },
    {
     "name": "stderr",
     "output_type": "stream",
     "text": [
      "2024-11-21 09:27:11,784 - INFO - Event column 'endpoint' updated with focus on event value 2.\n"
     ]
    },
    {
     "name": "stdout",
     "output_type": "stream",
     "text": [
      "Prediction completed for deepsurv_ann_smotetomek_1 on fold 10.\n",
      "Initiating prediction for model: deepsurv_ann_clustering_2\n",
      "Initiate testing of deepsurv neural network\n",
      "model structure: ANN\n"
     ]
    },
    {
     "name": "stderr",
     "output_type": "stream",
     "text": [
      "2024-11-21 09:27:12,231 - INFO - Event column 'endpoint' updated with focus on event value 2.\n"
     ]
    },
    {
     "name": "stdout",
     "output_type": "stream",
     "text": [
      "Prediction completed for deepsurv_ann_clustering_2 on fold 10.\n",
      "Initiating prediction for model: deepsurv_ann_smoteenn_2\n",
      "Initiate testing of deepsurv neural network\n",
      "model structure: ANN\n"
     ]
    },
    {
     "name": "stderr",
     "output_type": "stream",
     "text": [
      "2024-11-21 09:27:12,923 - INFO - Event column 'endpoint' updated with focus on event value 2.\n"
     ]
    },
    {
     "name": "stdout",
     "output_type": "stream",
     "text": [
      "Prediction completed for deepsurv_ann_smoteenn_2 on fold 10.\n",
      "Initiating prediction for model: deepsurv_ann_smotetomek_2\n",
      "Initiate testing of deepsurv neural network\n",
      "model structure: ANN\n"
     ]
    },
    {
     "name": "stderr",
     "output_type": "stream",
     "text": [
      "2024-11-21 09:27:13,759 - INFO - Event column 'endpoint' updated with focus on event value 1.\n",
      "2024-11-21 09:27:13,760 - INFO - Event column 'endpoint' updated with focus on event value 1.\n"
     ]
    },
    {
     "name": "stdout",
     "output_type": "stream",
     "text": [
      "Prediction completed for deepsurv_ann_smotetomek_2 on fold 10.\n",
      "Initiating prediction for model: deepsurv_lstm_clustering_1\n",
      "Initiate testing of deepsurv neural network\n",
      "model structure: LSTM\n"
     ]
    },
    {
     "name": "stderr",
     "output_type": "stream",
     "text": [
      "2024-11-21 09:27:16,105 - INFO - Validation data retrieved\n",
      "2024-11-21 09:27:16,519 - INFO - Event column 'endpoint' updated with focus on event value 1.\n",
      "2024-11-21 09:27:16,520 - INFO - Event column 'endpoint' updated with focus on event value 1.\n"
     ]
    },
    {
     "name": "stdout",
     "output_type": "stream",
     "text": [
      "Prediction completed for deepsurv_lstm_clustering_1 on fold 10.\n",
      "Initiating prediction for model: deepsurv_lstm_nearmiss_1\n",
      "Initiate testing of deepsurv neural network\n",
      "model structure: LSTM\n"
     ]
    },
    {
     "name": "stderr",
     "output_type": "stream",
     "text": [
      "2024-11-21 09:27:18,689 - INFO - Validation data retrieved\n",
      "2024-11-21 09:27:19,073 - INFO - Event column 'endpoint' updated with focus on event value 2.\n",
      "2024-11-21 09:27:19,074 - INFO - Event column 'endpoint' updated with focus on event value 2.\n"
     ]
    },
    {
     "name": "stdout",
     "output_type": "stream",
     "text": [
      "Prediction completed for deepsurv_lstm_nearmiss_1 on fold 10.\n",
      "Initiating prediction for model: deepsurv_lstm_clustering_2\n",
      "Initiate testing of deepsurv neural network\n",
      "model structure: LSTM\n"
     ]
    },
    {
     "name": "stderr",
     "output_type": "stream",
     "text": [
      "2024-11-21 09:27:21,222 - INFO - Validation data retrieved\n",
      "2024-11-21 09:27:21,631 - INFO - Event column 'endpoint' updated with focus on event value 2.\n",
      "2024-11-21 09:27:21,631 - INFO - Event column 'endpoint' updated with focus on event value 2.\n"
     ]
    },
    {
     "name": "stdout",
     "output_type": "stream",
     "text": [
      "Prediction completed for deepsurv_lstm_clustering_2 on fold 10.\n",
      "Initiating prediction for model: deepsurv_lstm_nearmiss_2\n",
      "Initiate testing of deepsurv neural network\n",
      "model structure: LSTM\n"
     ]
    },
    {
     "name": "stderr",
     "output_type": "stream",
     "text": [
      "2024-11-21 09:27:23,891 - INFO - Validation data retrieved\n"
     ]
    },
    {
     "name": "stdout",
     "output_type": "stream",
     "text": [
      "Prediction completed for deepsurv_lstm_nearmiss_2 on fold 10.\n",
      "Initiating prediction for model: deephit_ann_clustering_all\n",
      "Initiate testing of deephit neural network\n",
      "model structure: ANN\n",
      "prediction complete, please note that prediction of deephit models are CIF.\n",
      "Prediction completed for deephit_ann_clustering_all on fold 10.\n",
      "Initiating prediction for model: deephit_ann_nearmiss2_all\n",
      "Initiate testing of deephit neural network\n",
      "model structure: ANN\n",
      "prediction complete, please note that prediction of deephit models are CIF.\n",
      "Prediction completed for deephit_ann_nearmiss2_all on fold 10.\n",
      "Initiating prediction for model: deephit_lstm_clustering_all\n",
      "Initiate testing of deephit neural network\n",
      "model structure: LSTM\n"
     ]
    },
    {
     "name": "stderr",
     "output_type": "stream",
     "text": [
      "2024-11-21 09:27:27,644 - INFO - Validation data retrieved\n"
     ]
    },
    {
     "name": "stdout",
     "output_type": "stream",
     "text": [
      "prediction complete, please note that prediction of deephit models are CIF.\n",
      "Prediction completed for deephit_lstm_clustering_all on fold 10.\n",
      "Initiating prediction for model: deephit_lstm_nearmiss1_all\n",
      "Initiate testing of deephit neural network\n",
      "model structure: LSTM\n"
     ]
    },
    {
     "name": "stderr",
     "output_type": "stream",
     "text": [
      "2024-11-21 09:27:30,129 - INFO - Validation data retrieved\n"
     ]
    },
    {
     "name": "stdout",
     "output_type": "stream",
     "text": [
      "prediction complete, please note that prediction of deephit models are CIF.\n",
      "Prediction completed for deephit_lstm_nearmiss1_all on fold 10.\n",
      "Validation predictions and y_val combined.\n"
     ]
    }
   ],
   "source": [
    "gc.collect()\n",
    "torch.cuda.empty_cache()\n",
    "\n",
    "# Initialize dictionary to store combined predictions and y_test\n",
    "combined_predictions = []\n",
    "combined_y_val = []\n",
    "cif_ground_truth_val = []\n",
    "\n",
    "# Get unique keys and split them into 10 groups\n",
    "unique_keys = X_fin_val['key'].unique()\n",
    "np.random.shuffle(unique_keys)  # Shuffle keys to ensure randomness\n",
    "key_folds = np.array_split(unique_keys, 10)\n",
    "\n",
    "for fold_idx, test_keys in enumerate(key_folds):\n",
    "    print(f\"Processing fold {fold_idx + 1}...\")\n",
    "    # Split the dataset into train and test based on keys\n",
    "    X_val_fold = X_fin_val[X_fin_val['key'].isin(test_keys)]\n",
    "    \n",
    "    # Get the indices of X_test_fold relative to the original dataset\n",
    "    test_indices = X_val_fold.index.to_numpy()\n",
    "\n",
    "    # Extract CIF ground truth for these indices\n",
    "    cif_ground_truth_val_fold = cif_ground_truth[:, :, test_indices]\n",
    "\n",
    "    # Stack this fold's CIF ground truth\n",
    "    cif_ground_truth_val.append(cif_ground_truth_val_fold)\n",
    "    \n",
    "    # Store predictions for this fold\n",
    "    fold_predictions = {}\n",
    "    \n",
    "    X_val, y_val = preprocess_data(X_val_fold, FEATURE_COLS, DURATION_COL, EVENT_COL, TIME_GRID, discretize=True)\n",
    "    combined_y_val.append(y_val)\n",
    "    \n",
    "    for model_name in model_ls:\n",
    "        # Retrieve configuration by dynamically constructing the variable name\n",
    "        config_var_name = model_name + \"_config\"\n",
    "        model_config = globals().get(config_var_name)\n",
    "        if model_config is None:\n",
    "            print(f\"Configuration for {config_var_name} not found.\")\n",
    "            continue\n",
    "        try:\n",
    "            print(f\"Initiating prediction for model: {model_name}\")\n",
    "            \n",
    "            # Retrieve the loaded model\n",
    "            model = loaded_models.get(model_name)\n",
    "            if model is None:\n",
    "                print(f\"Model {model_name} is not loaded.\")\n",
    "                continue\n",
    "            \n",
    "            # Predict using the loaded model and configuration\n",
    "            surv, _ = predict_neural_network(\n",
    "                model=model,\n",
    "                config=model_config,\n",
    "                X_test=X_val_fold,\n",
    "                duration_col=DURATION_COL,\n",
    "                event_col=EVENT_COL,\n",
    "                cluster_col=CLUSTER_COL,\n",
    "                time_grid=TIME_GRID\n",
    "            )\n",
    "            \n",
    "            # Align survival probabilities (if DeepSurv)\n",
    "            if model_config['model'] == 'deepsurv':\n",
    "                surv = align_to_time_grid(surv, TIME_GRID).values  # 2D array\n",
    "                \n",
    "                # Structure key dynamically\n",
    "                key = f\"deepsurv_{model_config['net']}_{model_config['balance_method']}\"\n",
    "                \n",
    "                # Store predictions\n",
    "                if key not in fold_predictions:\n",
    "                    fold_predictions[key] = []\n",
    "                fold_predictions[key].append(np.expand_dims(1 - surv, axis=0))\n",
    "            \n",
    "            # Handle DeepHit predictions\n",
    "            elif model_config['model'] == 'deephit':\n",
    "                surv = np.array(surv)  # Convert to numpy array\n",
    "                \n",
    "                # Structure key dynamically\n",
    "                key = f\"deephit_{model_config['net']}_{model_config['balance_method']}\"\n",
    "                \n",
    "                # Store predictions\n",
    "                if key not in fold_predictions:\n",
    "                    fold_predictions[key] = []\n",
    "                fold_predictions[key].append(surv)\n",
    "            \n",
    "            print(f\"Prediction completed for {model_name} on fold {fold_idx + 1}.\")\n",
    "        \n",
    "        except Exception as e:\n",
    "            print(f\"Error during prediction for {model_name} on fold {fold_idx + 1}: {e}\")\n",
    "            \n",
    "    combined_predictions.append(fold_predictions)\n",
    "\n",
    "meta_learner_X_val = {}\n",
    "\n",
    "for fold_predictions in combined_predictions:\n",
    "    for model_key, fold_data in fold_predictions.items():\n",
    "        if model_key not in meta_learner_X_val:\n",
    "            meta_learner_X_val[model_key] = []\n",
    "        \n",
    "        # Align DeepSurv predictions to match DeepHit format\n",
    "        if \"deepsurv\" in model_key:\n",
    "            # Stack competing outcomes and remove the redundant dimension\n",
    "            meta_learner_X_val[model_key].extend(\n",
    "                [np.squeeze(np.stack(fold_data, axis=0), axis=1)]  # Squeeze out extra axis\n",
    "            )\n",
    "        else:\n",
    "            # Keep DeepHit predictions as-is\n",
    "            meta_learner_X_val[model_key].extend(fold_data)\n",
    "\n",
    "# Combine y_test\n",
    "meta_learner_y_val = (\n",
    "    np.concatenate([fold[0] for fold in combined_y_val]),  # Concatenate all first elements\n",
    "    np.concatenate([fold[1] for fold in combined_y_val])   # Concatenate all second elements\n",
    ")\n",
    "\n",
    "# Combine CIF ground truth for all folds\n",
    "cif_ground_truth_val_stacked = np.concatenate(cif_ground_truth_val, axis=2)\n",
    "\n",
    "print(\"Validation predictions and y_val combined.\")"
   ]
  },
  {
   "cell_type": "code",
   "execution_count": 215,
   "metadata": {},
   "outputs": [
    {
     "name": "stdout",
     "output_type": "stream",
     "text": [
      "deepsurv_ann_clustering: final shape (2, 6, 80182)\n",
      "deepsurv_ann_enn: final shape (2, 6, 80182)\n",
      "deepsurv_ann_tomek: final shape (2, 6, 80182)\n",
      "deepsurv_lstm_clustering: final shape (2, 6, 80182)\n",
      "deepsurv_lstm_NearMiss: final shape (2, 6, 80182)\n",
      "deephit_ann_clustering: final shape (2, 6, 80182)\n",
      "deephit_ann_NearMiss: final shape (2, 6, 80182)\n",
      "deephit_lstm_clustering: final shape (2, 6, 80182)\n",
      "deephit_lstm_NearMiss: final shape (2, 6, 80182)\n"
     ]
    }
   ],
   "source": [
    "# Combine all 10 items for each model's predictions\n",
    "final_meta_learner_X_val = {}\n",
    "\n",
    "for key, predictions in meta_learner_X_val.items():\n",
    "    # Concatenate the predictions along the last axis\n",
    "    final_meta_learner_X_val[key] = np.concatenate(predictions, axis=2)  # Combine along the feature axis\n",
    "\n",
    "# Validate the shapes\n",
    "for key, combined_prediction in final_meta_learner_X_val.items():\n",
    "    print(f\"{key}: final shape {combined_prediction.shape}\")"
   ]
  },
  {
   "cell_type": "code",
   "execution_count": 216,
   "metadata": {},
   "outputs": [
    {
     "name": "stdout",
     "output_type": "stream",
     "text": [
      "(80182,)\n",
      "(80182,)\n",
      "(array([0, 1, 2]), array([78593,   416,  1173]))\n"
     ]
    }
   ],
   "source": [
    "# Use the duration and event data as targets\n",
    "durations_val = meta_learner_y_val[0]  # Time to event or censoring\n",
    "events_val = meta_learner_y_val[1]  # Event type (competing risks)\n",
    "\n",
    "print(durations_val.shape)\n",
    "print(events_val.shape)\n",
    "print(np.unique(events_val, return_counts=True))"
   ]
  },
  {
   "cell_type": "markdown",
   "metadata": {},
   "source": [
    "#### 6.2 Prepare each model's prediction on test set"
   ]
  },
  {
   "cell_type": "code",
   "execution_count": 217,
   "metadata": {},
   "outputs": [
    {
     "name": "stdout",
     "output_type": "stream",
     "text": [
      "Processing fold 1...\n",
      "Initiating prediction for model: deepsurv_ann_clustering_1\n",
      "Initiate testing of deepsurv neural network\n"
     ]
    },
    {
     "name": "stderr",
     "output_type": "stream",
     "text": [
      "2024-11-21 09:27:30,742 - INFO - Event column 'endpoint' updated with focus on event value 1.\n"
     ]
    },
    {
     "name": "stdout",
     "output_type": "stream",
     "text": [
      "model structure: ANN\n"
     ]
    },
    {
     "name": "stderr",
     "output_type": "stream",
     "text": [
      "2024-11-21 09:27:31,161 - INFO - Event column 'endpoint' updated with focus on event value 1.\n"
     ]
    },
    {
     "name": "stdout",
     "output_type": "stream",
     "text": [
      "Prediction completed for deepsurv_ann_clustering_1 on fold 1.\n",
      "Initiating prediction for model: deepsurv_ann_smoteenn_1\n",
      "Initiate testing of deepsurv neural network\n",
      "model structure: ANN\n"
     ]
    },
    {
     "name": "stderr",
     "output_type": "stream",
     "text": [
      "2024-11-21 09:27:32,589 - INFO - Event column 'endpoint' updated with focus on event value 1.\n"
     ]
    },
    {
     "name": "stdout",
     "output_type": "stream",
     "text": [
      "Prediction completed for deepsurv_ann_smoteenn_1 on fold 1.\n",
      "Initiating prediction for model: deepsurv_ann_smotetomek_1\n",
      "Initiate testing of deepsurv neural network\n",
      "model structure: ANN\n"
     ]
    },
    {
     "name": "stderr",
     "output_type": "stream",
     "text": [
      "2024-11-21 09:27:33,923 - INFO - Event column 'endpoint' updated with focus on event value 2.\n"
     ]
    },
    {
     "name": "stdout",
     "output_type": "stream",
     "text": [
      "Prediction completed for deepsurv_ann_smotetomek_1 on fold 1.\n",
      "Initiating prediction for model: deepsurv_ann_clustering_2\n",
      "Initiate testing of deepsurv neural network\n",
      "model structure: ANN\n"
     ]
    },
    {
     "name": "stderr",
     "output_type": "stream",
     "text": [
      "2024-11-21 09:27:34,359 - INFO - Event column 'endpoint' updated with focus on event value 2.\n"
     ]
    },
    {
     "name": "stdout",
     "output_type": "stream",
     "text": [
      "Prediction completed for deepsurv_ann_clustering_2 on fold 1.\n",
      "Initiating prediction for model: deepsurv_ann_smoteenn_2\n",
      "Initiate testing of deepsurv neural network\n",
      "model structure: ANN\n"
     ]
    },
    {
     "name": "stderr",
     "output_type": "stream",
     "text": [
      "2024-11-21 09:27:34,908 - INFO - Event column 'endpoint' updated with focus on event value 2.\n"
     ]
    },
    {
     "name": "stdout",
     "output_type": "stream",
     "text": [
      "Prediction completed for deepsurv_ann_smoteenn_2 on fold 1.\n",
      "Initiating prediction for model: deepsurv_ann_smotetomek_2\n",
      "Initiate testing of deepsurv neural network\n",
      "model structure: ANN\n"
     ]
    },
    {
     "name": "stderr",
     "output_type": "stream",
     "text": [
      "2024-11-21 09:27:35,464 - INFO - Event column 'endpoint' updated with focus on event value 1.\n",
      "2024-11-21 09:27:35,465 - INFO - Event column 'endpoint' updated with focus on event value 1.\n"
     ]
    },
    {
     "name": "stdout",
     "output_type": "stream",
     "text": [
      "Prediction completed for deepsurv_ann_smotetomek_2 on fold 1.\n",
      "Initiating prediction for model: deepsurv_lstm_clustering_1\n",
      "Initiate testing of deepsurv neural network\n",
      "model structure: LSTM\n"
     ]
    },
    {
     "name": "stderr",
     "output_type": "stream",
     "text": [
      "2024-11-21 09:27:36,654 - INFO - Validation data retrieved\n",
      "2024-11-21 09:27:37,083 - INFO - Event column 'endpoint' updated with focus on event value 1.\n",
      "2024-11-21 09:27:37,084 - INFO - Event column 'endpoint' updated with focus on event value 1.\n"
     ]
    },
    {
     "name": "stdout",
     "output_type": "stream",
     "text": [
      "Prediction completed for deepsurv_lstm_clustering_1 on fold 1.\n",
      "Initiating prediction for model: deepsurv_lstm_nearmiss_1\n",
      "Initiate testing of deepsurv neural network\n",
      "model structure: LSTM\n"
     ]
    },
    {
     "name": "stderr",
     "output_type": "stream",
     "text": [
      "2024-11-21 09:27:41,945 - INFO - Validation data retrieved\n",
      "2024-11-21 09:27:42,383 - INFO - Event column 'endpoint' updated with focus on event value 2.\n",
      "2024-11-21 09:27:42,384 - INFO - Event column 'endpoint' updated with focus on event value 2.\n"
     ]
    },
    {
     "name": "stdout",
     "output_type": "stream",
     "text": [
      "Prediction completed for deepsurv_lstm_nearmiss_1 on fold 1.\n",
      "Initiating prediction for model: deepsurv_lstm_clustering_2\n",
      "Initiate testing of deepsurv neural network\n",
      "model structure: LSTM\n"
     ]
    },
    {
     "name": "stderr",
     "output_type": "stream",
     "text": [
      "2024-11-21 09:27:43,645 - INFO - Validation data retrieved\n",
      "2024-11-21 09:27:44,077 - INFO - Event column 'endpoint' updated with focus on event value 2.\n",
      "2024-11-21 09:27:44,078 - INFO - Event column 'endpoint' updated with focus on event value 2.\n"
     ]
    },
    {
     "name": "stdout",
     "output_type": "stream",
     "text": [
      "Prediction completed for deepsurv_lstm_clustering_2 on fold 1.\n",
      "Initiating prediction for model: deepsurv_lstm_nearmiss_2\n",
      "Initiate testing of deepsurv neural network\n",
      "model structure: LSTM\n"
     ]
    },
    {
     "name": "stderr",
     "output_type": "stream",
     "text": [
      "2024-11-21 09:27:45,387 - INFO - Validation data retrieved\n"
     ]
    },
    {
     "name": "stdout",
     "output_type": "stream",
     "text": [
      "Prediction completed for deepsurv_lstm_nearmiss_2 on fold 1.\n",
      "Initiating prediction for model: deephit_ann_clustering_all\n",
      "Initiate testing of deephit neural network\n",
      "model structure: ANN\n",
      "prediction complete, please note that prediction of deephit models are CIF.\n",
      "Prediction completed for deephit_ann_clustering_all on fold 1.\n",
      "Initiating prediction for model: deephit_ann_nearmiss2_all\n",
      "Initiate testing of deephit neural network\n",
      "model structure: ANN\n",
      "prediction complete, please note that prediction of deephit models are CIF.\n",
      "Prediction completed for deephit_ann_nearmiss2_all on fold 1.\n",
      "Initiating prediction for model: deephit_lstm_clustering_all\n",
      "Initiate testing of deephit neural network\n",
      "model structure: LSTM\n"
     ]
    },
    {
     "name": "stderr",
     "output_type": "stream",
     "text": [
      "2024-11-21 09:27:48,010 - INFO - Validation data retrieved\n"
     ]
    },
    {
     "name": "stdout",
     "output_type": "stream",
     "text": [
      "prediction complete, please note that prediction of deephit models are CIF.\n",
      "Prediction completed for deephit_lstm_clustering_all on fold 1.\n",
      "Initiating prediction for model: deephit_lstm_nearmiss1_all\n",
      "Initiate testing of deephit neural network\n",
      "model structure: LSTM\n"
     ]
    },
    {
     "name": "stderr",
     "output_type": "stream",
     "text": [
      "2024-11-21 09:27:49,488 - INFO - Validation data retrieved\n",
      "2024-11-21 09:27:49,849 - INFO - Event column 'endpoint' updated with focus on event value 1.\n"
     ]
    },
    {
     "name": "stdout",
     "output_type": "stream",
     "text": [
      "prediction complete, please note that prediction of deephit models are CIF.\n",
      "Prediction completed for deephit_lstm_nearmiss1_all on fold 1.\n",
      "Processing fold 2...\n",
      "Initiating prediction for model: deepsurv_ann_clustering_1\n",
      "Initiate testing of deepsurv neural network\n",
      "model structure: ANN\n"
     ]
    },
    {
     "name": "stderr",
     "output_type": "stream",
     "text": [
      "2024-11-21 09:27:50,250 - INFO - Event column 'endpoint' updated with focus on event value 1.\n"
     ]
    },
    {
     "name": "stdout",
     "output_type": "stream",
     "text": [
      "Prediction completed for deepsurv_ann_clustering_1 on fold 2.\n",
      "Initiating prediction for model: deepsurv_ann_smoteenn_1\n",
      "Initiate testing of deepsurv neural network\n",
      "model structure: ANN\n"
     ]
    },
    {
     "name": "stderr",
     "output_type": "stream",
     "text": [
      "2024-11-21 09:27:51,673 - INFO - Event column 'endpoint' updated with focus on event value 1.\n"
     ]
    },
    {
     "name": "stdout",
     "output_type": "stream",
     "text": [
      "Prediction completed for deepsurv_ann_smoteenn_1 on fold 2.\n",
      "Initiating prediction for model: deepsurv_ann_smotetomek_1\n",
      "Initiate testing of deepsurv neural network\n",
      "model structure: ANN\n"
     ]
    },
    {
     "name": "stderr",
     "output_type": "stream",
     "text": [
      "2024-11-21 09:27:53,056 - INFO - Event column 'endpoint' updated with focus on event value 2.\n"
     ]
    },
    {
     "name": "stdout",
     "output_type": "stream",
     "text": [
      "Prediction completed for deepsurv_ann_smotetomek_1 on fold 2.\n",
      "Initiating prediction for model: deepsurv_ann_clustering_2\n",
      "Initiate testing of deepsurv neural network\n",
      "model structure: ANN\n"
     ]
    },
    {
     "name": "stderr",
     "output_type": "stream",
     "text": [
      "2024-11-21 09:27:53,468 - INFO - Event column 'endpoint' updated with focus on event value 2.\n"
     ]
    },
    {
     "name": "stdout",
     "output_type": "stream",
     "text": [
      "Prediction completed for deepsurv_ann_clustering_2 on fold 2.\n",
      "Initiating prediction for model: deepsurv_ann_smoteenn_2\n",
      "Initiate testing of deepsurv neural network\n",
      "model structure: ANN\n"
     ]
    },
    {
     "name": "stderr",
     "output_type": "stream",
     "text": [
      "2024-11-21 09:27:53,989 - INFO - Event column 'endpoint' updated with focus on event value 2.\n"
     ]
    },
    {
     "name": "stdout",
     "output_type": "stream",
     "text": [
      "Prediction completed for deepsurv_ann_smoteenn_2 on fold 2.\n",
      "Initiating prediction for model: deepsurv_ann_smotetomek_2\n",
      "Initiate testing of deepsurv neural network\n",
      "model structure: ANN\n"
     ]
    },
    {
     "name": "stderr",
     "output_type": "stream",
     "text": [
      "2024-11-21 09:27:54,561 - INFO - Event column 'endpoint' updated with focus on event value 1.\n",
      "2024-11-21 09:27:54,562 - INFO - Event column 'endpoint' updated with focus on event value 1.\n"
     ]
    },
    {
     "name": "stdout",
     "output_type": "stream",
     "text": [
      "Prediction completed for deepsurv_ann_smotetomek_2 on fold 2.\n",
      "Initiating prediction for model: deepsurv_lstm_clustering_1\n",
      "Initiate testing of deepsurv neural network\n",
      "model structure: LSTM\n"
     ]
    },
    {
     "name": "stderr",
     "output_type": "stream",
     "text": [
      "2024-11-21 09:27:55,796 - INFO - Validation data retrieved\n",
      "2024-11-21 09:27:56,200 - INFO - Event column 'endpoint' updated with focus on event value 1.\n",
      "2024-11-21 09:27:56,201 - INFO - Event column 'endpoint' updated with focus on event value 1.\n"
     ]
    },
    {
     "name": "stdout",
     "output_type": "stream",
     "text": [
      "Prediction completed for deepsurv_lstm_clustering_1 on fold 2.\n",
      "Initiating prediction for model: deepsurv_lstm_nearmiss_1\n",
      "Initiate testing of deepsurv neural network\n",
      "model structure: LSTM\n"
     ]
    },
    {
     "name": "stderr",
     "output_type": "stream",
     "text": [
      "2024-11-21 09:27:57,431 - INFO - Validation data retrieved\n",
      "2024-11-21 09:27:57,829 - INFO - Event column 'endpoint' updated with focus on event value 2.\n",
      "2024-11-21 09:27:57,830 - INFO - Event column 'endpoint' updated with focus on event value 2.\n"
     ]
    },
    {
     "name": "stdout",
     "output_type": "stream",
     "text": [
      "Prediction completed for deepsurv_lstm_nearmiss_1 on fold 2.\n",
      "Initiating prediction for model: deepsurv_lstm_clustering_2\n",
      "Initiate testing of deepsurv neural network\n",
      "model structure: LSTM\n"
     ]
    },
    {
     "name": "stderr",
     "output_type": "stream",
     "text": [
      "2024-11-21 09:27:59,066 - INFO - Validation data retrieved\n",
      "2024-11-21 09:27:59,479 - INFO - Event column 'endpoint' updated with focus on event value 2.\n",
      "2024-11-21 09:27:59,480 - INFO - Event column 'endpoint' updated with focus on event value 2.\n"
     ]
    },
    {
     "name": "stdout",
     "output_type": "stream",
     "text": [
      "Prediction completed for deepsurv_lstm_clustering_2 on fold 2.\n",
      "Initiating prediction for model: deepsurv_lstm_nearmiss_2\n",
      "Initiate testing of deepsurv neural network\n",
      "model structure: LSTM\n"
     ]
    },
    {
     "name": "stderr",
     "output_type": "stream",
     "text": [
      "2024-11-21 09:28:00,744 - INFO - Validation data retrieved\n"
     ]
    },
    {
     "name": "stdout",
     "output_type": "stream",
     "text": [
      "Prediction completed for deepsurv_lstm_nearmiss_2 on fold 2.\n",
      "Initiating prediction for model: deephit_ann_clustering_all\n",
      "Initiate testing of deephit neural network\n",
      "model structure: ANN\n",
      "prediction complete, please note that prediction of deephit models are CIF.\n",
      "Prediction completed for deephit_ann_clustering_all on fold 2.\n",
      "Initiating prediction for model: deephit_ann_nearmiss2_all\n",
      "Initiate testing of deephit neural network\n",
      "model structure: ANN\n",
      "prediction complete, please note that prediction of deephit models are CIF.\n",
      "Prediction completed for deephit_ann_nearmiss2_all on fold 2.\n",
      "Initiating prediction for model: deephit_lstm_clustering_all\n",
      "Initiate testing of deephit neural network\n",
      "model structure: LSTM\n"
     ]
    },
    {
     "name": "stderr",
     "output_type": "stream",
     "text": [
      "2024-11-21 09:28:03,323 - INFO - Validation data retrieved\n"
     ]
    },
    {
     "name": "stdout",
     "output_type": "stream",
     "text": [
      "prediction complete, please note that prediction of deephit models are CIF.\n",
      "Prediction completed for deephit_lstm_clustering_all on fold 2.\n",
      "Initiating prediction for model: deephit_lstm_nearmiss1_all\n",
      "Initiate testing of deephit neural network\n",
      "model structure: LSTM\n"
     ]
    },
    {
     "name": "stderr",
     "output_type": "stream",
     "text": [
      "2024-11-21 09:28:04,880 - INFO - Validation data retrieved\n",
      "2024-11-21 09:28:05,261 - INFO - Event column 'endpoint' updated with focus on event value 1.\n"
     ]
    },
    {
     "name": "stdout",
     "output_type": "stream",
     "text": [
      "prediction complete, please note that prediction of deephit models are CIF.\n",
      "Prediction completed for deephit_lstm_nearmiss1_all on fold 2.\n",
      "Processing fold 3...\n",
      "Initiating prediction for model: deepsurv_ann_clustering_1\n",
      "Initiate testing of deepsurv neural network\n",
      "model structure: ANN\n"
     ]
    },
    {
     "name": "stderr",
     "output_type": "stream",
     "text": [
      "2024-11-21 09:28:05,649 - INFO - Event column 'endpoint' updated with focus on event value 1.\n"
     ]
    },
    {
     "name": "stdout",
     "output_type": "stream",
     "text": [
      "Prediction completed for deepsurv_ann_clustering_1 on fold 3.\n",
      "Initiating prediction for model: deepsurv_ann_smoteenn_1\n",
      "Initiate testing of deepsurv neural network\n",
      "model structure: ANN\n"
     ]
    },
    {
     "name": "stderr",
     "output_type": "stream",
     "text": [
      "2024-11-21 09:28:06,984 - INFO - Event column 'endpoint' updated with focus on event value 1.\n"
     ]
    },
    {
     "name": "stdout",
     "output_type": "stream",
     "text": [
      "Prediction completed for deepsurv_ann_smoteenn_1 on fold 3.\n",
      "Initiating prediction for model: deepsurv_ann_smotetomek_1\n",
      "Initiate testing of deepsurv neural network\n",
      "model structure: ANN\n"
     ]
    },
    {
     "name": "stderr",
     "output_type": "stream",
     "text": [
      "2024-11-21 09:28:08,326 - INFO - Event column 'endpoint' updated with focus on event value 2.\n"
     ]
    },
    {
     "name": "stdout",
     "output_type": "stream",
     "text": [
      "Prediction completed for deepsurv_ann_smotetomek_1 on fold 3.\n",
      "Initiating prediction for model: deepsurv_ann_clustering_2\n",
      "Initiate testing of deepsurv neural network\n",
      "model structure: ANN\n"
     ]
    },
    {
     "name": "stderr",
     "output_type": "stream",
     "text": [
      "2024-11-21 09:28:08,760 - INFO - Event column 'endpoint' updated with focus on event value 2.\n"
     ]
    },
    {
     "name": "stdout",
     "output_type": "stream",
     "text": [
      "Prediction completed for deepsurv_ann_clustering_2 on fold 3.\n",
      "Initiating prediction for model: deepsurv_ann_smoteenn_2\n",
      "Initiate testing of deepsurv neural network\n",
      "model structure: ANN\n"
     ]
    },
    {
     "name": "stderr",
     "output_type": "stream",
     "text": [
      "2024-11-21 09:28:09,308 - INFO - Event column 'endpoint' updated with focus on event value 2.\n"
     ]
    },
    {
     "name": "stdout",
     "output_type": "stream",
     "text": [
      "Prediction completed for deepsurv_ann_smoteenn_2 on fold 3.\n",
      "Initiating prediction for model: deepsurv_ann_smotetomek_2\n",
      "Initiate testing of deepsurv neural network\n",
      "model structure: ANN\n"
     ]
    },
    {
     "name": "stderr",
     "output_type": "stream",
     "text": [
      "2024-11-21 09:28:09,934 - INFO - Event column 'endpoint' updated with focus on event value 1.\n",
      "2024-11-21 09:28:09,935 - INFO - Event column 'endpoint' updated with focus on event value 1.\n"
     ]
    },
    {
     "name": "stdout",
     "output_type": "stream",
     "text": [
      "Prediction completed for deepsurv_ann_smotetomek_2 on fold 3.\n",
      "Initiating prediction for model: deepsurv_lstm_clustering_1\n",
      "Initiate testing of deepsurv neural network\n",
      "model structure: LSTM\n"
     ]
    },
    {
     "name": "stderr",
     "output_type": "stream",
     "text": [
      "2024-11-21 09:28:11,124 - INFO - Validation data retrieved\n",
      "2024-11-21 09:28:11,573 - INFO - Event column 'endpoint' updated with focus on event value 1.\n",
      "2024-11-21 09:28:11,574 - INFO - Event column 'endpoint' updated with focus on event value 1.\n"
     ]
    },
    {
     "name": "stdout",
     "output_type": "stream",
     "text": [
      "Prediction completed for deepsurv_lstm_clustering_1 on fold 3.\n",
      "Initiating prediction for model: deepsurv_lstm_nearmiss_1\n",
      "Initiate testing of deepsurv neural network\n",
      "model structure: LSTM\n"
     ]
    },
    {
     "name": "stderr",
     "output_type": "stream",
     "text": [
      "2024-11-21 09:28:12,767 - INFO - Validation data retrieved\n",
      "2024-11-21 09:28:13,200 - INFO - Event column 'endpoint' updated with focus on event value 2.\n",
      "2024-11-21 09:28:13,201 - INFO - Event column 'endpoint' updated with focus on event value 2.\n"
     ]
    },
    {
     "name": "stdout",
     "output_type": "stream",
     "text": [
      "Prediction completed for deepsurv_lstm_nearmiss_1 on fold 3.\n",
      "Initiating prediction for model: deepsurv_lstm_clustering_2\n",
      "Initiate testing of deepsurv neural network\n",
      "model structure: LSTM\n"
     ]
    },
    {
     "name": "stderr",
     "output_type": "stream",
     "text": [
      "2024-11-21 09:28:17,965 - INFO - Validation data retrieved\n",
      "2024-11-21 09:28:18,357 - INFO - Event column 'endpoint' updated with focus on event value 2.\n",
      "2024-11-21 09:28:18,357 - INFO - Event column 'endpoint' updated with focus on event value 2.\n"
     ]
    },
    {
     "name": "stdout",
     "output_type": "stream",
     "text": [
      "Prediction completed for deepsurv_lstm_clustering_2 on fold 3.\n",
      "Initiating prediction for model: deepsurv_lstm_nearmiss_2\n",
      "Initiate testing of deepsurv neural network\n",
      "model structure: LSTM\n"
     ]
    },
    {
     "name": "stderr",
     "output_type": "stream",
     "text": [
      "2024-11-21 09:28:19,501 - INFO - Validation data retrieved\n"
     ]
    },
    {
     "name": "stdout",
     "output_type": "stream",
     "text": [
      "Prediction completed for deepsurv_lstm_nearmiss_2 on fold 3.\n",
      "Initiating prediction for model: deephit_ann_clustering_all\n",
      "Initiate testing of deephit neural network\n",
      "model structure: ANN\n",
      "prediction complete, please note that prediction of deephit models are CIF.\n",
      "Prediction completed for deephit_ann_clustering_all on fold 3.\n",
      "Initiating prediction for model: deephit_ann_nearmiss2_all\n",
      "Initiate testing of deephit neural network\n",
      "model structure: ANN\n",
      "prediction complete, please note that prediction of deephit models are CIF.\n",
      "Prediction completed for deephit_ann_nearmiss2_all on fold 3.\n",
      "Initiating prediction for model: deephit_lstm_clustering_all\n",
      "Initiate testing of deephit neural network\n",
      "model structure: LSTM\n"
     ]
    },
    {
     "name": "stderr",
     "output_type": "stream",
     "text": [
      "2024-11-21 09:28:21,936 - INFO - Validation data retrieved\n"
     ]
    },
    {
     "name": "stdout",
     "output_type": "stream",
     "text": [
      "prediction complete, please note that prediction of deephit models are CIF.\n",
      "Prediction completed for deephit_lstm_clustering_all on fold 3.\n",
      "Initiating prediction for model: deephit_lstm_nearmiss1_all\n",
      "Initiate testing of deephit neural network\n",
      "model structure: LSTM\n"
     ]
    },
    {
     "name": "stderr",
     "output_type": "stream",
     "text": [
      "2024-11-21 09:28:23,412 - INFO - Validation data retrieved\n",
      "2024-11-21 09:28:23,783 - INFO - Event column 'endpoint' updated with focus on event value 1.\n"
     ]
    },
    {
     "name": "stdout",
     "output_type": "stream",
     "text": [
      "prediction complete, please note that prediction of deephit models are CIF.\n",
      "Prediction completed for deephit_lstm_nearmiss1_all on fold 3.\n",
      "Processing fold 4...\n",
      "Initiating prediction for model: deepsurv_ann_clustering_1\n",
      "Initiate testing of deepsurv neural network\n",
      "model structure: ANN\n"
     ]
    },
    {
     "name": "stderr",
     "output_type": "stream",
     "text": [
      "2024-11-21 09:28:24,162 - INFO - Event column 'endpoint' updated with focus on event value 1.\n"
     ]
    },
    {
     "name": "stdout",
     "output_type": "stream",
     "text": [
      "Prediction completed for deepsurv_ann_clustering_1 on fold 4.\n",
      "Initiating prediction for model: deepsurv_ann_smoteenn_1\n",
      "Initiate testing of deepsurv neural network\n",
      "model structure: ANN\n"
     ]
    },
    {
     "name": "stderr",
     "output_type": "stream",
     "text": [
      "2024-11-21 09:28:25,476 - INFO - Event column 'endpoint' updated with focus on event value 1.\n"
     ]
    },
    {
     "name": "stdout",
     "output_type": "stream",
     "text": [
      "Prediction completed for deepsurv_ann_smoteenn_1 on fold 4.\n",
      "Initiating prediction for model: deepsurv_ann_smotetomek_1\n",
      "Initiate testing of deepsurv neural network\n",
      "model structure: ANN\n"
     ]
    },
    {
     "name": "stderr",
     "output_type": "stream",
     "text": [
      "2024-11-21 09:28:26,702 - INFO - Event column 'endpoint' updated with focus on event value 2.\n"
     ]
    },
    {
     "name": "stdout",
     "output_type": "stream",
     "text": [
      "Prediction completed for deepsurv_ann_smotetomek_1 on fold 4.\n",
      "Initiating prediction for model: deepsurv_ann_clustering_2\n",
      "Initiate testing of deepsurv neural network\n",
      "model structure: ANN\n"
     ]
    },
    {
     "name": "stderr",
     "output_type": "stream",
     "text": [
      "2024-11-21 09:28:27,151 - INFO - Event column 'endpoint' updated with focus on event value 2.\n"
     ]
    },
    {
     "name": "stdout",
     "output_type": "stream",
     "text": [
      "Prediction completed for deepsurv_ann_clustering_2 on fold 4.\n",
      "Initiating prediction for model: deepsurv_ann_smoteenn_2\n",
      "Initiate testing of deepsurv neural network\n",
      "model structure: ANN\n"
     ]
    },
    {
     "name": "stderr",
     "output_type": "stream",
     "text": [
      "2024-11-21 09:28:27,680 - INFO - Event column 'endpoint' updated with focus on event value 2.\n"
     ]
    },
    {
     "name": "stdout",
     "output_type": "stream",
     "text": [
      "Prediction completed for deepsurv_ann_smoteenn_2 on fold 4.\n",
      "Initiating prediction for model: deepsurv_ann_smotetomek_2\n",
      "Initiate testing of deepsurv neural network\n",
      "model structure: ANN\n"
     ]
    },
    {
     "name": "stderr",
     "output_type": "stream",
     "text": [
      "2024-11-21 09:28:28,239 - INFO - Event column 'endpoint' updated with focus on event value 1.\n",
      "2024-11-21 09:28:28,240 - INFO - Event column 'endpoint' updated with focus on event value 1.\n"
     ]
    },
    {
     "name": "stdout",
     "output_type": "stream",
     "text": [
      "Prediction completed for deepsurv_ann_smotetomek_2 on fold 4.\n",
      "Initiating prediction for model: deepsurv_lstm_clustering_1\n",
      "Initiate testing of deepsurv neural network\n",
      "model structure: LSTM\n"
     ]
    },
    {
     "name": "stderr",
     "output_type": "stream",
     "text": [
      "2024-11-21 09:28:29,319 - INFO - Validation data retrieved\n",
      "2024-11-21 09:28:29,733 - INFO - Event column 'endpoint' updated with focus on event value 1.\n",
      "2024-11-21 09:28:29,734 - INFO - Event column 'endpoint' updated with focus on event value 1.\n"
     ]
    },
    {
     "name": "stdout",
     "output_type": "stream",
     "text": [
      "Prediction completed for deepsurv_lstm_clustering_1 on fold 4.\n",
      "Initiating prediction for model: deepsurv_lstm_nearmiss_1\n",
      "Initiate testing of deepsurv neural network\n",
      "model structure: LSTM\n"
     ]
    },
    {
     "name": "stderr",
     "output_type": "stream",
     "text": [
      "2024-11-21 09:28:30,800 - INFO - Validation data retrieved\n",
      "2024-11-21 09:28:31,220 - INFO - Event column 'endpoint' updated with focus on event value 2.\n",
      "2024-11-21 09:28:31,220 - INFO - Event column 'endpoint' updated with focus on event value 2.\n"
     ]
    },
    {
     "name": "stdout",
     "output_type": "stream",
     "text": [
      "Prediction completed for deepsurv_lstm_nearmiss_1 on fold 4.\n",
      "Initiating prediction for model: deepsurv_lstm_clustering_2\n",
      "Initiate testing of deepsurv neural network\n",
      "model structure: LSTM\n"
     ]
    },
    {
     "name": "stderr",
     "output_type": "stream",
     "text": [
      "2024-11-21 09:28:32,271 - INFO - Validation data retrieved\n",
      "2024-11-21 09:28:32,660 - INFO - Event column 'endpoint' updated with focus on event value 2.\n",
      "2024-11-21 09:28:32,660 - INFO - Event column 'endpoint' updated with focus on event value 2.\n"
     ]
    },
    {
     "name": "stdout",
     "output_type": "stream",
     "text": [
      "Prediction completed for deepsurv_lstm_clustering_2 on fold 4.\n",
      "Initiating prediction for model: deepsurv_lstm_nearmiss_2\n",
      "Initiate testing of deepsurv neural network\n",
      "model structure: LSTM\n"
     ]
    },
    {
     "name": "stderr",
     "output_type": "stream",
     "text": [
      "2024-11-21 09:28:33,775 - INFO - Validation data retrieved\n"
     ]
    },
    {
     "name": "stdout",
     "output_type": "stream",
     "text": [
      "Prediction completed for deepsurv_lstm_nearmiss_2 on fold 4.\n",
      "Initiating prediction for model: deephit_ann_clustering_all\n",
      "Initiate testing of deephit neural network\n",
      "model structure: ANN\n",
      "prediction complete, please note that prediction of deephit models are CIF.\n",
      "Prediction completed for deephit_ann_clustering_all on fold 4.\n",
      "Initiating prediction for model: deephit_ann_nearmiss2_all\n",
      "Initiate testing of deephit neural network\n",
      "model structure: ANN\n",
      "prediction complete, please note that prediction of deephit models are CIF.\n",
      "Prediction completed for deephit_ann_nearmiss2_all on fold 4.\n",
      "Initiating prediction for model: deephit_lstm_clustering_all\n",
      "Initiate testing of deephit neural network\n",
      "model structure: LSTM\n"
     ]
    },
    {
     "name": "stderr",
     "output_type": "stream",
     "text": [
      "2024-11-21 09:28:36,132 - INFO - Validation data retrieved\n"
     ]
    },
    {
     "name": "stdout",
     "output_type": "stream",
     "text": [
      "prediction complete, please note that prediction of deephit models are CIF.\n",
      "Prediction completed for deephit_lstm_clustering_all on fold 4.\n",
      "Initiating prediction for model: deephit_lstm_nearmiss1_all\n",
      "Initiate testing of deephit neural network\n",
      "model structure: LSTM\n"
     ]
    },
    {
     "name": "stderr",
     "output_type": "stream",
     "text": [
      "2024-11-21 09:28:37,535 - INFO - Validation data retrieved\n",
      "2024-11-21 09:28:37,909 - INFO - Event column 'endpoint' updated with focus on event value 1.\n"
     ]
    },
    {
     "name": "stdout",
     "output_type": "stream",
     "text": [
      "prediction complete, please note that prediction of deephit models are CIF.\n",
      "Prediction completed for deephit_lstm_nearmiss1_all on fold 4.\n",
      "Processing fold 5...\n",
      "Initiating prediction for model: deepsurv_ann_clustering_1\n",
      "Initiate testing of deepsurv neural network\n",
      "model structure: ANN\n"
     ]
    },
    {
     "name": "stderr",
     "output_type": "stream",
     "text": [
      "2024-11-21 09:28:38,291 - INFO - Event column 'endpoint' updated with focus on event value 1.\n"
     ]
    },
    {
     "name": "stdout",
     "output_type": "stream",
     "text": [
      "Prediction completed for deepsurv_ann_clustering_1 on fold 5.\n",
      "Initiating prediction for model: deepsurv_ann_smoteenn_1\n",
      "Initiate testing of deepsurv neural network\n",
      "model structure: ANN\n"
     ]
    },
    {
     "name": "stderr",
     "output_type": "stream",
     "text": [
      "2024-11-21 09:28:39,595 - INFO - Event column 'endpoint' updated with focus on event value 1.\n"
     ]
    },
    {
     "name": "stdout",
     "output_type": "stream",
     "text": [
      "Prediction completed for deepsurv_ann_smoteenn_1 on fold 5.\n",
      "Initiating prediction for model: deepsurv_ann_smotetomek_1\n",
      "Initiate testing of deepsurv neural network\n",
      "model structure: ANN\n"
     ]
    },
    {
     "name": "stderr",
     "output_type": "stream",
     "text": [
      "2024-11-21 09:28:40,989 - INFO - Event column 'endpoint' updated with focus on event value 2.\n"
     ]
    },
    {
     "name": "stdout",
     "output_type": "stream",
     "text": [
      "Prediction completed for deepsurv_ann_smotetomek_1 on fold 5.\n",
      "Initiating prediction for model: deepsurv_ann_clustering_2\n",
      "Initiate testing of deepsurv neural network\n",
      "model structure: ANN\n"
     ]
    },
    {
     "name": "stderr",
     "output_type": "stream",
     "text": [
      "2024-11-21 09:28:41,425 - INFO - Event column 'endpoint' updated with focus on event value 2.\n"
     ]
    },
    {
     "name": "stdout",
     "output_type": "stream",
     "text": [
      "Prediction completed for deepsurv_ann_clustering_2 on fold 5.\n",
      "Initiating prediction for model: deepsurv_ann_smoteenn_2\n",
      "Initiate testing of deepsurv neural network\n",
      "model structure: ANN\n"
     ]
    },
    {
     "name": "stderr",
     "output_type": "stream",
     "text": [
      "2024-11-21 09:28:41,982 - INFO - Event column 'endpoint' updated with focus on event value 2.\n"
     ]
    },
    {
     "name": "stdout",
     "output_type": "stream",
     "text": [
      "Prediction completed for deepsurv_ann_smoteenn_2 on fold 5.\n",
      "Initiating prediction for model: deepsurv_ann_smotetomek_2\n",
      "Initiate testing of deepsurv neural network\n",
      "model structure: ANN\n"
     ]
    },
    {
     "name": "stderr",
     "output_type": "stream",
     "text": [
      "2024-11-21 09:28:42,630 - INFO - Event column 'endpoint' updated with focus on event value 1.\n",
      "2024-11-21 09:28:42,631 - INFO - Event column 'endpoint' updated with focus on event value 1.\n"
     ]
    },
    {
     "name": "stdout",
     "output_type": "stream",
     "text": [
      "Prediction completed for deepsurv_ann_smotetomek_2 on fold 5.\n",
      "Initiating prediction for model: deepsurv_lstm_clustering_1\n",
      "Initiate testing of deepsurv neural network\n",
      "model structure: LSTM\n"
     ]
    },
    {
     "name": "stderr",
     "output_type": "stream",
     "text": [
      "2024-11-21 09:28:43,790 - INFO - Validation data retrieved\n",
      "2024-11-21 09:28:44,280 - INFO - Event column 'endpoint' updated with focus on event value 1.\n",
      "2024-11-21 09:28:44,281 - INFO - Event column 'endpoint' updated with focus on event value 1.\n"
     ]
    },
    {
     "name": "stdout",
     "output_type": "stream",
     "text": [
      "Prediction completed for deepsurv_lstm_clustering_1 on fold 5.\n",
      "Initiating prediction for model: deepsurv_lstm_nearmiss_1\n",
      "Initiate testing of deepsurv neural network\n",
      "model structure: LSTM\n"
     ]
    },
    {
     "name": "stderr",
     "output_type": "stream",
     "text": [
      "2024-11-21 09:28:45,399 - INFO - Validation data retrieved\n",
      "2024-11-21 09:28:45,814 - INFO - Event column 'endpoint' updated with focus on event value 2.\n",
      "2024-11-21 09:28:45,814 - INFO - Event column 'endpoint' updated with focus on event value 2.\n"
     ]
    },
    {
     "name": "stdout",
     "output_type": "stream",
     "text": [
      "Prediction completed for deepsurv_lstm_nearmiss_1 on fold 5.\n",
      "Initiating prediction for model: deepsurv_lstm_clustering_2\n",
      "Initiate testing of deepsurv neural network\n",
      "model structure: LSTM\n"
     ]
    },
    {
     "name": "stderr",
     "output_type": "stream",
     "text": [
      "2024-11-21 09:28:46,903 - INFO - Validation data retrieved\n",
      "2024-11-21 09:28:47,296 - INFO - Event column 'endpoint' updated with focus on event value 2.\n",
      "2024-11-21 09:28:47,297 - INFO - Event column 'endpoint' updated with focus on event value 2.\n"
     ]
    },
    {
     "name": "stdout",
     "output_type": "stream",
     "text": [
      "Prediction completed for deepsurv_lstm_clustering_2 on fold 5.\n",
      "Initiating prediction for model: deepsurv_lstm_nearmiss_2\n",
      "Initiate testing of deepsurv neural network\n",
      "model structure: LSTM\n"
     ]
    },
    {
     "name": "stderr",
     "output_type": "stream",
     "text": [
      "2024-11-21 09:28:48,419 - INFO - Validation data retrieved\n"
     ]
    },
    {
     "name": "stdout",
     "output_type": "stream",
     "text": [
      "Prediction completed for deepsurv_lstm_nearmiss_2 on fold 5.\n",
      "Initiating prediction for model: deephit_ann_clustering_all\n",
      "Initiate testing of deephit neural network\n",
      "model structure: ANN\n",
      "prediction complete, please note that prediction of deephit models are CIF.\n",
      "Prediction completed for deephit_ann_clustering_all on fold 5.\n",
      "Initiating prediction for model: deephit_ann_nearmiss2_all\n",
      "Initiate testing of deephit neural network\n",
      "model structure: ANN\n",
      "prediction complete, please note that prediction of deephit models are CIF.\n",
      "Prediction completed for deephit_ann_nearmiss2_all on fold 5.\n",
      "Initiating prediction for model: deephit_lstm_clustering_all\n",
      "Initiate testing of deephit neural network\n",
      "model structure: LSTM\n"
     ]
    },
    {
     "name": "stderr",
     "output_type": "stream",
     "text": [
      "2024-11-21 09:28:54,418 - INFO - Validation data retrieved\n"
     ]
    },
    {
     "name": "stdout",
     "output_type": "stream",
     "text": [
      "prediction complete, please note that prediction of deephit models are CIF.\n",
      "Prediction completed for deephit_lstm_clustering_all on fold 5.\n",
      "Initiating prediction for model: deephit_lstm_nearmiss1_all\n",
      "Initiate testing of deephit neural network\n",
      "model structure: LSTM\n"
     ]
    },
    {
     "name": "stderr",
     "output_type": "stream",
     "text": [
      "2024-11-21 09:28:55,835 - INFO - Validation data retrieved\n",
      "2024-11-21 09:28:56,211 - INFO - Event column 'endpoint' updated with focus on event value 1.\n"
     ]
    },
    {
     "name": "stdout",
     "output_type": "stream",
     "text": [
      "prediction complete, please note that prediction of deephit models are CIF.\n",
      "Prediction completed for deephit_lstm_nearmiss1_all on fold 5.\n",
      "Processing fold 6...\n",
      "Initiating prediction for model: deepsurv_ann_clustering_1\n",
      "Initiate testing of deepsurv neural network\n",
      "model structure: ANN\n"
     ]
    },
    {
     "name": "stderr",
     "output_type": "stream",
     "text": [
      "2024-11-21 09:28:56,599 - INFO - Event column 'endpoint' updated with focus on event value 1.\n"
     ]
    },
    {
     "name": "stdout",
     "output_type": "stream",
     "text": [
      "Prediction completed for deepsurv_ann_clustering_1 on fold 6.\n",
      "Initiating prediction for model: deepsurv_ann_smoteenn_1\n",
      "Initiate testing of deepsurv neural network\n",
      "model structure: ANN\n"
     ]
    },
    {
     "name": "stderr",
     "output_type": "stream",
     "text": [
      "2024-11-21 09:28:57,982 - INFO - Event column 'endpoint' updated with focus on event value 1.\n"
     ]
    },
    {
     "name": "stdout",
     "output_type": "stream",
     "text": [
      "Prediction completed for deepsurv_ann_smoteenn_1 on fold 6.\n",
      "Initiating prediction for model: deepsurv_ann_smotetomek_1\n",
      "Initiate testing of deepsurv neural network\n",
      "model structure: ANN\n"
     ]
    },
    {
     "name": "stderr",
     "output_type": "stream",
     "text": [
      "2024-11-21 09:28:59,312 - INFO - Event column 'endpoint' updated with focus on event value 2.\n"
     ]
    },
    {
     "name": "stdout",
     "output_type": "stream",
     "text": [
      "Prediction completed for deepsurv_ann_smotetomek_1 on fold 6.\n",
      "Initiating prediction for model: deepsurv_ann_clustering_2\n",
      "Initiate testing of deepsurv neural network\n",
      "model structure: ANN\n"
     ]
    },
    {
     "name": "stderr",
     "output_type": "stream",
     "text": [
      "2024-11-21 09:28:59,742 - INFO - Event column 'endpoint' updated with focus on event value 2.\n"
     ]
    },
    {
     "name": "stdout",
     "output_type": "stream",
     "text": [
      "Prediction completed for deepsurv_ann_clustering_2 on fold 6.\n",
      "Initiating prediction for model: deepsurv_ann_smoteenn_2\n",
      "Initiate testing of deepsurv neural network\n",
      "model structure: ANN\n"
     ]
    },
    {
     "name": "stderr",
     "output_type": "stream",
     "text": [
      "2024-11-21 09:29:00,303 - INFO - Event column 'endpoint' updated with focus on event value 2.\n"
     ]
    },
    {
     "name": "stdout",
     "output_type": "stream",
     "text": [
      "Prediction completed for deepsurv_ann_smoteenn_2 on fold 6.\n",
      "Initiating prediction for model: deepsurv_ann_smotetomek_2\n",
      "Initiate testing of deepsurv neural network\n",
      "model structure: ANN\n"
     ]
    },
    {
     "name": "stderr",
     "output_type": "stream",
     "text": [
      "2024-11-21 09:29:00,905 - INFO - Event column 'endpoint' updated with focus on event value 1.\n",
      "2024-11-21 09:29:00,906 - INFO - Event column 'endpoint' updated with focus on event value 1.\n"
     ]
    },
    {
     "name": "stdout",
     "output_type": "stream",
     "text": [
      "Prediction completed for deepsurv_ann_smotetomek_2 on fold 6.\n",
      "Initiating prediction for model: deepsurv_lstm_clustering_1\n",
      "Initiate testing of deepsurv neural network\n",
      "model structure: LSTM\n"
     ]
    },
    {
     "name": "stderr",
     "output_type": "stream",
     "text": [
      "2024-11-21 09:29:02,114 - INFO - Validation data retrieved\n",
      "2024-11-21 09:29:02,531 - INFO - Event column 'endpoint' updated with focus on event value 1.\n",
      "2024-11-21 09:29:02,532 - INFO - Event column 'endpoint' updated with focus on event value 1.\n"
     ]
    },
    {
     "name": "stdout",
     "output_type": "stream",
     "text": [
      "Prediction completed for deepsurv_lstm_clustering_1 on fold 6.\n",
      "Initiating prediction for model: deepsurv_lstm_nearmiss_1\n",
      "Initiate testing of deepsurv neural network\n",
      "model structure: LSTM\n"
     ]
    },
    {
     "name": "stderr",
     "output_type": "stream",
     "text": [
      "2024-11-21 09:29:03,685 - INFO - Validation data retrieved\n",
      "2024-11-21 09:29:04,090 - INFO - Event column 'endpoint' updated with focus on event value 2.\n",
      "2024-11-21 09:29:04,091 - INFO - Event column 'endpoint' updated with focus on event value 2.\n"
     ]
    },
    {
     "name": "stdout",
     "output_type": "stream",
     "text": [
      "Prediction completed for deepsurv_lstm_nearmiss_1 on fold 6.\n",
      "Initiating prediction for model: deepsurv_lstm_clustering_2\n",
      "Initiate testing of deepsurv neural network\n",
      "model structure: LSTM\n"
     ]
    },
    {
     "name": "stderr",
     "output_type": "stream",
     "text": [
      "2024-11-21 09:29:05,274 - INFO - Validation data retrieved\n",
      "2024-11-21 09:29:05,675 - INFO - Event column 'endpoint' updated with focus on event value 2.\n",
      "2024-11-21 09:29:05,676 - INFO - Event column 'endpoint' updated with focus on event value 2.\n"
     ]
    },
    {
     "name": "stdout",
     "output_type": "stream",
     "text": [
      "Prediction completed for deepsurv_lstm_clustering_2 on fold 6.\n",
      "Initiating prediction for model: deepsurv_lstm_nearmiss_2\n",
      "Initiate testing of deepsurv neural network\n",
      "model structure: LSTM\n"
     ]
    },
    {
     "name": "stderr",
     "output_type": "stream",
     "text": [
      "2024-11-21 09:29:06,880 - INFO - Validation data retrieved\n"
     ]
    },
    {
     "name": "stdout",
     "output_type": "stream",
     "text": [
      "Prediction completed for deepsurv_lstm_nearmiss_2 on fold 6.\n",
      "Initiating prediction for model: deephit_ann_clustering_all\n",
      "Initiate testing of deephit neural network\n",
      "model structure: ANN\n",
      "prediction complete, please note that prediction of deephit models are CIF.\n",
      "Prediction completed for deephit_ann_clustering_all on fold 6.\n",
      "Initiating prediction for model: deephit_ann_nearmiss2_all\n",
      "Initiate testing of deephit neural network\n",
      "model structure: ANN\n",
      "prediction complete, please note that prediction of deephit models are CIF.\n",
      "Prediction completed for deephit_ann_nearmiss2_all on fold 6.\n",
      "Initiating prediction for model: deephit_lstm_clustering_all\n",
      "Initiate testing of deephit neural network\n",
      "model structure: LSTM\n"
     ]
    },
    {
     "name": "stderr",
     "output_type": "stream",
     "text": [
      "2024-11-21 09:29:09,386 - INFO - Validation data retrieved\n"
     ]
    },
    {
     "name": "stdout",
     "output_type": "stream",
     "text": [
      "prediction complete, please note that prediction of deephit models are CIF.\n",
      "Prediction completed for deephit_lstm_clustering_all on fold 6.\n",
      "Initiating prediction for model: deephit_lstm_nearmiss1_all\n",
      "Initiate testing of deephit neural network\n",
      "model structure: LSTM\n"
     ]
    },
    {
     "name": "stderr",
     "output_type": "stream",
     "text": [
      "2024-11-21 09:29:10,891 - INFO - Validation data retrieved\n",
      "2024-11-21 09:29:11,249 - INFO - Event column 'endpoint' updated with focus on event value 1.\n"
     ]
    },
    {
     "name": "stdout",
     "output_type": "stream",
     "text": [
      "prediction complete, please note that prediction of deephit models are CIF.\n",
      "Prediction completed for deephit_lstm_nearmiss1_all on fold 6.\n",
      "Processing fold 7...\n",
      "Initiating prediction for model: deepsurv_ann_clustering_1\n",
      "Initiate testing of deepsurv neural network\n",
      "model structure: ANN\n"
     ]
    },
    {
     "name": "stderr",
     "output_type": "stream",
     "text": [
      "2024-11-21 09:29:11,650 - INFO - Event column 'endpoint' updated with focus on event value 1.\n"
     ]
    },
    {
     "name": "stdout",
     "output_type": "stream",
     "text": [
      "Prediction completed for deepsurv_ann_clustering_1 on fold 7.\n",
      "Initiating prediction for model: deepsurv_ann_smoteenn_1\n",
      "Initiate testing of deepsurv neural network\n",
      "model structure: ANN\n"
     ]
    },
    {
     "name": "stderr",
     "output_type": "stream",
     "text": [
      "2024-11-21 09:29:13,004 - INFO - Event column 'endpoint' updated with focus on event value 1.\n"
     ]
    },
    {
     "name": "stdout",
     "output_type": "stream",
     "text": [
      "Prediction completed for deepsurv_ann_smoteenn_1 on fold 7.\n",
      "Initiating prediction for model: deepsurv_ann_smotetomek_1\n",
      "Initiate testing of deepsurv neural network\n",
      "model structure: ANN\n"
     ]
    },
    {
     "name": "stderr",
     "output_type": "stream",
     "text": [
      "2024-11-21 09:29:14,234 - INFO - Event column 'endpoint' updated with focus on event value 2.\n"
     ]
    },
    {
     "name": "stdout",
     "output_type": "stream",
     "text": [
      "Prediction completed for deepsurv_ann_smotetomek_1 on fold 7.\n",
      "Initiating prediction for model: deepsurv_ann_clustering_2\n",
      "Initiate testing of deepsurv neural network\n",
      "model structure: ANN\n"
     ]
    },
    {
     "name": "stderr",
     "output_type": "stream",
     "text": [
      "2024-11-21 09:29:14,771 - INFO - Event column 'endpoint' updated with focus on event value 2.\n"
     ]
    },
    {
     "name": "stdout",
     "output_type": "stream",
     "text": [
      "Prediction completed for deepsurv_ann_clustering_2 on fold 7.\n",
      "Initiating prediction for model: deepsurv_ann_smoteenn_2\n",
      "Initiate testing of deepsurv neural network\n",
      "model structure: ANN\n"
     ]
    },
    {
     "name": "stderr",
     "output_type": "stream",
     "text": [
      "2024-11-21 09:29:15,331 - INFO - Event column 'endpoint' updated with focus on event value 2.\n"
     ]
    },
    {
     "name": "stdout",
     "output_type": "stream",
     "text": [
      "Prediction completed for deepsurv_ann_smoteenn_2 on fold 7.\n",
      "Initiating prediction for model: deepsurv_ann_smotetomek_2\n",
      "Initiate testing of deepsurv neural network\n",
      "model structure: ANN\n"
     ]
    },
    {
     "name": "stderr",
     "output_type": "stream",
     "text": [
      "2024-11-21 09:29:15,936 - INFO - Event column 'endpoint' updated with focus on event value 1.\n",
      "2024-11-21 09:29:15,937 - INFO - Event column 'endpoint' updated with focus on event value 1.\n"
     ]
    },
    {
     "name": "stdout",
     "output_type": "stream",
     "text": [
      "Prediction completed for deepsurv_ann_smotetomek_2 on fold 7.\n",
      "Initiating prediction for model: deepsurv_lstm_clustering_1\n",
      "Initiate testing of deepsurv neural network\n",
      "model structure: LSTM\n"
     ]
    },
    {
     "name": "stderr",
     "output_type": "stream",
     "text": [
      "2024-11-21 09:29:17,083 - INFO - Validation data retrieved\n",
      "2024-11-21 09:29:17,501 - INFO - Event column 'endpoint' updated with focus on event value 1.\n",
      "2024-11-21 09:29:17,502 - INFO - Event column 'endpoint' updated with focus on event value 1.\n"
     ]
    },
    {
     "name": "stdout",
     "output_type": "stream",
     "text": [
      "Prediction completed for deepsurv_lstm_clustering_1 on fold 7.\n",
      "Initiating prediction for model: deepsurv_lstm_nearmiss_1\n",
      "Initiate testing of deepsurv neural network\n",
      "model structure: LSTM\n"
     ]
    },
    {
     "name": "stderr",
     "output_type": "stream",
     "text": [
      "2024-11-21 09:29:18,589 - INFO - Validation data retrieved\n",
      "2024-11-21 09:29:19,016 - INFO - Event column 'endpoint' updated with focus on event value 2.\n",
      "2024-11-21 09:29:19,017 - INFO - Event column 'endpoint' updated with focus on event value 2.\n"
     ]
    },
    {
     "name": "stdout",
     "output_type": "stream",
     "text": [
      "Prediction completed for deepsurv_lstm_nearmiss_1 on fold 7.\n",
      "Initiating prediction for model: deepsurv_lstm_clustering_2\n",
      "Initiate testing of deepsurv neural network\n",
      "model structure: LSTM\n"
     ]
    },
    {
     "name": "stderr",
     "output_type": "stream",
     "text": [
      "2024-11-21 09:29:20,076 - INFO - Validation data retrieved\n",
      "2024-11-21 09:29:20,453 - INFO - Event column 'endpoint' updated with focus on event value 2.\n",
      "2024-11-21 09:29:20,454 - INFO - Event column 'endpoint' updated with focus on event value 2.\n"
     ]
    },
    {
     "name": "stdout",
     "output_type": "stream",
     "text": [
      "Prediction completed for deepsurv_lstm_clustering_2 on fold 7.\n",
      "Initiating prediction for model: deepsurv_lstm_nearmiss_2\n",
      "Initiate testing of deepsurv neural network\n",
      "model structure: LSTM\n"
     ]
    },
    {
     "name": "stderr",
     "output_type": "stream",
     "text": [
      "2024-11-21 09:29:21,569 - INFO - Validation data retrieved\n"
     ]
    },
    {
     "name": "stdout",
     "output_type": "stream",
     "text": [
      "Prediction completed for deepsurv_lstm_nearmiss_2 on fold 7.\n",
      "Initiating prediction for model: deephit_ann_clustering_all\n",
      "Initiate testing of deephit neural network\n",
      "model structure: ANN\n",
      "prediction complete, please note that prediction of deephit models are CIF.\n",
      "Prediction completed for deephit_ann_clustering_all on fold 7.\n",
      "Initiating prediction for model: deephit_ann_nearmiss2_all\n",
      "Initiate testing of deephit neural network\n",
      "model structure: ANN\n",
      "prediction complete, please note that prediction of deephit models are CIF.\n",
      "Prediction completed for deephit_ann_nearmiss2_all on fold 7.\n",
      "Initiating prediction for model: deephit_lstm_clustering_all\n",
      "Initiate testing of deephit neural network\n",
      "model structure: LSTM\n"
     ]
    },
    {
     "name": "stderr",
     "output_type": "stream",
     "text": [
      "2024-11-21 09:29:23,947 - INFO - Validation data retrieved\n"
     ]
    },
    {
     "name": "stdout",
     "output_type": "stream",
     "text": [
      "prediction complete, please note that prediction of deephit models are CIF.\n",
      "Prediction completed for deephit_lstm_clustering_all on fold 7.\n",
      "Initiating prediction for model: deephit_lstm_nearmiss1_all\n",
      "Initiate testing of deephit neural network\n",
      "model structure: LSTM\n"
     ]
    },
    {
     "name": "stderr",
     "output_type": "stream",
     "text": [
      "2024-11-21 09:29:25,382 - INFO - Validation data retrieved\n",
      "2024-11-21 09:29:25,742 - INFO - Event column 'endpoint' updated with focus on event value 1.\n"
     ]
    },
    {
     "name": "stdout",
     "output_type": "stream",
     "text": [
      "prediction complete, please note that prediction of deephit models are CIF.\n",
      "Prediction completed for deephit_lstm_nearmiss1_all on fold 7.\n",
      "Processing fold 8...\n",
      "Initiating prediction for model: deepsurv_ann_clustering_1\n",
      "Initiate testing of deepsurv neural network\n",
      "model structure: ANN\n"
     ]
    },
    {
     "name": "stderr",
     "output_type": "stream",
     "text": [
      "2024-11-21 09:29:29,762 - INFO - Event column 'endpoint' updated with focus on event value 1.\n"
     ]
    },
    {
     "name": "stdout",
     "output_type": "stream",
     "text": [
      "Prediction completed for deepsurv_ann_clustering_1 on fold 8.\n",
      "Initiating prediction for model: deepsurv_ann_smoteenn_1\n",
      "Initiate testing of deepsurv neural network\n",
      "model structure: ANN\n"
     ]
    },
    {
     "name": "stderr",
     "output_type": "stream",
     "text": [
      "2024-11-21 09:29:31,119 - INFO - Event column 'endpoint' updated with focus on event value 1.\n"
     ]
    },
    {
     "name": "stdout",
     "output_type": "stream",
     "text": [
      "Prediction completed for deepsurv_ann_smoteenn_1 on fold 8.\n",
      "Initiating prediction for model: deepsurv_ann_smotetomek_1\n",
      "Initiate testing of deepsurv neural network\n",
      "model structure: ANN\n"
     ]
    },
    {
     "name": "stderr",
     "output_type": "stream",
     "text": [
      "2024-11-21 09:29:32,404 - INFO - Event column 'endpoint' updated with focus on event value 2.\n"
     ]
    },
    {
     "name": "stdout",
     "output_type": "stream",
     "text": [
      "Prediction completed for deepsurv_ann_smotetomek_1 on fold 8.\n",
      "Initiating prediction for model: deepsurv_ann_clustering_2\n",
      "Initiate testing of deepsurv neural network\n",
      "model structure: ANN\n"
     ]
    },
    {
     "name": "stderr",
     "output_type": "stream",
     "text": [
      "2024-11-21 09:29:32,859 - INFO - Event column 'endpoint' updated with focus on event value 2.\n"
     ]
    },
    {
     "name": "stdout",
     "output_type": "stream",
     "text": [
      "Prediction completed for deepsurv_ann_clustering_2 on fold 8.\n",
      "Initiating prediction for model: deepsurv_ann_smoteenn_2\n",
      "Initiate testing of deepsurv neural network\n",
      "model structure: ANN\n"
     ]
    },
    {
     "name": "stderr",
     "output_type": "stream",
     "text": [
      "2024-11-21 09:29:33,390 - INFO - Event column 'endpoint' updated with focus on event value 2.\n"
     ]
    },
    {
     "name": "stdout",
     "output_type": "stream",
     "text": [
      "Prediction completed for deepsurv_ann_smoteenn_2 on fold 8.\n",
      "Initiating prediction for model: deepsurv_ann_smotetomek_2\n",
      "Initiate testing of deepsurv neural network\n",
      "model structure: ANN\n"
     ]
    },
    {
     "name": "stderr",
     "output_type": "stream",
     "text": [
      "2024-11-21 09:29:33,947 - INFO - Event column 'endpoint' updated with focus on event value 1.\n",
      "2024-11-21 09:29:33,948 - INFO - Event column 'endpoint' updated with focus on event value 1.\n"
     ]
    },
    {
     "name": "stdout",
     "output_type": "stream",
     "text": [
      "Prediction completed for deepsurv_ann_smotetomek_2 on fold 8.\n",
      "Initiating prediction for model: deepsurv_lstm_clustering_1\n",
      "Initiate testing of deepsurv neural network\n",
      "model structure: LSTM\n"
     ]
    },
    {
     "name": "stderr",
     "output_type": "stream",
     "text": [
      "2024-11-21 09:29:35,096 - INFO - Validation data retrieved\n",
      "2024-11-21 09:29:35,489 - INFO - Event column 'endpoint' updated with focus on event value 1.\n",
      "2024-11-21 09:29:35,490 - INFO - Event column 'endpoint' updated with focus on event value 1.\n"
     ]
    },
    {
     "name": "stdout",
     "output_type": "stream",
     "text": [
      "Prediction completed for deepsurv_lstm_clustering_1 on fold 8.\n",
      "Initiating prediction for model: deepsurv_lstm_nearmiss_1\n",
      "Initiate testing of deepsurv neural network\n",
      "model structure: LSTM\n"
     ]
    },
    {
     "name": "stderr",
     "output_type": "stream",
     "text": [
      "2024-11-21 09:29:36,645 - INFO - Validation data retrieved\n",
      "2024-11-21 09:29:37,060 - INFO - Event column 'endpoint' updated with focus on event value 2.\n",
      "2024-11-21 09:29:37,060 - INFO - Event column 'endpoint' updated with focus on event value 2.\n"
     ]
    },
    {
     "name": "stdout",
     "output_type": "stream",
     "text": [
      "Prediction completed for deepsurv_lstm_nearmiss_1 on fold 8.\n",
      "Initiating prediction for model: deepsurv_lstm_clustering_2\n",
      "Initiate testing of deepsurv neural network\n",
      "model structure: LSTM\n"
     ]
    },
    {
     "name": "stderr",
     "output_type": "stream",
     "text": [
      "2024-11-21 09:29:38,197 - INFO - Validation data retrieved\n",
      "2024-11-21 09:29:38,592 - INFO - Event column 'endpoint' updated with focus on event value 2.\n",
      "2024-11-21 09:29:38,593 - INFO - Event column 'endpoint' updated with focus on event value 2.\n"
     ]
    },
    {
     "name": "stdout",
     "output_type": "stream",
     "text": [
      "Prediction completed for deepsurv_lstm_clustering_2 on fold 8.\n",
      "Initiating prediction for model: deepsurv_lstm_nearmiss_2\n",
      "Initiate testing of deepsurv neural network\n",
      "model structure: LSTM\n"
     ]
    },
    {
     "name": "stderr",
     "output_type": "stream",
     "text": [
      "2024-11-21 09:29:39,783 - INFO - Validation data retrieved\n"
     ]
    },
    {
     "name": "stdout",
     "output_type": "stream",
     "text": [
      "Prediction completed for deepsurv_lstm_nearmiss_2 on fold 8.\n",
      "Initiating prediction for model: deephit_ann_clustering_all\n",
      "Initiate testing of deephit neural network\n",
      "model structure: ANN\n",
      "prediction complete, please note that prediction of deephit models are CIF.\n",
      "Prediction completed for deephit_ann_clustering_all on fold 8.\n",
      "Initiating prediction for model: deephit_ann_nearmiss2_all\n",
      "Initiate testing of deephit neural network\n",
      "model structure: ANN\n",
      "prediction complete, please note that prediction of deephit models are CIF.\n",
      "Prediction completed for deephit_ann_nearmiss2_all on fold 8.\n",
      "Initiating prediction for model: deephit_lstm_clustering_all\n",
      "Initiate testing of deephit neural network\n",
      "model structure: LSTM\n"
     ]
    },
    {
     "name": "stderr",
     "output_type": "stream",
     "text": [
      "2024-11-21 09:29:42,232 - INFO - Validation data retrieved\n"
     ]
    },
    {
     "name": "stdout",
     "output_type": "stream",
     "text": [
      "prediction complete, please note that prediction of deephit models are CIF.\n",
      "Prediction completed for deephit_lstm_clustering_all on fold 8.\n",
      "Initiating prediction for model: deephit_lstm_nearmiss1_all\n",
      "Initiate testing of deephit neural network\n",
      "model structure: LSTM\n"
     ]
    },
    {
     "name": "stderr",
     "output_type": "stream",
     "text": [
      "2024-11-21 09:29:43,713 - INFO - Validation data retrieved\n",
      "2024-11-21 09:29:44,062 - INFO - Event column 'endpoint' updated with focus on event value 1.\n"
     ]
    },
    {
     "name": "stdout",
     "output_type": "stream",
     "text": [
      "prediction complete, please note that prediction of deephit models are CIF.\n",
      "Prediction completed for deephit_lstm_nearmiss1_all on fold 8.\n",
      "Processing fold 9...\n",
      "Initiating prediction for model: deepsurv_ann_clustering_1\n",
      "Initiate testing of deepsurv neural network\n",
      "model structure: ANN\n"
     ]
    },
    {
     "name": "stderr",
     "output_type": "stream",
     "text": [
      "2024-11-21 09:29:44,465 - INFO - Event column 'endpoint' updated with focus on event value 1.\n"
     ]
    },
    {
     "name": "stdout",
     "output_type": "stream",
     "text": [
      "Prediction completed for deepsurv_ann_clustering_1 on fold 9.\n",
      "Initiating prediction for model: deepsurv_ann_smoteenn_1\n",
      "Initiate testing of deepsurv neural network\n",
      "model structure: ANN\n"
     ]
    },
    {
     "name": "stderr",
     "output_type": "stream",
     "text": [
      "2024-11-21 09:29:45,863 - INFO - Event column 'endpoint' updated with focus on event value 1.\n"
     ]
    },
    {
     "name": "stdout",
     "output_type": "stream",
     "text": [
      "Prediction completed for deepsurv_ann_smoteenn_1 on fold 9.\n",
      "Initiating prediction for model: deepsurv_ann_smotetomek_1\n",
      "Initiate testing of deepsurv neural network\n",
      "model structure: ANN\n"
     ]
    },
    {
     "name": "stderr",
     "output_type": "stream",
     "text": [
      "2024-11-21 09:29:47,196 - INFO - Event column 'endpoint' updated with focus on event value 2.\n"
     ]
    },
    {
     "name": "stdout",
     "output_type": "stream",
     "text": [
      "Prediction completed for deepsurv_ann_smotetomek_1 on fold 9.\n",
      "Initiating prediction for model: deepsurv_ann_clustering_2\n",
      "Initiate testing of deepsurv neural network\n",
      "model structure: ANN\n"
     ]
    },
    {
     "name": "stderr",
     "output_type": "stream",
     "text": [
      "2024-11-21 09:29:47,669 - INFO - Event column 'endpoint' updated with focus on event value 2.\n"
     ]
    },
    {
     "name": "stdout",
     "output_type": "stream",
     "text": [
      "Prediction completed for deepsurv_ann_clustering_2 on fold 9.\n",
      "Initiating prediction for model: deepsurv_ann_smoteenn_2\n",
      "Initiate testing of deepsurv neural network\n",
      "model structure: ANN\n"
     ]
    },
    {
     "name": "stderr",
     "output_type": "stream",
     "text": [
      "2024-11-21 09:29:48,259 - INFO - Event column 'endpoint' updated with focus on event value 2.\n"
     ]
    },
    {
     "name": "stdout",
     "output_type": "stream",
     "text": [
      "Prediction completed for deepsurv_ann_smoteenn_2 on fold 9.\n",
      "Initiating prediction for model: deepsurv_ann_smotetomek_2\n",
      "Initiate testing of deepsurv neural network\n",
      "model structure: ANN\n"
     ]
    },
    {
     "name": "stderr",
     "output_type": "stream",
     "text": [
      "2024-11-21 09:29:48,824 - INFO - Event column 'endpoint' updated with focus on event value 1.\n",
      "2024-11-21 09:29:48,825 - INFO - Event column 'endpoint' updated with focus on event value 1.\n"
     ]
    },
    {
     "name": "stdout",
     "output_type": "stream",
     "text": [
      "Prediction completed for deepsurv_ann_smotetomek_2 on fold 9.\n",
      "Initiating prediction for model: deepsurv_lstm_clustering_1\n",
      "Initiate testing of deepsurv neural network\n",
      "model structure: LSTM\n"
     ]
    },
    {
     "name": "stderr",
     "output_type": "stream",
     "text": [
      "2024-11-21 09:29:50,049 - INFO - Validation data retrieved\n",
      "2024-11-21 09:29:50,449 - INFO - Event column 'endpoint' updated with focus on event value 1.\n",
      "2024-11-21 09:29:50,450 - INFO - Event column 'endpoint' updated with focus on event value 1.\n"
     ]
    },
    {
     "name": "stdout",
     "output_type": "stream",
     "text": [
      "Prediction completed for deepsurv_lstm_clustering_1 on fold 9.\n",
      "Initiating prediction for model: deepsurv_lstm_nearmiss_1\n",
      "Initiate testing of deepsurv neural network\n",
      "model structure: LSTM\n"
     ]
    },
    {
     "name": "stderr",
     "output_type": "stream",
     "text": [
      "2024-11-21 09:29:51,614 - INFO - Validation data retrieved\n",
      "2024-11-21 09:29:52,020 - INFO - Event column 'endpoint' updated with focus on event value 2.\n",
      "2024-11-21 09:29:52,021 - INFO - Event column 'endpoint' updated with focus on event value 2.\n"
     ]
    },
    {
     "name": "stdout",
     "output_type": "stream",
     "text": [
      "Prediction completed for deepsurv_lstm_nearmiss_1 on fold 9.\n",
      "Initiating prediction for model: deepsurv_lstm_clustering_2\n",
      "Initiate testing of deepsurv neural network\n",
      "model structure: LSTM\n"
     ]
    },
    {
     "name": "stderr",
     "output_type": "stream",
     "text": [
      "2024-11-21 09:29:53,177 - INFO - Validation data retrieved\n",
      "2024-11-21 09:29:53,589 - INFO - Event column 'endpoint' updated with focus on event value 2.\n",
      "2024-11-21 09:29:53,589 - INFO - Event column 'endpoint' updated with focus on event value 2.\n"
     ]
    },
    {
     "name": "stdout",
     "output_type": "stream",
     "text": [
      "Prediction completed for deepsurv_lstm_clustering_2 on fold 9.\n",
      "Initiating prediction for model: deepsurv_lstm_nearmiss_2\n",
      "Initiate testing of deepsurv neural network\n",
      "model structure: LSTM\n"
     ]
    },
    {
     "name": "stderr",
     "output_type": "stream",
     "text": [
      "2024-11-21 09:29:54,796 - INFO - Validation data retrieved\n"
     ]
    },
    {
     "name": "stdout",
     "output_type": "stream",
     "text": [
      "Prediction completed for deepsurv_lstm_nearmiss_2 on fold 9.\n",
      "Initiating prediction for model: deephit_ann_clustering_all\n",
      "Initiate testing of deephit neural network\n",
      "model structure: ANN\n",
      "prediction complete, please note that prediction of deephit models are CIF.\n",
      "Prediction completed for deephit_ann_clustering_all on fold 9.\n",
      "Initiating prediction for model: deephit_ann_nearmiss2_all\n",
      "Initiate testing of deephit neural network\n",
      "model structure: ANN\n",
      "prediction complete, please note that prediction of deephit models are CIF.\n",
      "Prediction completed for deephit_ann_nearmiss2_all on fold 9.\n",
      "Initiating prediction for model: deephit_lstm_clustering_all\n",
      "Initiate testing of deephit neural network\n",
      "model structure: LSTM\n"
     ]
    },
    {
     "name": "stderr",
     "output_type": "stream",
     "text": [
      "2024-11-21 09:29:57,309 - INFO - Validation data retrieved\n"
     ]
    },
    {
     "name": "stdout",
     "output_type": "stream",
     "text": [
      "prediction complete, please note that prediction of deephit models are CIF.\n",
      "Prediction completed for deephit_lstm_clustering_all on fold 9.\n",
      "Initiating prediction for model: deephit_lstm_nearmiss1_all\n",
      "Initiate testing of deephit neural network\n",
      "model structure: LSTM\n"
     ]
    },
    {
     "name": "stderr",
     "output_type": "stream",
     "text": [
      "2024-11-21 09:29:58,809 - INFO - Validation data retrieved\n",
      "2024-11-21 09:29:59,165 - INFO - Event column 'endpoint' updated with focus on event value 1.\n"
     ]
    },
    {
     "name": "stdout",
     "output_type": "stream",
     "text": [
      "prediction complete, please note that prediction of deephit models are CIF.\n",
      "Prediction completed for deephit_lstm_nearmiss1_all on fold 9.\n",
      "Processing fold 10...\n",
      "Initiating prediction for model: deepsurv_ann_clustering_1\n",
      "Initiate testing of deepsurv neural network\n",
      "model structure: ANN\n"
     ]
    },
    {
     "name": "stderr",
     "output_type": "stream",
     "text": [
      "2024-11-21 09:29:59,574 - INFO - Event column 'endpoint' updated with focus on event value 1.\n"
     ]
    },
    {
     "name": "stdout",
     "output_type": "stream",
     "text": [
      "Prediction completed for deepsurv_ann_clustering_1 on fold 10.\n",
      "Initiating prediction for model: deepsurv_ann_smoteenn_1\n",
      "Initiate testing of deepsurv neural network\n",
      "model structure: ANN\n"
     ]
    },
    {
     "name": "stderr",
     "output_type": "stream",
     "text": [
      "2024-11-21 09:30:00,844 - INFO - Event column 'endpoint' updated with focus on event value 1.\n"
     ]
    },
    {
     "name": "stdout",
     "output_type": "stream",
     "text": [
      "Prediction completed for deepsurv_ann_smoteenn_1 on fold 10.\n",
      "Initiating prediction for model: deepsurv_ann_smotetomek_1\n",
      "Initiate testing of deepsurv neural network\n",
      "model structure: ANN\n"
     ]
    },
    {
     "name": "stderr",
     "output_type": "stream",
     "text": [
      "2024-11-21 09:30:02,031 - INFO - Event column 'endpoint' updated with focus on event value 2.\n"
     ]
    },
    {
     "name": "stdout",
     "output_type": "stream",
     "text": [
      "Prediction completed for deepsurv_ann_smotetomek_1 on fold 10.\n",
      "Initiating prediction for model: deepsurv_ann_clustering_2\n",
      "Initiate testing of deepsurv neural network\n",
      "model structure: ANN\n"
     ]
    },
    {
     "name": "stderr",
     "output_type": "stream",
     "text": [
      "2024-11-21 09:30:06,087 - INFO - Event column 'endpoint' updated with focus on event value 2.\n"
     ]
    },
    {
     "name": "stdout",
     "output_type": "stream",
     "text": [
      "Prediction completed for deepsurv_ann_clustering_2 on fold 10.\n",
      "Initiating prediction for model: deepsurv_ann_smoteenn_2\n",
      "Initiate testing of deepsurv neural network\n",
      "model structure: ANN\n"
     ]
    },
    {
     "name": "stderr",
     "output_type": "stream",
     "text": [
      "2024-11-21 09:30:06,605 - INFO - Event column 'endpoint' updated with focus on event value 2.\n"
     ]
    },
    {
     "name": "stdout",
     "output_type": "stream",
     "text": [
      "Prediction completed for deepsurv_ann_smoteenn_2 on fold 10.\n",
      "Initiating prediction for model: deepsurv_ann_smotetomek_2\n",
      "Initiate testing of deepsurv neural network\n",
      "model structure: ANN\n"
     ]
    },
    {
     "name": "stderr",
     "output_type": "stream",
     "text": [
      "2024-11-21 09:30:07,162 - INFO - Event column 'endpoint' updated with focus on event value 1.\n",
      "2024-11-21 09:30:07,163 - INFO - Event column 'endpoint' updated with focus on event value 1.\n"
     ]
    },
    {
     "name": "stdout",
     "output_type": "stream",
     "text": [
      "Prediction completed for deepsurv_ann_smotetomek_2 on fold 10.\n",
      "Initiating prediction for model: deepsurv_lstm_clustering_1\n",
      "Initiate testing of deepsurv neural network\n",
      "model structure: LSTM\n"
     ]
    },
    {
     "name": "stderr",
     "output_type": "stream",
     "text": [
      "2024-11-21 09:30:08,188 - INFO - Validation data retrieved\n",
      "2024-11-21 09:30:08,565 - INFO - Event column 'endpoint' updated with focus on event value 1.\n",
      "2024-11-21 09:30:08,566 - INFO - Event column 'endpoint' updated with focus on event value 1.\n"
     ]
    },
    {
     "name": "stdout",
     "output_type": "stream",
     "text": [
      "Prediction completed for deepsurv_lstm_clustering_1 on fold 10.\n",
      "Initiating prediction for model: deepsurv_lstm_nearmiss_1\n",
      "Initiate testing of deepsurv neural network\n",
      "model structure: LSTM\n"
     ]
    },
    {
     "name": "stderr",
     "output_type": "stream",
     "text": [
      "2024-11-21 09:30:09,586 - INFO - Validation data retrieved\n",
      "2024-11-21 09:30:09,977 - INFO - Event column 'endpoint' updated with focus on event value 2.\n",
      "2024-11-21 09:30:09,978 - INFO - Event column 'endpoint' updated with focus on event value 2.\n"
     ]
    },
    {
     "name": "stdout",
     "output_type": "stream",
     "text": [
      "Prediction completed for deepsurv_lstm_nearmiss_1 on fold 10.\n",
      "Initiating prediction for model: deepsurv_lstm_clustering_2\n",
      "Initiate testing of deepsurv neural network\n",
      "model structure: LSTM\n"
     ]
    },
    {
     "name": "stderr",
     "output_type": "stream",
     "text": [
      "2024-11-21 09:30:10,995 - INFO - Validation data retrieved\n",
      "2024-11-21 09:30:11,409 - INFO - Event column 'endpoint' updated with focus on event value 2.\n",
      "2024-11-21 09:30:11,410 - INFO - Event column 'endpoint' updated with focus on event value 2.\n"
     ]
    },
    {
     "name": "stdout",
     "output_type": "stream",
     "text": [
      "Prediction completed for deepsurv_lstm_clustering_2 on fold 10.\n",
      "Initiating prediction for model: deepsurv_lstm_nearmiss_2\n",
      "Initiate testing of deepsurv neural network\n",
      "model structure: LSTM\n"
     ]
    },
    {
     "name": "stderr",
     "output_type": "stream",
     "text": [
      "2024-11-21 09:30:12,465 - INFO - Validation data retrieved\n"
     ]
    },
    {
     "name": "stdout",
     "output_type": "stream",
     "text": [
      "Prediction completed for deepsurv_lstm_nearmiss_2 on fold 10.\n",
      "Initiating prediction for model: deephit_ann_clustering_all\n",
      "Initiate testing of deephit neural network\n",
      "model structure: ANN\n",
      "prediction complete, please note that prediction of deephit models are CIF.\n",
      "Prediction completed for deephit_ann_clustering_all on fold 10.\n",
      "Initiating prediction for model: deephit_ann_nearmiss2_all\n",
      "Initiate testing of deephit neural network\n",
      "model structure: ANN\n",
      "prediction complete, please note that prediction of deephit models are CIF.\n",
      "Prediction completed for deephit_ann_nearmiss2_all on fold 10.\n",
      "Initiating prediction for model: deephit_lstm_clustering_all\n",
      "Initiate testing of deephit neural network\n",
      "model structure: LSTM\n"
     ]
    },
    {
     "name": "stderr",
     "output_type": "stream",
     "text": [
      "2024-11-21 09:30:14,746 - INFO - Validation data retrieved\n"
     ]
    },
    {
     "name": "stdout",
     "output_type": "stream",
     "text": [
      "prediction complete, please note that prediction of deephit models are CIF.\n",
      "Prediction completed for deephit_lstm_clustering_all on fold 10.\n",
      "Initiating prediction for model: deephit_lstm_nearmiss1_all\n",
      "Initiate testing of deephit neural network\n",
      "model structure: LSTM\n"
     ]
    },
    {
     "name": "stderr",
     "output_type": "stream",
     "text": [
      "2024-11-21 09:30:16,095 - INFO - Validation data retrieved\n"
     ]
    },
    {
     "name": "stdout",
     "output_type": "stream",
     "text": [
      "prediction complete, please note that prediction of deephit models are CIF.\n",
      "Prediction completed for deephit_lstm_nearmiss1_all on fold 10.\n",
      "Final test predictions and y_fin_test combined.\n"
     ]
    }
   ],
   "source": [
    "gc.collect()\n",
    "torch.cuda.empty_cache()\n",
    "\n",
    "# Initialize dictionary to store combined predictions and y_test\n",
    "combined_predictions = []\n",
    "combined_y_fin_test = []\n",
    "cif_ground_truth_fin_test = []\n",
    "\n",
    "# Get unique keys and split them into 10 groups\n",
    "unique_keys = X_test_transformed['key'].unique()\n",
    "np.random.shuffle(unique_keys)  # Shuffle keys to ensure randomness\n",
    "key_folds = np.array_split(unique_keys, 10)\n",
    "\n",
    "for fold_idx, test_keys in enumerate(key_folds):\n",
    "    print(f\"Processing fold {fold_idx + 1}...\")\n",
    "    # Split the dataset into train and test based on keys\n",
    "    X_test_fold = X_test_transformed[X_test_transformed['key'].isin(test_keys)]\n",
    "    \n",
    "    # Get the indices of X_test_fold relative to the original dataset\n",
    "    test_indices = X_test_transformed.index.to_numpy()\n",
    "    \n",
    "    # Store predictions for this fold\n",
    "    fold_predictions = {}\n",
    "    \n",
    "    X_fin_test, y_fin_test = preprocess_data(X_test_fold, FEATURE_COLS, DURATION_COL, EVENT_COL, TIME_GRID, discretize=True)\n",
    "    combined_y_fin_test.append(y_fin_test)\n",
    "    \n",
    "    for model_name in model_ls:\n",
    "        # Retrieve configuration by dynamically constructing the variable name\n",
    "        config_var_name = model_name + \"_config\"\n",
    "        model_config = globals().get(config_var_name)\n",
    "        if model_config is None:\n",
    "            print(f\"Configuration for {config_var_name} not found.\")\n",
    "            continue\n",
    "        try:\n",
    "            print(f\"Initiating prediction for model: {model_name}\")\n",
    "            \n",
    "            # Retrieve the loaded model\n",
    "            model = loaded_models.get(model_name)\n",
    "            if model is None:\n",
    "                print(f\"Model {model_name} is not loaded.\")\n",
    "                continue\n",
    "            \n",
    "            # Predict using the loaded model and configuration\n",
    "            surv, _ = predict_neural_network(\n",
    "                model=model,\n",
    "                config=model_config,\n",
    "                X_test=X_test_fold,\n",
    "                duration_col=DURATION_COL,\n",
    "                event_col=EVENT_COL,\n",
    "                cluster_col=CLUSTER_COL,\n",
    "                time_grid=TIME_GRID\n",
    "            )\n",
    "            \n",
    "            # Align survival probabilities (if DeepSurv)\n",
    "            if model_config['model'] == 'deepsurv':\n",
    "                surv = align_to_time_grid(surv, TIME_GRID).values  # 2D array\n",
    "                \n",
    "                # Structure key dynamically\n",
    "                key = f\"deepsurv_{model_config['net']}_{model_config['balance_method']}\"\n",
    "                \n",
    "                # Store predictions\n",
    "                if key not in fold_predictions:\n",
    "                    fold_predictions[key] = []\n",
    "                fold_predictions[key].append(np.expand_dims(1 - surv, axis=0))\n",
    "            \n",
    "            # Handle DeepHit predictions\n",
    "            elif model_config['model'] == 'deephit':\n",
    "                surv = np.array(surv)  # Convert to numpy array\n",
    "                \n",
    "                # Structure key dynamically\n",
    "                key = f\"deephit_{model_config['net']}_{model_config['balance_method']}\"\n",
    "                \n",
    "                # Store predictions\n",
    "                if key not in fold_predictions:\n",
    "                    fold_predictions[key] = []\n",
    "                fold_predictions[key].append(surv)\n",
    "            \n",
    "            print(f\"Prediction completed for {model_name} on fold {fold_idx + 1}.\")\n",
    "        \n",
    "        except Exception as e:\n",
    "            print(f\"Error during prediction for {model_name} on fold {fold_idx + 1}: {e}\")\n",
    "            \n",
    "    combined_predictions.append(fold_predictions)\n",
    "\n",
    "meta_learner_X_fin_test = {}\n",
    "\n",
    "for fold_predictions in combined_predictions:\n",
    "    for model_key, fold_data in fold_predictions.items():\n",
    "        if model_key not in meta_learner_X_fin_test:\n",
    "            meta_learner_X_fin_test[model_key] = []\n",
    "        \n",
    "        # Align DeepSurv predictions to match DeepHit format\n",
    "        if \"deepsurv\" in model_key:\n",
    "            # Stack competing outcomes and remove the redundant dimension\n",
    "            meta_learner_X_fin_test[model_key].extend(\n",
    "                [np.squeeze(np.stack(fold_data, axis=0), axis=1)]  # Squeeze out extra axis\n",
    "            )\n",
    "        else:\n",
    "            # Keep DeepHit predictions as-is\n",
    "            meta_learner_X_fin_test[model_key].extend(fold_data)\n",
    "\n",
    "# Combine y_test\n",
    "meta_learner_y_fin_test = (\n",
    "    np.concatenate([fold[0] for fold in combined_y_fin_test]),  # Concatenate all first elements\n",
    "    np.concatenate([fold[1] for fold in combined_y_fin_test])   # Concatenate all second elements\n",
    ")\n",
    "\n",
    "print(\"Final test predictions and y_fin_test combined.\")"
   ]
  },
  {
   "cell_type": "code",
   "execution_count": 218,
   "metadata": {},
   "outputs": [
    {
     "name": "stdout",
     "output_type": "stream",
     "text": [
      "deepsurv_ann_clustering: final shape (2, 6, 40513)\n",
      "deepsurv_ann_enn: final shape (2, 6, 40513)\n",
      "deepsurv_ann_tomek: final shape (2, 6, 40513)\n",
      "deepsurv_lstm_clustering: final shape (2, 6, 40513)\n",
      "deepsurv_lstm_NearMiss: final shape (2, 6, 40513)\n",
      "deephit_ann_clustering: final shape (2, 6, 40513)\n",
      "deephit_ann_NearMiss: final shape (2, 6, 40513)\n",
      "deephit_lstm_clustering: final shape (2, 6, 40513)\n",
      "deephit_lstm_NearMiss: final shape (2, 6, 40513)\n",
      "(40513,)\n",
      "(40513,)\n",
      "(array([0, 1, 2]), array([39793,   200,   520]))\n"
     ]
    }
   ],
   "source": [
    "# Combine all 10 items for each model's predictions\n",
    "final_meta_learner_X_fin_test = {}\n",
    "\n",
    "for key, predictions in meta_learner_X_fin_test.items():\n",
    "    # Concatenate the predictions along the last axis\n",
    "    final_meta_learner_X_fin_test[key] = np.concatenate(predictions, axis=2)  # Combine along the feature axis\n",
    "\n",
    "# Validate the shapes\n",
    "for key, combined_prediction in final_meta_learner_X_fin_test.items():\n",
    "    print(f\"{key}: final shape {combined_prediction.shape}\")\n",
    "    \n",
    "# Use the duration and event data as targets\n",
    "durations_fin_test = meta_learner_y_fin_test[0]  # Time to event or censoring\n",
    "events_fin_test = meta_learner_y_fin_test[1]  # Event type (competing risks)\n",
    "\n",
    "print(durations_fin_test.shape)\n",
    "print(events_fin_test.shape)\n",
    "print(np.unique(events_fin_test, return_counts=True))"
   ]
  },
  {
   "cell_type": "markdown",
   "metadata": {},
   "source": [
    "#### 6.2 Averaging"
   ]
  },
  {
   "cell_type": "code",
   "execution_count": 219,
   "metadata": {},
   "outputs": [
    {
     "name": "stdout",
     "output_type": "stream",
     "text": [
      "Average Voting Predictions shape: (2, 6, 40513)\n"
     ]
    }
   ],
   "source": [
    "# Predictions from each model\n",
    "predictions = [final_meta_learner_X_fin_test[key] for key in final_meta_learner_X_fin_test.keys()]\n",
    "\n",
    "# Aggregate by majority voting for each time point and event type\n",
    "average_predictions = np.mean(predictions, axis=0)\n",
    "\n",
    "print(\"Average Voting Predictions shape:\", average_predictions.shape)\n"
   ]
  },
  {
   "cell_type": "code",
   "execution_count": null,
   "metadata": {},
   "outputs": [
    {
     "name": "stdout",
     "output_type": "stream",
     "text": [
      "Error calculating Nam-D'Agostino Chi² at time 0 for event 1: Length of values (40513) does not match length of index (19588)\n",
      "Error calculating Nam-D'Agostino Chi² at time 0 for event 2: Length of values (40513) does not match length of index (19588)\n"
     ]
    },
    {
     "name": "stderr",
     "output_type": "stream",
     "text": [
      "/home/goma/miniconda3/envs/ai_dev/lib/python3.11/site-packages/lifelines/fitters/aalen_johansen_fitter.py:112: Warning: Tied event times were detected. The Aalen-Johansen estimator cannot handle tied event times.\n",
      "                To resolve ties, data is randomly jittered.\n",
      "  warnings.warn(\n",
      "/home/goma/miniconda3/envs/ai_dev/lib/python3.11/site-packages/lifelines/fitters/aalen_johansen_fitter.py:112: Warning: Tied event times were detected. The Aalen-Johansen estimator cannot handle tied event times.\n",
      "                To resolve ties, data is randomly jittered.\n",
      "  warnings.warn(\n",
      "/home/goma/miniconda3/envs/ai_dev/lib/python3.11/site-packages/lifelines/fitters/aalen_johansen_fitter.py:112: Warning: Tied event times were detected. The Aalen-Johansen estimator cannot handle tied event times.\n",
      "                To resolve ties, data is randomly jittered.\n",
      "  warnings.warn(\n",
      "/home/goma/miniconda3/envs/ai_dev/lib/python3.11/site-packages/lifelines/fitters/aalen_johansen_fitter.py:112: Warning: Tied event times were detected. The Aalen-Johansen estimator cannot handle tied event times.\n",
      "                To resolve ties, data is randomly jittered.\n",
      "  warnings.warn(\n",
      "/home/goma/miniconda3/envs/ai_dev/lib/python3.11/site-packages/lifelines/fitters/aalen_johansen_fitter.py:112: Warning: Tied event times were detected. The Aalen-Johansen estimator cannot handle tied event times.\n",
      "                To resolve ties, data is randomly jittered.\n",
      "  warnings.warn(\n",
      "/home/goma/miniconda3/envs/ai_dev/lib/python3.11/site-packages/lifelines/fitters/aalen_johansen_fitter.py:112: Warning: Tied event times were detected. The Aalen-Johansen estimator cannot handle tied event times.\n",
      "                To resolve ties, data is randomly jittered.\n",
      "  warnings.warn(\n"
     ]
    },
    {
     "name": "stdout",
     "output_type": "stream",
     "text": [
      "Concordance Indices: {'Event_1': 0.9861141445942802, 'Event_2': 0.8047894453585371}\n",
      "Brier Score Series: {'Event_1': 0       3.783331e-07\n",
      "365     4.689445e-02\n",
      "730     4.689445e-02\n",
      "1095    4.689445e-02\n",
      "1460    4.689445e-02\n",
      "1825    4.689445e-02\n",
      "Name: brier_score, dtype: float64, 'Event_2': 0       6.123067e-07\n",
      "365     2.107838e-01\n",
      "730     2.107838e-01\n",
      "1095    2.107838e-01\n",
      "1460    2.107838e-01\n",
      "1825    2.107838e-01\n",
      "Name: brier_score, dtype: float64}\n",
      "Integrated Brier Scores: {'Event_1': 0.04376818205145606, 'Event_2': 0.19673160328047123}\n",
      "Negative Log-Likelihoods: {'Event_1': 0.22729299286338747, 'Event_2': 0.5733443844258161}\n",
      "Nam-D'Agostino Results: [{'Event': 1, 'Year': 1, 'Chi2_Stat': 0.12214437522851679, 'P_Value': 0.9982093122377609, 'Observed_Events': quantile\n",
      "0    0.000000\n",
      "1    0.000000\n",
      "2    0.000000\n",
      "3    0.000000\n",
      "4    0.022289\n",
      "Name: observed_probs, dtype: float64, 'Expected_Events': quantile\n",
      "0    0.016495\n",
      "1    0.018913\n",
      "2    0.023356\n",
      "3    0.026458\n",
      "4    0.074863\n",
      "Name: predicted_probs, dtype: float64, 'Sample_Size': [8103, 8102, 8103, 8102, 8103]}, {'Event': 1, 'Year': 2, 'Chi2_Stat': 0.22233799481261332, 'P_Value': 0.9942601508019501, 'Observed_Events': quantile\n",
      "0    0.000000\n",
      "1    0.000000\n",
      "2    0.000000\n",
      "3    0.000000\n",
      "4    0.054788\n",
      "Name: observed_probs, dtype: float64, 'Expected_Events': quantile\n",
      "0    0.035435\n",
      "1    0.039321\n",
      "2    0.043414\n",
      "3    0.046839\n",
      "4    0.146400\n",
      "Name: predicted_probs, dtype: float64, 'Sample_Size': [8103, 8102, 8103, 8102, 8103]}, {'Event': 1, 'Year': 3, 'Chi2_Stat': 0.31678740360322527, 'P_Value': 0.9887048781899299, 'Observed_Events': quantile\n",
      "0    0.000000\n",
      "1    0.000000\n",
      "2    0.000000\n",
      "3    0.000000\n",
      "4    0.115382\n",
      "Name: observed_probs, dtype: float64, 'Expected_Events': quantile\n",
      "0    0.058983\n",
      "1    0.065918\n",
      "2    0.068009\n",
      "3    0.072944\n",
      "4    0.221623\n",
      "Name: predicted_probs, dtype: float64, 'Sample_Size': [8103, 8102, 8103, 8102, 8103]}, {'Event': 1, 'Year': 4, 'Chi2_Stat': 0.4039295525731526, 'P_Value': 0.9821539167678119, 'Observed_Events': quantile\n",
      "0    0.000000\n",
      "1    0.000000\n",
      "2    0.000000\n",
      "3    0.000000\n",
      "4    0.232178\n",
      "Name: observed_probs, dtype: float64, 'Expected_Events': quantile\n",
      "0    0.085894\n",
      "1    0.097687\n",
      "2    0.100350\n",
      "3    0.106823\n",
      "4    0.294452\n",
      "Name: predicted_probs, dtype: float64, 'Sample_Size': [8103, 8102, 8103, 8102, 8103]}, {'Event': 1, 'Year': 5, 'Chi2_Stat': 1.28056206937008, 'P_Value': 0.8646647279624037, 'Observed_Events': quantile\n",
      "0    0.000000\n",
      "1    0.000000\n",
      "2    0.000000\n",
      "3    0.000000\n",
      "4    0.574185\n",
      "Name: observed_probs, dtype: float64, 'Expected_Events': quantile\n",
      "0    0.309967\n",
      "1    0.315172\n",
      "2    0.320375\n",
      "3    0.334893\n",
      "4    0.566491\n",
      "Name: predicted_probs, dtype: float64, 'Sample_Size': [8103, 8102, 8103, 8102, 8103]}, {'Event': 2, 'Year': 1, 'Chi2_Stat': 0.10413184789236499, 'P_Value': 0.9986907116209353, 'Observed_Events': quantile\n",
      "0    0.000808\n",
      "1    0.003258\n",
      "2    0.006644\n",
      "3    0.007337\n",
      "4    0.053154\n",
      "Name: observed_probs, dtype: float64, 'Expected_Events': quantile\n",
      "0    0.029197\n",
      "1    0.032447\n",
      "2    0.034808\n",
      "3    0.037083\n",
      "4    0.040976\n",
      "Name: predicted_probs, dtype: float64, 'Sample_Size': [8103, 8102, 8103, 8102, 8103]}, {'Event': 2, 'Year': 2, 'Chi2_Stat': 0.18763555742054439, 'P_Value': 0.995864920249966, 'Observed_Events': quantile\n",
      "0    0.005969\n",
      "1    0.009828\n",
      "2    0.020734\n",
      "3    0.039483\n",
      "4    0.125157\n",
      "Name: observed_probs, dtype: float64, 'Expected_Events': quantile\n",
      "0    0.066242\n",
      "1    0.073193\n",
      "2    0.078061\n",
      "3    0.082915\n",
      "4    0.090706\n",
      "Name: predicted_probs, dtype: float64, 'Sample_Size': [8103, 8102, 8103, 8102, 8103]}, {'Event': 2, 'Year': 3, 'Chi2_Stat': 0.29509244078039626, 'P_Value': 0.9901287646168834, 'Observed_Events': quantile\n",
      "0    0.010154\n",
      "1    0.027724\n",
      "2    0.039835\n",
      "3    0.086231\n",
      "4    0.197414\n",
      "Name: observed_probs, dtype: float64, 'Expected_Events': quantile\n",
      "0    0.124881\n",
      "1    0.133566\n",
      "2    0.139916\n",
      "3    0.147105\n",
      "4    0.159451\n",
      "Name: predicted_probs, dtype: float64, 'Sample_Size': [8103, 8102, 8103, 8102, 8103]}, {'Event': 2, 'Year': 4, 'Chi2_Stat': 0.41601898339912646, 'P_Value': 0.9811444968002092, 'Observed_Events': quantile\n",
      "0    0.029088\n",
      "1    0.069030\n",
      "2    0.130537\n",
      "3    0.248318\n",
      "4    0.433202\n",
      "Name: observed_probs, dtype: float64, 'Expected_Events': quantile\n",
      "0    0.210108\n",
      "1    0.220893\n",
      "2    0.229294\n",
      "3    0.240942\n",
      "4    0.261418\n",
      "Name: predicted_probs, dtype: float64, 'Sample_Size': [8103, 8102, 8103, 8102, 8103]}, {'Event': 2, 'Year': 5, 'Chi2_Stat': 1.313536921338896, 'P_Value': 0.8590746425717127, 'Observed_Events': quantile\n",
      "0    0.241820\n",
      "1    0.992953\n",
      "2    0.790879\n",
      "3    0.991461\n",
      "4    0.880406\n",
      "Name: observed_probs, dtype: float64, 'Expected_Events': quantile\n",
      "0    0.484595\n",
      "1    0.502748\n",
      "2    0.513525\n",
      "3    0.533877\n",
      "4    0.567977\n",
      "Name: predicted_probs, dtype: float64, 'Sample_Size': [8103, 8102, 8103, 8102, 8103]}]\n"
     ]
    },
    {
     "name": "stderr",
     "output_type": "stream",
     "text": [
      "/home/goma/miniconda3/envs/ai_dev/lib/python3.11/site-packages/lifelines/fitters/aalen_johansen_fitter.py:112: Warning: Tied event times were detected. The Aalen-Johansen estimator cannot handle tied event times.\n",
      "                To resolve ties, data is randomly jittered.\n",
      "  warnings.warn(\n"
     ]
    }
   ],
   "source": [
    "concordance_indices = {}\n",
    "integrated_brier_scores = {}\n",
    "neg_log_likelihoods = {}\n",
    "brier_series = {}\n",
    "nam_dagostino_results = []  # Initialize as a list\n",
    "\n",
    "for i in range(0, 2):\n",
    "    event_interest = i + 1\n",
    "    cif = pd.DataFrame(average_predictions[i], index=[0, 1, 2, 3, 4, 5])  # Use index correctly\n",
    "    ev = EvalSurv(1 - cif, durations_fin_test, events_fin_test == event_interest, censor_surv='km')\n",
    "\n",
    "    # Concordance index\n",
    "    concordance_indices[f\"Event_{event_interest}\"] = ev.concordance_td()\n",
    "\n",
    "    # Brier score series\n",
    "    brier_series[f\"Event_{event_interest}\"] = ev.brier_score(TIME_GRID)\n",
    "\n",
    "    # Integrated Brier score\n",
    "    integrated_brier_scores[f\"Event_{event_interest}\"] = ev.integrated_brier_score(TIME_GRID)\n",
    "\n",
    "    # Negative log-likelihood\n",
    "    neg_log_likelihoods[f\"Event_{event_interest}\"] = ev.integrated_nbll(TIME_GRID)\n",
    "\n",
    "    # Nam and D'Agostino Chi2 statistic for calibration\n",
    "    for time_idx, time in enumerate(TIME_GRID):\n",
    "        # Filter data for current time point\n",
    "        mask = durations_fin_test <= time\n",
    "        durations_filtered = durations_fin_test[mask]\n",
    "        events_filtered = events_fin_test[mask]\n",
    "        \n",
    "        if len(durations_filtered) == 0:\n",
    "            print(f\"Skipping time {time} for event {event_interest} due to empty data.\")\n",
    "            continue\n",
    "        \n",
    "        try:\n",
    "            # Calculate Nam-D'Agostino Chi² statistic\n",
    "            chi2_stat, p_value, observed_events, expected_events, n, prob_df = nam_dagostino_chi2(\n",
    "                df=pd.DataFrame({\"durations\": durations_filtered, \"events\": events_filtered}),\n",
    "                duration_col=\"durations\",\n",
    "                event_col=\"events\",\n",
    "                surv=(1 - cif),  # Survival function\n",
    "                time=time_idx,\n",
    "                event_focus=event_interest\n",
    "            )\n",
    "\n",
    "            # Append results\n",
    "            nam_dagostino_results.append({\n",
    "                'Event': event_interest,\n",
    "                'Year': round(time / 365),\n",
    "                'Chi2_Stat': chi2_stat,\n",
    "                'P_Value': p_value,\n",
    "                'Observed_Events': observed_events.tolist() if isinstance(observed_events, np.ndarray) else observed_events,\n",
    "                'Expected_Events': expected_events.tolist() if isinstance(expected_events, np.ndarray) else expected_events,\n",
    "                'Sample_Size': n if isinstance(n, int) else n.tolist()\n",
    "            })\n",
    "        except ValueError as e:\n",
    "            print(f\"Error calculating Nam-D'Agostino Chi² at time {time} for event {event_interest}: {e}\")\n",
    "\n",
    "# Display results\n",
    "print(\"Concordance Indices:\", concordance_indices)\n",
    "print(\"Brier Score Series:\", brier_series)\n",
    "print(\"Integrated Brier Scores:\", integrated_brier_scores)\n",
    "print(\"Negative Log-Likelihoods:\", neg_log_likelihoods)\n",
    "print(\"Nam-D'Agostino Results:\", nam_dagostino_results)\n",
    "\n"
   ]
  },
  {
   "cell_type": "code",
   "execution_count": null,
   "metadata": {},
   "outputs": [
    {
     "data": {
      "text/plain": [
       "array([0, 1, 2, 3, 4, 5])"
      ]
     },
     "execution_count": 156,
     "metadata": {},
     "output_type": "execute_result"
    }
   ],
   "source": [
    "np.unique(durations_fin_test)"
   ]
  },
  {
   "cell_type": "markdown",
   "metadata": {},
   "source": [
    "#### 6.3 Stacking"
   ]
  },
  {
   "cell_type": "markdown",
   "metadata": {},
   "source": [
    "##### 6.3.1 XGBoost"
   ]
  },
  {
   "cell_type": "code",
   "execution_count": null,
   "metadata": {},
   "outputs": [
    {
     "name": "stderr",
     "output_type": "stream",
     "text": [
      "/home/goma/miniconda3/envs/ai_dev/lib/python3.11/site-packages/xgboost/core.py:158: UserWarning: [21:55:54] WARNING: /home/conda/feedstock_root/build_artifacts/xgboost-split_1730232887822/work/src/common/error_msg.cc:27: The tree method `gpu_hist` is deprecated since 2.0.0. To use GPU training, set the `device` parameter to CUDA instead.\n",
      "\n",
      "    E.g. tree_method = \"hist\", device = \"cuda\"\n",
      "\n",
      "  warnings.warn(smsg, UserWarning)\n",
      "/home/goma/miniconda3/envs/ai_dev/lib/python3.11/site-packages/xgboost/core.py:158: UserWarning: [21:55:54] WARNING: /home/conda/feedstock_root/build_artifacts/xgboost-split_1730232887822/work/src/common/error_msg.cc:27: The tree method `gpu_hist` is deprecated since 2.0.0. To use GPU training, set the `device` parameter to CUDA instead.\n",
      "\n",
      "    E.g. tree_method = \"hist\", device = \"cuda\"\n",
      "\n",
      "  warnings.warn(smsg, UserWarning)\n",
      "/home/goma/miniconda3/envs/ai_dev/lib/python3.11/site-packages/xgboost/core.py:158: UserWarning: [21:55:54] WARNING: /home/conda/feedstock_root/build_artifacts/xgboost-split_1730232887822/work/src/common/error_msg.cc:27: The tree method `gpu_hist` is deprecated since 2.0.0. To use GPU training, set the `device` parameter to CUDA instead.\n",
      "\n",
      "    E.g. tree_method = \"hist\", device = \"cuda\"\n",
      "\n",
      "  warnings.warn(smsg, UserWarning)\n",
      "/home/goma/miniconda3/envs/ai_dev/lib/python3.11/site-packages/xgboost/core.py:158: UserWarning: [21:55:54] WARNING: /home/conda/feedstock_root/build_artifacts/xgboost-split_1730232887822/work/src/common/error_msg.cc:27: The tree method `gpu_hist` is deprecated since 2.0.0. To use GPU training, set the `device` parameter to CUDA instead.\n",
      "\n",
      "    E.g. tree_method = \"hist\", device = \"cuda\"\n",
      "\n",
      "  warnings.warn(smsg, UserWarning)\n",
      "/home/goma/miniconda3/envs/ai_dev/lib/python3.11/site-packages/xgboost/core.py:158: UserWarning: [21:55:54] WARNING: /home/conda/feedstock_root/build_artifacts/xgboost-split_1730232887822/work/src/common/error_msg.cc:27: The tree method `gpu_hist` is deprecated since 2.0.0. To use GPU training, set the `device` parameter to CUDA instead.\n",
      "\n",
      "    E.g. tree_method = \"hist\", device = \"cuda\"\n",
      "\n",
      "  warnings.warn(smsg, UserWarning)\n",
      "/home/goma/miniconda3/envs/ai_dev/lib/python3.11/site-packages/xgboost/core.py:158: UserWarning: [21:55:54] WARNING: /home/conda/feedstock_root/build_artifacts/xgboost-split_1730232887822/work/src/common/error_msg.cc:27: The tree method `gpu_hist` is deprecated since 2.0.0. To use GPU training, set the `device` parameter to CUDA instead.\n",
      "\n",
      "    E.g. tree_method = \"hist\", device = \"cuda\"\n",
      "\n",
      "  warnings.warn(smsg, UserWarning)\n",
      "/home/goma/miniconda3/envs/ai_dev/lib/python3.11/site-packages/xgboost/core.py:158: UserWarning: [21:55:54] WARNING: /home/conda/feedstock_root/build_artifacts/xgboost-split_1730232887822/work/src/common/error_msg.cc:27: The tree method `gpu_hist` is deprecated since 2.0.0. To use GPU training, set the `device` parameter to CUDA instead.\n",
      "\n",
      "    E.g. tree_method = \"hist\", device = \"cuda\"\n",
      "\n",
      "  warnings.warn(smsg, UserWarning)\n",
      "/home/goma/miniconda3/envs/ai_dev/lib/python3.11/site-packages/xgboost/core.py:158: UserWarning: [21:55:54] WARNING: /home/conda/feedstock_root/build_artifacts/xgboost-split_1730232887822/work/src/common/error_msg.cc:27: The tree method `gpu_hist` is deprecated since 2.0.0. To use GPU training, set the `device` parameter to CUDA instead.\n",
      "\n",
      "    E.g. tree_method = \"hist\", device = \"cuda\"\n",
      "\n",
      "  warnings.warn(smsg, UserWarning)\n",
      "/home/goma/miniconda3/envs/ai_dev/lib/python3.11/site-packages/xgboost/core.py:158: UserWarning: [21:55:54] WARNING: /home/conda/feedstock_root/build_artifacts/xgboost-split_1730232887822/work/src/common/error_msg.cc:27: The tree method `gpu_hist` is deprecated since 2.0.0. To use GPU training, set the `device` parameter to CUDA instead.\n",
      "\n",
      "    E.g. tree_method = \"hist\", device = \"cuda\"\n",
      "\n",
      "  warnings.warn(smsg, UserWarning)\n",
      "/home/goma/miniconda3/envs/ai_dev/lib/python3.11/site-packages/xgboost/core.py:158: UserWarning: [21:55:54] WARNING: /home/conda/feedstock_root/build_artifacts/xgboost-split_1730232887822/work/src/common/error_msg.cc:27: The tree method `gpu_hist` is deprecated since 2.0.0. To use GPU training, set the `device` parameter to CUDA instead.\n",
      "\n",
      "    E.g. tree_method = \"hist\", device = \"cuda\"\n",
      "\n",
      "  warnings.warn(smsg, UserWarning)\n",
      "/home/goma/miniconda3/envs/ai_dev/lib/python3.11/site-packages/xgboost/core.py:158: UserWarning: [21:55:54] WARNING: /home/conda/feedstock_root/build_artifacts/xgboost-split_1730232887822/work/src/common/error_msg.cc:27: The tree method `gpu_hist` is deprecated since 2.0.0. To use GPU training, set the `device` parameter to CUDA instead.\n",
      "\n",
      "    E.g. tree_method = \"hist\", device = \"cuda\"\n",
      "\n",
      "  warnings.warn(smsg, UserWarning)\n",
      "/home/goma/miniconda3/envs/ai_dev/lib/python3.11/site-packages/xgboost/core.py:158: UserWarning: [21:55:54] WARNING: /home/conda/feedstock_root/build_artifacts/xgboost-split_1730232887822/work/src/common/error_msg.cc:27: The tree method `gpu_hist` is deprecated since 2.0.0. To use GPU training, set the `device` parameter to CUDA instead.\n",
      "\n",
      "    E.g. tree_method = \"hist\", device = \"cuda\"\n",
      "\n",
      "  warnings.warn(smsg, UserWarning)\n",
      "/home/goma/miniconda3/envs/ai_dev/lib/python3.11/site-packages/xgboost/core.py:158: UserWarning: [21:55:56] WARNING: /home/conda/feedstock_root/build_artifacts/xgboost-split_1730232887822/work/src/common/error_msg.cc:27: The tree method `gpu_hist` is deprecated since 2.0.0. To use GPU training, set the `device` parameter to CUDA instead.\n",
      "\n",
      "    E.g. tree_method = \"hist\", device = \"cuda\"\n",
      "\n",
      "  warnings.warn(smsg, UserWarning)\n",
      "/home/goma/miniconda3/envs/ai_dev/lib/python3.11/site-packages/xgboost/core.py:158: UserWarning: [21:55:56] WARNING: /home/conda/feedstock_root/build_artifacts/xgboost-split_1730232887822/work/src/common/error_msg.cc:27: The tree method `gpu_hist` is deprecated since 2.0.0. To use GPU training, set the `device` parameter to CUDA instead.\n",
      "\n",
      "    E.g. tree_method = \"hist\", device = \"cuda\"\n",
      "\n",
      "  warnings.warn(smsg, UserWarning)\n",
      "/home/goma/miniconda3/envs/ai_dev/lib/python3.11/site-packages/xgboost/core.py:158: UserWarning: [21:56:13] WARNING: /home/conda/feedstock_root/build_artifacts/xgboost-split_1730232887822/work/src/common/error_msg.cc:27: The tree method `gpu_hist` is deprecated since 2.0.0. To use GPU training, set the `device` parameter to CUDA instead.\n",
      "\n",
      "    E.g. tree_method = \"hist\", device = \"cuda\"\n",
      "\n",
      "  warnings.warn(smsg, UserWarning)\n",
      "/home/goma/miniconda3/envs/ai_dev/lib/python3.11/site-packages/xgboost/core.py:158: UserWarning: [21:56:13] WARNING: /home/conda/feedstock_root/build_artifacts/xgboost-split_1730232887822/work/src/common/error_msg.cc:27: The tree method `gpu_hist` is deprecated since 2.0.0. To use GPU training, set the `device` parameter to CUDA instead.\n",
      "\n",
      "    E.g. tree_method = \"hist\", device = \"cuda\"\n",
      "\n",
      "  warnings.warn(smsg, UserWarning)\n",
      "/home/goma/miniconda3/envs/ai_dev/lib/python3.11/site-packages/xgboost/core.py:158: UserWarning: [21:56:13] WARNING: /home/conda/feedstock_root/build_artifacts/xgboost-split_1730232887822/work/src/common/error_msg.cc:27: The tree method `gpu_hist` is deprecated since 2.0.0. To use GPU training, set the `device` parameter to CUDA instead.\n",
      "\n",
      "    E.g. tree_method = \"hist\", device = \"cuda\"\n",
      "\n",
      "  warnings.warn(smsg, UserWarning)\n",
      "/home/goma/miniconda3/envs/ai_dev/lib/python3.11/site-packages/xgboost/core.py:158: UserWarning: [21:56:13] WARNING: /home/conda/feedstock_root/build_artifacts/xgboost-split_1730232887822/work/src/common/error_msg.cc:27: The tree method `gpu_hist` is deprecated since 2.0.0. To use GPU training, set the `device` parameter to CUDA instead.\n",
      "\n",
      "    E.g. tree_method = \"hist\", device = \"cuda\"\n",
      "\n",
      "  warnings.warn(smsg, UserWarning)\n",
      "/home/goma/miniconda3/envs/ai_dev/lib/python3.11/site-packages/xgboost/core.py:158: UserWarning: [21:56:13] WARNING: /home/conda/feedstock_root/build_artifacts/xgboost-split_1730232887822/work/src/common/error_msg.cc:27: The tree method `gpu_hist` is deprecated since 2.0.0. To use GPU training, set the `device` parameter to CUDA instead.\n",
      "\n",
      "    E.g. tree_method = \"hist\", device = \"cuda\"\n",
      "\n",
      "  warnings.warn(smsg, UserWarning)\n",
      "/home/goma/miniconda3/envs/ai_dev/lib/python3.11/site-packages/xgboost/core.py:158: UserWarning: [21:56:13] WARNING: /home/conda/feedstock_root/build_artifacts/xgboost-split_1730232887822/work/src/common/error_msg.cc:27: The tree method `gpu_hist` is deprecated since 2.0.0. To use GPU training, set the `device` parameter to CUDA instead.\n",
      "\n",
      "    E.g. tree_method = \"hist\", device = \"cuda\"\n",
      "\n",
      "  warnings.warn(smsg, UserWarning)\n",
      "/home/goma/miniconda3/envs/ai_dev/lib/python3.11/site-packages/xgboost/core.py:158: UserWarning: [21:56:13] WARNING: /home/conda/feedstock_root/build_artifacts/xgboost-split_1730232887822/work/src/common/error_msg.cc:27: The tree method `gpu_hist` is deprecated since 2.0.0. To use GPU training, set the `device` parameter to CUDA instead.\n",
      "\n",
      "    E.g. tree_method = \"hist\", device = \"cuda\"\n",
      "\n",
      "  warnings.warn(smsg, UserWarning)\n",
      "/home/goma/miniconda3/envs/ai_dev/lib/python3.11/site-packages/xgboost/core.py:158: UserWarning: [21:56:13] WARNING: /home/conda/feedstock_root/build_artifacts/xgboost-split_1730232887822/work/src/common/error_msg.cc:27: The tree method `gpu_hist` is deprecated since 2.0.0. To use GPU training, set the `device` parameter to CUDA instead.\n",
      "\n",
      "    E.g. tree_method = \"hist\", device = \"cuda\"\n",
      "\n",
      "  warnings.warn(smsg, UserWarning)\n",
      "/home/goma/miniconda3/envs/ai_dev/lib/python3.11/site-packages/xgboost/core.py:158: UserWarning: [21:56:13] WARNING: /home/conda/feedstock_root/build_artifacts/xgboost-split_1730232887822/work/src/common/error_msg.cc:27: The tree method `gpu_hist` is deprecated since 2.0.0. To use GPU training, set the `device` parameter to CUDA instead.\n",
      "\n",
      "    E.g. tree_method = \"hist\", device = \"cuda\"\n",
      "\n",
      "  warnings.warn(smsg, UserWarning)\n",
      "/home/goma/miniconda3/envs/ai_dev/lib/python3.11/site-packages/xgboost/core.py:158: UserWarning: [21:56:13] WARNING: /home/conda/feedstock_root/build_artifacts/xgboost-split_1730232887822/work/src/common/error_msg.cc:27: The tree method `gpu_hist` is deprecated since 2.0.0. To use GPU training, set the `device` parameter to CUDA instead.\n",
      "\n",
      "    E.g. tree_method = \"hist\", device = \"cuda\"\n",
      "\n",
      "  warnings.warn(smsg, UserWarning)\n"
     ]
    },
    {
     "name": "stdout",
     "output_type": "stream",
     "text": [
      "XGBoost Stacking Predictions Shape: (2, 6, 40513)\n"
     ]
    }
   ],
   "source": [
    "def train_and_predict_with_xgboost(outcome_idx, time_idx):\n",
    "    \"\"\"\n",
    "    Train an XGBoost model using CIF targets for a specific outcome and time point.\n",
    "    \"\"\"\n",
    "    # Training data\n",
    "    stacking_inputs_train = np.array([\n",
    "        final_meta_learner_X_train[key][outcome_idx, time_idx]\n",
    "        for key in final_meta_learner_X_train.keys()\n",
    "    ]).T  # Shape: (num_train_samples, num_models)\n",
    "    \n",
    "    target_train = cif_ground_truth_test_stacked[outcome_idx, time_idx, :]  # Correct indexing\n",
    "\n",
    "    # Validation data\n",
    "    stacking_inputs_val = np.array([\n",
    "        final_meta_learner_X_val[key][outcome_idx, time_idx]\n",
    "        for key in final_meta_learner_X_val.keys()\n",
    "    ]).T  # Shape: (num_val_samples, num_models)\n",
    "\n",
    "    target_val = cif_ground_truth_val_stacked[outcome_idx, time_idx, :]  # Correct indexing\n",
    "\n",
    "    # Test data\n",
    "    stacking_inputs_test = np.array([\n",
    "        final_meta_learner_X_fin_test[key][outcome_idx, time_idx]\n",
    "        for key in final_meta_learner_X_fin_test.keys()\n",
    "    ]).T  # Shape: (num_test_samples, num_models)\n",
    "\n",
    "    # Prepare DMatrix for XGBoost\n",
    "    dtrain = xgb.DMatrix(stacking_inputs_train, label=target_train)\n",
    "    dval = xgb.DMatrix(stacking_inputs_val, label=target_val)\n",
    "    dtest = xgb.DMatrix(stacking_inputs_test)\n",
    "\n",
    "    # Configure GPU training\n",
    "    params = {'objective': 'reg:squarederror',\n",
    "        'tree_method': 'gpu_hist',\n",
    "        'max_depth': 3,\n",
    "        'learning_rate': 0.014837295326564928,\n",
    "        'subsample': 0.8168005866659258,\n",
    "        'colsample_bytree': 0.8290129403377126,\n",
    "        'lambda': 6.7539372305286465,\n",
    "        'alpha': 0.5018353832953043}\n",
    "\n",
    "    # Train the model with early stopping\n",
    "    booster = xgb.train(\n",
    "        params, dtrain, num_boost_round=500,\n",
    "        evals=[(dtrain, \"train\"), (dval, \"validation\")],\n",
    "        early_stopping_rounds=20,  # Stop if no improvement for 20 rounds\n",
    "        verbose_eval=False\n",
    "    )\n",
    "\n",
    "    # Predict CIF for test patients\n",
    "    cif_predictions_test = booster.predict(dtest)\n",
    "    \n",
    "    return outcome_idx, time_idx, cif_predictions_test\n",
    "\n",
    "# Parallel processing for each outcome and time point\n",
    "results = Parallel(n_jobs=-1)(\n",
    "    delayed(train_and_predict_with_xgboost)(outcome_idx, time_idx)\n",
    "    for outcome_idx in range(2)\n",
    "    for time_idx in range(6)\n",
    ")\n",
    "\n",
    "# Assign results to the xgboost_predictions array\n",
    "xgboost_predictions = np.zeros((2, 6, X_test_transformed.shape[0]))\n",
    "for outcome_idx, time_idx, cif_predictions in results:\n",
    "    xgboost_predictions[outcome_idx, time_idx] = cif_predictions\n",
    "\n",
    "# Verify the shape of the stacked predictions\n",
    "print(\"XGBoost Stacking Predictions Shape:\", xgboost_predictions.shape)\n",
    "# Expected output: (2, 6, 316242)\n"
   ]
  },
  {
   "cell_type": "code",
   "execution_count": 160,
   "metadata": {},
   "outputs": [
    {
     "name": "stdout",
     "output_type": "stream",
     "text": [
      "Error calculating Nam-D'Agostino Chi² at time 0 for event 1: Length of values (40513) does not match length of index (19588)\n",
      "Error calculating Nam-D'Agostino Chi² at time 0 for event 2: Length of values (40513) does not match length of index (19588)\n"
     ]
    },
    {
     "name": "stderr",
     "output_type": "stream",
     "text": [
      "/home/goma/miniconda3/envs/ai_dev/lib/python3.11/site-packages/lifelines/fitters/aalen_johansen_fitter.py:112: Warning: Tied event times were detected. The Aalen-Johansen estimator cannot handle tied event times.\n",
      "                To resolve ties, data is randomly jittered.\n",
      "  warnings.warn(\n",
      "/home/goma/miniconda3/envs/ai_dev/lib/python3.11/site-packages/lifelines/fitters/aalen_johansen_fitter.py:112: Warning: Tied event times were detected. The Aalen-Johansen estimator cannot handle tied event times.\n",
      "                To resolve ties, data is randomly jittered.\n",
      "  warnings.warn(\n",
      "/home/goma/miniconda3/envs/ai_dev/lib/python3.11/site-packages/lifelines/fitters/aalen_johansen_fitter.py:112: Warning: Tied event times were detected. The Aalen-Johansen estimator cannot handle tied event times.\n",
      "                To resolve ties, data is randomly jittered.\n",
      "  warnings.warn(\n",
      "/home/goma/miniconda3/envs/ai_dev/lib/python3.11/site-packages/lifelines/fitters/aalen_johansen_fitter.py:112: Warning: Tied event times were detected. The Aalen-Johansen estimator cannot handle tied event times.\n",
      "                To resolve ties, data is randomly jittered.\n",
      "  warnings.warn(\n",
      "/home/goma/miniconda3/envs/ai_dev/lib/python3.11/site-packages/lifelines/fitters/aalen_johansen_fitter.py:112: Warning: Tied event times were detected. The Aalen-Johansen estimator cannot handle tied event times.\n",
      "                To resolve ties, data is randomly jittered.\n",
      "  warnings.warn(\n",
      "/home/goma/miniconda3/envs/ai_dev/lib/python3.11/site-packages/lifelines/fitters/aalen_johansen_fitter.py:112: Warning: Tied event times were detected. The Aalen-Johansen estimator cannot handle tied event times.\n",
      "                To resolve ties, data is randomly jittered.\n",
      "  warnings.warn(\n",
      "/home/goma/miniconda3/envs/ai_dev/lib/python3.11/site-packages/lifelines/fitters/aalen_johansen_fitter.py:112: Warning: Tied event times were detected. The Aalen-Johansen estimator cannot handle tied event times.\n",
      "                To resolve ties, data is randomly jittered.\n",
      "  warnings.warn(\n",
      "/home/goma/miniconda3/envs/ai_dev/lib/python3.11/site-packages/lifelines/fitters/aalen_johansen_fitter.py:112: Warning: Tied event times were detected. The Aalen-Johansen estimator cannot handle tied event times.\n",
      "                To resolve ties, data is randomly jittered.\n",
      "  warnings.warn(\n"
     ]
    },
    {
     "name": "stdout",
     "output_type": "stream",
     "text": [
      "Concordance Indices: {'Event_1': 0.9792338086166885, 'Event_2': 0.7275737517718853}\n",
      "Brier Score Series: {'Event_1': 0       0.000000\n",
      "365     0.034227\n",
      "730     0.034227\n",
      "1095    0.034227\n",
      "1460    0.034227\n",
      "1825    0.034227\n",
      "Name: brier_score, dtype: float64, 'Event_2': 0       0.000000\n",
      "365     0.127521\n",
      "730     0.127521\n",
      "1095    0.127521\n",
      "1460    0.127521\n",
      "1825    0.127521\n",
      "Name: brier_score, dtype: float64}\n",
      "Integrated Brier Scores: {'Event_1': 0.03194480400702308, 'Event_2': 0.11901920846077037}\n",
      "Negative Log-Likelihoods: {'Event_1': 0.1744737147244062, 'Event_2': 0.37606509292105755}\n",
      "Nam-D'Agostino Results: [{'Event': 1, 'Year': 1, 'Chi2_Stat': 0.02168567931458386, 'P_Value': 0.9999416396119769, 'Observed_Events': quantile\n",
      "0    0.00000\n",
      "1    0.00000\n",
      "2    0.00000\n",
      "3    0.00000\n",
      "4    0.01914\n",
      "Name: observed_probs, dtype: float64, 'Expected_Events': quantile\n",
      "0    0.001888\n",
      "1    0.002650\n",
      "2    0.003851\n",
      "3    0.007186\n",
      "4    0.033434\n",
      "Name: predicted_probs, dtype: float64, 'Sample_Size': [8104, 8101, 8103, 8102, 8103]}, {'Event': 1, 'Year': 2, 'Chi2_Stat': 0.10803747693851566, 'P_Value': 0.9985924814104639, 'Observed_Events': quantile\n",
      "0    0.000000\n",
      "1    0.000000\n",
      "2    0.000000\n",
      "3    0.000000\n",
      "4    0.047967\n",
      "Name: observed_probs, dtype: float64, 'Expected_Events': quantile\n",
      "0    0.007238\n",
      "1    0.010533\n",
      "2    0.015529\n",
      "3    0.029028\n",
      "4    0.122925\n",
      "Name: predicted_probs, dtype: float64, 'Sample_Size': [8103, 8102, 8103, 8102, 8103]}, {'Event': 1, 'Year': 3, 'Chi2_Stat': 0.22289736268639176, 'P_Value': 0.9942322988049436, 'Observed_Events': quantile\n",
      "0    0.000000\n",
      "1    0.000000\n",
      "2    0.000000\n",
      "3    0.000000\n",
      "4    0.102296\n",
      "Name: observed_probs, dtype: float64, 'Expected_Events': quantile\n",
      "0    0.015406\n",
      "1    0.023110\n",
      "2    0.034259\n",
      "3    0.063923\n",
      "4    0.248714\n",
      "Name: predicted_probs, dtype: float64, 'Sample_Size': [8103, 8102, 8103, 8102, 8103]}, {'Event': 1, 'Year': 4, 'Chi2_Stat': 0.3160170035044321, 'P_Value': 0.9887569005368739, 'Observed_Events': quantile\n",
      "0    0.000000\n",
      "1    0.000000\n",
      "2    0.000000\n",
      "3    0.000000\n",
      "4    0.216034\n",
      "Name: observed_probs, dtype: float64, 'Expected_Events': quantile\n",
      "0    0.025914\n",
      "1    0.039503\n",
      "2    0.058848\n",
      "3    0.110674\n",
      "4    0.394979\n",
      "Name: predicted_probs, dtype: float64, 'Sample_Size': [8103, 8102, 8103, 8102, 8103]}, {'Event': 1, 'Year': 5, 'Chi2_Stat': 0.35078884171373337, 'P_Value': 0.9863040031625293, 'Observed_Events': quantile\n",
      "0    0.000000\n",
      "1    0.000000\n",
      "2    0.000000\n",
      "3    0.000000\n",
      "4    0.575436\n",
      "Name: observed_probs, dtype: float64, 'Expected_Events': quantile\n",
      "0    0.037274\n",
      "1    0.057815\n",
      "2    0.086536\n",
      "3    0.164690\n",
      "4    0.526912\n",
      "Name: predicted_probs, dtype: float64, 'Sample_Size': [8103, 8102, 8103, 8102, 8103]}, {'Event': 2, 'Year': 1, 'Chi2_Stat': 0.07242265187692074, 'P_Value': 0.9993599845606085, 'Observed_Events': quantile\n",
      "0    0.000868\n",
      "1    0.002089\n",
      "2    0.002597\n",
      "3    0.009199\n",
      "4    0.013589\n",
      "Name: observed_probs, dtype: float64, 'Expected_Events': quantile\n",
      "0    0.012578\n",
      "1    0.017761\n",
      "2    0.021682\n",
      "3    0.026909\n",
      "4    0.042023\n",
      "Name: predicted_probs, dtype: float64, 'Sample_Size': [8103, 8102, 8103, 8102, 8103]}, {'Event': 2, 'Year': 2, 'Chi2_Stat': 0.3500587021772932, 'P_Value': 0.9863576872844625, 'Observed_Events': quantile\n",
      "0    0.009379\n",
      "1    0.011918\n",
      "2    0.014701\n",
      "3    0.031222\n",
      "4    0.060692\n",
      "Name: observed_probs, dtype: float64, 'Expected_Events': quantile\n",
      "0    0.060794\n",
      "1    0.087493\n",
      "2    0.105219\n",
      "3    0.128758\n",
      "4    0.191702\n",
      "Name: predicted_probs, dtype: float64, 'Sample_Size': [8103, 8102, 8103, 8102, 8103]}, {'Event': 2, 'Year': 3, 'Chi2_Stat': 0.8267168197695418, 'P_Value': 0.9348308392746524, 'Observed_Events': quantile\n",
      "0    0.017793\n",
      "1    0.025334\n",
      "2    0.049021\n",
      "3    0.070322\n",
      "4    0.129637\n",
      "Name: observed_probs, dtype: float64, 'Expected_Events': quantile\n",
      "0    0.151736\n",
      "1    0.214123\n",
      "2    0.255204\n",
      "3    0.302503\n",
      "4    0.416100\n",
      "Name: predicted_probs, dtype: float64, 'Sample_Size': [8103, 8102, 8103, 8102, 8103]}, {'Event': 2, 'Year': 4, 'Chi2_Stat': 0.9907300420060182, 'P_Value': 0.9111983453464382, 'Observed_Events': quantile\n",
      "0    0.042947\n",
      "1    0.100771\n",
      "2    0.185159\n",
      "3    0.157320\n",
      "4    0.413096\n",
      "Name: observed_probs, dtype: float64, 'Expected_Events': quantile\n",
      "0    0.290805\n",
      "1    0.403970\n",
      "2    0.471974\n",
      "3    0.546119\n",
      "4    0.673625\n",
      "Name: predicted_probs, dtype: float64, 'Sample_Size': [8103, 8102, 8103, 8102, 8103]}, {'Event': 2, 'Year': 5, 'Chi2_Stat': 0.7266532202553639, 'P_Value': 0.9480018168695137, 'Observed_Events': quantile\n",
      "0    0.324111\n",
      "1    1.000000\n",
      "2    1.000000\n",
      "3    0.255523\n",
      "4    1.000000\n",
      "Name: observed_probs, dtype: float64, 'Expected_Events': quantile\n",
      "0    0.341882\n",
      "1    0.620629\n",
      "2    0.733119\n",
      "3    0.819671\n",
      "4    0.912799\n",
      "Name: predicted_probs, dtype: float64, 'Sample_Size': [8103, 8102, 8103, 8102, 8103]}]\n"
     ]
    },
    {
     "name": "stderr",
     "output_type": "stream",
     "text": [
      "/home/goma/miniconda3/envs/ai_dev/lib/python3.11/site-packages/lifelines/fitters/aalen_johansen_fitter.py:112: Warning: Tied event times were detected. The Aalen-Johansen estimator cannot handle tied event times.\n",
      "                To resolve ties, data is randomly jittered.\n",
      "  warnings.warn(\n",
      "/home/goma/miniconda3/envs/ai_dev/lib/python3.11/site-packages/pandas/core/arraylike.py:399: RuntimeWarning: overflow encountered in exp\n",
      "  result = getattr(ufunc, method)(*inputs, **kwargs)\n"
     ]
    }
   ],
   "source": [
    "concordance_indices = {}\n",
    "integrated_brier_scores = {}\n",
    "neg_log_likelihoods = {}\n",
    "brier_series = {}\n",
    "nam_dagostino_results = []  # Initialize as a list\n",
    "\n",
    "for i in range(0, 2):\n",
    "    event_interest = i + 1\n",
    "    cif = pd.DataFrame(xgboost_predictions[i], index=[0, 1, 2, 3, 4, 5])  # Use index correctly\n",
    "    ev = EvalSurv(1 - cif, durations_fin_test, events_fin_test == event_interest, censor_surv='km')\n",
    "\n",
    "    # Concordance index\n",
    "    concordance_indices[f\"Event_{event_interest}\"] = ev.concordance_td()\n",
    "\n",
    "    # Brier score series\n",
    "    brier_series[f\"Event_{event_interest}\"] = ev.brier_score(TIME_GRID)\n",
    "\n",
    "    # Integrated Brier score\n",
    "    integrated_brier_scores[f\"Event_{event_interest}\"] = ev.integrated_brier_score(TIME_GRID)\n",
    "\n",
    "    # Negative log-likelihood\n",
    "    neg_log_likelihoods[f\"Event_{event_interest}\"] = ev.integrated_nbll(TIME_GRID)\n",
    "\n",
    "    # Nam and D'Agostino Chi2 statistic for calibration\n",
    "    for time_idx, time in enumerate(TIME_GRID):\n",
    "        # Filter data for current time point\n",
    "        mask = durations_fin_test <= time\n",
    "        durations_filtered = durations_fin_test[mask]\n",
    "        events_filtered = events_fin_test[mask]\n",
    "        \n",
    "        if len(durations_filtered) == 0:\n",
    "            print(f\"Skipping time {time} for event {event_interest} due to empty data.\")\n",
    "            continue\n",
    "        \n",
    "        try:\n",
    "            # Calculate Nam-D'Agostino Chi² statistic\n",
    "            chi2_stat, p_value, observed_events, expected_events, n, prob_df = nam_dagostino_chi2(\n",
    "                df=pd.DataFrame({\"durations\": durations_filtered, \"events\": events_filtered}),\n",
    "                duration_col=\"durations\",\n",
    "                event_col=\"events\",\n",
    "                surv=(1 - cif),  # Survival function\n",
    "                time=time_idx,\n",
    "                event_focus=event_interest\n",
    "            )\n",
    "\n",
    "            # Append results\n",
    "            nam_dagostino_results.append({\n",
    "                'Event': event_interest,\n",
    "                'Year': round(time / 365),\n",
    "                'Chi2_Stat': chi2_stat,\n",
    "                'P_Value': p_value,\n",
    "                'Observed_Events': observed_events.tolist() if isinstance(observed_events, np.ndarray) else observed_events,\n",
    "                'Expected_Events': expected_events.tolist() if isinstance(expected_events, np.ndarray) else expected_events,\n",
    "                'Sample_Size': n if isinstance(n, int) else n.tolist()\n",
    "            })\n",
    "        except ValueError as e:\n",
    "            print(f\"Error calculating Nam-D'Agostino Chi² at time {time} for event {event_interest}: {e}\")\n",
    "\n",
    "# Display results\n",
    "print(\"Concordance Indices:\", concordance_indices)\n",
    "print(\"Brier Score Series:\", brier_series)\n",
    "print(\"Integrated Brier Scores:\", integrated_brier_scores)\n",
    "print(\"Negative Log-Likelihoods:\", neg_log_likelihoods)\n",
    "print(\"Nam-D'Agostino Results:\", nam_dagostino_results)\n",
    "\n"
   ]
  },
  {
   "cell_type": "code",
   "execution_count": 78,
   "metadata": {},
   "outputs": [
    {
     "name": "stderr",
     "output_type": "stream",
     "text": [
      "2024-11-17 18:31:06,984\tINFO tune.py:616 -- [output] This uses the legacy output and progress reporter, as Jupyter notebooks are not supported by the new engine, yet. For more information, please see https://github.com/ray-project/ray/issues/36949\n"
     ]
    },
    {
     "data": {
      "text/html": [
       "<div class=\"tuneStatus\">\n",
       "  <div style=\"display: flex;flex-direction: row\">\n",
       "    <div style=\"display: flex;flex-direction: column;\">\n",
       "      <h3>Tune Status</h3>\n",
       "      <table>\n",
       "<tbody>\n",
       "<tr><td>Current time:</td><td>2024-11-17 20:15:33</td></tr>\n",
       "<tr><td>Running for: </td><td>01:44:26.88        </td></tr>\n",
       "<tr><td>Memory:      </td><td>100.8/117.9 GiB    </td></tr>\n",
       "</tbody>\n",
       "</table>\n",
       "    </div>\n",
       "    <div class=\"vDivider\"></div>\n",
       "    <div class=\"systemInfo\">\n",
       "      <h3>System Info</h3>\n",
       "      Using FIFO scheduling algorithm.<br>Logical resource usage: 2.0/24 CPUs, 1.0/1 GPUs (0.0/1.0 accelerator_type:G)\n",
       "    </div>\n",
       "    \n",
       "  </div>\n",
       "  <div class=\"hDivider\"></div>\n",
       "  <div class=\"trialStatus\">\n",
       "    <h3>Trial Status</h3>\n",
       "    <table>\n",
       "<thead>\n",
       "<tr><th>Trial name                          </th><th>status    </th><th>loc                    </th><th style=\"text-align: right;\">      alpha</th><th style=\"text-align: right;\">  colsample_bytree</th><th style=\"text-align: right;\">     lambda</th><th style=\"text-align: right;\">  learning_rate</th><th style=\"text-align: right;\">  max_depth</th><th style=\"text-align: right;\">  subsample</th><th style=\"text-align: right;\">  iter</th><th style=\"text-align: right;\">  total time (s)</th><th style=\"text-align: right;\">  c-index stat</th></tr>\n",
       "</thead>\n",
       "<tbody>\n",
       "<tr><td>xgboost_training_wrapper_0df1a_00000</td><td>TERMINATED</td><td>192.168.236.234:1003253</td><td style=\"text-align: right;\">0.0141936  </td><td style=\"text-align: right;\">          0.872683</td><td style=\"text-align: right;\">0.00338673 </td><td style=\"text-align: right;\">      0.0666382</td><td style=\"text-align: right;\">          4</td><td style=\"text-align: right;\">   0.614585</td><td style=\"text-align: right;\">     1</td><td style=\"text-align: right;\">         114.835</td><td style=\"text-align: right;\">      0.85425 </td></tr>\n",
       "<tr><td>xgboost_training_wrapper_0df1a_00001</td><td>TERMINATED</td><td>192.168.236.234:1003687</td><td style=\"text-align: right;\">0.0063679  </td><td style=\"text-align: right;\">          0.965151</td><td style=\"text-align: right;\">2.80002    </td><td style=\"text-align: right;\">      0.0217801</td><td style=\"text-align: right;\">          8</td><td style=\"text-align: right;\">   0.629694</td><td style=\"text-align: right;\">     1</td><td style=\"text-align: right;\">         130.689</td><td style=\"text-align: right;\">      0.852337</td></tr>\n",
       "<tr><td>xgboost_training_wrapper_0df1a_00002</td><td>TERMINATED</td><td>192.168.236.234:1004147</td><td style=\"text-align: right;\">0.0244766  </td><td style=\"text-align: right;\">          0.600954</td><td style=\"text-align: right;\">0.00310441 </td><td style=\"text-align: right;\">      0.228248 </td><td style=\"text-align: right;\">          3</td><td style=\"text-align: right;\">   0.803935</td><td style=\"text-align: right;\">     1</td><td style=\"text-align: right;\">         112.6  </td><td style=\"text-align: right;\">      0.853303</td></tr>\n",
       "<tr><td>xgboost_training_wrapper_0df1a_00003</td><td>TERMINATED</td><td>192.168.236.234:1004568</td><td style=\"text-align: right;\">1.89679    </td><td style=\"text-align: right;\">          0.520151</td><td style=\"text-align: right;\">7.01459    </td><td style=\"text-align: right;\">      0.0431147</td><td style=\"text-align: right;\">          4</td><td style=\"text-align: right;\">   0.88264 </td><td style=\"text-align: right;\">     1</td><td style=\"text-align: right;\">         114.363</td><td style=\"text-align: right;\">      0.856744</td></tr>\n",
       "<tr><td>xgboost_training_wrapper_0df1a_00004</td><td>TERMINATED</td><td>192.168.236.234:1004988</td><td style=\"text-align: right;\">0.0766019  </td><td style=\"text-align: right;\">          0.689039</td><td style=\"text-align: right;\">0.0100393  </td><td style=\"text-align: right;\">      0.0121418</td><td style=\"text-align: right;\">          8</td><td style=\"text-align: right;\">   0.970722</td><td style=\"text-align: right;\">     1</td><td style=\"text-align: right;\">         132.607</td><td style=\"text-align: right;\">      0.855037</td></tr>\n",
       "<tr><td>xgboost_training_wrapper_0df1a_00005</td><td>TERMINATED</td><td>192.168.236.234:1005454</td><td style=\"text-align: right;\">0.000204935</td><td style=\"text-align: right;\">          0.638219</td><td style=\"text-align: right;\">0.00213184 </td><td style=\"text-align: right;\">      0.0719649</td><td style=\"text-align: right;\">          8</td><td style=\"text-align: right;\">   0.769812</td><td style=\"text-align: right;\">     1</td><td style=\"text-align: right;\">         126.329</td><td style=\"text-align: right;\">      0.848903</td></tr>\n",
       "<tr><td>xgboost_training_wrapper_0df1a_00006</td><td>TERMINATED</td><td>192.168.236.234:1005910</td><td style=\"text-align: right;\">0.00897389 </td><td style=\"text-align: right;\">          0.700659</td><td style=\"text-align: right;\">6.11243    </td><td style=\"text-align: right;\">      0.0141268</td><td style=\"text-align: right;\">          5</td><td style=\"text-align: right;\">   0.515068</td><td style=\"text-align: right;\">     1</td><td style=\"text-align: right;\">         115.955</td><td style=\"text-align: right;\">      0.858138</td></tr>\n",
       "<tr><td>xgboost_training_wrapper_0df1a_00007</td><td>TERMINATED</td><td>192.168.236.234:1006335</td><td style=\"text-align: right;\">0.261425   </td><td style=\"text-align: right;\">          0.997296</td><td style=\"text-align: right;\">0.0508392  </td><td style=\"text-align: right;\">      0.140841 </td><td style=\"text-align: right;\">          8</td><td style=\"text-align: right;\">   0.684653</td><td style=\"text-align: right;\">     1</td><td style=\"text-align: right;\">         125.169</td><td style=\"text-align: right;\">      0.848343</td></tr>\n",
       "<tr><td>xgboost_training_wrapper_0df1a_00008</td><td>TERMINATED</td><td>192.168.236.234:1006794</td><td style=\"text-align: right;\">0.00456015 </td><td style=\"text-align: right;\">          0.958849</td><td style=\"text-align: right;\">0.000103928</td><td style=\"text-align: right;\">      0.0159644</td><td style=\"text-align: right;\">          5</td><td style=\"text-align: right;\">   0.863895</td><td style=\"text-align: right;\">     1</td><td style=\"text-align: right;\">         119.522</td><td style=\"text-align: right;\">      0.857573</td></tr>\n",
       "<tr><td>xgboost_training_wrapper_0df1a_00009</td><td>TERMINATED</td><td>192.168.236.234:1007216</td><td style=\"text-align: right;\">0.00350792 </td><td style=\"text-align: right;\">          0.708339</td><td style=\"text-align: right;\">0.00135998 </td><td style=\"text-align: right;\">      0.0230098</td><td style=\"text-align: right;\">          3</td><td style=\"text-align: right;\">   0.719504</td><td style=\"text-align: right;\">     1</td><td style=\"text-align: right;\">         112.981</td><td style=\"text-align: right;\">      0.859644</td></tr>\n",
       "<tr><td>xgboost_training_wrapper_0df1a_00010</td><td>TERMINATED</td><td>192.168.236.234:1007636</td><td style=\"text-align: right;\">0.189726   </td><td style=\"text-align: right;\">          0.825057</td><td style=\"text-align: right;\">0.000213357</td><td style=\"text-align: right;\">      0.145456 </td><td style=\"text-align: right;\">          3</td><td style=\"text-align: right;\">   0.565484</td><td style=\"text-align: right;\">     1</td><td style=\"text-align: right;\">         113.172</td><td style=\"text-align: right;\">      0.854543</td></tr>\n",
       "<tr><td>xgboost_training_wrapper_0df1a_00011</td><td>TERMINATED</td><td>192.168.236.234:1008046</td><td style=\"text-align: right;\">0.103832   </td><td style=\"text-align: right;\">          0.974492</td><td style=\"text-align: right;\">3.86932    </td><td style=\"text-align: right;\">      0.163204 </td><td style=\"text-align: right;\">          6</td><td style=\"text-align: right;\">   0.921749</td><td style=\"text-align: right;\">     1</td><td style=\"text-align: right;\">         118.862</td><td style=\"text-align: right;\">      0.848873</td></tr>\n",
       "<tr><td>xgboost_training_wrapper_0df1a_00012</td><td>TERMINATED</td><td>192.168.236.234:1008484</td><td style=\"text-align: right;\">1.64066    </td><td style=\"text-align: right;\">          0.655229</td><td style=\"text-align: right;\">0.772558   </td><td style=\"text-align: right;\">      0.286105 </td><td style=\"text-align: right;\">          9</td><td style=\"text-align: right;\">   0.665612</td><td style=\"text-align: right;\">     1</td><td style=\"text-align: right;\">         129.112</td><td style=\"text-align: right;\">      0.849451</td></tr>\n",
       "<tr><td>xgboost_training_wrapper_0df1a_00013</td><td>TERMINATED</td><td>192.168.236.234:1008937</td><td style=\"text-align: right;\">3.5125     </td><td style=\"text-align: right;\">          0.7575  </td><td style=\"text-align: right;\">0.000302093</td><td style=\"text-align: right;\">      0.15233  </td><td style=\"text-align: right;\">          4</td><td style=\"text-align: right;\">   0.746198</td><td style=\"text-align: right;\">     1</td><td style=\"text-align: right;\">         114.6  </td><td style=\"text-align: right;\">      0.853892</td></tr>\n",
       "<tr><td>xgboost_training_wrapper_0df1a_00014</td><td>TERMINATED</td><td>192.168.236.234:1009359</td><td style=\"text-align: right;\">0.00130085 </td><td style=\"text-align: right;\">          0.886701</td><td style=\"text-align: right;\">1.83674    </td><td style=\"text-align: right;\">      0.0116391</td><td style=\"text-align: right;\">          5</td><td style=\"text-align: right;\">   0.701244</td><td style=\"text-align: right;\">     1</td><td style=\"text-align: right;\">         120.265</td><td style=\"text-align: right;\">      0.858873</td></tr>\n",
       "<tr><td>xgboost_training_wrapper_0df1a_00015</td><td>TERMINATED</td><td>192.168.236.234:1009791</td><td style=\"text-align: right;\">0.000705284</td><td style=\"text-align: right;\">          0.681995</td><td style=\"text-align: right;\">0.599014   </td><td style=\"text-align: right;\">      0.106481 </td><td style=\"text-align: right;\">          9</td><td style=\"text-align: right;\">   0.577541</td><td style=\"text-align: right;\">     1</td><td style=\"text-align: right;\">         133.486</td><td style=\"text-align: right;\">      0.847732</td></tr>\n",
       "<tr><td>xgboost_training_wrapper_0df1a_00016</td><td>TERMINATED</td><td>192.168.236.234:1010268</td><td style=\"text-align: right;\">0.032358   </td><td style=\"text-align: right;\">          0.638383</td><td style=\"text-align: right;\">1.25525    </td><td style=\"text-align: right;\">      0.0555081</td><td style=\"text-align: right;\">          8</td><td style=\"text-align: right;\">   0.80223 </td><td style=\"text-align: right;\">     1</td><td style=\"text-align: right;\">         128.569</td><td style=\"text-align: right;\">      0.849706</td></tr>\n",
       "<tr><td>xgboost_training_wrapper_0df1a_00017</td><td>TERMINATED</td><td>192.168.236.234:1010739</td><td style=\"text-align: right;\">0.0424569  </td><td style=\"text-align: right;\">          0.786463</td><td style=\"text-align: right;\">0.35989    </td><td style=\"text-align: right;\">      0.0452184</td><td style=\"text-align: right;\">          7</td><td style=\"text-align: right;\">   0.680765</td><td style=\"text-align: right;\">     1</td><td style=\"text-align: right;\">         125.236</td><td style=\"text-align: right;\">      0.850989</td></tr>\n",
       "<tr><td>xgboost_training_wrapper_0df1a_00018</td><td>TERMINATED</td><td>192.168.236.234:1011186</td><td style=\"text-align: right;\">2.02878    </td><td style=\"text-align: right;\">          0.591285</td><td style=\"text-align: right;\">0.113749   </td><td style=\"text-align: right;\">      0.0346388</td><td style=\"text-align: right;\">          5</td><td style=\"text-align: right;\">   0.543062</td><td style=\"text-align: right;\">     1</td><td style=\"text-align: right;\">         116.483</td><td style=\"text-align: right;\">      0.855771</td></tr>\n",
       "<tr><td>xgboost_training_wrapper_0df1a_00019</td><td>TERMINATED</td><td>192.168.236.234:1011608</td><td style=\"text-align: right;\">0.00045425 </td><td style=\"text-align: right;\">          0.916554</td><td style=\"text-align: right;\">0.0182747  </td><td style=\"text-align: right;\">      0.0129238</td><td style=\"text-align: right;\">          8</td><td style=\"text-align: right;\">   0.770311</td><td style=\"text-align: right;\">     1</td><td style=\"text-align: right;\">         132.948</td><td style=\"text-align: right;\">      0.854299</td></tr>\n",
       "<tr><td>xgboost_training_wrapper_0df1a_00020</td><td>TERMINATED</td><td>192.168.236.234:1012080</td><td style=\"text-align: right;\">0.00161531 </td><td style=\"text-align: right;\">          0.638477</td><td style=\"text-align: right;\">0.00189362 </td><td style=\"text-align: right;\">      0.118459 </td><td style=\"text-align: right;\">          4</td><td style=\"text-align: right;\">   0.998504</td><td style=\"text-align: right;\">     1</td><td style=\"text-align: right;\">         115.856</td><td style=\"text-align: right;\">      0.853294</td></tr>\n",
       "<tr><td>xgboost_training_wrapper_0df1a_00021</td><td>TERMINATED</td><td>192.168.236.234:1012498</td><td style=\"text-align: right;\">8.11561    </td><td style=\"text-align: right;\">          0.894285</td><td style=\"text-align: right;\">1.95689    </td><td style=\"text-align: right;\">      0.0200139</td><td style=\"text-align: right;\">          7</td><td style=\"text-align: right;\">   0.685129</td><td style=\"text-align: right;\">     1</td><td style=\"text-align: right;\">         119.755</td><td style=\"text-align: right;\">      0.85606 </td></tr>\n",
       "<tr><td>xgboost_training_wrapper_0df1a_00022</td><td>TERMINATED</td><td>192.168.236.234:1012942</td><td style=\"text-align: right;\">0.00103324 </td><td style=\"text-align: right;\">          0.775879</td><td style=\"text-align: right;\">0.0140383  </td><td style=\"text-align: right;\">      0.0429799</td><td style=\"text-align: right;\">          8</td><td style=\"text-align: right;\">   0.860492</td><td style=\"text-align: right;\">     1</td><td style=\"text-align: right;\">         128.121</td><td style=\"text-align: right;\">      0.85007 </td></tr>\n",
       "<tr><td>xgboost_training_wrapper_0df1a_00023</td><td>TERMINATED</td><td>192.168.236.234:1013410</td><td style=\"text-align: right;\">0.000158979</td><td style=\"text-align: right;\">          0.694164</td><td style=\"text-align: right;\">0.0656815  </td><td style=\"text-align: right;\">      0.097564 </td><td style=\"text-align: right;\">          6</td><td style=\"text-align: right;\">   0.739965</td><td style=\"text-align: right;\">     1</td><td style=\"text-align: right;\">         118.059</td><td style=\"text-align: right;\">      0.850055</td></tr>\n",
       "<tr><td>xgboost_training_wrapper_0df1a_00024</td><td>TERMINATED</td><td>192.168.236.234:1013835</td><td style=\"text-align: right;\">0.212188   </td><td style=\"text-align: right;\">          0.820067</td><td style=\"text-align: right;\">2.64187    </td><td style=\"text-align: right;\">      0.0114646</td><td style=\"text-align: right;\">          6</td><td style=\"text-align: right;\">   0.94093 </td><td style=\"text-align: right;\">     1</td><td style=\"text-align: right;\">         118.455</td><td style=\"text-align: right;\">      0.857685</td></tr>\n",
       "<tr><td>xgboost_training_wrapper_0df1a_00025</td><td>TERMINATED</td><td>192.168.236.234:1014273</td><td style=\"text-align: right;\">0.688854   </td><td style=\"text-align: right;\">          0.695156</td><td style=\"text-align: right;\">0.000301549</td><td style=\"text-align: right;\">      0.0895866</td><td style=\"text-align: right;\">          7</td><td style=\"text-align: right;\">   0.52563 </td><td style=\"text-align: right;\">     1</td><td style=\"text-align: right;\">         121.01 </td><td style=\"text-align: right;\">      0.850118</td></tr>\n",
       "<tr><td>xgboost_training_wrapper_0df1a_00026</td><td>TERMINATED</td><td>192.168.236.234:1014710</td><td style=\"text-align: right;\">0.00075681 </td><td style=\"text-align: right;\">          0.572355</td><td style=\"text-align: right;\">7.01653    </td><td style=\"text-align: right;\">      0.113241 </td><td style=\"text-align: right;\">          9</td><td style=\"text-align: right;\">   0.996577</td><td style=\"text-align: right;\">     1</td><td style=\"text-align: right;\">         139.665</td><td style=\"text-align: right;\">      0.848065</td></tr>\n",
       "<tr><td>xgboost_training_wrapper_0df1a_00027</td><td>TERMINATED</td><td>192.168.236.234:1015201</td><td style=\"text-align: right;\">3.42695    </td><td style=\"text-align: right;\">          0.597623</td><td style=\"text-align: right;\">0.0195794  </td><td style=\"text-align: right;\">      0.145073 </td><td style=\"text-align: right;\">          8</td><td style=\"text-align: right;\">   0.616231</td><td style=\"text-align: right;\">     1</td><td style=\"text-align: right;\">         125.378</td><td style=\"text-align: right;\">      0.851214</td></tr>\n",
       "<tr><td>xgboost_training_wrapper_0df1a_00028</td><td>TERMINATED</td><td>192.168.236.234:1015645</td><td style=\"text-align: right;\">1.20526    </td><td style=\"text-align: right;\">          0.709657</td><td style=\"text-align: right;\">0.00229795 </td><td style=\"text-align: right;\">      0.0120392</td><td style=\"text-align: right;\">          7</td><td style=\"text-align: right;\">   0.908045</td><td style=\"text-align: right;\">     1</td><td style=\"text-align: right;\">         121.61 </td><td style=\"text-align: right;\">      0.856722</td></tr>\n",
       "<tr><td>xgboost_training_wrapper_0df1a_00029</td><td>TERMINATED</td><td>192.168.236.234:1016084</td><td style=\"text-align: right;\">0.0222691  </td><td style=\"text-align: right;\">          0.572108</td><td style=\"text-align: right;\">0.0920625  </td><td style=\"text-align: right;\">      0.0305251</td><td style=\"text-align: right;\">          3</td><td style=\"text-align: right;\">   0.653229</td><td style=\"text-align: right;\">     1</td><td style=\"text-align: right;\">         114.437</td><td style=\"text-align: right;\">      0.858829</td></tr>\n",
       "<tr><td>xgboost_training_wrapper_0df1a_00030</td><td>TERMINATED</td><td>192.168.236.234:1016508</td><td style=\"text-align: right;\">0.000822606</td><td style=\"text-align: right;\">          0.554367</td><td style=\"text-align: right;\">5.53132    </td><td style=\"text-align: right;\">      0.013192 </td><td style=\"text-align: right;\">          9</td><td style=\"text-align: right;\">   0.779922</td><td style=\"text-align: right;\">     1</td><td style=\"text-align: right;\">         140.427</td><td style=\"text-align: right;\">      0.854119</td></tr>\n",
       "<tr><td>xgboost_training_wrapper_0df1a_00031</td><td>TERMINATED</td><td>192.168.236.234:1017005</td><td style=\"text-align: right;\">0.000354071</td><td style=\"text-align: right;\">          0.894076</td><td style=\"text-align: right;\">0.0107043  </td><td style=\"text-align: right;\">      0.161475 </td><td style=\"text-align: right;\">          6</td><td style=\"text-align: right;\">   0.936782</td><td style=\"text-align: right;\">     1</td><td style=\"text-align: right;\">         118.801</td><td style=\"text-align: right;\">      0.848579</td></tr>\n",
       "<tr><td>xgboost_training_wrapper_0df1a_00032</td><td>TERMINATED</td><td>192.168.236.234:1017444</td><td style=\"text-align: right;\">3.65044    </td><td style=\"text-align: right;\">          0.521565</td><td style=\"text-align: right;\">0.0308052  </td><td style=\"text-align: right;\">      0.0328091</td><td style=\"text-align: right;\">          4</td><td style=\"text-align: right;\">   0.733853</td><td style=\"text-align: right;\">     1</td><td style=\"text-align: right;\">         116.023</td><td style=\"text-align: right;\">      0.857887</td></tr>\n",
       "<tr><td>xgboost_training_wrapper_0df1a_00033</td><td>TERMINATED</td><td>192.168.236.234:1017875</td><td style=\"text-align: right;\">2.59293    </td><td style=\"text-align: right;\">          0.505528</td><td style=\"text-align: right;\">0.012097   </td><td style=\"text-align: right;\">      0.012767 </td><td style=\"text-align: right;\">          8</td><td style=\"text-align: right;\">   0.518238</td><td style=\"text-align: right;\">     1</td><td style=\"text-align: right;\">         127.984</td><td style=\"text-align: right;\">      0.857112</td></tr>\n",
       "<tr><td>xgboost_training_wrapper_0df1a_00034</td><td>TERMINATED</td><td>192.168.236.234:1018320</td><td style=\"text-align: right;\">0.000207843</td><td style=\"text-align: right;\">          0.852118</td><td style=\"text-align: right;\">0.00862701 </td><td style=\"text-align: right;\">      0.0195553</td><td style=\"text-align: right;\">          3</td><td style=\"text-align: right;\">   0.572545</td><td style=\"text-align: right;\">     1</td><td style=\"text-align: right;\">         115.134</td><td style=\"text-align: right;\">      0.860227</td></tr>\n",
       "<tr><td>xgboost_training_wrapper_0df1a_00035</td><td>TERMINATED</td><td>192.168.236.234:1018744</td><td style=\"text-align: right;\">0.156941   </td><td style=\"text-align: right;\">          0.696094</td><td style=\"text-align: right;\">0.0535538  </td><td style=\"text-align: right;\">      0.226177 </td><td style=\"text-align: right;\">          7</td><td style=\"text-align: right;\">   0.580455</td><td style=\"text-align: right;\">     1</td><td style=\"text-align: right;\">         120.55 </td><td style=\"text-align: right;\">      0.84798 </td></tr>\n",
       "<tr><td>xgboost_training_wrapper_0df1a_00036</td><td>TERMINATED</td><td>192.168.236.234:1019175</td><td style=\"text-align: right;\">0.0024709  </td><td style=\"text-align: right;\">          0.518967</td><td style=\"text-align: right;\">0.00112623 </td><td style=\"text-align: right;\">      0.0226958</td><td style=\"text-align: right;\">          5</td><td style=\"text-align: right;\">   0.916643</td><td style=\"text-align: right;\">     1</td><td style=\"text-align: right;\">         117.726</td><td style=\"text-align: right;\">      0.856514</td></tr>\n",
       "<tr><td>xgboost_training_wrapper_0df1a_00037</td><td>TERMINATED</td><td>192.168.236.234:1019613</td><td style=\"text-align: right;\">1.29232    </td><td style=\"text-align: right;\">          0.545638</td><td style=\"text-align: right;\">2.18865    </td><td style=\"text-align: right;\">      0.115359 </td><td style=\"text-align: right;\">          4</td><td style=\"text-align: right;\">   0.589264</td><td style=\"text-align: right;\">     1</td><td style=\"text-align: right;\">         116.349</td><td style=\"text-align: right;\">      0.853989</td></tr>\n",
       "<tr><td>xgboost_training_wrapper_0df1a_00038</td><td>TERMINATED</td><td>192.168.236.234:1020045</td><td style=\"text-align: right;\">0.0411813  </td><td style=\"text-align: right;\">          0.536011</td><td style=\"text-align: right;\">0.243726   </td><td style=\"text-align: right;\">      0.160642 </td><td style=\"text-align: right;\">          7</td><td style=\"text-align: right;\">   0.7973  </td><td style=\"text-align: right;\">     1</td><td style=\"text-align: right;\">         125.44 </td><td style=\"text-align: right;\">      0.848956</td></tr>\n",
       "<tr><td>xgboost_training_wrapper_0df1a_00039</td><td>TERMINATED</td><td>192.168.236.234:1020486</td><td style=\"text-align: right;\">3.86133    </td><td style=\"text-align: right;\">          0.963102</td><td style=\"text-align: right;\">4.0494     </td><td style=\"text-align: right;\">      0.106039 </td><td style=\"text-align: right;\">          3</td><td style=\"text-align: right;\">   0.856539</td><td style=\"text-align: right;\">     1</td><td style=\"text-align: right;\">         115.501</td><td style=\"text-align: right;\">      0.856262</td></tr>\n",
       "<tr><td>xgboost_training_wrapper_0df1a_00040</td><td>TERMINATED</td><td>192.168.236.234:1020912</td><td style=\"text-align: right;\">0.157519   </td><td style=\"text-align: right;\">          0.51208 </td><td style=\"text-align: right;\">3.84408    </td><td style=\"text-align: right;\">      0.0224709</td><td style=\"text-align: right;\">          8</td><td style=\"text-align: right;\">   0.722337</td><td style=\"text-align: right;\">     1</td><td style=\"text-align: right;\">         130.975</td><td style=\"text-align: right;\">      0.85297 </td></tr>\n",
       "<tr><td>xgboost_training_wrapper_0df1a_00041</td><td>TERMINATED</td><td>192.168.236.234:1021368</td><td style=\"text-align: right;\">1.62788    </td><td style=\"text-align: right;\">          0.830472</td><td style=\"text-align: right;\">8.10623    </td><td style=\"text-align: right;\">      0.0218567</td><td style=\"text-align: right;\">          3</td><td style=\"text-align: right;\">   0.916826</td><td style=\"text-align: right;\">     1</td><td style=\"text-align: right;\">         113.034</td><td style=\"text-align: right;\">      0.86018 </td></tr>\n",
       "<tr><td>xgboost_training_wrapper_0df1a_00042</td><td>TERMINATED</td><td>192.168.236.234:1021788</td><td style=\"text-align: right;\">0.557428   </td><td style=\"text-align: right;\">          0.855299</td><td style=\"text-align: right;\">0.65906    </td><td style=\"text-align: right;\">      0.204949 </td><td style=\"text-align: right;\">          9</td><td style=\"text-align: right;\">   0.610634</td><td style=\"text-align: right;\">     1</td><td style=\"text-align: right;\">         134.559</td><td style=\"text-align: right;\">      0.84788 </td></tr>\n",
       "<tr><td>xgboost_training_wrapper_0df1a_00043</td><td>TERMINATED</td><td>192.168.236.234:1022265</td><td style=\"text-align: right;\">4.42143    </td><td style=\"text-align: right;\">          0.97294 </td><td style=\"text-align: right;\">5.39423    </td><td style=\"text-align: right;\">      0.0509519</td><td style=\"text-align: right;\">          7</td><td style=\"text-align: right;\">   0.918353</td><td style=\"text-align: right;\">     1</td><td style=\"text-align: right;\">         119.285</td><td style=\"text-align: right;\">      0.852434</td></tr>\n",
       "<tr><td>xgboost_training_wrapper_0df1a_00044</td><td>TERMINATED</td><td>192.168.236.234:1022695</td><td style=\"text-align: right;\">0.00136353 </td><td style=\"text-align: right;\">          0.555566</td><td style=\"text-align: right;\">0.122457   </td><td style=\"text-align: right;\">      0.0103321</td><td style=\"text-align: right;\">          9</td><td style=\"text-align: right;\">   0.764392</td><td style=\"text-align: right;\">     1</td><td style=\"text-align: right;\">         144.934</td><td style=\"text-align: right;\">      0.854752</td></tr>\n",
       "<tr><td>xgboost_training_wrapper_0df1a_00045</td><td>TERMINATED</td><td>192.168.236.234:1023207</td><td style=\"text-align: right;\">0.00181749 </td><td style=\"text-align: right;\">          0.910526</td><td style=\"text-align: right;\">4.43239    </td><td style=\"text-align: right;\">      0.0503477</td><td style=\"text-align: right;\">          5</td><td style=\"text-align: right;\">   0.887267</td><td style=\"text-align: right;\">     1</td><td style=\"text-align: right;\">         116.968</td><td style=\"text-align: right;\">      0.853878</td></tr>\n",
       "<tr><td>xgboost_training_wrapper_0df1a_00046</td><td>TERMINATED</td><td>192.168.236.234:1023630</td><td style=\"text-align: right;\">0.119174   </td><td style=\"text-align: right;\">          0.83642 </td><td style=\"text-align: right;\">0.00012569 </td><td style=\"text-align: right;\">      0.0110687</td><td style=\"text-align: right;\">          5</td><td style=\"text-align: right;\">   0.732807</td><td style=\"text-align: right;\">     1</td><td style=\"text-align: right;\">         120.055</td><td style=\"text-align: right;\">      0.859234</td></tr>\n",
       "<tr><td>xgboost_training_wrapper_0df1a_00047</td><td>TERMINATED</td><td>192.168.236.234:1024063</td><td style=\"text-align: right;\">1.71205    </td><td style=\"text-align: right;\">          0.823815</td><td style=\"text-align: right;\">0.072089   </td><td style=\"text-align: right;\">      0.142261 </td><td style=\"text-align: right;\">          4</td><td style=\"text-align: right;\">   0.878466</td><td style=\"text-align: right;\">     1</td><td style=\"text-align: right;\">         114.325</td><td style=\"text-align: right;\">      0.853106</td></tr>\n",
       "<tr><td>xgboost_training_wrapper_0df1a_00048</td><td>TERMINATED</td><td>192.168.236.234:1024487</td><td style=\"text-align: right;\">0.00328282 </td><td style=\"text-align: right;\">          0.887186</td><td style=\"text-align: right;\">0.000410361</td><td style=\"text-align: right;\">      0.0542501</td><td style=\"text-align: right;\">          9</td><td style=\"text-align: right;\">   0.551501</td><td style=\"text-align: right;\">     1</td><td style=\"text-align: right;\">         140.913</td><td style=\"text-align: right;\">      0.848814</td></tr>\n",
       "<tr><td>xgboost_training_wrapper_0df1a_00049</td><td>TERMINATED</td><td>192.168.236.234:1024971</td><td style=\"text-align: right;\">0.501835   </td><td style=\"text-align: right;\">          0.829013</td><td style=\"text-align: right;\">6.75394    </td><td style=\"text-align: right;\">      0.0148373</td><td style=\"text-align: right;\">          3</td><td style=\"text-align: right;\">   0.816801</td><td style=\"text-align: right;\">     1</td><td style=\"text-align: right;\">         114.063</td><td style=\"text-align: right;\">      0.861453</td></tr>\n",
       "</tbody>\n",
       "</table>\n",
       "  </div>\n",
       "</div>\n",
       "<style>\n",
       ".tuneStatus {\n",
       "  color: var(--jp-ui-font-color1);\n",
       "}\n",
       ".tuneStatus .systemInfo {\n",
       "  display: flex;\n",
       "  flex-direction: column;\n",
       "}\n",
       ".tuneStatus td {\n",
       "  white-space: nowrap;\n",
       "}\n",
       ".tuneStatus .trialStatus {\n",
       "  display: flex;\n",
       "  flex-direction: column;\n",
       "}\n",
       ".tuneStatus h3 {\n",
       "  font-weight: bold;\n",
       "}\n",
       ".tuneStatus .hDivider {\n",
       "  border-bottom-width: var(--jp-border-width);\n",
       "  border-bottom-color: var(--jp-border-color0);\n",
       "  border-bottom-style: solid;\n",
       "}\n",
       ".tuneStatus .vDivider {\n",
       "  border-left-width: var(--jp-border-width);\n",
       "  border-left-color: var(--jp-border-color0);\n",
       "  border-left-style: solid;\n",
       "  margin: 0.5em 1em 0.5em 1em;\n",
       "}\n",
       "</style>\n"
      ],
      "text/plain": [
       "<IPython.core.display.HTML object>"
      ]
     },
     "metadata": {},
     "output_type": "display_data"
    },
    {
     "data": {
      "text/html": [
       "<div class=\"trialProgress\">\n",
       "  <h3>Trial Progress</h3>\n",
       "  <table>\n",
       "<thead>\n",
       "<tr><th>Trial name                          </th><th style=\"text-align: right;\">  c-index stat</th></tr>\n",
       "</thead>\n",
       "<tbody>\n",
       "<tr><td>xgboost_training_wrapper_0df1a_00000</td><td style=\"text-align: right;\">      0.85425 </td></tr>\n",
       "<tr><td>xgboost_training_wrapper_0df1a_00001</td><td style=\"text-align: right;\">      0.852337</td></tr>\n",
       "<tr><td>xgboost_training_wrapper_0df1a_00002</td><td style=\"text-align: right;\">      0.853303</td></tr>\n",
       "<tr><td>xgboost_training_wrapper_0df1a_00003</td><td style=\"text-align: right;\">      0.856744</td></tr>\n",
       "<tr><td>xgboost_training_wrapper_0df1a_00004</td><td style=\"text-align: right;\">      0.855037</td></tr>\n",
       "<tr><td>xgboost_training_wrapper_0df1a_00005</td><td style=\"text-align: right;\">      0.848903</td></tr>\n",
       "<tr><td>xgboost_training_wrapper_0df1a_00006</td><td style=\"text-align: right;\">      0.858138</td></tr>\n",
       "<tr><td>xgboost_training_wrapper_0df1a_00007</td><td style=\"text-align: right;\">      0.848343</td></tr>\n",
       "<tr><td>xgboost_training_wrapper_0df1a_00008</td><td style=\"text-align: right;\">      0.857573</td></tr>\n",
       "<tr><td>xgboost_training_wrapper_0df1a_00009</td><td style=\"text-align: right;\">      0.859644</td></tr>\n",
       "<tr><td>xgboost_training_wrapper_0df1a_00010</td><td style=\"text-align: right;\">      0.854543</td></tr>\n",
       "<tr><td>xgboost_training_wrapper_0df1a_00011</td><td style=\"text-align: right;\">      0.848873</td></tr>\n",
       "<tr><td>xgboost_training_wrapper_0df1a_00012</td><td style=\"text-align: right;\">      0.849451</td></tr>\n",
       "<tr><td>xgboost_training_wrapper_0df1a_00013</td><td style=\"text-align: right;\">      0.853892</td></tr>\n",
       "<tr><td>xgboost_training_wrapper_0df1a_00014</td><td style=\"text-align: right;\">      0.858873</td></tr>\n",
       "<tr><td>xgboost_training_wrapper_0df1a_00015</td><td style=\"text-align: right;\">      0.847732</td></tr>\n",
       "<tr><td>xgboost_training_wrapper_0df1a_00016</td><td style=\"text-align: right;\">      0.849706</td></tr>\n",
       "<tr><td>xgboost_training_wrapper_0df1a_00017</td><td style=\"text-align: right;\">      0.850989</td></tr>\n",
       "<tr><td>xgboost_training_wrapper_0df1a_00018</td><td style=\"text-align: right;\">      0.855771</td></tr>\n",
       "<tr><td>xgboost_training_wrapper_0df1a_00019</td><td style=\"text-align: right;\">      0.854299</td></tr>\n",
       "<tr><td>xgboost_training_wrapper_0df1a_00020</td><td style=\"text-align: right;\">      0.853294</td></tr>\n",
       "<tr><td>xgboost_training_wrapper_0df1a_00021</td><td style=\"text-align: right;\">      0.85606 </td></tr>\n",
       "<tr><td>xgboost_training_wrapper_0df1a_00022</td><td style=\"text-align: right;\">      0.85007 </td></tr>\n",
       "<tr><td>xgboost_training_wrapper_0df1a_00023</td><td style=\"text-align: right;\">      0.850055</td></tr>\n",
       "<tr><td>xgboost_training_wrapper_0df1a_00024</td><td style=\"text-align: right;\">      0.857685</td></tr>\n",
       "<tr><td>xgboost_training_wrapper_0df1a_00025</td><td style=\"text-align: right;\">      0.850118</td></tr>\n",
       "<tr><td>xgboost_training_wrapper_0df1a_00026</td><td style=\"text-align: right;\">      0.848065</td></tr>\n",
       "<tr><td>xgboost_training_wrapper_0df1a_00027</td><td style=\"text-align: right;\">      0.851214</td></tr>\n",
       "<tr><td>xgboost_training_wrapper_0df1a_00028</td><td style=\"text-align: right;\">      0.856722</td></tr>\n",
       "<tr><td>xgboost_training_wrapper_0df1a_00029</td><td style=\"text-align: right;\">      0.858829</td></tr>\n",
       "<tr><td>xgboost_training_wrapper_0df1a_00030</td><td style=\"text-align: right;\">      0.854119</td></tr>\n",
       "<tr><td>xgboost_training_wrapper_0df1a_00031</td><td style=\"text-align: right;\">      0.848579</td></tr>\n",
       "<tr><td>xgboost_training_wrapper_0df1a_00032</td><td style=\"text-align: right;\">      0.857887</td></tr>\n",
       "<tr><td>xgboost_training_wrapper_0df1a_00033</td><td style=\"text-align: right;\">      0.857112</td></tr>\n",
       "<tr><td>xgboost_training_wrapper_0df1a_00034</td><td style=\"text-align: right;\">      0.860227</td></tr>\n",
       "<tr><td>xgboost_training_wrapper_0df1a_00035</td><td style=\"text-align: right;\">      0.84798 </td></tr>\n",
       "<tr><td>xgboost_training_wrapper_0df1a_00036</td><td style=\"text-align: right;\">      0.856514</td></tr>\n",
       "<tr><td>xgboost_training_wrapper_0df1a_00037</td><td style=\"text-align: right;\">      0.853989</td></tr>\n",
       "<tr><td>xgboost_training_wrapper_0df1a_00038</td><td style=\"text-align: right;\">      0.848956</td></tr>\n",
       "<tr><td>xgboost_training_wrapper_0df1a_00039</td><td style=\"text-align: right;\">      0.856262</td></tr>\n",
       "<tr><td>xgboost_training_wrapper_0df1a_00040</td><td style=\"text-align: right;\">      0.85297 </td></tr>\n",
       "<tr><td>xgboost_training_wrapper_0df1a_00041</td><td style=\"text-align: right;\">      0.86018 </td></tr>\n",
       "<tr><td>xgboost_training_wrapper_0df1a_00042</td><td style=\"text-align: right;\">      0.84788 </td></tr>\n",
       "<tr><td>xgboost_training_wrapper_0df1a_00043</td><td style=\"text-align: right;\">      0.852434</td></tr>\n",
       "<tr><td>xgboost_training_wrapper_0df1a_00044</td><td style=\"text-align: right;\">      0.854752</td></tr>\n",
       "<tr><td>xgboost_training_wrapper_0df1a_00045</td><td style=\"text-align: right;\">      0.853878</td></tr>\n",
       "<tr><td>xgboost_training_wrapper_0df1a_00046</td><td style=\"text-align: right;\">      0.859234</td></tr>\n",
       "<tr><td>xgboost_training_wrapper_0df1a_00047</td><td style=\"text-align: right;\">      0.853106</td></tr>\n",
       "<tr><td>xgboost_training_wrapper_0df1a_00048</td><td style=\"text-align: right;\">      0.848814</td></tr>\n",
       "<tr><td>xgboost_training_wrapper_0df1a_00049</td><td style=\"text-align: right;\">      0.861453</td></tr>\n",
       "</tbody>\n",
       "</table>\n",
       "</div>\n",
       "<style>\n",
       ".trialProgress {\n",
       "  display: flex;\n",
       "  flex-direction: column;\n",
       "  color: var(--jp-ui-font-color1);\n",
       "}\n",
       ".trialProgress h3 {\n",
       "  font-weight: bold;\n",
       "}\n",
       ".trialProgress td {\n",
       "  white-space: nowrap;\n",
       "}\n",
       "</style>\n"
      ],
      "text/plain": [
       "<IPython.core.display.HTML object>"
      ]
     },
     "metadata": {},
     "output_type": "display_data"
    },
    {
     "name": "stderr",
     "output_type": "stream",
     "text": [
      "2024-11-17 18:33:07,651 - INFO - Summary name ray/tune/c-index stat is illegal; using ray/tune/c-index_stat instead.\n",
      "2024-11-17 18:35:20,666 - INFO - Summary name ray/tune/c-index stat is illegal; using ray/tune/c-index_stat instead.\n",
      "2024-11-17 18:37:15,012 - INFO - Summary name ray/tune/c-index stat is illegal; using ray/tune/c-index_stat instead.\n",
      "2024-11-17 18:39:11,679 - INFO - Summary name ray/tune/c-index stat is illegal; using ray/tune/c-index_stat instead.\n",
      "2024-11-17 18:41:26,716 - INFO - Summary name ray/tune/c-index stat is illegal; using ray/tune/c-index_stat instead.\n",
      "2024-11-17 18:43:35,691 - INFO - Summary name ray/tune/c-index stat is illegal; using ray/tune/c-index_stat instead.\n",
      "2024-11-17 18:45:37,053 - INFO - Summary name ray/tune/c-index stat is illegal; using ray/tune/c-index_stat instead.\n",
      "2024-11-17 18:47:44,061 - INFO - Summary name ray/tune/c-index stat is illegal; using ray/tune/c-index_stat instead.\n",
      "2024-11-17 18:49:45,263 - INFO - Summary name ray/tune/c-index stat is illegal; using ray/tune/c-index_stat instead.\n",
      "2024-11-17 18:51:29,885\tWARNING util.py:201 -- The `choose_trial_to_run` operation took 3.612 s, which may be a performance bottleneck.\n",
      "2024-11-17 18:51:40,212 - INFO - Summary name ray/tune/c-index stat is illegal; using ray/tune/c-index_stat instead.\n",
      "2024-11-17 18:53:35,206 - INFO - Summary name ray/tune/c-index stat is illegal; using ray/tune/c-index_stat instead.\n",
      "2024-11-17 18:55:35,790 - INFO - Summary name ray/tune/c-index stat is illegal; using ray/tune/c-index_stat instead.\n",
      "2024-11-17 18:57:46,852 - INFO - Summary name ray/tune/c-index stat is illegal; using ray/tune/c-index_stat instead.\n",
      "2024-11-17 18:59:43,852 - INFO - Summary name ray/tune/c-index stat is illegal; using ray/tune/c-index_stat instead.\n",
      "2024-11-17 19:01:47,063 - INFO - Summary name ray/tune/c-index stat is illegal; using ray/tune/c-index_stat instead.\n",
      "2024-11-17 19:04:03,003 - INFO - Summary name ray/tune/c-index stat is illegal; using ray/tune/c-index_stat instead.\n",
      "2024-11-17 19:06:17,545 - INFO - Summary name ray/tune/c-index stat is illegal; using ray/tune/c-index_stat instead.\n",
      "2024-11-17 19:08:25,792 - INFO - Summary name ray/tune/c-index stat is illegal; using ray/tune/c-index_stat instead.\n",
      "2024-11-17 19:10:24,802 - INFO - Summary name ray/tune/c-index stat is illegal; using ray/tune/c-index_stat instead.\n",
      "2024-11-17 19:12:40,101 - INFO - Summary name ray/tune/c-index stat is illegal; using ray/tune/c-index_stat instead.\n",
      "2024-11-17 19:14:38,479 - INFO - Summary name ray/tune/c-index stat is illegal; using ray/tune/c-index_stat instead.\n",
      "2024-11-17 19:16:40,956 - INFO - Summary name ray/tune/c-index stat is illegal; using ray/tune/c-index_stat instead.\n",
      "2024-11-17 19:18:55,024 - INFO - Summary name ray/tune/c-index stat is illegal; using ray/tune/c-index_stat instead.\n",
      "2024-11-17 19:20:54,802 - INFO - Summary name ray/tune/c-index stat is illegal; using ray/tune/c-index_stat instead.\n",
      "2024-11-17 19:22:59,419 - INFO - Summary name ray/tune/c-index stat is illegal; using ray/tune/c-index_stat instead.\n",
      "2024-11-17 19:25:02,077 - INFO - Summary name ray/tune/c-index stat is illegal; using ray/tune/c-index_stat instead.\n",
      "2024-11-17 19:27:23,567 - INFO - Summary name ray/tune/c-index stat is illegal; using ray/tune/c-index_stat instead.\n",
      "2024-11-17 19:29:30,739 - INFO - Summary name ray/tune/c-index stat is illegal; using ray/tune/c-index_stat instead.\n",
      "2024-11-17 19:31:35,228 - INFO - Summary name ray/tune/c-index stat is illegal; using ray/tune/c-index_stat instead.\n",
      "2024-11-17 19:33:32,073 - INFO - Summary name ray/tune/c-index stat is illegal; using ray/tune/c-index_stat instead.\n",
      "2024-11-17 19:35:58,538 - INFO - Summary name ray/tune/c-index stat is illegal; using ray/tune/c-index_stat instead.\n",
      "2024-11-17 19:38:04,578 - INFO - Summary name ray/tune/c-index stat is illegal; using ray/tune/c-index_stat instead.\n",
      "2024-11-17 19:40:02,562 - INFO - Summary name ray/tune/c-index stat is illegal; using ray/tune/c-index_stat instead.\n",
      "2024-11-17 19:42:12,246 - INFO - Summary name ray/tune/c-index stat is illegal; using ray/tune/c-index_stat instead.\n",
      "2024-11-17 19:44:09,897 - INFO - Summary name ray/tune/c-index stat is illegal; using ray/tune/c-index_stat instead.\n",
      "2024-11-17 19:46:12,198 - INFO - Summary name ray/tune/c-index stat is illegal; using ray/tune/c-index_stat instead.\n",
      "2024-11-17 19:48:15,799 - INFO - Summary name ray/tune/c-index stat is illegal; using ray/tune/c-index_stat instead.\n",
      "2024-11-17 19:50:14,243 - INFO - Summary name ray/tune/c-index stat is illegal; using ray/tune/c-index_stat instead.\n",
      "2024-11-17 19:52:22,206 - INFO - Summary name ray/tune/c-index stat is illegal; using ray/tune/c-index_stat instead.\n",
      "2024-11-17 19:54:20,464 - INFO - Summary name ray/tune/c-index stat is illegal; using ray/tune/c-index_stat instead.\n",
      "2024-11-17 19:56:34,005 - INFO - Summary name ray/tune/c-index stat is illegal; using ray/tune/c-index_stat instead.\n",
      "2024-11-17 19:58:29,620 - INFO - Summary name ray/tune/c-index stat is illegal; using ray/tune/c-index_stat instead.\n",
      "2024-11-17 20:00:45,895 - INFO - Summary name ray/tune/c-index stat is illegal; using ray/tune/c-index_stat instead.\n",
      "2024-11-17 20:02:47,794 - INFO - Summary name ray/tune/c-index stat is illegal; using ray/tune/c-index_stat instead.\n",
      "2024-11-17 20:05:14,515 - INFO - Summary name ray/tune/c-index stat is illegal; using ray/tune/c-index_stat instead.\n",
      "2024-11-17 20:07:14,055 - INFO - Summary name ray/tune/c-index stat is illegal; using ray/tune/c-index_stat instead.\n",
      "2024-11-17 20:09:16,187 - INFO - Summary name ray/tune/c-index stat is illegal; using ray/tune/c-index_stat instead.\n",
      "2024-11-17 20:11:12,683 - INFO - Summary name ray/tune/c-index stat is illegal; using ray/tune/c-index_stat instead.\n",
      "2024-11-17 20:13:36,099 - INFO - Summary name ray/tune/c-index stat is illegal; using ray/tune/c-index_stat instead.\n",
      "2024-11-17 20:15:32,700 - INFO - Summary name ray/tune/c-index stat is illegal; using ray/tune/c-index_stat instead.\n",
      "2024-11-17 20:15:33,975\tINFO tune.py:1009 -- Wrote the latest version of all result files and experiment state to '/mnt/d/PYDataScience/g3_regress/data/results/xgboost_training_wrapper_2024-11-17_18-31-06' in 1.2675s.\n",
      "2024-11-17 20:15:33,981\tINFO tune.py:1041 -- Total run time: 6267.00 seconds (6265.62 seconds for the tuning loop).\n",
      "2024-11-17 20:15:34,258\tWARNING experiment_analysis.py:558 -- Could not find best trial. Did you pass the correct `metric` parameter?\n"
     ]
    },
    {
     "name": "stdout",
     "output_type": "stream",
     "text": [
      "Best hyperparameters: None\n"
     ]
    }
   ],
   "source": [
    "import numpy as np\n",
    "import ray.train\n",
    "import xgboost as xgb\n",
    "import ray\n",
    "from ray import tune\n",
    "from sklearn.model_selection import train_test_split\n",
    "from pycox.evaluation import EvalSurv\n",
    "import pandas as pd\n",
    "\n",
    "# Random seed for reproducibility\n",
    "RANDOM_SEED = 42\n",
    "\n",
    "def xgboost_training_wrapper(config, data):\n",
    "    \"\"\"\n",
    "    A Ray Tune-compatible wrapper to train XGBoost models for all outcomes and time points,\n",
    "    evaluate predictions using concordance index, and report mean concordance index.\n",
    "\n",
    "    Args:\n",
    "        config: Dictionary of hyperparameters provided by Ray Tune.\n",
    "        data: Dictionary containing final_meta_learner_X_train, cif_ground_truth_test_stacked,\n",
    "              durations, and events.\n",
    "    \"\"\"\n",
    "    final_meta_learner_X_train = data[\"final_meta_learner_X_train\"]\n",
    "    cif_ground_truth_test_stacked = data[\"cif_ground_truth_test_stacked\"]\n",
    "    durations = data[\"durations\"]\n",
    "    events = data[\"events\"]\n",
    "\n",
    "    # Initialize predictions array (2 outcomes, 6 time points, 316242 patients)\n",
    "    xgboost_predictions = np.zeros((2, 6, len(durations)))\n",
    "\n",
    "    # Train models and make predictions for each outcome and time point\n",
    "    for outcome_idx in range(2):\n",
    "        for time_idx in range(6):\n",
    "            # Prepare data\n",
    "            stacking_inputs = np.array([\n",
    "                final_meta_learner_X_train[key][outcome_idx, time_idx]\n",
    "                for key in final_meta_learner_X_train.keys()\n",
    "            ]).T  # Shape: (316242, 9)\n",
    "\n",
    "            target = cif_ground_truth_test_stacked[outcome_idx, time_idx, :]  # Shape: (316242,)\n",
    "\n",
    "            # Split data into training and validation sets\n",
    "            X_train, X_val, y_train, y_val = train_test_split(\n",
    "                stacking_inputs, target, test_size=0.2, random_state=RANDOM_SEED\n",
    "            )\n",
    "\n",
    "            # Prepare DMatrix for XGBoost\n",
    "            dtrain = xgb.DMatrix(X_train, label=y_train)\n",
    "            dval = xgb.DMatrix(X_val, label=y_val)\n",
    "\n",
    "            # Train XGBoost model\n",
    "            booster = xgb.train(\n",
    "                config,\n",
    "                dtrain,\n",
    "                num_boost_round=500,\n",
    "                evals=[(dtrain, \"train\"), (dval, \"validation\")],\n",
    "                early_stopping_rounds=20,\n",
    "                verbose_eval=False\n",
    "            )\n",
    "\n",
    "            # Predict CIF for all patients\n",
    "            dtest = xgb.DMatrix(stacking_inputs)\n",
    "            xgboost_predictions[outcome_idx, time_idx] = booster.predict(dtest)\n",
    "\n",
    "    # Compute concordance index for each event\n",
    "    concordance_indices = {}\n",
    "    for i in range(2):\n",
    "        event_interest = i + 1\n",
    "        cif = pd.DataFrame(xgboost_predictions[i], index=[0, 1, 2, 3, 4, 5])\n",
    "        ev = EvalSurv(1 - cif, durations, events == event_interest, censor_surv=\"km\")\n",
    "        concordance_indices[f\"Event_{event_interest}\"] = ev.concordance_td()\n",
    "\n",
    "    # Calculate mean concordance index\n",
    "    mean_concordance_index = np.mean(list(concordance_indices.values()))\n",
    "\n",
    "    # Report mean concordance index to Ray Tune\n",
    "    ray.train.report({'c-index stat': mean_concordance_index})\n",
    "\n",
    "# Define the search space\n",
    "search_space = {\n",
    "    \"objective\": \"reg:squarederror\",\n",
    "    \"tree_method\": \"gpu_hist\",  # Use GPU acceleration\n",
    "    \"max_depth\": tune.randint(3, 10),  # Maximum depth of trees\n",
    "    \"learning_rate\": tune.loguniform(0.01, 0.3),  # Learning rate\n",
    "    \"subsample\": tune.uniform(0.5, 1.0),  # Subsampling rate\n",
    "    \"colsample_bytree\": tune.uniform(0.5, 1.0),  # Feature subsampling rate\n",
    "    \"lambda\": tune.loguniform(1e-4, 10.0),  # L2 regularization term\n",
    "    \"alpha\": tune.loguniform(1e-4, 10.0),  # L1 regularization term\n",
    "}\n",
    "\n",
    "# Prepare data\n",
    "data = {\n",
    "    \"final_meta_learner_X_train\": final_meta_learner_X_train,\n",
    "    \"cif_ground_truth_test_stacked\": cif_ground_truth_test_stacked,\n",
    "    \"durations\": durations,\n",
    "    \"events\": events,\n",
    "}\n",
    "\n",
    "# Run Ray Tune\n",
    "analysis = tune.run(\n",
    "    tune.with_parameters(xgboost_training_wrapper, data=data),\n",
    "    config=search_space,\n",
    "    resources_per_trial={\"cpu\": 2, \"gpu\": 1},  # Adjust based on your resources\n",
    "    num_samples=50,  # Number of hyperparameter configurations to try\n",
    "    metric='c-index stat',  # Metric to optimize\n",
    "    mode=\"max\",  # Maximize the concordance index\n",
    "    storage_path=\"/mnt/d/PYDataScience/g3_regress/data/results\",  # Directory to store results\n",
    ")\n",
    "\n",
    "# Get the best configuration\n",
    "best_config = analysis.get_best_config(metric=\"mean_concordance_index\", mode=\"max\")\n",
    "print(\"Best hyperparameters:\", best_config)\n"
   ]
  },
  {
   "cell_type": "code",
   "execution_count": 122,
   "metadata": {},
   "outputs": [
    {
     "data": {
      "text/plain": [
       "(0.8614533246252081,\n",
       " {'objective': 'reg:squarederror',\n",
       "  'tree_method': 'gpu_hist',\n",
       "  'max_depth': 3,\n",
       "  'learning_rate': 0.014837295326564928,\n",
       "  'subsample': 0.8168005866659258,\n",
       "  'colsample_bytree': 0.8290129403377126,\n",
       "  'lambda': 6.7539372305286465,\n",
       "  'alpha': 0.5018353832953043})"
      ]
     },
     "execution_count": 122,
     "metadata": {},
     "output_type": "execute_result"
    }
   ],
   "source": [
    "import os\n",
    "import json\n",
    "\n",
    "# Define the base directory containing the trial folders\n",
    "base_dir = \"/mnt/d/PYDataScience/g3_regress/data/results/xgboost_training_wrapper_2024-11-17_18-31-06\"\n",
    "\n",
    "# Initialize variables to store the max c-index and corresponding config\n",
    "max_c_index = float(\"-inf\")\n",
    "best_config = None\n",
    "\n",
    "# Iterate through all folders and parse the result.json files\n",
    "for root, dirs, files in os.walk(base_dir):\n",
    "    for file in files:\n",
    "        if file == \"result.json\":\n",
    "            file_path = os.path.join(root, file)\n",
    "            with open(file_path, \"r\") as f:\n",
    "                data = json.load(f)\n",
    "                if \"c-index stat\" in data:\n",
    "                    c_index = data[\"c-index stat\"]\n",
    "                    # Update max c-index and config if a new max is found\n",
    "                    if c_index > max_c_index:\n",
    "                        max_c_index = c_index\n",
    "                        best_config = data.get(\"config\", None)\n",
    "\n",
    "# Display the results\n",
    "max_c_index, best_config\n"
   ]
  },
  {
   "cell_type": "markdown",
   "metadata": {},
   "source": [
    "##### 6.3.2 Linear Regression"
   ]
  },
  {
   "cell_type": "code",
   "execution_count": 142,
   "metadata": {},
   "outputs": [
    {
     "name": "stdout",
     "output_type": "stream",
     "text": [
      "Linear Regression Stacking Predictions Shape: (2, 6, 40513)\n"
     ]
    }
   ],
   "source": [
    "from sklearn.linear_model import LinearRegression\n",
    "from sklearn.model_selection import train_test_split\n",
    "import numpy as np\n",
    "from joblib import Parallel, delayed\n",
    "\n",
    "# Initialize the final stacking predictions array\n",
    "lineregression_predictions = np.zeros((2, 6, X_test_transformed.shape[0]))  # (2 outcomes, 6 time points, 316242 patients)\n",
    "\n",
    "def train_and_predict_with_linear_regression(outcome_idx, time_idx):\n",
    "    \"\"\"\n",
    "    Train a Linear Regression model using CIF targets for a specific outcome and time point.\n",
    "    \"\"\"\n",
    "    # Prepare stacking inputs and targets\n",
    "    # Training data\n",
    "    stacking_inputs_train = np.array([\n",
    "        final_meta_learner_X_train[key][outcome_idx, time_idx]\n",
    "        for key in final_meta_learner_X_train.keys()\n",
    "    ]).T  # Shape: (num_train_samples, num_models)\n",
    "    \n",
    "    target_train = cif_ground_truth_test_stacked[outcome_idx, time_idx, :]  # Correct indexing\n",
    "\n",
    "    # Validation data\n",
    "    stacking_inputs_val = np.array([\n",
    "        final_meta_learner_X_val[key][outcome_idx, time_idx]\n",
    "        for key in final_meta_learner_X_val.keys()\n",
    "    ]).T  # Shape: (num_val_samples, num_models)\n",
    "\n",
    "    target_val = cif_ground_truth_val_stacked[outcome_idx, time_idx, :]  # Correct indexing\n",
    "\n",
    "    # Test data\n",
    "    stacking_inputs_test = np.array([\n",
    "        final_meta_learner_X_fin_test[key][outcome_idx, time_idx]\n",
    "        for key in final_meta_learner_X_fin_test.keys()\n",
    "    ]).T  # Shape: (num_test_samples, num_models)\n",
    "\n",
    "    # Train the Linear Regression model\n",
    "    model = LinearRegression()\n",
    "    model.fit(stacking_inputs_train, target_train)\n",
    "\n",
    "    # Predict CIF for all patients\n",
    "    cif_predictions = model.predict(stacking_inputs_test)\n",
    "\n",
    "    return outcome_idx, time_idx, cif_predictions\n",
    "\n",
    "# Parallel processing for each outcome and time point\n",
    "results = Parallel(n_jobs=-1)(\n",
    "    delayed(train_and_predict_with_linear_regression)(outcome_idx, time_idx)\n",
    "    for outcome_idx in range(2)\n",
    "    for time_idx in range(6)\n",
    ")\n",
    "\n",
    "# Assign results to the lineregression_predictions array\n",
    "for outcome_idx, time_idx, cif_predictions in results:\n",
    "    lineregression_predictions[outcome_idx, time_idx] = cif_predictions\n",
    "\n",
    "# Verify the shape of the stacked predictions\n",
    "print(\"Linear Regression Stacking Predictions Shape:\", lineregression_predictions.shape)"
   ]
  },
  {
   "cell_type": "code",
   "execution_count": 161,
   "metadata": {},
   "outputs": [
    {
     "name": "stdout",
     "output_type": "stream",
     "text": [
      "Error calculating Nam-D'Agostino Chi² at time 0 for event 1: Length of values (40513) does not match length of index (19588)\n",
      "Error calculating Nam-D'Agostino Chi² at time 0 for event 2: Length of values (40513) does not match length of index (19588)\n"
     ]
    },
    {
     "name": "stderr",
     "output_type": "stream",
     "text": [
      "/home/goma/miniconda3/envs/ai_dev/lib/python3.11/site-packages/lifelines/fitters/aalen_johansen_fitter.py:112: Warning: Tied event times were detected. The Aalen-Johansen estimator cannot handle tied event times.\n",
      "                To resolve ties, data is randomly jittered.\n",
      "  warnings.warn(\n",
      "/home/goma/miniconda3/envs/ai_dev/lib/python3.11/site-packages/lifelines/fitters/aalen_johansen_fitter.py:112: Warning: Tied event times were detected. The Aalen-Johansen estimator cannot handle tied event times.\n",
      "                To resolve ties, data is randomly jittered.\n",
      "  warnings.warn(\n",
      "/home/goma/miniconda3/envs/ai_dev/lib/python3.11/site-packages/lifelines/fitters/aalen_johansen_fitter.py:112: Warning: Tied event times were detected. The Aalen-Johansen estimator cannot handle tied event times.\n",
      "                To resolve ties, data is randomly jittered.\n",
      "  warnings.warn(\n",
      "/home/goma/miniconda3/envs/ai_dev/lib/python3.11/site-packages/lifelines/fitters/aalen_johansen_fitter.py:112: Warning: Tied event times were detected. The Aalen-Johansen estimator cannot handle tied event times.\n",
      "                To resolve ties, data is randomly jittered.\n",
      "  warnings.warn(\n",
      "/home/goma/miniconda3/envs/ai_dev/lib/python3.11/site-packages/lifelines/fitters/aalen_johansen_fitter.py:112: Warning: Tied event times were detected. The Aalen-Johansen estimator cannot handle tied event times.\n",
      "                To resolve ties, data is randomly jittered.\n",
      "  warnings.warn(\n",
      "/home/goma/miniconda3/envs/ai_dev/lib/python3.11/site-packages/lifelines/fitters/aalen_johansen_fitter.py:112: Warning: Tied event times were detected. The Aalen-Johansen estimator cannot handle tied event times.\n",
      "                To resolve ties, data is randomly jittered.\n",
      "  warnings.warn(\n",
      "/home/goma/miniconda3/envs/ai_dev/lib/python3.11/site-packages/lifelines/fitters/aalen_johansen_fitter.py:112: Warning: Tied event times were detected. The Aalen-Johansen estimator cannot handle tied event times.\n",
      "                To resolve ties, data is randomly jittered.\n",
      "  warnings.warn(\n",
      "/home/goma/miniconda3/envs/ai_dev/lib/python3.11/site-packages/lifelines/fitters/aalen_johansen_fitter.py:112: Warning: Tied event times were detected. The Aalen-Johansen estimator cannot handle tied event times.\n",
      "                To resolve ties, data is randomly jittered.\n",
      "  warnings.warn(\n",
      "/home/goma/miniconda3/envs/ai_dev/lib/python3.11/site-packages/lifelines/fitters/aalen_johansen_fitter.py:112: Warning: Tied event times were detected. The Aalen-Johansen estimator cannot handle tied event times.\n",
      "                To resolve ties, data is randomly jittered.\n",
      "  warnings.warn(\n",
      "/home/goma/miniconda3/envs/ai_dev/lib/python3.11/site-packages/lifelines/fitters/aalen_johansen_fitter.py:112: Warning: Tied event times were detected. The Aalen-Johansen estimator cannot handle tied event times.\n",
      "                To resolve ties, data is randomly jittered.\n",
      "  warnings.warn(\n",
      "/home/goma/miniconda3/envs/ai_dev/lib/python3.11/site-packages/lifelines/fitters/aalen_johansen_fitter.py:112: Warning: Tied event times were detected. The Aalen-Johansen estimator cannot handle tied event times.\n",
      "                To resolve ties, data is randomly jittered.\n",
      "  warnings.warn(\n",
      "/home/goma/miniconda3/envs/ai_dev/lib/python3.11/site-packages/lifelines/fitters/aalen_johansen_fitter.py:112: Warning: Tied event times were detected. The Aalen-Johansen estimator cannot handle tied event times.\n",
      "                To resolve ties, data is randomly jittered.\n",
      "  warnings.warn(\n",
      "/home/goma/miniconda3/envs/ai_dev/lib/python3.11/site-packages/lifelines/fitters/aalen_johansen_fitter.py:112: Warning: Tied event times were detected. The Aalen-Johansen estimator cannot handle tied event times.\n",
      "                To resolve ties, data is randomly jittered.\n",
      "  warnings.warn(\n"
     ]
    },
    {
     "name": "stdout",
     "output_type": "stream",
     "text": [
      "Concordance Indices: {'Event_1': 0.979147976082038, 'Event_2': 0.7546631563758323}\n",
      "Brier Score Series: {'Event_1': 0       0.00000\n",
      "365     0.03744\n",
      "730     0.03744\n",
      "1095    0.03744\n",
      "1460    0.03744\n",
      "1825    0.03744\n",
      "Name: brier_score, dtype: float64, 'Event_2': 0       0.000000\n",
      "365     0.116634\n",
      "730     0.116634\n",
      "1095    0.116634\n",
      "1460    0.116634\n",
      "1825    0.116634\n",
      "Name: brier_score, dtype: float64}\n",
      "Integrated Brier Scores: {'Event_1': 0.034943942825916126, 'Event_2': 0.1088581410271849}\n",
      "Negative Log-Likelihoods: {'Event_1': 0.18104063587078995, 'Event_2': 0.3927945233629699}\n",
      "Nam-D'Agostino Results: [{'Event': 1, 'Year': 1, 'Chi2_Stat': 0.020654911205768265, 'P_Value': 0.9999470375752154, 'Observed_Events': quantile\n",
      "0    0.000000\n",
      "1    0.000000\n",
      "2    0.000000\n",
      "3    0.000000\n",
      "4    0.019646\n",
      "Name: observed_probs, dtype: float64, 'Expected_Events': quantile\n",
      "0    0.001286\n",
      "1    0.002432\n",
      "2    0.003715\n",
      "3    0.006436\n",
      "4    0.035073\n",
      "Name: predicted_probs, dtype: float64, 'Sample_Size': [8103, 8102, 8103, 8102, 8103]}, {'Event': 1, 'Year': 2, 'Chi2_Stat': 0.10308773085277967, 'P_Value': 0.998716391396127, 'Observed_Events': quantile\n",
      "0    0.000000\n",
      "1    0.000000\n",
      "2    0.000000\n",
      "3    0.000000\n",
      "4    0.050057\n",
      "Name: observed_probs, dtype: float64, 'Expected_Events': quantile\n",
      "0    0.006512\n",
      "1    0.010774\n",
      "2    0.015315\n",
      "3    0.024996\n",
      "4    0.125665\n",
      "Name: predicted_probs, dtype: float64, 'Sample_Size': [8103, 8102, 8103, 8102, 8103]}, {'Event': 1, 'Year': 3, 'Chi2_Stat': 0.2064951745650639, 'P_Value': 0.9950230213703527, 'Observed_Events': quantile\n",
      "0    0.000000\n",
      "1    0.000000\n",
      "2    0.000000\n",
      "3    0.000000\n",
      "4    0.109471\n",
      "Name: observed_probs, dtype: float64, 'Expected_Events': quantile\n",
      "0    0.016454\n",
      "1    0.025218\n",
      "2    0.033919\n",
      "3    0.052734\n",
      "4    0.248976\n",
      "Name: predicted_probs, dtype: float64, 'Sample_Size': [8103, 8102, 8103, 8102, 8103]}, {'Event': 1, 'Year': 4, 'Chi2_Stat': 0.2890088362745305, 'P_Value': 0.9905125947136819, 'Observed_Events': quantile\n",
      "0    0.000000\n",
      "1    0.000000\n",
      "2    0.000000\n",
      "3    0.000000\n",
      "4    0.229979\n",
      "Name: observed_probs, dtype: float64, 'Expected_Events': quantile\n",
      "0    0.030819\n",
      "1    0.045296\n",
      "2    0.058903\n",
      "3    0.089134\n",
      "4    0.388762\n",
      "Name: predicted_probs, dtype: float64, 'Sample_Size': [8103, 8102, 8103, 8102, 8103]}, {'Event': 1, 'Year': 5, 'Chi2_Stat': 0.3438985009283231, 'P_Value': 0.9868069396246594, 'Observed_Events': quantile\n",
      "0    0.000000\n",
      "1    0.000000\n",
      "2    0.000000\n",
      "3    0.000000\n",
      "4    0.578345\n",
      "Name: observed_probs, dtype: float64, 'Expected_Events': quantile\n",
      "0    0.049089\n",
      "1    0.067031\n",
      "2    0.084799\n",
      "3    0.134416\n",
      "4    0.512134\n",
      "Name: predicted_probs, dtype: float64, 'Sample_Size': [8103, 8102, 8103, 8102, 8103]}, {'Event': 2, 'Year': 1, 'Chi2_Stat': 0.04881705495834706, 'P_Value': 0.9997069151518455, 'Observed_Events': quantile\n",
      "0    0.000810\n",
      "1    0.002804\n",
      "2    0.007314\n",
      "3    0.010406\n",
      "4    0.026188\n",
      "Name: observed_probs, dtype: float64, 'Expected_Events': quantile\n",
      "0    0.012139\n",
      "1    0.017101\n",
      "2    0.021659\n",
      "3    0.028491\n",
      "4    0.040932\n",
      "Name: predicted_probs, dtype: float64, 'Sample_Size': [8103, 8102, 8103, 8102, 8103]}, {'Event': 2, 'Year': 2, 'Chi2_Stat': 0.3675508406506961, 'P_Value': 0.9850463524089114, 'Observed_Events': quantile\n",
      "0    0.005855\n",
      "1    0.008294\n",
      "2    0.016044\n",
      "3    0.026937\n",
      "4    0.058803\n",
      "Name: observed_probs, dtype: float64, 'Expected_Events': quantile\n",
      "0    0.057359\n",
      "1    0.085229\n",
      "2    0.107496\n",
      "3    0.136183\n",
      "4    0.185362\n",
      "Name: predicted_probs, dtype: float64, 'Sample_Size': [8103, 8102, 8103, 8102, 8103]}, {'Event': 2, 'Year': 3, 'Chi2_Stat': 0.790915150103768, 'P_Value': 0.9396618497256194, 'Observed_Events': quantile\n",
      "0    0.010363\n",
      "1    0.037253\n",
      "2    0.032814\n",
      "3    0.081645\n",
      "4    0.157783\n",
      "Name: observed_probs, dtype: float64, 'Expected_Events': quantile\n",
      "0    0.160011\n",
      "1    0.210651\n",
      "2    0.251180\n",
      "3    0.307743\n",
      "4    0.406582\n",
      "Name: predicted_probs, dtype: float64, 'Sample_Size': [8103, 8102, 8103, 8102, 8103]}, {'Event': 2, 'Year': 4, 'Chi2_Stat': 0.9073568518113491, 'P_Value': 0.9235029948794421, 'Observed_Events': quantile\n",
      "0    0.040805\n",
      "1    0.117475\n",
      "2    0.110906\n",
      "3    0.261137\n",
      "4    0.467362\n",
      "Name: observed_probs, dtype: float64, 'Expected_Events': quantile\n",
      "0    0.324272\n",
      "1    0.398412\n",
      "2    0.455296\n",
      "3    0.533432\n",
      "4    0.671229\n",
      "Name: predicted_probs, dtype: float64, 'Sample_Size': [8103, 8102, 8103, 8102, 8103]}, {'Event': 2, 'Year': 5, 'Chi2_Stat': 0.6277375068569869, 'P_Value': 0.9599321044138299, 'Observed_Events': quantile\n",
      "0    0.326982\n",
      "1    0.989452\n",
      "2    1.000000\n",
      "3    0.287878\n",
      "4    1.000000\n",
      "Name: observed_probs, dtype: float64, 'Expected_Events': quantile\n",
      "0    0.380026\n",
      "1    0.647394\n",
      "2    0.706151\n",
      "3    0.775156\n",
      "4    0.900662\n",
      "Name: predicted_probs, dtype: float64, 'Sample_Size': [8103, 8102, 8103, 8102, 8103]}]\n"
     ]
    },
    {
     "name": "stderr",
     "output_type": "stream",
     "text": [
      "/home/goma/miniconda3/envs/ai_dev/lib/python3.11/site-packages/lifelines/fitters/aalen_johansen_fitter.py:112: Warning: Tied event times were detected. The Aalen-Johansen estimator cannot handle tied event times.\n",
      "                To resolve ties, data is randomly jittered.\n",
      "  warnings.warn(\n"
     ]
    }
   ],
   "source": [
    "concordance_indices = {}\n",
    "integrated_brier_scores = {}\n",
    "neg_log_likelihoods = {}\n",
    "brier_series = {}\n",
    "nam_dagostino_results = []  # Initialize as a list\n",
    "\n",
    "for i in range(0, 2):\n",
    "    event_interest = i + 1\n",
    "    cif = pd.DataFrame(lineregression_predictions[i], index=[0, 1, 2, 3, 4, 5])  # Use index correctly\n",
    "    ev = EvalSurv(1 - cif, durations_fin_test, events_fin_test == event_interest, censor_surv='km')\n",
    "\n",
    "    # Concordance index\n",
    "    concordance_indices[f\"Event_{event_interest}\"] = ev.concordance_td()\n",
    "\n",
    "    # Brier score series\n",
    "    brier_series[f\"Event_{event_interest}\"] = ev.brier_score(TIME_GRID)\n",
    "\n",
    "    # Integrated Brier score\n",
    "    integrated_brier_scores[f\"Event_{event_interest}\"] = ev.integrated_brier_score(TIME_GRID)\n",
    "\n",
    "    # Negative log-likelihood\n",
    "    neg_log_likelihoods[f\"Event_{event_interest}\"] = ev.integrated_nbll(TIME_GRID)\n",
    "\n",
    "    # Nam and D'Agostino Chi2 statistic for calibration\n",
    "    for time_idx, time in enumerate(TIME_GRID):\n",
    "        # Filter data for current time point\n",
    "        mask = durations_fin_test <= time\n",
    "        durations_filtered = durations_fin_test[mask]\n",
    "        events_filtered = events_fin_test[mask]\n",
    "        \n",
    "        if len(durations_filtered) == 0:\n",
    "            print(f\"Skipping time {time} for event {event_interest} due to empty data.\")\n",
    "            continue\n",
    "        \n",
    "        try:\n",
    "            # Calculate Nam-D'Agostino Chi² statistic\n",
    "            chi2_stat, p_value, observed_events, expected_events, n, prob_df = nam_dagostino_chi2(\n",
    "                df=pd.DataFrame({\"durations\": durations_filtered, \"events\": events_filtered}),\n",
    "                duration_col=\"durations\",\n",
    "                event_col=\"events\",\n",
    "                surv=(1 - cif),  # Survival function\n",
    "                time=time_idx,\n",
    "                event_focus=event_interest\n",
    "            )\n",
    "\n",
    "            # Append results\n",
    "            nam_dagostino_results.append({\n",
    "                'Event': event_interest,\n",
    "                'Year': round(time / 365),\n",
    "                'Chi2_Stat': chi2_stat,\n",
    "                'P_Value': p_value,\n",
    "                'Observed_Events': observed_events.tolist() if isinstance(observed_events, np.ndarray) else observed_events,\n",
    "                'Expected_Events': expected_events.tolist() if isinstance(expected_events, np.ndarray) else expected_events,\n",
    "                'Sample_Size': n if isinstance(n, int) else n.tolist()\n",
    "            })\n",
    "        except ValueError as e:\n",
    "            print(f\"Error calculating Nam-D'Agostino Chi² at time {time} for event {event_interest}: {e}\")\n",
    "\n",
    "# Display results\n",
    "print(\"Concordance Indices:\", concordance_indices)\n",
    "print(\"Brier Score Series:\", brier_series)\n",
    "print(\"Integrated Brier Scores:\", integrated_brier_scores)\n",
    "print(\"Negative Log-Likelihoods:\", neg_log_likelihoods)\n",
    "print(\"Nam-D'Agostino Results:\", nam_dagostino_results)\n",
    "\n"
   ]
  },
  {
   "cell_type": "markdown",
   "metadata": {},
   "source": [
    "##### 6.3.3 RandomForest regression"
   ]
  },
  {
   "cell_type": "code",
   "execution_count": 125,
   "metadata": {},
   "outputs": [
    {
     "name": "stdout",
     "output_type": "stream",
     "text": [
      "Random Forest Stacking Predictions Shape: (2, 6, 40513)\n"
     ]
    }
   ],
   "source": [
    "from sklearn.ensemble import RandomForestRegressor\n",
    "from joblib import Parallel, delayed\n",
    "import numpy as np\n",
    "\n",
    "def train_and_predict_with_rf(outcome_idx, time_idx):\n",
    "    \"\"\"\n",
    "    Train a Random Forest model using CIF targets for a specific outcome and time point.\n",
    "    Use pre-prepared validation and test predictions.\n",
    "    \"\"\"\n",
    "    # Prepare training data\n",
    "    stacking_inputs_train = np.array([\n",
    "        final_meta_learner_X_train[key][outcome_idx, time_idx]\n",
    "        for key in final_meta_learner_X_train.keys()\n",
    "    ]).T  # Shape: (num_train_samples, num_models)\n",
    "    \n",
    "    target_train = cif_ground_truth_test_stacked[outcome_idx, time_idx, :]  # Correct indexing\n",
    "\n",
    "    # Validation data\n",
    "    stacking_inputs_val = np.array([\n",
    "        final_meta_learner_X_val[key][outcome_idx, time_idx]\n",
    "        for key in final_meta_learner_X_val.keys()\n",
    "    ]).T  # Shape: (num_val_samples, num_models)\n",
    "\n",
    "    target_val = cif_ground_truth_val_stacked[outcome_idx, time_idx, :]  # Correct indexing\n",
    "\n",
    "    # Test data\n",
    "    stacking_inputs_test = np.array([\n",
    "        final_meta_learner_X_fin_test[key][outcome_idx, time_idx]\n",
    "        for key in final_meta_learner_X_fin_test.keys()\n",
    "    ]).T  # Shape: (num_test_samples, num_models)\n",
    "\n",
    "    # Train the Random Forest Regressor\n",
    "    model = RandomForestRegressor(\n",
    "        n_estimators=168,\n",
    "        max_depth=3,\n",
    "        min_samples_split=3,\n",
    "        min_samples_leaf=4,\n",
    "        random_state=RANDOM_SEED,\n",
    "        max_features='sqrt',\n",
    "        n_jobs=-1  # Use all available cores,\n",
    "        \n",
    "    )\n",
    "    model.fit(stacking_inputs_train, target_train, )\n",
    "\n",
    "    # Predict CIF for all patients in the test set\n",
    "    cif_predictions = model.predict(stacking_inputs_test)\n",
    "\n",
    "    return outcome_idx, time_idx, cif_predictions\n",
    "\n",
    "# Parallel processing for each outcome and time point\n",
    "rf_predictions = np.zeros((2, 6, X_test_transformed.shape[0]))  # Initialize prediction array\n",
    "results = Parallel(n_jobs=-1)(\n",
    "    delayed(train_and_predict_with_rf)(outcome_idx, time_idx)\n",
    "    for outcome_idx in range(2)\n",
    "    for time_idx in range(6)\n",
    ")\n",
    "\n",
    "# Assign results to the rf_predictions array\n",
    "for outcome_idx, time_idx, cif_predictions in results:\n",
    "    rf_predictions[outcome_idx, time_idx] = cif_predictions\n",
    "\n",
    "# Verify the shape of the stacked predictions\n",
    "print(\"Random Forest Stacking Predictions Shape:\", rf_predictions.shape)\n",
    "# Expected output: (2, 6, num_test_samples)\n"
   ]
  },
  {
   "cell_type": "code",
   "execution_count": 162,
   "metadata": {},
   "outputs": [
    {
     "name": "stdout",
     "output_type": "stream",
     "text": [
      "Error calculating Nam-D'Agostino Chi² at time 0 for event 1: Length of values (40513) does not match length of index (19588)\n",
      "Error calculating Nam-D'Agostino Chi² at time 0 for event 2: Length of values (40513) does not match length of index (19588)\n"
     ]
    },
    {
     "name": "stderr",
     "output_type": "stream",
     "text": [
      "/home/goma/miniconda3/envs/ai_dev/lib/python3.11/site-packages/lifelines/fitters/aalen_johansen_fitter.py:112: Warning: Tied event times were detected. The Aalen-Johansen estimator cannot handle tied event times.\n",
      "                To resolve ties, data is randomly jittered.\n",
      "  warnings.warn(\n",
      "/home/goma/miniconda3/envs/ai_dev/lib/python3.11/site-packages/lifelines/fitters/aalen_johansen_fitter.py:112: Warning: Tied event times were detected. The Aalen-Johansen estimator cannot handle tied event times.\n",
      "                To resolve ties, data is randomly jittered.\n",
      "  warnings.warn(\n",
      "/home/goma/miniconda3/envs/ai_dev/lib/python3.11/site-packages/lifelines/fitters/aalen_johansen_fitter.py:112: Warning: Tied event times were detected. The Aalen-Johansen estimator cannot handle tied event times.\n",
      "                To resolve ties, data is randomly jittered.\n",
      "  warnings.warn(\n",
      "/home/goma/miniconda3/envs/ai_dev/lib/python3.11/site-packages/lifelines/fitters/aalen_johansen_fitter.py:112: Warning: Tied event times were detected. The Aalen-Johansen estimator cannot handle tied event times.\n",
      "                To resolve ties, data is randomly jittered.\n",
      "  warnings.warn(\n",
      "/home/goma/miniconda3/envs/ai_dev/lib/python3.11/site-packages/lifelines/fitters/aalen_johansen_fitter.py:112: Warning: Tied event times were detected. The Aalen-Johansen estimator cannot handle tied event times.\n",
      "                To resolve ties, data is randomly jittered.\n",
      "  warnings.warn(\n",
      "/home/goma/miniconda3/envs/ai_dev/lib/python3.11/site-packages/lifelines/fitters/aalen_johansen_fitter.py:112: Warning: Tied event times were detected. The Aalen-Johansen estimator cannot handle tied event times.\n",
      "                To resolve ties, data is randomly jittered.\n",
      "  warnings.warn(\n",
      "/home/goma/miniconda3/envs/ai_dev/lib/python3.11/site-packages/lifelines/fitters/aalen_johansen_fitter.py:112: Warning: Tied event times were detected. The Aalen-Johansen estimator cannot handle tied event times.\n",
      "                To resolve ties, data is randomly jittered.\n",
      "  warnings.warn(\n",
      "/home/goma/miniconda3/envs/ai_dev/lib/python3.11/site-packages/lifelines/fitters/aalen_johansen_fitter.py:112: Warning: Tied event times were detected. The Aalen-Johansen estimator cannot handle tied event times.\n",
      "                To resolve ties, data is randomly jittered.\n",
      "  warnings.warn(\n",
      "/home/goma/miniconda3/envs/ai_dev/lib/python3.11/site-packages/lifelines/fitters/aalen_johansen_fitter.py:112: Warning: Tied event times were detected. The Aalen-Johansen estimator cannot handle tied event times.\n",
      "                To resolve ties, data is randomly jittered.\n",
      "  warnings.warn(\n",
      "/home/goma/miniconda3/envs/ai_dev/lib/python3.11/site-packages/lifelines/fitters/aalen_johansen_fitter.py:112: Warning: Tied event times were detected. The Aalen-Johansen estimator cannot handle tied event times.\n",
      "                To resolve ties, data is randomly jittered.\n",
      "  warnings.warn(\n",
      "/home/goma/miniconda3/envs/ai_dev/lib/python3.11/site-packages/lifelines/fitters/aalen_johansen_fitter.py:112: Warning: Tied event times were detected. The Aalen-Johansen estimator cannot handle tied event times.\n",
      "                To resolve ties, data is randomly jittered.\n",
      "  warnings.warn(\n"
     ]
    },
    {
     "name": "stdout",
     "output_type": "stream",
     "text": [
      "Concordance Indices: {'Event_1': 0.9796230921738424, 'Event_2': 0.7554581494270163}\n",
      "Brier Score Series: {'Event_1': 0       0.000000\n",
      "365     0.053315\n",
      "730     0.053315\n",
      "1095    0.053315\n",
      "1460    0.053315\n",
      "1825    0.053315\n",
      "Name: brier_score, dtype: float64, 'Event_2': 0       0.000000\n",
      "365     0.099329\n",
      "730     0.099329\n",
      "1095    0.099329\n",
      "1460    0.099329\n",
      "1825    0.099329\n",
      "Name: brier_score, dtype: float64}\n",
      "Integrated Brier Scores: {'Event_1': 0.0497605494173283, 'Event_2': 0.0927068468793533}\n",
      "Negative Log-Likelihoods: {'Event_1': 0.23971583618508627, 'Event_2': 0.3280149880111438}\n",
      "Nam-D'Agostino Results: [{'Event': 1, 'Year': 1, 'Chi2_Stat': 0.02078836491212447, 'P_Value': 0.9999463533563095, 'Observed_Events': quantile\n",
      "0    0.000000\n",
      "1    0.000000\n",
      "2    0.000000\n",
      "3    0.000000\n",
      "4    0.020235\n",
      "Name: observed_probs, dtype: float64, 'Expected_Events': quantile\n",
      "0    0.003513\n",
      "1    0.003532\n",
      "2    0.003596\n",
      "3    0.005635\n",
      "4    0.032308\n",
      "Name: predicted_probs, dtype: float64, 'Sample_Size': [12648, 3869, 7812, 8086, 8098]}, {'Event': 1, 'Year': 2, 'Chi2_Stat': 0.10611187693976412, 'P_Value': 0.9986413400396426, 'Observed_Events': quantile\n",
      "0    0.000000\n",
      "1    0.000000\n",
      "2    0.000000\n",
      "3    0.000000\n",
      "4    0.048761\n",
      "Name: observed_probs, dtype: float64, 'Expected_Events': quantile\n",
      "0    0.013322\n",
      "1    0.013377\n",
      "2    0.014887\n",
      "3    0.022317\n",
      "4    0.119900\n",
      "Name: predicted_probs, dtype: float64, 'Sample_Size': [13512, 2794, 8099, 8009, 8099]}, {'Event': 1, 'Year': 3, 'Chi2_Stat': 0.22346602069451155, 'P_Value': 0.9942039205020394, 'Observed_Events': quantile\n",
      "0    0.000000\n",
      "1    0.000000\n",
      "2    0.000000\n",
      "3    0.000000\n",
      "4    0.100944\n",
      "Name: observed_probs, dtype: float64, 'Expected_Events': quantile\n",
      "0    0.027882\n",
      "1    0.029506\n",
      "2    0.032269\n",
      "3    0.051522\n",
      "4    0.242079\n",
      "Name: predicted_probs, dtype: float64, 'Sample_Size': [13196, 3018, 8544, 7652, 8103]}, {'Event': 1, 'Year': 4, 'Chi2_Stat': 0.3177469281947005, 'P_Value': 0.988639935913282, 'Observed_Events': quantile\n",
      "0    0.000000\n",
      "1    0.000000\n",
      "2    0.000000\n",
      "3    0.000000\n",
      "4    0.212825\n",
      "Name: observed_probs, dtype: float64, 'Expected_Events': quantile\n",
      "0    0.046021\n",
      "1    0.049252\n",
      "2    0.054055\n",
      "3    0.092236\n",
      "4    0.383816\n",
      "Name: predicted_probs, dtype: float64, 'Sample_Size': [11662, 4574, 8111, 8063, 8103]}, {'Event': 1, 'Year': 5, 'Chi2_Stat': 0.3660062266266242, 'P_Value': 0.9851642537754034, 'Observed_Events': quantile\n",
      "0    0.000000\n",
      "1    0.000000\n",
      "2    0.000000\n",
      "3    0.000000\n",
      "4    0.575298\n",
      "Name: observed_probs, dtype: float64, 'Expected_Events': quantile\n",
      "0    0.063097\n",
      "1    0.069439\n",
      "2    0.077246\n",
      "3    0.148141\n",
      "4    0.511042\n",
      "Name: predicted_probs, dtype: float64, 'Sample_Size': [8282, 7927, 8099, 8102, 8103]}, {'Event': 2, 'Year': 1, 'Chi2_Stat': 0.07489693771439936, 'P_Value': 0.999316068448496, 'Observed_Events': quantile\n",
      "0    0.000425\n",
      "1    0.001944\n",
      "2    0.003911\n",
      "3    0.006137\n",
      "4    0.013770\n",
      "Name: observed_probs, dtype: float64, 'Expected_Events': quantile\n",
      "0    0.016049\n",
      "1    0.018501\n",
      "2    0.021567\n",
      "3    0.025987\n",
      "4    0.037773\n",
      "Name: predicted_probs, dtype: float64, 'Sample_Size': [8105, 8100, 8103, 8102, 8103]}, {'Event': 2, 'Year': 2, 'Chi2_Stat': 0.3748207431032839, 'P_Value': 0.9844860072447815, 'Observed_Events': quantile\n",
      "0    0.006882\n",
      "1    0.007028\n",
      "2    0.014383\n",
      "3    0.023719\n",
      "4    0.061180\n",
      "Name: observed_probs, dtype: float64, 'Expected_Events': quantile\n",
      "0    0.076892\n",
      "1    0.090627\n",
      "2    0.104371\n",
      "3    0.126747\n",
      "4    0.173391\n",
      "Name: predicted_probs, dtype: float64, 'Sample_Size': [8103, 8102, 8103, 8102, 8103]}, {'Event': 2, 'Year': 3, 'Chi2_Stat': 0.8292954325346651, 'P_Value': 0.9344780134819776, 'Observed_Events': quantile\n",
      "0    0.009904\n",
      "1    0.032007\n",
      "2    0.042248\n",
      "3    0.067018\n",
      "4    0.142406\n",
      "Name: observed_probs, dtype: float64, 'Expected_Events': quantile\n",
      "0    0.187145\n",
      "1    0.220503\n",
      "2    0.248020\n",
      "3    0.299226\n",
      "4    0.380924\n",
      "Name: predicted_probs, dtype: float64, 'Sample_Size': [8103, 8102, 8103, 8102, 8103]}, {'Event': 2, 'Year': 4, 'Chi2_Stat': 1.0226226118497086, 'P_Value': 0.9063464803246135, 'Observed_Events': quantile\n",
      "0    0.034332\n",
      "1    0.055026\n",
      "2    0.173538\n",
      "3    0.217242\n",
      "4    0.434174\n",
      "Name: observed_probs, dtype: float64, 'Expected_Events': quantile\n",
      "0    0.353102\n",
      "1    0.416053\n",
      "2    0.458537\n",
      "3    0.531677\n",
      "4    0.625295\n",
      "Name: predicted_probs, dtype: float64, 'Sample_Size': [8104, 8101, 8103, 8102, 8103]}, {'Event': 2, 'Year': 5, 'Chi2_Stat': 0.870780380403878, 'P_Value': 0.9287149074239909, 'Observed_Events': quantile\n",
      "0    0.367454\n",
      "1    1.000000\n",
      "2    0.091355\n",
      "3    1.000000\n",
      "4    1.000000\n",
      "Name: observed_probs, dtype: float64, 'Expected_Events': quantile\n",
      "0    0.475888\n",
      "1    0.640688\n",
      "2    0.719610\n",
      "3    0.780664\n",
      "4    0.831011\n",
      "Name: predicted_probs, dtype: float64, 'Sample_Size': [8103, 8102, 8103, 8102, 8103]}]\n"
     ]
    },
    {
     "name": "stderr",
     "output_type": "stream",
     "text": [
      "/home/goma/miniconda3/envs/ai_dev/lib/python3.11/site-packages/lifelines/fitters/aalen_johansen_fitter.py:112: Warning: Tied event times were detected. The Aalen-Johansen estimator cannot handle tied event times.\n",
      "                To resolve ties, data is randomly jittered.\n",
      "  warnings.warn(\n"
     ]
    }
   ],
   "source": [
    "concordance_indices = {}\n",
    "integrated_brier_scores = {}\n",
    "neg_log_likelihoods = {}\n",
    "brier_series = {}\n",
    "nam_dagostino_results = []  # Initialize as a list\n",
    "\n",
    "for i in range(0, 2):\n",
    "    event_interest = i + 1\n",
    "    cif = pd.DataFrame(rf_predictions[i], index=[0, 1, 2, 3, 4, 5])  # Use index correctly\n",
    "    ev = EvalSurv(1 - cif, durations_fin_test, events_fin_test == event_interest, censor_surv='km')\n",
    "\n",
    "    # Concordance index\n",
    "    concordance_indices[f\"Event_{event_interest}\"] = ev.concordance_td()\n",
    "\n",
    "    # Brier score series\n",
    "    brier_series[f\"Event_{event_interest}\"] = ev.brier_score(TIME_GRID)\n",
    "\n",
    "    # Integrated Brier score\n",
    "    integrated_brier_scores[f\"Event_{event_interest}\"] = ev.integrated_brier_score(TIME_GRID)\n",
    "\n",
    "    # Negative log-likelihood\n",
    "    neg_log_likelihoods[f\"Event_{event_interest}\"] = ev.integrated_nbll(TIME_GRID)\n",
    "\n",
    "    # Nam and D'Agostino Chi2 statistic for calibration\n",
    "    for time_idx, time in enumerate(TIME_GRID):\n",
    "        # Filter data for current time point\n",
    "        mask = durations_fin_test <= time\n",
    "        durations_filtered = durations_fin_test[mask]\n",
    "        events_filtered = events_fin_test[mask]\n",
    "        \n",
    "        if len(durations_filtered) == 0:\n",
    "            print(f\"Skipping time {time} for event {event_interest} due to empty data.\")\n",
    "            continue\n",
    "        \n",
    "        try:\n",
    "            # Calculate Nam-D'Agostino Chi² statistic\n",
    "            chi2_stat, p_value, observed_events, expected_events, n, prob_df = nam_dagostino_chi2(\n",
    "                df=pd.DataFrame({\"durations\": durations_filtered, \"events\": events_filtered}),\n",
    "                duration_col=\"durations\",\n",
    "                event_col=\"events\",\n",
    "                surv=(1 - cif),  # Survival function\n",
    "                time=time_idx,\n",
    "                event_focus=event_interest\n",
    "            )\n",
    "\n",
    "            # Append results\n",
    "            nam_dagostino_results.append({\n",
    "                'Event': event_interest,\n",
    "                'Year': round(time / 365),\n",
    "                'Chi2_Stat': chi2_stat,\n",
    "                'P_Value': p_value,\n",
    "                'Observed_Events': observed_events.tolist() if isinstance(observed_events, np.ndarray) else observed_events,\n",
    "                'Expected_Events': expected_events.tolist() if isinstance(expected_events, np.ndarray) else expected_events,\n",
    "                'Sample_Size': n if isinstance(n, int) else n.tolist()\n",
    "            })\n",
    "        except ValueError as e:\n",
    "            print(f\"Error calculating Nam-D'Agostino Chi² at time {time} for event {event_interest}: {e}\")\n",
    "\n",
    "# Display results\n",
    "print(\"Concordance Indices:\", concordance_indices)\n",
    "print(\"Brier Score Series:\", brier_series)\n",
    "print(\"Integrated Brier Scores:\", integrated_brier_scores)\n",
    "print(\"Negative Log-Likelihoods:\", neg_log_likelihoods)\n",
    "print(\"Nam-D'Agostino Results:\", nam_dagostino_results)\n",
    "\n"
   ]
  },
  {
   "cell_type": "code",
   "execution_count": 118,
   "metadata": {},
   "outputs": [
    {
     "name": "stderr",
     "output_type": "stream",
     "text": [
      "2024-11-19 07:06:14,475\tINFO worker.py:1807 -- Started a local Ray instance. View the dashboard at \u001b[1m\u001b[32mhttp://127.0.0.1:8265 \u001b[39m\u001b[22m\n",
      "2024-11-19 07:06:15,356\tINFO tune.py:616 -- [output] This uses the legacy output and progress reporter, as Jupyter notebooks are not supported by the new engine, yet. For more information, please see https://github.com/ray-project/ray/issues/36949\n"
     ]
    },
    {
     "data": {
      "text/html": [
       "<div class=\"tuneStatus\">\n",
       "  <div style=\"display: flex;flex-direction: row\">\n",
       "    <div style=\"display: flex;flex-direction: column;\">\n",
       "      <h3>Tune Status</h3>\n",
       "      <table>\n",
       "<tbody>\n",
       "<tr><td>Current time:</td><td>2024-11-19 08:39:23</td></tr>\n",
       "<tr><td>Running for: </td><td>01:33:07.76        </td></tr>\n",
       "<tr><td>Memory:      </td><td>53.2/117.9 GiB     </td></tr>\n",
       "</tbody>\n",
       "</table>\n",
       "    </div>\n",
       "    <div class=\"vDivider\"></div>\n",
       "    <div class=\"systemInfo\">\n",
       "      <h3>System Info</h3>\n",
       "      Using FIFO scheduling algorithm.<br>Logical resource usage: 20.0/24 CPUs, 0/1 GPUs (0.0/1.0 accelerator_type:G)\n",
       "    </div>\n",
       "    \n",
       "  </div>\n",
       "  <div class=\"hDivider\"></div>\n",
       "  <div class=\"trialStatus\">\n",
       "    <h3>Trial Status</h3>\n",
       "    <table>\n",
       "<thead>\n",
       "<tr><th>Trial name                                </th><th>status    </th><th>loc                    </th><th style=\"text-align: right;\">  max_depth</th><th>max_features  </th><th style=\"text-align: right;\">  min_samples_leaf</th><th style=\"text-align: right;\">  min_samples_split</th><th style=\"text-align: right;\">  n_estimators</th><th style=\"text-align: right;\">  iter</th><th style=\"text-align: right;\">  total time (s)</th><th style=\"text-align: right;\">  c-index_stat</th></tr>\n",
       "</thead>\n",
       "<tbody>\n",
       "<tr><td>random_forest_training_wrapper_b6411_00000</td><td>TERMINATED</td><td>192.168.236.234:1387505</td><td style=\"text-align: right;\">          9</td><td>sqrt          </td><td style=\"text-align: right;\">                 5</td><td style=\"text-align: right;\">                  8</td><td style=\"text-align: right;\">           164</td><td style=\"text-align: right;\">     1</td><td style=\"text-align: right;\">         73.9574</td><td style=\"text-align: right;\">      0.857171</td></tr>\n",
       "<tr><td>random_forest_training_wrapper_b6411_00001</td><td>TERMINATED</td><td>192.168.236.234:1388561</td><td style=\"text-align: right;\">          7</td><td>log2          </td><td style=\"text-align: right;\">                 9</td><td style=\"text-align: right;\">                  2</td><td style=\"text-align: right;\">           411</td><td style=\"text-align: right;\">     1</td><td style=\"text-align: right;\">        139.173 </td><td style=\"text-align: right;\">      0.859153</td></tr>\n",
       "<tr><td>random_forest_training_wrapper_b6411_00002</td><td>TERMINATED</td><td>192.168.236.234:1389744</td><td style=\"text-align: right;\">          3</td><td>sqrt          </td><td style=\"text-align: right;\">                 3</td><td style=\"text-align: right;\">                  2</td><td style=\"text-align: right;\">           420</td><td style=\"text-align: right;\">     1</td><td style=\"text-align: right;\">         70.2625</td><td style=\"text-align: right;\">      0.861421</td></tr>\n",
       "<tr><td>random_forest_training_wrapper_b6411_00003</td><td>TERMINATED</td><td>192.168.236.234:1390733</td><td style=\"text-align: right;\">         17</td><td>sqrt          </td><td style=\"text-align: right;\">                 3</td><td style=\"text-align: right;\">                  5</td><td style=\"text-align: right;\">           201</td><td style=\"text-align: right;\">     1</td><td style=\"text-align: right;\">        139.298 </td><td style=\"text-align: right;\">      0.849436</td></tr>\n",
       "<tr><td>random_forest_training_wrapper_b6411_00004</td><td>TERMINATED</td><td>192.168.236.234:1391916</td><td style=\"text-align: right;\">         12</td><td>sqrt          </td><td style=\"text-align: right;\">                 6</td><td style=\"text-align: right;\">                  3</td><td style=\"text-align: right;\">           368</td><td style=\"text-align: right;\">     1</td><td style=\"text-align: right;\">        190.577 </td><td style=\"text-align: right;\">      0.853591</td></tr>\n",
       "<tr><td>random_forest_training_wrapper_b6411_00005</td><td>TERMINATED</td><td>192.168.236.234:1393240</td><td style=\"text-align: right;\">          5</td><td>log2          </td><td style=\"text-align: right;\">                 7</td><td style=\"text-align: right;\">                  5</td><td style=\"text-align: right;\">            97</td><td style=\"text-align: right;\">     1</td><td style=\"text-align: right;\">         28.2665</td><td style=\"text-align: right;\">      0.860848</td></tr>\n",
       "<tr><td>random_forest_training_wrapper_b6411_00006</td><td>TERMINATED</td><td>192.168.236.234:1394131</td><td style=\"text-align: right;\">          9</td><td>log2          </td><td style=\"text-align: right;\">                 8</td><td style=\"text-align: right;\">                  9</td><td style=\"text-align: right;\">           207</td><td style=\"text-align: right;\">     1</td><td style=\"text-align: right;\">         89.8782</td><td style=\"text-align: right;\">      0.857037</td></tr>\n",
       "<tr><td>random_forest_training_wrapper_b6411_00007</td><td>TERMINATED</td><td>192.168.236.234:1395194</td><td style=\"text-align: right;\">          6</td><td>log2          </td><td style=\"text-align: right;\">                 3</td><td style=\"text-align: right;\">                  9</td><td style=\"text-align: right;\">           168</td><td style=\"text-align: right;\">     1</td><td style=\"text-align: right;\">         57.0302</td><td style=\"text-align: right;\">      0.860378</td></tr>\n",
       "<tr><td>random_forest_training_wrapper_b6411_00008</td><td>TERMINATED</td><td>192.168.236.234:1396143</td><td style=\"text-align: right;\">          3</td><td>sqrt          </td><td style=\"text-align: right;\">                 2</td><td style=\"text-align: right;\">                  8</td><td style=\"text-align: right;\">           128</td><td style=\"text-align: right;\">     1</td><td style=\"text-align: right;\">         24.5496</td><td style=\"text-align: right;\">      0.861465</td></tr>\n",
       "<tr><td>random_forest_training_wrapper_b6411_00009</td><td>TERMINATED</td><td>192.168.236.234:1397018</td><td style=\"text-align: right;\">          9</td><td>log2          </td><td style=\"text-align: right;\">                 6</td><td style=\"text-align: right;\">                  6</td><td style=\"text-align: right;\">           429</td><td style=\"text-align: right;\">     1</td><td style=\"text-align: right;\">        179.317 </td><td style=\"text-align: right;\">      0.857075</td></tr>\n",
       "<tr><td>random_forest_training_wrapper_b6411_00010</td><td>TERMINATED</td><td>192.168.236.234:1398310</td><td style=\"text-align: right;\">          7</td><td>log2          </td><td style=\"text-align: right;\">                 8</td><td style=\"text-align: right;\">                  5</td><td style=\"text-align: right;\">           459</td><td style=\"text-align: right;\">     1</td><td style=\"text-align: right;\">        154.409 </td><td style=\"text-align: right;\">      0.85913 </td></tr>\n",
       "<tr><td>random_forest_training_wrapper_b6411_00011</td><td>TERMINATED</td><td>192.168.236.234:1399541</td><td style=\"text-align: right;\">          3</td><td>log2          </td><td style=\"text-align: right;\">                 4</td><td style=\"text-align: right;\">                  7</td><td style=\"text-align: right;\">           498</td><td style=\"text-align: right;\">     1</td><td style=\"text-align: right;\">         80.2932</td><td style=\"text-align: right;\">      0.861305</td></tr>\n",
       "<tr><td>random_forest_training_wrapper_b6411_00012</td><td>TERMINATED</td><td>192.168.236.234:1400563</td><td style=\"text-align: right;\">          8</td><td>sqrt          </td><td style=\"text-align: right;\">                 1</td><td style=\"text-align: right;\">                  2</td><td style=\"text-align: right;\">           288</td><td style=\"text-align: right;\">     1</td><td style=\"text-align: right;\">        108.926 </td><td style=\"text-align: right;\">      0.858108</td></tr>\n",
       "<tr><td>random_forest_training_wrapper_b6411_00013</td><td>TERMINATED</td><td>192.168.236.234:1401667</td><td style=\"text-align: right;\">          6</td><td>log2          </td><td style=\"text-align: right;\">                 6</td><td style=\"text-align: right;\">                  4</td><td style=\"text-align: right;\">           404</td><td style=\"text-align: right;\">     1</td><td style=\"text-align: right;\">        120.074 </td><td style=\"text-align: right;\">      0.860312</td></tr>\n",
       "<tr><td>random_forest_training_wrapper_b6411_00014</td><td>TERMINATED</td><td>192.168.236.234:1402787</td><td style=\"text-align: right;\">         14</td><td>sqrt          </td><td style=\"text-align: right;\">                 7</td><td style=\"text-align: right;\">                  7</td><td style=\"text-align: right;\">           188</td><td style=\"text-align: right;\">     1</td><td style=\"text-align: right;\">        110.674 </td><td style=\"text-align: right;\">      0.851681</td></tr>\n",
       "<tr><td>random_forest_training_wrapper_b6411_00015</td><td>TERMINATED</td><td>192.168.236.234:1403897</td><td style=\"text-align: right;\">          8</td><td>sqrt          </td><td style=\"text-align: right;\">                 3</td><td style=\"text-align: right;\">                  6</td><td style=\"text-align: right;\">           379</td><td style=\"text-align: right;\">     1</td><td style=\"text-align: right;\">        141.131 </td><td style=\"text-align: right;\">      0.858139</td></tr>\n",
       "<tr><td>random_forest_training_wrapper_b6411_00016</td><td>TERMINATED</td><td>192.168.236.234:1405079</td><td style=\"text-align: right;\">         11</td><td>log2          </td><td style=\"text-align: right;\">                 3</td><td style=\"text-align: right;\">                  3</td><td style=\"text-align: right;\">           459</td><td style=\"text-align: right;\">     1</td><td style=\"text-align: right;\">        217.121 </td><td style=\"text-align: right;\">      0.8547  </td></tr>\n",
       "<tr><td>random_forest_training_wrapper_b6411_00017</td><td>TERMINATED</td><td>192.168.236.234:1406470</td><td style=\"text-align: right;\">          9</td><td>sqrt          </td><td style=\"text-align: right;\">                 7</td><td style=\"text-align: right;\">                  3</td><td style=\"text-align: right;\">           211</td><td style=\"text-align: right;\">     1</td><td style=\"text-align: right;\">         88.8475</td><td style=\"text-align: right;\">      0.857024</td></tr>\n",
       "<tr><td>random_forest_training_wrapper_b6411_00018</td><td>TERMINATED</td><td>192.168.236.234:1407527</td><td style=\"text-align: right;\">         15</td><td>sqrt          </td><td style=\"text-align: right;\">                 2</td><td style=\"text-align: right;\">                  5</td><td style=\"text-align: right;\">            55</td><td style=\"text-align: right;\">     1</td><td style=\"text-align: right;\">         45.9757</td><td style=\"text-align: right;\">      0.850348</td></tr>\n",
       "<tr><td>random_forest_training_wrapper_b6411_00019</td><td>TERMINATED</td><td>192.168.236.234:1408448</td><td style=\"text-align: right;\">         14</td><td>sqrt          </td><td style=\"text-align: right;\">                 2</td><td style=\"text-align: right;\">                  8</td><td style=\"text-align: right;\">           108</td><td style=\"text-align: right;\">     1</td><td style=\"text-align: right;\">         69.9872</td><td style=\"text-align: right;\">      0.851363</td></tr>\n",
       "<tr><td>random_forest_training_wrapper_b6411_00020</td><td>TERMINATED</td><td>192.168.236.234:1409437</td><td style=\"text-align: right;\">          3</td><td>log2          </td><td style=\"text-align: right;\">                 8</td><td style=\"text-align: right;\">                  9</td><td style=\"text-align: right;\">           421</td><td style=\"text-align: right;\">     1</td><td style=\"text-align: right;\">         69.2594</td><td style=\"text-align: right;\">      0.861419</td></tr>\n",
       "<tr><td>random_forest_training_wrapper_b6411_00021</td><td>TERMINATED</td><td>192.168.236.234:1410433</td><td style=\"text-align: right;\">          3</td><td>sqrt          </td><td style=\"text-align: right;\">                 4</td><td style=\"text-align: right;\">                  3</td><td style=\"text-align: right;\">           168</td><td style=\"text-align: right;\">     1</td><td style=\"text-align: right;\">         32.8961</td><td style=\"text-align: right;\">      0.86172 </td></tr>\n",
       "<tr><td>random_forest_training_wrapper_b6411_00022</td><td>TERMINATED</td><td>192.168.236.234:1411321</td><td style=\"text-align: right;\">         13</td><td>log2          </td><td style=\"text-align: right;\">                 7</td><td style=\"text-align: right;\">                  4</td><td style=\"text-align: right;\">           133</td><td style=\"text-align: right;\">     1</td><td style=\"text-align: right;\">         77.5692</td><td style=\"text-align: right;\">      0.852594</td></tr>\n",
       "<tr><td>random_forest_training_wrapper_b6411_00023</td><td>TERMINATED</td><td>192.168.236.234:1412335</td><td style=\"text-align: right;\">          6</td><td>sqrt          </td><td style=\"text-align: right;\">                 9</td><td style=\"text-align: right;\">                  9</td><td style=\"text-align: right;\">           336</td><td style=\"text-align: right;\">     1</td><td style=\"text-align: right;\">        100.766 </td><td style=\"text-align: right;\">      0.860295</td></tr>\n",
       "<tr><td>random_forest_training_wrapper_b6411_00024</td><td>TERMINATED</td><td>192.168.236.234:1413413</td><td style=\"text-align: right;\">         10</td><td>sqrt          </td><td style=\"text-align: right;\">                 4</td><td style=\"text-align: right;\">                  3</td><td style=\"text-align: right;\">            73</td><td style=\"text-align: right;\">     1</td><td style=\"text-align: right;\">         40.6163</td><td style=\"text-align: right;\">      0.855711</td></tr>\n",
       "<tr><td>random_forest_training_wrapper_b6411_00025</td><td>TERMINATED</td><td>192.168.236.234:1414328</td><td style=\"text-align: right;\">         19</td><td>sqrt          </td><td style=\"text-align: right;\">                 2</td><td style=\"text-align: right;\">                  2</td><td style=\"text-align: right;\">            93</td><td style=\"text-align: right;\">     1</td><td style=\"text-align: right;\">         72.4697</td><td style=\"text-align: right;\">      0.848626</td></tr>\n",
       "<tr><td>random_forest_training_wrapper_b6411_00026</td><td>TERMINATED</td><td>192.168.236.234:1415323</td><td style=\"text-align: right;\">          8</td><td>log2          </td><td style=\"text-align: right;\">                 4</td><td style=\"text-align: right;\">                  8</td><td style=\"text-align: right;\">           205</td><td style=\"text-align: right;\">     1</td><td style=\"text-align: right;\">         80.4846</td><td style=\"text-align: right;\">      0.858068</td></tr>\n",
       "<tr><td>random_forest_training_wrapper_b6411_00027</td><td>TERMINATED</td><td>192.168.236.234:1416352</td><td style=\"text-align: right;\">          3</td><td>sqrt          </td><td style=\"text-align: right;\">                 9</td><td style=\"text-align: right;\">                  5</td><td style=\"text-align: right;\">           328</td><td style=\"text-align: right;\">     1</td><td style=\"text-align: right;\">         57.7511</td><td style=\"text-align: right;\">      0.861467</td></tr>\n",
       "<tr><td>random_forest_training_wrapper_b6411_00028</td><td>TERMINATED</td><td>192.168.236.234:1417307</td><td style=\"text-align: right;\">         16</td><td>log2          </td><td style=\"text-align: right;\">                 6</td><td style=\"text-align: right;\">                  7</td><td style=\"text-align: right;\">           306</td><td style=\"text-align: right;\">     1</td><td style=\"text-align: right;\">        191.37  </td><td style=\"text-align: right;\">      0.850097</td></tr>\n",
       "<tr><td>random_forest_training_wrapper_b6411_00029</td><td>TERMINATED</td><td>192.168.236.234:1418636</td><td style=\"text-align: right;\">         11</td><td>log2          </td><td style=\"text-align: right;\">                 6</td><td style=\"text-align: right;\">                  6</td><td style=\"text-align: right;\">           258</td><td style=\"text-align: right;\">     1</td><td style=\"text-align: right;\">        129.278 </td><td style=\"text-align: right;\">      0.854526</td></tr>\n",
       "<tr><td>random_forest_training_wrapper_b6411_00030</td><td>TERMINATED</td><td>192.168.236.234:1419793</td><td style=\"text-align: right;\">          7</td><td>log2          </td><td style=\"text-align: right;\">                 6</td><td style=\"text-align: right;\">                  5</td><td style=\"text-align: right;\">           279</td><td style=\"text-align: right;\">     1</td><td style=\"text-align: right;\">         97.9907</td><td style=\"text-align: right;\">      0.859174</td></tr>\n",
       "<tr><td>random_forest_training_wrapper_b6411_00031</td><td>TERMINATED</td><td>192.168.236.234:1420870</td><td style=\"text-align: right;\">          8</td><td>log2          </td><td style=\"text-align: right;\">                 7</td><td style=\"text-align: right;\">                  8</td><td style=\"text-align: right;\">           156</td><td style=\"text-align: right;\">     1</td><td style=\"text-align: right;\">         61.2372</td><td style=\"text-align: right;\">      0.857899</td></tr>\n",
       "<tr><td>random_forest_training_wrapper_b6411_00032</td><td>TERMINATED</td><td>192.168.236.234:1421851</td><td style=\"text-align: right;\">         16</td><td>log2          </td><td style=\"text-align: right;\">                 1</td><td style=\"text-align: right;\">                  8</td><td style=\"text-align: right;\">           249</td><td style=\"text-align: right;\">     1</td><td style=\"text-align: right;\">        161.634 </td><td style=\"text-align: right;\">      0.850207</td></tr>\n",
       "<tr><td>random_forest_training_wrapper_b6411_00033</td><td>TERMINATED</td><td>192.168.236.234:1423102</td><td style=\"text-align: right;\">         13</td><td>log2          </td><td style=\"text-align: right;\">                 6</td><td style=\"text-align: right;\">                  2</td><td style=\"text-align: right;\">           387</td><td style=\"text-align: right;\">     1</td><td style=\"text-align: right;\">        212.144 </td><td style=\"text-align: right;\">      0.852501</td></tr>\n",
       "<tr><td>random_forest_training_wrapper_b6411_00034</td><td>TERMINATED</td><td>192.168.236.234:1424479</td><td style=\"text-align: right;\">         16</td><td>log2          </td><td style=\"text-align: right;\">                 4</td><td style=\"text-align: right;\">                  3</td><td style=\"text-align: right;\">           388</td><td style=\"text-align: right;\">     1</td><td style=\"text-align: right;\">        246.443 </td><td style=\"text-align: right;\">      0.850085</td></tr>\n",
       "<tr><td>random_forest_training_wrapper_b6411_00035</td><td>TERMINATED</td><td>192.168.236.234:1425950</td><td style=\"text-align: right;\">          6</td><td>log2          </td><td style=\"text-align: right;\">                 2</td><td style=\"text-align: right;\">                  3</td><td style=\"text-align: right;\">           100</td><td style=\"text-align: right;\">     1</td><td style=\"text-align: right;\">         36.5567</td><td style=\"text-align: right;\">      0.860128</td></tr>\n",
       "<tr><td>random_forest_training_wrapper_b6411_00036</td><td>TERMINATED</td><td>192.168.236.234:1426859</td><td style=\"text-align: right;\">          3</td><td>log2          </td><td style=\"text-align: right;\">                 4</td><td style=\"text-align: right;\">                  9</td><td style=\"text-align: right;\">           458</td><td style=\"text-align: right;\">     1</td><td style=\"text-align: right;\">         74.3517</td><td style=\"text-align: right;\">      0.861467</td></tr>\n",
       "<tr><td>random_forest_training_wrapper_b6411_00037</td><td>TERMINATED</td><td>192.168.236.234:1427861</td><td style=\"text-align: right;\">          5</td><td>sqrt          </td><td style=\"text-align: right;\">                 7</td><td style=\"text-align: right;\">                  9</td><td style=\"text-align: right;\">           148</td><td style=\"text-align: right;\">     1</td><td style=\"text-align: right;\">         42.1273</td><td style=\"text-align: right;\">      0.860999</td></tr>\n",
       "<tr><td>random_forest_training_wrapper_b6411_00038</td><td>TERMINATED</td><td>192.168.236.234:1428782</td><td style=\"text-align: right;\">          9</td><td>log2          </td><td style=\"text-align: right;\">                 2</td><td style=\"text-align: right;\">                  6</td><td style=\"text-align: right;\">           233</td><td style=\"text-align: right;\">     1</td><td style=\"text-align: right;\">        100.724 </td><td style=\"text-align: right;\">      0.857182</td></tr>\n",
       "<tr><td>random_forest_training_wrapper_b6411_00039</td><td>TERMINATED</td><td>192.168.236.234:1429859</td><td style=\"text-align: right;\">          3</td><td>sqrt          </td><td style=\"text-align: right;\">                 5</td><td style=\"text-align: right;\">                  9</td><td style=\"text-align: right;\">           478</td><td style=\"text-align: right;\">     1</td><td style=\"text-align: right;\">         77.5341</td><td style=\"text-align: right;\">      0.861387</td></tr>\n",
       "<tr><td>random_forest_training_wrapper_b6411_00040</td><td>TERMINATED</td><td>192.168.236.234:1430868</td><td style=\"text-align: right;\">         16</td><td>sqrt          </td><td style=\"text-align: right;\">                 5</td><td style=\"text-align: right;\">                  9</td><td style=\"text-align: right;\">           257</td><td style=\"text-align: right;\">     1</td><td style=\"text-align: right;\">        166.941 </td><td style=\"text-align: right;\">      0.849967</td></tr>\n",
       "<tr><td>random_forest_training_wrapper_b6411_00041</td><td>TERMINATED</td><td>192.168.236.234:1432127</td><td style=\"text-align: right;\">         11</td><td>sqrt          </td><td style=\"text-align: right;\">                 5</td><td style=\"text-align: right;\">                  4</td><td style=\"text-align: right;\">           118</td><td style=\"text-align: right;\">     1</td><td style=\"text-align: right;\">         64.358 </td><td style=\"text-align: right;\">      0.854474</td></tr>\n",
       "<tr><td>random_forest_training_wrapper_b6411_00042</td><td>TERMINATED</td><td>192.168.236.234:1433102</td><td style=\"text-align: right;\">         17</td><td>log2          </td><td style=\"text-align: right;\">                 1</td><td style=\"text-align: right;\">                  7</td><td style=\"text-align: right;\">           341</td><td style=\"text-align: right;\">     1</td><td style=\"text-align: right;\">        228.814 </td><td style=\"text-align: right;\">      0.849562</td></tr>\n",
       "<tr><td>random_forest_training_wrapper_b6411_00043</td><td>TERMINATED</td><td>192.168.236.234:1434526</td><td style=\"text-align: right;\">         14</td><td>log2          </td><td style=\"text-align: right;\">                 2</td><td style=\"text-align: right;\">                  9</td><td style=\"text-align: right;\">           380</td><td style=\"text-align: right;\">     1</td><td style=\"text-align: right;\">        220.875 </td><td style=\"text-align: right;\">      0.851567</td></tr>\n",
       "<tr><td>random_forest_training_wrapper_b6411_00044</td><td>TERMINATED</td><td>192.168.236.234:1435936</td><td style=\"text-align: right;\">          9</td><td>log2          </td><td style=\"text-align: right;\">                 9</td><td style=\"text-align: right;\">                  4</td><td style=\"text-align: right;\">           124</td><td style=\"text-align: right;\">     1</td><td style=\"text-align: right;\">         59.9825</td><td style=\"text-align: right;\">      0.856871</td></tr>\n",
       "<tr><td>random_forest_training_wrapper_b6411_00045</td><td>TERMINATED</td><td>192.168.236.234:1436899</td><td style=\"text-align: right;\">         15</td><td>sqrt          </td><td style=\"text-align: right;\">                 4</td><td style=\"text-align: right;\">                  4</td><td style=\"text-align: right;\">           353</td><td style=\"text-align: right;\">     1</td><td style=\"text-align: right;\">        220.04  </td><td style=\"text-align: right;\">      0.850809</td></tr>\n",
       "<tr><td>random_forest_training_wrapper_b6411_00046</td><td>TERMINATED</td><td>192.168.236.234:1438303</td><td style=\"text-align: right;\">          6</td><td>log2          </td><td style=\"text-align: right;\">                 3</td><td style=\"text-align: right;\">                  9</td><td style=\"text-align: right;\">           162</td><td style=\"text-align: right;\">     1</td><td style=\"text-align: right;\">         55.7431</td><td style=\"text-align: right;\">      0.86034 </td></tr>\n",
       "<tr><td>random_forest_training_wrapper_b6411_00047</td><td>TERMINATED</td><td>192.168.236.234:1439252</td><td style=\"text-align: right;\">          4</td><td>log2          </td><td style=\"text-align: right;\">                 8</td><td style=\"text-align: right;\">                  3</td><td style=\"text-align: right;\">           330</td><td style=\"text-align: right;\">     1</td><td style=\"text-align: right;\">         71.5801</td><td style=\"text-align: right;\">      0.861378</td></tr>\n",
       "<tr><td>random_forest_training_wrapper_b6411_00048</td><td>TERMINATED</td><td>192.168.236.234:1440247</td><td style=\"text-align: right;\">         11</td><td>sqrt          </td><td style=\"text-align: right;\">                 4</td><td style=\"text-align: right;\">                  5</td><td style=\"text-align: right;\">           128</td><td style=\"text-align: right;\">     1</td><td style=\"text-align: right;\">         69.4559</td><td style=\"text-align: right;\">      0.854497</td></tr>\n",
       "<tr><td>random_forest_training_wrapper_b6411_00049</td><td>TERMINATED</td><td>192.168.236.234:1441244</td><td style=\"text-align: right;\">         17</td><td>sqrt          </td><td style=\"text-align: right;\">                 8</td><td style=\"text-align: right;\">                  7</td><td style=\"text-align: right;\">           320</td><td style=\"text-align: right;\">     1</td><td style=\"text-align: right;\">        207.914 </td><td style=\"text-align: right;\">      0.849759</td></tr>\n",
       "</tbody>\n",
       "</table>\n",
       "  </div>\n",
       "</div>\n",
       "<style>\n",
       ".tuneStatus {\n",
       "  color: var(--jp-ui-font-color1);\n",
       "}\n",
       ".tuneStatus .systemInfo {\n",
       "  display: flex;\n",
       "  flex-direction: column;\n",
       "}\n",
       ".tuneStatus td {\n",
       "  white-space: nowrap;\n",
       "}\n",
       ".tuneStatus .trialStatus {\n",
       "  display: flex;\n",
       "  flex-direction: column;\n",
       "}\n",
       ".tuneStatus h3 {\n",
       "  font-weight: bold;\n",
       "}\n",
       ".tuneStatus .hDivider {\n",
       "  border-bottom-width: var(--jp-border-width);\n",
       "  border-bottom-color: var(--jp-border-color0);\n",
       "  border-bottom-style: solid;\n",
       "}\n",
       ".tuneStatus .vDivider {\n",
       "  border-left-width: var(--jp-border-width);\n",
       "  border-left-color: var(--jp-border-color0);\n",
       "  border-left-style: solid;\n",
       "  margin: 0.5em 1em 0.5em 1em;\n",
       "}\n",
       "</style>\n"
      ],
      "text/plain": [
       "<IPython.core.display.HTML object>"
      ]
     },
     "metadata": {},
     "output_type": "display_data"
    },
    {
     "name": "stdout",
     "output_type": "stream",
     "text": [
      "\u001b[33m(raylet)\u001b[0m Warning: The actor ImplicitFunc is very large (16 MiB). Check that its definition is not implicitly capturing a large array or other object in scope. Tip: use ray.put() to put large objects in the Ray object store.\n"
     ]
    },
    {
     "data": {
      "text/html": [
       "<div class=\"trialProgress\">\n",
       "  <h3>Trial Progress</h3>\n",
       "  <table>\n",
       "<thead>\n",
       "<tr><th>Trial name                                </th><th style=\"text-align: right;\">  c-index_stat</th></tr>\n",
       "</thead>\n",
       "<tbody>\n",
       "<tr><td>random_forest_training_wrapper_b6411_00000</td><td style=\"text-align: right;\">      0.857171</td></tr>\n",
       "<tr><td>random_forest_training_wrapper_b6411_00001</td><td style=\"text-align: right;\">      0.859153</td></tr>\n",
       "<tr><td>random_forest_training_wrapper_b6411_00002</td><td style=\"text-align: right;\">      0.861421</td></tr>\n",
       "<tr><td>random_forest_training_wrapper_b6411_00003</td><td style=\"text-align: right;\">      0.849436</td></tr>\n",
       "<tr><td>random_forest_training_wrapper_b6411_00004</td><td style=\"text-align: right;\">      0.853591</td></tr>\n",
       "<tr><td>random_forest_training_wrapper_b6411_00005</td><td style=\"text-align: right;\">      0.860848</td></tr>\n",
       "<tr><td>random_forest_training_wrapper_b6411_00006</td><td style=\"text-align: right;\">      0.857037</td></tr>\n",
       "<tr><td>random_forest_training_wrapper_b6411_00007</td><td style=\"text-align: right;\">      0.860378</td></tr>\n",
       "<tr><td>random_forest_training_wrapper_b6411_00008</td><td style=\"text-align: right;\">      0.861465</td></tr>\n",
       "<tr><td>random_forest_training_wrapper_b6411_00009</td><td style=\"text-align: right;\">      0.857075</td></tr>\n",
       "<tr><td>random_forest_training_wrapper_b6411_00010</td><td style=\"text-align: right;\">      0.85913 </td></tr>\n",
       "<tr><td>random_forest_training_wrapper_b6411_00011</td><td style=\"text-align: right;\">      0.861305</td></tr>\n",
       "<tr><td>random_forest_training_wrapper_b6411_00012</td><td style=\"text-align: right;\">      0.858108</td></tr>\n",
       "<tr><td>random_forest_training_wrapper_b6411_00013</td><td style=\"text-align: right;\">      0.860312</td></tr>\n",
       "<tr><td>random_forest_training_wrapper_b6411_00014</td><td style=\"text-align: right;\">      0.851681</td></tr>\n",
       "<tr><td>random_forest_training_wrapper_b6411_00015</td><td style=\"text-align: right;\">      0.858139</td></tr>\n",
       "<tr><td>random_forest_training_wrapper_b6411_00016</td><td style=\"text-align: right;\">      0.8547  </td></tr>\n",
       "<tr><td>random_forest_training_wrapper_b6411_00017</td><td style=\"text-align: right;\">      0.857024</td></tr>\n",
       "<tr><td>random_forest_training_wrapper_b6411_00018</td><td style=\"text-align: right;\">      0.850348</td></tr>\n",
       "<tr><td>random_forest_training_wrapper_b6411_00019</td><td style=\"text-align: right;\">      0.851363</td></tr>\n",
       "<tr><td>random_forest_training_wrapper_b6411_00020</td><td style=\"text-align: right;\">      0.861419</td></tr>\n",
       "<tr><td>random_forest_training_wrapper_b6411_00021</td><td style=\"text-align: right;\">      0.86172 </td></tr>\n",
       "<tr><td>random_forest_training_wrapper_b6411_00022</td><td style=\"text-align: right;\">      0.852594</td></tr>\n",
       "<tr><td>random_forest_training_wrapper_b6411_00023</td><td style=\"text-align: right;\">      0.860295</td></tr>\n",
       "<tr><td>random_forest_training_wrapper_b6411_00024</td><td style=\"text-align: right;\">      0.855711</td></tr>\n",
       "<tr><td>random_forest_training_wrapper_b6411_00025</td><td style=\"text-align: right;\">      0.848626</td></tr>\n",
       "<tr><td>random_forest_training_wrapper_b6411_00026</td><td style=\"text-align: right;\">      0.858068</td></tr>\n",
       "<tr><td>random_forest_training_wrapper_b6411_00027</td><td style=\"text-align: right;\">      0.861467</td></tr>\n",
       "<tr><td>random_forest_training_wrapper_b6411_00028</td><td style=\"text-align: right;\">      0.850097</td></tr>\n",
       "<tr><td>random_forest_training_wrapper_b6411_00029</td><td style=\"text-align: right;\">      0.854526</td></tr>\n",
       "<tr><td>random_forest_training_wrapper_b6411_00030</td><td style=\"text-align: right;\">      0.859174</td></tr>\n",
       "<tr><td>random_forest_training_wrapper_b6411_00031</td><td style=\"text-align: right;\">      0.857899</td></tr>\n",
       "<tr><td>random_forest_training_wrapper_b6411_00032</td><td style=\"text-align: right;\">      0.850207</td></tr>\n",
       "<tr><td>random_forest_training_wrapper_b6411_00033</td><td style=\"text-align: right;\">      0.852501</td></tr>\n",
       "<tr><td>random_forest_training_wrapper_b6411_00034</td><td style=\"text-align: right;\">      0.850085</td></tr>\n",
       "<tr><td>random_forest_training_wrapper_b6411_00035</td><td style=\"text-align: right;\">      0.860128</td></tr>\n",
       "<tr><td>random_forest_training_wrapper_b6411_00036</td><td style=\"text-align: right;\">      0.861467</td></tr>\n",
       "<tr><td>random_forest_training_wrapper_b6411_00037</td><td style=\"text-align: right;\">      0.860999</td></tr>\n",
       "<tr><td>random_forest_training_wrapper_b6411_00038</td><td style=\"text-align: right;\">      0.857182</td></tr>\n",
       "<tr><td>random_forest_training_wrapper_b6411_00039</td><td style=\"text-align: right;\">      0.861387</td></tr>\n",
       "<tr><td>random_forest_training_wrapper_b6411_00040</td><td style=\"text-align: right;\">      0.849967</td></tr>\n",
       "<tr><td>random_forest_training_wrapper_b6411_00041</td><td style=\"text-align: right;\">      0.854474</td></tr>\n",
       "<tr><td>random_forest_training_wrapper_b6411_00042</td><td style=\"text-align: right;\">      0.849562</td></tr>\n",
       "<tr><td>random_forest_training_wrapper_b6411_00043</td><td style=\"text-align: right;\">      0.851567</td></tr>\n",
       "<tr><td>random_forest_training_wrapper_b6411_00044</td><td style=\"text-align: right;\">      0.856871</td></tr>\n",
       "<tr><td>random_forest_training_wrapper_b6411_00045</td><td style=\"text-align: right;\">      0.850809</td></tr>\n",
       "<tr><td>random_forest_training_wrapper_b6411_00046</td><td style=\"text-align: right;\">      0.86034 </td></tr>\n",
       "<tr><td>random_forest_training_wrapper_b6411_00047</td><td style=\"text-align: right;\">      0.861378</td></tr>\n",
       "<tr><td>random_forest_training_wrapper_b6411_00048</td><td style=\"text-align: right;\">      0.854497</td></tr>\n",
       "<tr><td>random_forest_training_wrapper_b6411_00049</td><td style=\"text-align: right;\">      0.849759</td></tr>\n",
       "</tbody>\n",
       "</table>\n",
       "</div>\n",
       "<style>\n",
       ".trialProgress {\n",
       "  display: flex;\n",
       "  flex-direction: column;\n",
       "  color: var(--jp-ui-font-color1);\n",
       "}\n",
       ".trialProgress h3 {\n",
       "  font-weight: bold;\n",
       "}\n",
       ".trialProgress td {\n",
       "  white-space: nowrap;\n",
       "}\n",
       "</style>\n"
      ],
      "text/plain": [
       "<IPython.core.display.HTML object>"
      ]
     },
     "metadata": {},
     "output_type": "display_data"
    },
    {
     "name": "stderr",
     "output_type": "stream",
     "text": [
      "2024-11-19 08:39:23,246\tINFO tune.py:1009 -- Wrote the latest version of all result files and experiment state to '/mnt/d/PYDataScience/g3_regress/data/results/random_forest_training_wrapper_2024-11-19_07-06-15' in 1.2829s.\n",
      "2024-11-19 08:39:23,252\tINFO tune.py:1041 -- Total run time: 5587.90 seconds (5586.48 seconds for the tuning loop).\n",
      "2024-11-19 08:39:23,467\tWARNING experiment_analysis.py:558 -- Could not find best trial. Did you pass the correct `metric` parameter?\n"
     ]
    },
    {
     "name": "stdout",
     "output_type": "stream",
     "text": [
      "Best hyperparameters: None\n"
     ]
    }
   ],
   "source": [
    "def random_forest_training_wrapper(config, data):\n",
    "    \"\"\"\n",
    "    A Ray Tune-compatible wrapper to train Random Forest models for all outcomes and time points,\n",
    "    evaluate predictions using concordance index, and report mean concordance index.\n",
    "\n",
    "    Args:\n",
    "        config: Dictionary of hyperparameters provided by Ray Tune.\n",
    "        data: Dictionary containing final_meta_learner_X_train, cif_ground_truth_test_stacked,\n",
    "              durations, and events.\n",
    "    \"\"\"\n",
    "    final_meta_learner_X_train = data[\"final_meta_learner_X_train\"]\n",
    "    final_meta_learner_X_val = data[\"final_meta_learner_X_val\"]\n",
    "    cif_ground_truth_test_stacked = data[\"cif_ground_truth_test_stacked\"]\n",
    "    cif_ground_truth_val_stacked = data[\"cif_ground_truth_val_stacked\"]\n",
    "    durations_val = data[\"durations_val\"]\n",
    "    events_val = data[\"events_val\"]\n",
    "\n",
    "    # Initialize predictions array (2 outcomes, 6 time points, number of patients)\n",
    "    rf_predictions = np.zeros((2, 6, X_fin_val.shape[0]))\n",
    "\n",
    "    # Train models and make predictions for each outcome and time point\n",
    "    for outcome_idx in range(2):\n",
    "        for time_idx in range(6):\n",
    "            # Prepare training data\n",
    "            stacking_inputs_train = np.array([\n",
    "                final_meta_learner_X_train[key][outcome_idx, time_idx]\n",
    "                for key in final_meta_learner_X_train.keys()\n",
    "            ]).T  # Shape: (num_train_samples, num_models)\n",
    "            \n",
    "            target_train = cif_ground_truth_test_stacked[outcome_idx, time_idx, :]  # Correct indexing\n",
    "\n",
    "            # Validation data\n",
    "            stacking_inputs_val = np.array([\n",
    "                final_meta_learner_X_val[key][outcome_idx, time_idx]\n",
    "                for key in final_meta_learner_X_val.keys()\n",
    "            ]).T  # Shape: (num_val_samples, num_models)\n",
    "\n",
    "            target_val = cif_ground_truth_val_stacked[outcome_idx, time_idx, :]  # Correct indexing\n",
    "\n",
    "            # Train Random Forest model\n",
    "            model = RandomForestRegressor(\n",
    "                n_estimators=config[\"n_estimators\"],\n",
    "                max_depth=config[\"max_depth\"],\n",
    "                min_samples_split=config[\"min_samples_split\"],\n",
    "                min_samples_leaf=config[\"min_samples_leaf\"],\n",
    "                max_features=config[\"max_features\"],\n",
    "                random_state=RANDOM_SEED,\n",
    "                n_jobs=-1\n",
    "            )\n",
    "            model.fit(stacking_inputs_train , target_train)\n",
    "\n",
    "            # Predict CIF for all patients\n",
    "            rf_predictions[outcome_idx, time_idx] = model.predict(stacking_inputs_val)\n",
    "\n",
    "    # Compute concordance index for each event\n",
    "    concordance_indices = {}\n",
    "    for i in range(2):\n",
    "        event_interest = i + 1\n",
    "        cif = pd.DataFrame(rf_predictions[i], index=[0, 1, 2, 3, 4, 5])\n",
    "        ev = EvalSurv(1 - cif, durations_val, events_val == event_interest, censor_surv=\"km\")\n",
    "        concordance_indices[f\"Event_{event_interest}\"] = ev.concordance_td()\n",
    "\n",
    "    # Calculate mean concordance index\n",
    "    mean_concordance_index = np.mean(list(concordance_indices.values()))\n",
    "\n",
    "    # Report mean concordance index to Ray Tune\n",
    "    ray.train.report({'c-index_stat': mean_concordance_index})\n",
    "\n",
    "# Define the search space\n",
    "search_space = {\n",
    "    \"n_estimators\": tune.randint(50, 500),  # Number of trees in the forest\n",
    "    \"max_depth\": tune.randint(3, 20),  # Maximum depth of the tree\n",
    "    \"min_samples_split\": tune.randint(2, 10),  # Minimum number of samples required to split an internal node\n",
    "    \"min_samples_leaf\": tune.randint(1, 10),  # Minimum number of samples required to be at a leaf node\n",
    "    \"max_features\": tune.choice([\"sqrt\", \"log2\"])  # Number of features to consider when looking for the best split\n",
    "}\n",
    "\n",
    "# Prepare data\n",
    "data = {\n",
    "    \"final_meta_learner_X_train\": final_meta_learner_X_train,\n",
    "    \"final_meta_learner_X_val\": final_meta_learner_X_val,\n",
    "    \"cif_ground_truth_test_stacked\": cif_ground_truth_test_stacked,\n",
    "    \"cif_ground_truth_val_stacked\": cif_ground_truth_val_stacked,\n",
    "    \"durations_val\": durations_val,\n",
    "    \"events_val\": events_val,\n",
    "}\n",
    "\n",
    "ray.shutdown()\n",
    "ray.init()\n",
    "# Run Ray Tune\n",
    "analysis = tune.run(\n",
    "    tune.with_parameters(random_forest_training_wrapper, data=data),\n",
    "    config=search_space,\n",
    "    resources_per_trial={\"cpu\": 20, \"gpu\": 0},  # Random Forest does not require GPU\n",
    "    num_samples=50,  # Number of hyperparameter configurations to try\n",
    "    metric=\"c-index_stat\",  # Metric to optimize\n",
    "    mode=\"max\",  # Maximize the concordance index\n",
    "    storage_path=\"/mnt/d/PYDataScience/g3_regress/data/results\",  # Directory to store results\n",
    "    verbose=2\n",
    ")\n",
    "\n",
    "# Get the best configuration\n",
    "best_config = analysis.get_best_config(metric=\"c-index stat\", mode=\"max\")\n",
    "print(\"Best hyperparameters:\", best_config)\n",
    "\n",
    "ray.shutdown()"
   ]
  },
  {
   "cell_type": "code",
   "execution_count": 124,
   "metadata": {},
   "outputs": [
    {
     "data": {
      "text/plain": [
       "(0.8617197160068155,\n",
       " {'n_estimators': 168,\n",
       "  'max_depth': 3,\n",
       "  'min_samples_split': 3,\n",
       "  'min_samples_leaf': 4,\n",
       "  'max_features': 'sqrt'})"
      ]
     },
     "execution_count": 124,
     "metadata": {},
     "output_type": "execute_result"
    }
   ],
   "source": [
    "import os\n",
    "import json\n",
    "\n",
    "# Define the base directory containing the trial folders\n",
    "base_dir = \"/mnt/d/PYDataScience/g3_regress/data/results/random_forest_training_wrapper_2024-11-19_07-06-15\"\n",
    "\n",
    "# Initialize variables to store the max c-index and corresponding config\n",
    "max_c_index = float(\"-inf\")\n",
    "best_config = None\n",
    "\n",
    "# Iterate through all folders and parse the result.json files\n",
    "for root, dirs, files in os.walk(base_dir):\n",
    "    for file in files:\n",
    "        if file == \"result.json\":\n",
    "            file_path = os.path.join(root, file)\n",
    "            with open(file_path, \"r\") as f:\n",
    "                data = json.load(f)\n",
    "                if \"c-index_stat\" in data:\n",
    "                    c_index = data[\"c-index_stat\"]\n",
    "                    # Update max c-index and config if a new max is found\n",
    "                    if c_index > max_c_index:\n",
    "                        max_c_index = c_index\n",
    "                        best_config = data.get(\"config\", None)\n",
    "\n",
    "# Display the results\n",
    "max_c_index, best_config\n"
   ]
  }
 ],
 "metadata": {
  "kernelspec": {
   "display_name": "ai_dev",
   "language": "python",
   "name": "python3"
  },
  "language_info": {
   "codemirror_mode": {
    "name": "ipython",
    "version": 3
   },
   "file_extension": ".py",
   "mimetype": "text/x-python",
   "name": "python",
   "nbconvert_exporter": "python",
   "pygments_lexer": "ipython3",
   "version": "3.11.8"
  }
 },
 "nbformat": 4,
 "nbformat_minor": 2
}
