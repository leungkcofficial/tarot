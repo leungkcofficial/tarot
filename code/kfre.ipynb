{
 "cells": [
  {
   "cell_type": "markdown",
   "metadata": {},
   "source": [
    "### 1. Load libraries"
   ]
  },
  {
   "cell_type": "code",
   "execution_count": 1,
   "metadata": {},
   "outputs": [
    {
     "data": {
      "text/plain": [
       "51"
      ]
     },
     "execution_count": 1,
     "metadata": {},
     "output_type": "execute_result"
    }
   ],
   "source": [
    "import importlib\n",
    "import pandas as pd\n",
    "# from pandas.testing import assert_frame_equal\n",
    "import numpy as np\n",
    "from pathlib import Path\n",
    "import gc, json, os, tempfile\n",
    "import dataloader, databalancer, datatrainer, modeleval\n",
    "importlib.reload(dataloader)\n",
    "importlib.reload(databalancer)\n",
    "importlib.reload(datatrainer)\n",
    "importlib.reload(modeleval)\n",
    "from dataloader import read_imputed_datasets_hdf5, load_and_transform_data, prep_tensor\n",
    "from databalancer import df_event_focus, rebalance_data\n",
    "from datatrainer import recursive_clustering\n",
    "from modeleval import test_model, nam_dagostino_chi2, get_baseline_hazard_at_timepoints\n",
    "from sklearn.impute import IterativeImputer\n",
    "from sklearn.linear_model import BayesianRidge\n",
    "from sklearn.metrics import brier_score_loss\n",
    "from lifelines import KaplanMeierFitter, AalenJohansenFitter, CoxPHFitter\n",
    "from lifelines.utils import concordance_index\n",
    "from scipy.stats import chi2\n",
    "import psutil \n",
    "\n",
    "\n",
    "gc.collect()"
   ]
  },
  {
   "cell_type": "markdown",
   "metadata": {},
   "source": [
    "### 2. Load constants and datasets"
   ]
  },
  {
   "cell_type": "code",
   "execution_count": 2,
   "metadata": {},
   "outputs": [],
   "source": [
    "RANDOM_SEED = 12345\n",
    "n_split = 2\n",
    "feature_col = ['gender', 'dm', 'ht', 'sprint', 'a1c', 'po4', 'UACR_mg_g', 'Cr', 'age', 'alb', 'ca', 'hb', 'hco3']\n",
    "duration_col = ['date_from_sub_60']\n",
    "event_col = ['endpoint']\n",
    "cluster_col = ['key']\n",
    "\n",
    "# Define your feature groups\n",
    "cat_features = ['gender', 'dm', 'ht', 'sprint']\n",
    "log_features = ['a1c', 'po4', 'UACR_mg_g', 'Cr']\n",
    "standard_features = ['age', 'alb', 'ca', 'hb', 'hco3']\n",
    "passthrough_features = ['key', 'date_from_sub_60', 'endpoint']\n",
    "\n",
    "base_filename = '/mnt/d/pydatascience/g3_regress/data/X/X_20240628'\n",
    "X_load = read_imputed_datasets_hdf5(base_filename)\n",
    "test_df = X_load['X_test_main'][0]\n",
    "test_df = df_event_focus(df=test_df, event_col=event_col, event_focus=1)\n",
    "X_test = test_df[feature_col].copy()\n",
    "y_test = test_df[duration_col + event_col].copy()\n",
    "\n",
    "\n",
    "# Impute X_test:\n",
    "if X_test.isnull().values.any():\n",
    "    imputer = IterativeImputer(estimator=BayesianRidge(), max_iter=10, random_state=RANDOM_SEED,\n",
    "                                initial_strategy='mean', n_nearest_features=None, min_value=1e-6,\n",
    "                                imputation_order='ascending')\n",
    "    X_test = pd.DataFrame(imputer.fit_transform(X_test), columns=X_test.columns)\n",
    "    \n",
    "# Constants based on gender\n",
    "X_test['Cr_mg_dL'] = X_test['Cr'] / 88.4\n",
    "conditions = [\n",
    "    X_test['gender'] == 0,  # Female\n",
    "    X_test['gender'] == 1   # Male\n",
    "]\n",
    "\n",
    "choices_k = [0.7, 0.9]  # kappa values for female and male\n",
    "choices_alpha = [-0.241, -0.302]  # alpha values for female and male\n",
    "X_test['kappa'] = np.select(conditions, choices_k, default=np.nan)\n",
    "X_test['alpha'] = np.select(conditions, choices_alpha, default=np.nan)\n",
    "\n",
    "# Calculate eGFR using the CKD-EPI 2021 equation\n",
    "X_test['eGFR'] = 142 * (X_test['Cr_mg_dL'] / X_test['kappa']).clip(upper=1)**X_test['alpha'] * \\\n",
    "                        (X_test['Cr_mg_dL'] / X_test['kappa']).clip(lower=1)**(-1.2) * \\\n",
    "                        0.9938**X_test['age']"
   ]
  },
  {
   "cell_type": "markdown",
   "metadata": {},
   "source": [
    "### 3. Code the KFRE\n",
    "- Tangri N, Grams ME, Levey AS, Coresh J, Appel LJ, Astor BC, et al. Multinational Assessment of Accuracy of Equations for Predicting Risk of Kidney Failure: A Meta-analysis. JAMA. 2016;315(2): 164–174. https://doi.org/10.1001/jama.2015.18202.\n",
    "\n",
    "#### 4-variable 2-yr calibrated non-American equation\n",
    "- 1 - 0.9832^exp(-0.2201 x (age/10 – 7.036) + 0.2467 x (male – 0.5642) – 0.5567 x (eGFR/5 – 7.222) + 0.4510 x (logACR – 5.137))\n",
    "#### 8-variable 2-yr calibrated non-American equation\n",
    "- 1 – 0.9827 ^ exp (-0.1992 × (age/10 – 7.036) + 0.1602 × (male – 0.5642) – 0.4919 × (eGFR/5 – 7.222) + 0.3364 × (logACR – 5.137) – 0.3441 × (albumin – 3.997) + 0.2604 × (phosphorous – 3.916) – 0.07354 × (bicarbonate – 25.57) – 0.2228 × (calcium – 9.355))\n",
    "#### 4-variable 5-yr calibrated non-American equation\n",
    "- 1 – 0.9365 ^ exp (-0.2201 × (age/10 – 7.036) + 0.2467 × (male – 0.5642) – 0.5567 × (eGFR/5 – 7.222) + 0.4510 × (logACR – 5.137))\n",
    "#### 8-variable 5-yr calibrated non-American equation\n",
    "- 1 – 0.9245 ^ exp (-0.1992 × (age/10 – 7.036) + 0.1602 × (male – 0.5642) – 0.4919 × (eGFR/5 – 7.222) + 0.3364 × (logACR – 5.137) – 0.3441 × (albumin – 3.997) + 0.2604 × (phosphorous – 3.916) – 0.07354 × (bicarbonate – 25.57) – 0.2228 × (calcium – 9.355))"
   ]
  },
  {
   "cell_type": "code",
   "execution_count": 3,
   "metadata": {},
   "outputs": [],
   "source": [
    "# Define risk calculation functions\n",
    "def calculate_4_variable_2yr_risk(row):\n",
    "    return 1 - 0.9832**np.exp(-0.2201 * (row['age'] / 10 - 7.036) + \n",
    "                              0.2467 * (row['gender'] - 0.5642) - \n",
    "                              0.5567 * (row['eGFR'] / 5 - 7.222) + \n",
    "                              0.4510 * (np.log(row['UACR_mg_g']) - 5.137))\n",
    "\n",
    "def calculate_8_variable_2yr_risk(row):\n",
    "    return 1 - 0.9827**np.exp(-0.1992 * (row['age'] / 10 - 7.036) + \n",
    "                              0.1602 * (row['gender'] - 0.5642) - \n",
    "                              0.4919 * (row['eGFR'] / 5 - 7.222) + \n",
    "                              0.3364 * (np.log(row['UACR_mg_g']) - 5.137) - \n",
    "                              0.3441 * (row['alb'] - 3.997) + \n",
    "                              0.2604 * (row['po4'] - 3.916) - \n",
    "                              0.07354 * (row['hco3'] - 25.57) - \n",
    "                              0.2228 * (row['ca'] - 9.355))\n",
    "\n",
    "def calculate_4_variable_5yr_risk(row):\n",
    "    return 1 - 0.9365**np.exp(-0.2201 * (row['age'] / 10 - 7.036) + \n",
    "                              0.2467 * (row['gender'] - 0.5642) - \n",
    "                              0.5567 * (row['eGFR'] / 5 - 7.222) + \n",
    "                              0.4510 * (np.log(row['UACR_mg_g']) - 5.137))\n",
    "\n",
    "def calculate_8_variable_5yr_risk(row):\n",
    "    return 1 - 0.9245**np.exp(-0.1992 * (row['age'] / 10 - 7.036) + \n",
    "                              0.1602 * (row['gender'] - 0.5642) - \n",
    "                              0.4919 * (row['eGFR'] / 5 - 7.222) + \n",
    "                              0.3364 * (np.log(row['UACR_mg_g']) - 5.137) - \n",
    "                              0.3441 * (row['alb'] - 3.997) + \n",
    "                              0.2604 * (row['po4'] - 3.916) - \n",
    "                              0.07354 * (row['hco3'] - 25.57) - \n",
    "                              0.2228 * (row['ca'] - 9.355))\n",
    "    \n",
    "pred_df = pd.DataFrame(index=X_test.index)\n",
    "pred_df['4v2y'] = X_test.apply(calculate_4_variable_2yr_risk, axis=1) \n",
    "pred_df['8v2y'] = X_test.apply(calculate_8_variable_2yr_risk, axis=1) \n",
    "pred_df['4v5y'] = X_test.apply(calculate_4_variable_5yr_risk, axis=1) \n",
    "pred_df['8v5y'] = X_test.apply(calculate_8_variable_5yr_risk, axis=1)"
   ]
  },
  {
   "cell_type": "code",
   "execution_count": 4,
   "metadata": {},
   "outputs": [
    {
     "name": "stdout",
     "output_type": "stream",
     "text": [
      "Time: 730 - Column: 4v2y - Chi-squared Statistic: 0.42486800178123674\n"
     ]
    },
    {
     "name": "stderr",
     "output_type": "stream",
     "text": [
      "/home/goma/miniconda3/envs/g3_regress/lib/python3.10/site-packages/pandas/core/arraylike.py:399: RuntimeWarning: overflow encountered in exp\n",
      "  result = getattr(ufunc, method)(*inputs, **kwargs)\n"
     ]
    },
    {
     "name": "stdout",
     "output_type": "stream",
     "text": [
      "Time: 730 - Column: 8v2y - Chi-squared Statistic: 16.173095483953407\n",
      "Time: 730 - Column: 4v5y - Chi-squared Statistic: 0.932442711501115\n"
     ]
    },
    {
     "name": "stderr",
     "output_type": "stream",
     "text": [
      "/home/goma/miniconda3/envs/g3_regress/lib/python3.10/site-packages/pandas/core/arraylike.py:399: RuntimeWarning: overflow encountered in exp\n",
      "  result = getattr(ufunc, method)(*inputs, **kwargs)\n"
     ]
    },
    {
     "name": "stdout",
     "output_type": "stream",
     "text": [
      "Time: 730 - Column: 8v5y - Chi-squared Statistic: 3.563891893655289\n",
      "Time: 1825 - Column: 4v2y - Chi-squared Statistic: 0.8282271238579535\n"
     ]
    },
    {
     "name": "stderr",
     "output_type": "stream",
     "text": [
      "/home/goma/miniconda3/envs/g3_regress/lib/python3.10/site-packages/pandas/core/arraylike.py:399: RuntimeWarning: overflow encountered in exp\n",
      "  result = getattr(ufunc, method)(*inputs, **kwargs)\n"
     ]
    },
    {
     "name": "stdout",
     "output_type": "stream",
     "text": [
      "Time: 1825 - Column: 8v2y - Chi-squared Statistic: 752154.1133617164\n",
      "Time: 1825 - Column: 4v5y - Chi-squared Statistic: 0.29998121603088024\n"
     ]
    },
    {
     "name": "stderr",
     "output_type": "stream",
     "text": [
      "/home/goma/miniconda3/envs/g3_regress/lib/python3.10/site-packages/pandas/core/arraylike.py:399: RuntimeWarning: overflow encountered in exp\n",
      "  result = getattr(ufunc, method)(*inputs, **kwargs)\n"
     ]
    },
    {
     "name": "stdout",
     "output_type": "stream",
     "text": [
      "Time: 1825 - Column: 8v5y - Chi-squared Statistic: 167207.024482264\n"
     ]
    }
   ],
   "source": [
    "results = []\n",
    "for time in np.array([2*365, 5*365]):\n",
    "    for c in pred_df.columns:\n",
    "        prob_df = pd.DataFrame({\n",
    "            'predicted_probs': pred_df[c].values,\n",
    "            'observed_probs': np.nan  # Placeholder for observed probabilities\n",
    "        }, index=y_test.index)\n",
    "        prob_df['quantile'] = pd.qcut(prob_df['predicted_probs'], 5, labels=False, duplicates='drop')\n",
    "        prob_df['quantile'] = prob_df['quantile'].astype(int)\n",
    "        # Calculate observed probabilities for each quintile using Aalen-Johansen estimator\n",
    "        observed_probs = []\n",
    "        for q in prob_df['quantile'].unique():\n",
    "            mask = prob_df['quantile'] == q\n",
    "            durations = pd.Series(y_test.loc[mask, duration_col[0]].values.ravel(), index=y_test.loc[mask, duration_col[0]].index).astype(float)\n",
    "            event_observed = pd.Series(y_test.loc[mask, event_col[0]].values.ravel(), index=y_test.loc[mask, event_col[0]].index)\n",
    "            ajf = AalenJohansenFitter()\n",
    "            ajf.fit(durations=durations, event_observed=event_observed, event_of_interest=1)\n",
    "            # Find the closest time point if `time` is not in the index\n",
    "            if time not in ajf.cumulative_density_.index:\n",
    "                closest_idx = ajf.cumulative_density_.index.get_indexer([time], method='nearest')[0]\n",
    "                closest_time = ajf.cumulative_density_.index[closest_idx]\n",
    "            else:\n",
    "                closest_time = time\n",
    "            observed_probs.append(ajf.cumulative_density_.loc[closest_time].values[0])\n",
    "        # Map observed probabilities back to the DataFrame\n",
    "        prob_df['observed_probs'] = prob_df['quantile'].map(dict(zip(prob_df['quantile'].unique(), observed_probs)))\n",
    "        grouped = prob_df.groupby('quantile')\n",
    "        observed_events = grouped['observed_probs'].mean()\n",
    "        expected_events = grouped['predicted_probs'].mean()\n",
    "        # mean_p_g = grouped['predicted_probs'].mean()\n",
    "        n = grouped.size()\n",
    "            \n",
    "        # chi2_stat = np.sum(((observed_events - expected_events) ** 2) / (n * mean_p_g * (1 - mean_p_g)))\n",
    "        chi2_stat = np.sum(((observed_events - expected_events) ** 2) / (expected_events * (1 - expected_events/ n)))\n",
    "        dof = len(n) - 2\n",
    "        # Calculate p-value\n",
    "        p_value = 1 - chi2.cdf(chi2_stat, dof)\n",
    "        print(f'Time: {time} - Column: {c} - Chi-squared Statistic: {chi2_stat}')\n",
    "        \n",
    "        # Calculate Brier score\n",
    "        brier_score = brier_score_loss(y_test[event_col[0]], prob_df['predicted_probs'])\n",
    "\n",
    "        # Calculate Concordance Index (C-index)\n",
    "        c_index = concordance_index(y_test[duration_col[0]], -prob_df['predicted_probs'], y_test[event_col[0]])\n",
    "\n",
    "        # Store the result\n",
    "        results.append({\n",
    "            'time': time,\n",
    "            'column': c,\n",
    "            'observed_events': observed_events,\n",
    "            'expected events': expected_events,\n",
    "            'chi2_stat': chi2_stat,\n",
    "            'p-value': p_value,\n",
    "            'brier_score': brier_score,\n",
    "            'c_index': c_index\n",
    "        })\n",
    "        \n",
    "# Convert results to DataFrame\n",
    "results_df = pd.DataFrame(results)"
   ]
  },
  {
   "cell_type": "code",
   "execution_count": 7,
   "metadata": {},
   "outputs": [],
   "source": [
    "results_df.to_json('/mnt/d/pydatascience/g3_regress/data/results/kfre.json', orient='records', lines=True)"
   ]
  }
 ],
 "metadata": {
  "kernelspec": {
   "display_name": "g3_regress",
   "language": "python",
   "name": "python3"
  },
  "language_info": {
   "codemirror_mode": {
    "name": "ipython",
    "version": 3
   },
   "file_extension": ".py",
   "mimetype": "text/x-python",
   "name": "python",
   "nbconvert_exporter": "python",
   "pygments_lexer": "ipython3",
   "version": "3.10.14"
  }
 },
 "nbformat": 4,
 "nbformat_minor": 2
}
