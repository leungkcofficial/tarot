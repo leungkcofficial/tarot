{
 "cells": [
  {
   "cell_type": "code",
   "execution_count": 1,
   "metadata": {},
   "outputs": [
    {
     "name": "stdout",
     "output_type": "stream",
     "text": [
      "Old Name: 7449737_icd104a_bw.xls -> New Name: icd104a.xls\n",
      "Old Name: 7449738_icd104b_bw.xls -> New Name: icd104b.xls\n",
      "Old Name: 7449739_icd106a_bw.xls -> New Name: icd106a.xls\n",
      "Old Name: 7449740_icd106b_bw.xls -> New Name: icd106b.xls\n"
     ]
    }
   ],
   "source": [
    "import os\n",
    "\n",
    "def rename_files(source_folder):\n",
    "    # List all files in the source folder\n",
    "    files = os.listdir(source_folder)\n",
    "\n",
    "    for file_name in files:\n",
    "        # Check if the file name contains the pattern we're interested in\n",
    "        if '_icd' in file_name:\n",
    "            # Split the file name around underscores\n",
    "            parts = file_name.split('_')\n",
    "            # Assemble the new file name from the parts we want to keep\n",
    "            new_name = parts[1] + '.xls'  # Assuming they are .xls files\n",
    "\n",
    "            # Print old and new file names\n",
    "            print(f'Old Name: {file_name} -> New Name: {new_name}')\n",
    "\n",
    "            # Rename the file on the disk\n",
    "            os.rename(os.path.join(source_folder, file_name), \n",
    "                      os.path.join(source_folder, new_name))\n",
    "\n",
    "# Example usage\n",
    "source_folder = '/mnt/d/pydatascience/g3_regress/data/icd10'\n",
    "rename_files(source_folder)\n"
   ]
  },
  {
   "cell_type": "code",
   "execution_count": 2,
   "metadata": {},
   "outputs": [
    {
     "name": "stdout",
     "output_type": "stream",
     "text": [
      "Successfully converted /mnt/d/pydatascience/g3_regress/data/icd10/icd104a.xls to /mnt/d/pydatascience/g3_regress/data/icd10/icd104a.csv\n",
      "Successfully converted /mnt/d/pydatascience/g3_regress/data/icd10/icd104b.xls to /mnt/d/pydatascience/g3_regress/data/icd10/icd104b.csv\n",
      "Successfully converted /mnt/d/pydatascience/g3_regress/data/icd10/icd106a.xls to /mnt/d/pydatascience/g3_regress/data/icd10/icd106a.csv\n",
      "Successfully converted /mnt/d/pydatascience/g3_regress/data/icd10/icd106b.xls to /mnt/d/pydatascience/g3_regress/data/icd10/icd106b.csv\n"
     ]
    }
   ],
   "source": [
    "\n",
    "import pandas as pd\n",
    "import os\n",
    "import glob\n",
    "import lxml\n",
    "\n",
    "def html_to_csv(file_path, output_folder):\n",
    "    # Read the HTML file, assuming the first table contains the relevant data\n",
    "    try:\n",
    "        df_list = pd.read_html(file_path)  # This reads all tables into a list of dataframes\n",
    "        if df_list:\n",
    "            df = df_list[0]  # Assuming the first table is the one you need\n",
    "            csv_file_path = os.path.join(output_folder, os.path.splitext(os.path.basename(file_path))[0] + '.csv')\n",
    "            df.to_csv(csv_file_path, index=False)\n",
    "            print(f'Successfully converted {file_path} to {csv_file_path}')\n",
    "        else:\n",
    "            print(f'No tables found in {file_path}')\n",
    "    except Exception as e:\n",
    "        print(f'Failed to convert {file_path}. Error: {e}')\n",
    "\n",
    "def convert_folder_html_to_csv(source_folder, output_folder):\n",
    "    os.makedirs(output_folder, exist_ok=True)\n",
    "    html_files = glob.glob(os.path.join(source_folder, '*.xls'))  # Assuming .xls files might be HTML\n",
    "\n",
    "    for file_path in html_files:\n",
    "        html_to_csv(file_path, output_folder)\n",
    "\n",
    "# Example usage\n",
    "source_folder = '/mnt/d/pydatascience/g3_regress/data/icd10'\n",
    "destination_folder = '/mnt/d/pydatascience/g3_regress/data/icd10'\n",
    "convert_folder_html_to_csv(source_folder, destination_folder)\n"
   ]
  },
  {
   "cell_type": "code",
   "execution_count": 21,
   "metadata": {},
   "outputs": [
    {
     "data": {
      "text/plain": [
       "Index(['Reference Key', 'Date of Birth (yyyy-mm-dd)', 'Exact date of birth',\n",
       "       'Sex', 'LIS Reference Datetime',\n",
       "       'LIS Result (28 days) - LIS Reference Date',\n",
       "       'LIS Performing Lab Hospital', 'LIS Request No.', 'LIS Case No.',\n",
       "       'LIS Result (28 days) - LIS Test Description',\n",
       "       'LIS Result (28 days) - LIS Test Description (ePR)',\n",
       "       'LIS Result (28 days) - LIS Result',\n",
       "       'LIS Result (28 days) - LIS Specimen',\n",
       "       'LIS Result (28 days) - LIS Specimen (ePR)',\n",
       "       'LIS Result (28 days) - LIS Result: Numeric Result',\n",
       "       'LIS Result (28 days) - LIS Test Unit',\n",
       "       'LIS Result (28 days) - LIS Result Flagging',\n",
       "       'LIS Result (28 days) - LIS Lower Reference Range',\n",
       "       'LIS Result (28 days) - LIS Upper Reference Range'],\n",
       "      dtype='object')"
      ]
     },
     "execution_count": 21,
     "metadata": {},
     "output_type": "execute_result"
    }
   ],
   "source": [
    "df = pd.read_csv('/mnt/d/pydatascience/g3_regress/data/a1c/a1c2015q12.csv', header=1)\n",
    "df.columns"
   ]
  },
  {
   "cell_type": "code",
   "execution_count": 3,
   "metadata": {},
   "outputs": [
    {
     "name": "stdout",
     "output_type": "stream",
     "text": [
      "File cleaned and saved to /mnt/d/pydatascience/g3_regress/data/upacr/Upacr2023.csv\n",
      "File cleaned and saved to /mnt/d/pydatascience/g3_regress/data/upacr/Upacr2010.csv\n",
      "File cleaned and saved to /mnt/d/pydatascience/g3_regress/data/upacr/Upacr2011.csv\n",
      "File cleaned and saved to /mnt/d/pydatascience/g3_regress/data/upacr/Upacr2012.csv\n",
      "File cleaned and saved to /mnt/d/pydatascience/g3_regress/data/upacr/Upacr2013.csv\n",
      "File cleaned and saved to /mnt/d/pydatascience/g3_regress/data/upacr/Upacr2014.csv\n",
      "File cleaned and saved to /mnt/d/pydatascience/g3_regress/data/upacr/Upacr2015.csv\n",
      "File cleaned and saved to /mnt/d/pydatascience/g3_regress/data/upacr/Upacr2016.csv\n",
      "File cleaned and saved to /mnt/d/pydatascience/g3_regress/data/upacr/Upacr2017.csv\n",
      "File cleaned and saved to /mnt/d/pydatascience/g3_regress/data/upacr/Upacr2018.csv\n",
      "File cleaned and saved to /mnt/d/pydatascience/g3_regress/data/upacr/Upacr2019.csv\n",
      "File cleaned and saved to /mnt/d/pydatascience/g3_regress/data/upacr/Upacr2020.csv\n",
      "File cleaned and saved to /mnt/d/pydatascience/g3_regress/data/upacr/Upacr2021.csv\n",
      "File cleaned and saved to /mnt/d/pydatascience/g3_regress/data/upacr/Upacr2022.csv\n",
      "File cleaned and saved to /mnt/d/pydatascience/g3_regress/data/upacr/Upacr2009.csv\n"
     ]
    }
   ],
   "source": [
    "def clean_csv(file_path):\n",
    "    # Read the CSV file, skipping the first row if it is unwanted\n",
    "    df = pd.read_csv(file_path, header=1)  # Adjust 'header' index if your data starts from another row\n",
    "\n",
    "    # Optional: Remove unnecessary columns if they are consistent across files\n",
    "    # List columns to drop - example given here\n",
    "    columns_to_drop = ['Exact date of birth', \n",
    "                       'LIS Result (28 days) - LIS Reference Date ', \n",
    "                       'LIS Performing Lab Hospital',\n",
    "                    #    'LIS Request No.',\n",
    "                    #    'LIS Result (28 days) - LIS Test Description',\n",
    "                    #    'LIS Result (28 days) - LIS Test Description (ePR)',\n",
    "                    #    'LIS Result (28 days) - LIS Result',\n",
    "                    #    'LIS Result (28 days) - LIS Specimen',\n",
    "                    #    'LIS Result (28 days) - LIS Specimen (ePR)',\n",
    "                    #    'LIS Result (28 days) - LIS Test Unit',\n",
    "                       'LIS Result (28 days) - LIS Result Flagging',\n",
    "                       'LIS Result (28 days) - LIS Lower Reference Range',\n",
    "                       'LIS Result (28 days) - LIS Upper Reference Range']\n",
    "    df.drop(columns=columns_to_drop, inplace=True, errors='ignore')\n",
    "\n",
    "    # Save the cleaned DataFrame to a new CSV file\n",
    "    df.to_csv(file_path, index=False)\n",
    "    print(f'File cleaned and saved to {file_path}')\n",
    "\n",
    "def batch_clean_csv(source_folder):\n",
    "    # Ensure the output folder exists\n",
    "    os.makedirs(source_folder, exist_ok=True)\n",
    "\n",
    "    # Find all CSV files in the source folder\n",
    "    csv_files = glob.glob(os.path.join(source_folder, '*.csv'))\n",
    "\n",
    "    # Loop through all found CSV files\n",
    "    for file_path in csv_files:\n",
    "        # Construct the output file path\n",
    "        base_name = os.path.basename(file_path)\n",
    "        output_file_path = os.path.join(source_folder, base_name)\n",
    "\n",
    "        # Call the clean_csv function for each file\n",
    "        clean_csv(file_path)\n",
    "\n",
    "# Example usage\n",
    "source_folder = '/mnt/d/pydatascience/g3_regress/data/upacr'\n",
    "output_folder = '/path/to/save/cleaned/csv/files'\n",
    "batch_clean_csv(source_folder)\n"
   ]
  },
  {
   "cell_type": "code",
   "execution_count": null,
   "metadata": {},
   "outputs": [],
   "source": []
  }
 ],
 "metadata": {
  "kernelspec": {
   "display_name": "g3_regress",
   "language": "python",
   "name": "python3"
  },
  "language_info": {
   "codemirror_mode": {
    "name": "ipython",
    "version": 3
   },
   "file_extension": ".py",
   "mimetype": "text/x-python",
   "name": "python",
   "nbconvert_exporter": "python",
   "pygments_lexer": "ipython3",
   "version": "3.10.14"
  }
 },
 "nbformat": 4,
 "nbformat_minor": 2
}
